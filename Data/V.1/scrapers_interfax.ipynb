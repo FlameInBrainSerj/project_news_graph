{
 "cells": [
  {
   "cell_type": "markdown",
   "metadata": {},
   "source": [
    "# [Interfax](https://interfax.ru/) parse"
   ]
  },
  {
   "cell_type": "code",
   "execution_count": null,
   "metadata": {
    "colab": {
     "base_uri": "https://localhost:8080/"
    },
    "id": "xwSRzYe00rCv",
    "outputId": "dfe2a0f9-c921-4f9e-cb6b-09a66093b1ff"
   },
   "outputs": [],
   "source": [
    "from selenium import webdriver\n",
    "from selenium.webdriver.common.by import By\n",
    "import requests\n",
    "import re\n",
    "from datetime import date\n",
    "from dateutil.rrule import rrule, DAILY\n",
    "from bs4 import BeautifulSoup\n",
    "from time import sleep\n",
    "from tqdm import tqdm\n",
    "import random\n",
    "from selenium import webdriver\n",
    "from selenium.webdriver.chrome.service import Service\n",
    "from selenium.common.exceptions import NoSuchElementException\n",
    "import pandas as pd"
   ]
  },
  {
   "cell_type": "code",
   "execution_count": 9,
   "metadata": {
    "id": "K-3AAPM2FARY"
   },
   "outputs": [],
   "source": [
    "start_date = date(2023, 1, 1)\n",
    "end_date = date(2023, 10, 24)\n",
    "dates = []\n",
    "for d in rrule(DAILY, dtstart=start_date, until=end_date):\n",
    "    dates.append('https://www.interfax.ru/business/news/' + d.strftime(\"%Y/%m/%d\"))"
   ]
  },
  {
   "cell_type": "code",
   "execution_count": 10,
   "metadata": {
    "colab": {
     "base_uri": "https://localhost:8080/"
    },
    "id": "j2FzEPSCFfNn",
    "outputId": "87d9af10-2b47-438e-cbfc-2034be2c828b"
   },
   "outputs": [
    {
     "data": {
      "text/plain": [
       "['https://www.interfax.ru/business/news/2023/01/01',\n",
       " 'https://www.interfax.ru/business/news/2023/01/02',\n",
       " 'https://www.interfax.ru/business/news/2023/01/03',\n",
       " 'https://www.interfax.ru/business/news/2023/01/04',\n",
       " 'https://www.interfax.ru/business/news/2023/01/05',\n",
       " 'https://www.interfax.ru/business/news/2023/01/06',\n",
       " 'https://www.interfax.ru/business/news/2023/01/07',\n",
       " 'https://www.interfax.ru/business/news/2023/01/08',\n",
       " 'https://www.interfax.ru/business/news/2023/01/09',\n",
       " 'https://www.interfax.ru/business/news/2023/01/10',\n",
       " 'https://www.interfax.ru/business/news/2023/01/11',\n",
       " 'https://www.interfax.ru/business/news/2023/01/12',\n",
       " 'https://www.interfax.ru/business/news/2023/01/13',\n",
       " 'https://www.interfax.ru/business/news/2023/01/14',\n",
       " 'https://www.interfax.ru/business/news/2023/01/15',\n",
       " 'https://www.interfax.ru/business/news/2023/01/16',\n",
       " 'https://www.interfax.ru/business/news/2023/01/17',\n",
       " 'https://www.interfax.ru/business/news/2023/01/18',\n",
       " 'https://www.interfax.ru/business/news/2023/01/19',\n",
       " 'https://www.interfax.ru/business/news/2023/01/20',\n",
       " 'https://www.interfax.ru/business/news/2023/01/21',\n",
       " 'https://www.interfax.ru/business/news/2023/01/22',\n",
       " 'https://www.interfax.ru/business/news/2023/01/23',\n",
       " 'https://www.interfax.ru/business/news/2023/01/24',\n",
       " 'https://www.interfax.ru/business/news/2023/01/25',\n",
       " 'https://www.interfax.ru/business/news/2023/01/26',\n",
       " 'https://www.interfax.ru/business/news/2023/01/27',\n",
       " 'https://www.interfax.ru/business/news/2023/01/28',\n",
       " 'https://www.interfax.ru/business/news/2023/01/29',\n",
       " 'https://www.interfax.ru/business/news/2023/01/30',\n",
       " 'https://www.interfax.ru/business/news/2023/01/31',\n",
       " 'https://www.interfax.ru/business/news/2023/02/01',\n",
       " 'https://www.interfax.ru/business/news/2023/02/02',\n",
       " 'https://www.interfax.ru/business/news/2023/02/03',\n",
       " 'https://www.interfax.ru/business/news/2023/02/04',\n",
       " 'https://www.interfax.ru/business/news/2023/02/05',\n",
       " 'https://www.interfax.ru/business/news/2023/02/06',\n",
       " 'https://www.interfax.ru/business/news/2023/02/07',\n",
       " 'https://www.interfax.ru/business/news/2023/02/08',\n",
       " 'https://www.interfax.ru/business/news/2023/02/09',\n",
       " 'https://www.interfax.ru/business/news/2023/02/10',\n",
       " 'https://www.interfax.ru/business/news/2023/02/11',\n",
       " 'https://www.interfax.ru/business/news/2023/02/12',\n",
       " 'https://www.interfax.ru/business/news/2023/02/13',\n",
       " 'https://www.interfax.ru/business/news/2023/02/14',\n",
       " 'https://www.interfax.ru/business/news/2023/02/15',\n",
       " 'https://www.interfax.ru/business/news/2023/02/16',\n",
       " 'https://www.interfax.ru/business/news/2023/02/17',\n",
       " 'https://www.interfax.ru/business/news/2023/02/18',\n",
       " 'https://www.interfax.ru/business/news/2023/02/19',\n",
       " 'https://www.interfax.ru/business/news/2023/02/20',\n",
       " 'https://www.interfax.ru/business/news/2023/02/21',\n",
       " 'https://www.interfax.ru/business/news/2023/02/22',\n",
       " 'https://www.interfax.ru/business/news/2023/02/23',\n",
       " 'https://www.interfax.ru/business/news/2023/02/24',\n",
       " 'https://www.interfax.ru/business/news/2023/02/25',\n",
       " 'https://www.interfax.ru/business/news/2023/02/26',\n",
       " 'https://www.interfax.ru/business/news/2023/02/27',\n",
       " 'https://www.interfax.ru/business/news/2023/02/28',\n",
       " 'https://www.interfax.ru/business/news/2023/03/01',\n",
       " 'https://www.interfax.ru/business/news/2023/03/02',\n",
       " 'https://www.interfax.ru/business/news/2023/03/03',\n",
       " 'https://www.interfax.ru/business/news/2023/03/04',\n",
       " 'https://www.interfax.ru/business/news/2023/03/05',\n",
       " 'https://www.interfax.ru/business/news/2023/03/06',\n",
       " 'https://www.interfax.ru/business/news/2023/03/07',\n",
       " 'https://www.interfax.ru/business/news/2023/03/08',\n",
       " 'https://www.interfax.ru/business/news/2023/03/09',\n",
       " 'https://www.interfax.ru/business/news/2023/03/10',\n",
       " 'https://www.interfax.ru/business/news/2023/03/11',\n",
       " 'https://www.interfax.ru/business/news/2023/03/12',\n",
       " 'https://www.interfax.ru/business/news/2023/03/13',\n",
       " 'https://www.interfax.ru/business/news/2023/03/14',\n",
       " 'https://www.interfax.ru/business/news/2023/03/15',\n",
       " 'https://www.interfax.ru/business/news/2023/03/16',\n",
       " 'https://www.interfax.ru/business/news/2023/03/17',\n",
       " 'https://www.interfax.ru/business/news/2023/03/18',\n",
       " 'https://www.interfax.ru/business/news/2023/03/19',\n",
       " 'https://www.interfax.ru/business/news/2023/03/20',\n",
       " 'https://www.interfax.ru/business/news/2023/03/21',\n",
       " 'https://www.interfax.ru/business/news/2023/03/22',\n",
       " 'https://www.interfax.ru/business/news/2023/03/23',\n",
       " 'https://www.interfax.ru/business/news/2023/03/24',\n",
       " 'https://www.interfax.ru/business/news/2023/03/25',\n",
       " 'https://www.interfax.ru/business/news/2023/03/26',\n",
       " 'https://www.interfax.ru/business/news/2023/03/27',\n",
       " 'https://www.interfax.ru/business/news/2023/03/28',\n",
       " 'https://www.interfax.ru/business/news/2023/03/29',\n",
       " 'https://www.interfax.ru/business/news/2023/03/30',\n",
       " 'https://www.interfax.ru/business/news/2023/03/31',\n",
       " 'https://www.interfax.ru/business/news/2023/04/01',\n",
       " 'https://www.interfax.ru/business/news/2023/04/02',\n",
       " 'https://www.interfax.ru/business/news/2023/04/03',\n",
       " 'https://www.interfax.ru/business/news/2023/04/04',\n",
       " 'https://www.interfax.ru/business/news/2023/04/05',\n",
       " 'https://www.interfax.ru/business/news/2023/04/06',\n",
       " 'https://www.interfax.ru/business/news/2023/04/07',\n",
       " 'https://www.interfax.ru/business/news/2023/04/08',\n",
       " 'https://www.interfax.ru/business/news/2023/04/09',\n",
       " 'https://www.interfax.ru/business/news/2023/04/10',\n",
       " 'https://www.interfax.ru/business/news/2023/04/11',\n",
       " 'https://www.interfax.ru/business/news/2023/04/12',\n",
       " 'https://www.interfax.ru/business/news/2023/04/13',\n",
       " 'https://www.interfax.ru/business/news/2023/04/14',\n",
       " 'https://www.interfax.ru/business/news/2023/04/15',\n",
       " 'https://www.interfax.ru/business/news/2023/04/16',\n",
       " 'https://www.interfax.ru/business/news/2023/04/17',\n",
       " 'https://www.interfax.ru/business/news/2023/04/18',\n",
       " 'https://www.interfax.ru/business/news/2023/04/19',\n",
       " 'https://www.interfax.ru/business/news/2023/04/20',\n",
       " 'https://www.interfax.ru/business/news/2023/04/21',\n",
       " 'https://www.interfax.ru/business/news/2023/04/22',\n",
       " 'https://www.interfax.ru/business/news/2023/04/23',\n",
       " 'https://www.interfax.ru/business/news/2023/04/24',\n",
       " 'https://www.interfax.ru/business/news/2023/04/25',\n",
       " 'https://www.interfax.ru/business/news/2023/04/26',\n",
       " 'https://www.interfax.ru/business/news/2023/04/27',\n",
       " 'https://www.interfax.ru/business/news/2023/04/28',\n",
       " 'https://www.interfax.ru/business/news/2023/04/29',\n",
       " 'https://www.interfax.ru/business/news/2023/04/30',\n",
       " 'https://www.interfax.ru/business/news/2023/05/01',\n",
       " 'https://www.interfax.ru/business/news/2023/05/02',\n",
       " 'https://www.interfax.ru/business/news/2023/05/03',\n",
       " 'https://www.interfax.ru/business/news/2023/05/04',\n",
       " 'https://www.interfax.ru/business/news/2023/05/05',\n",
       " 'https://www.interfax.ru/business/news/2023/05/06',\n",
       " 'https://www.interfax.ru/business/news/2023/05/07',\n",
       " 'https://www.interfax.ru/business/news/2023/05/08',\n",
       " 'https://www.interfax.ru/business/news/2023/05/09',\n",
       " 'https://www.interfax.ru/business/news/2023/05/10',\n",
       " 'https://www.interfax.ru/business/news/2023/05/11',\n",
       " 'https://www.interfax.ru/business/news/2023/05/12',\n",
       " 'https://www.interfax.ru/business/news/2023/05/13',\n",
       " 'https://www.interfax.ru/business/news/2023/05/14',\n",
       " 'https://www.interfax.ru/business/news/2023/05/15',\n",
       " 'https://www.interfax.ru/business/news/2023/05/16',\n",
       " 'https://www.interfax.ru/business/news/2023/05/17',\n",
       " 'https://www.interfax.ru/business/news/2023/05/18',\n",
       " 'https://www.interfax.ru/business/news/2023/05/19',\n",
       " 'https://www.interfax.ru/business/news/2023/05/20',\n",
       " 'https://www.interfax.ru/business/news/2023/05/21',\n",
       " 'https://www.interfax.ru/business/news/2023/05/22',\n",
       " 'https://www.interfax.ru/business/news/2023/05/23',\n",
       " 'https://www.interfax.ru/business/news/2023/05/24',\n",
       " 'https://www.interfax.ru/business/news/2023/05/25',\n",
       " 'https://www.interfax.ru/business/news/2023/05/26',\n",
       " 'https://www.interfax.ru/business/news/2023/05/27',\n",
       " 'https://www.interfax.ru/business/news/2023/05/28',\n",
       " 'https://www.interfax.ru/business/news/2023/05/29',\n",
       " 'https://www.interfax.ru/business/news/2023/05/30',\n",
       " 'https://www.interfax.ru/business/news/2023/05/31',\n",
       " 'https://www.interfax.ru/business/news/2023/06/01',\n",
       " 'https://www.interfax.ru/business/news/2023/06/02',\n",
       " 'https://www.interfax.ru/business/news/2023/06/03',\n",
       " 'https://www.interfax.ru/business/news/2023/06/04',\n",
       " 'https://www.interfax.ru/business/news/2023/06/05',\n",
       " 'https://www.interfax.ru/business/news/2023/06/06',\n",
       " 'https://www.interfax.ru/business/news/2023/06/07',\n",
       " 'https://www.interfax.ru/business/news/2023/06/08',\n",
       " 'https://www.interfax.ru/business/news/2023/06/09',\n",
       " 'https://www.interfax.ru/business/news/2023/06/10',\n",
       " 'https://www.interfax.ru/business/news/2023/06/11',\n",
       " 'https://www.interfax.ru/business/news/2023/06/12',\n",
       " 'https://www.interfax.ru/business/news/2023/06/13',\n",
       " 'https://www.interfax.ru/business/news/2023/06/14',\n",
       " 'https://www.interfax.ru/business/news/2023/06/15',\n",
       " 'https://www.interfax.ru/business/news/2023/06/16',\n",
       " 'https://www.interfax.ru/business/news/2023/06/17',\n",
       " 'https://www.interfax.ru/business/news/2023/06/18',\n",
       " 'https://www.interfax.ru/business/news/2023/06/19',\n",
       " 'https://www.interfax.ru/business/news/2023/06/20',\n",
       " 'https://www.interfax.ru/business/news/2023/06/21',\n",
       " 'https://www.interfax.ru/business/news/2023/06/22',\n",
       " 'https://www.interfax.ru/business/news/2023/06/23',\n",
       " 'https://www.interfax.ru/business/news/2023/06/24',\n",
       " 'https://www.interfax.ru/business/news/2023/06/25',\n",
       " 'https://www.interfax.ru/business/news/2023/06/26',\n",
       " 'https://www.interfax.ru/business/news/2023/06/27',\n",
       " 'https://www.interfax.ru/business/news/2023/06/28',\n",
       " 'https://www.interfax.ru/business/news/2023/06/29',\n",
       " 'https://www.interfax.ru/business/news/2023/06/30',\n",
       " 'https://www.interfax.ru/business/news/2023/07/01',\n",
       " 'https://www.interfax.ru/business/news/2023/07/02',\n",
       " 'https://www.interfax.ru/business/news/2023/07/03',\n",
       " 'https://www.interfax.ru/business/news/2023/07/04',\n",
       " 'https://www.interfax.ru/business/news/2023/07/05',\n",
       " 'https://www.interfax.ru/business/news/2023/07/06',\n",
       " 'https://www.interfax.ru/business/news/2023/07/07',\n",
       " 'https://www.interfax.ru/business/news/2023/07/08',\n",
       " 'https://www.interfax.ru/business/news/2023/07/09',\n",
       " 'https://www.interfax.ru/business/news/2023/07/10',\n",
       " 'https://www.interfax.ru/business/news/2023/07/11',\n",
       " 'https://www.interfax.ru/business/news/2023/07/12',\n",
       " 'https://www.interfax.ru/business/news/2023/07/13',\n",
       " 'https://www.interfax.ru/business/news/2023/07/14',\n",
       " 'https://www.interfax.ru/business/news/2023/07/15',\n",
       " 'https://www.interfax.ru/business/news/2023/07/16',\n",
       " 'https://www.interfax.ru/business/news/2023/07/17',\n",
       " 'https://www.interfax.ru/business/news/2023/07/18',\n",
       " 'https://www.interfax.ru/business/news/2023/07/19',\n",
       " 'https://www.interfax.ru/business/news/2023/07/20',\n",
       " 'https://www.interfax.ru/business/news/2023/07/21',\n",
       " 'https://www.interfax.ru/business/news/2023/07/22',\n",
       " 'https://www.interfax.ru/business/news/2023/07/23',\n",
       " 'https://www.interfax.ru/business/news/2023/07/24',\n",
       " 'https://www.interfax.ru/business/news/2023/07/25',\n",
       " 'https://www.interfax.ru/business/news/2023/07/26',\n",
       " 'https://www.interfax.ru/business/news/2023/07/27',\n",
       " 'https://www.interfax.ru/business/news/2023/07/28',\n",
       " 'https://www.interfax.ru/business/news/2023/07/29',\n",
       " 'https://www.interfax.ru/business/news/2023/07/30',\n",
       " 'https://www.interfax.ru/business/news/2023/07/31',\n",
       " 'https://www.interfax.ru/business/news/2023/08/01',\n",
       " 'https://www.interfax.ru/business/news/2023/08/02',\n",
       " 'https://www.interfax.ru/business/news/2023/08/03',\n",
       " 'https://www.interfax.ru/business/news/2023/08/04',\n",
       " 'https://www.interfax.ru/business/news/2023/08/05',\n",
       " 'https://www.interfax.ru/business/news/2023/08/06',\n",
       " 'https://www.interfax.ru/business/news/2023/08/07',\n",
       " 'https://www.interfax.ru/business/news/2023/08/08',\n",
       " 'https://www.interfax.ru/business/news/2023/08/09',\n",
       " 'https://www.interfax.ru/business/news/2023/08/10',\n",
       " 'https://www.interfax.ru/business/news/2023/08/11',\n",
       " 'https://www.interfax.ru/business/news/2023/08/12',\n",
       " 'https://www.interfax.ru/business/news/2023/08/13',\n",
       " 'https://www.interfax.ru/business/news/2023/08/14',\n",
       " 'https://www.interfax.ru/business/news/2023/08/15',\n",
       " 'https://www.interfax.ru/business/news/2023/08/16',\n",
       " 'https://www.interfax.ru/business/news/2023/08/17',\n",
       " 'https://www.interfax.ru/business/news/2023/08/18',\n",
       " 'https://www.interfax.ru/business/news/2023/08/19',\n",
       " 'https://www.interfax.ru/business/news/2023/08/20',\n",
       " 'https://www.interfax.ru/business/news/2023/08/21',\n",
       " 'https://www.interfax.ru/business/news/2023/08/22',\n",
       " 'https://www.interfax.ru/business/news/2023/08/23',\n",
       " 'https://www.interfax.ru/business/news/2023/08/24',\n",
       " 'https://www.interfax.ru/business/news/2023/08/25',\n",
       " 'https://www.interfax.ru/business/news/2023/08/26',\n",
       " 'https://www.interfax.ru/business/news/2023/08/27',\n",
       " 'https://www.interfax.ru/business/news/2023/08/28',\n",
       " 'https://www.interfax.ru/business/news/2023/08/29',\n",
       " 'https://www.interfax.ru/business/news/2023/08/30',\n",
       " 'https://www.interfax.ru/business/news/2023/08/31',\n",
       " 'https://www.interfax.ru/business/news/2023/09/01',\n",
       " 'https://www.interfax.ru/business/news/2023/09/02',\n",
       " 'https://www.interfax.ru/business/news/2023/09/03',\n",
       " 'https://www.interfax.ru/business/news/2023/09/04',\n",
       " 'https://www.interfax.ru/business/news/2023/09/05',\n",
       " 'https://www.interfax.ru/business/news/2023/09/06',\n",
       " 'https://www.interfax.ru/business/news/2023/09/07',\n",
       " 'https://www.interfax.ru/business/news/2023/09/08',\n",
       " 'https://www.interfax.ru/business/news/2023/09/09',\n",
       " 'https://www.interfax.ru/business/news/2023/09/10',\n",
       " 'https://www.interfax.ru/business/news/2023/09/11',\n",
       " 'https://www.interfax.ru/business/news/2023/09/12',\n",
       " 'https://www.interfax.ru/business/news/2023/09/13',\n",
       " 'https://www.interfax.ru/business/news/2023/09/14',\n",
       " 'https://www.interfax.ru/business/news/2023/09/15',\n",
       " 'https://www.interfax.ru/business/news/2023/09/16',\n",
       " 'https://www.interfax.ru/business/news/2023/09/17',\n",
       " 'https://www.interfax.ru/business/news/2023/09/18',\n",
       " 'https://www.interfax.ru/business/news/2023/09/19',\n",
       " 'https://www.interfax.ru/business/news/2023/09/20',\n",
       " 'https://www.interfax.ru/business/news/2023/09/21',\n",
       " 'https://www.interfax.ru/business/news/2023/09/22',\n",
       " 'https://www.interfax.ru/business/news/2023/09/23',\n",
       " 'https://www.interfax.ru/business/news/2023/09/24',\n",
       " 'https://www.interfax.ru/business/news/2023/09/25',\n",
       " 'https://www.interfax.ru/business/news/2023/09/26',\n",
       " 'https://www.interfax.ru/business/news/2023/09/27',\n",
       " 'https://www.interfax.ru/business/news/2023/09/28',\n",
       " 'https://www.interfax.ru/business/news/2023/09/29',\n",
       " 'https://www.interfax.ru/business/news/2023/09/30',\n",
       " 'https://www.interfax.ru/business/news/2023/10/01',\n",
       " 'https://www.interfax.ru/business/news/2023/10/02',\n",
       " 'https://www.interfax.ru/business/news/2023/10/03',\n",
       " 'https://www.interfax.ru/business/news/2023/10/04',\n",
       " 'https://www.interfax.ru/business/news/2023/10/05',\n",
       " 'https://www.interfax.ru/business/news/2023/10/06',\n",
       " 'https://www.interfax.ru/business/news/2023/10/07',\n",
       " 'https://www.interfax.ru/business/news/2023/10/08',\n",
       " 'https://www.interfax.ru/business/news/2023/10/09',\n",
       " 'https://www.interfax.ru/business/news/2023/10/10',\n",
       " 'https://www.interfax.ru/business/news/2023/10/11',\n",
       " 'https://www.interfax.ru/business/news/2023/10/12',\n",
       " 'https://www.interfax.ru/business/news/2023/10/13',\n",
       " 'https://www.interfax.ru/business/news/2023/10/14',\n",
       " 'https://www.interfax.ru/business/news/2023/10/15',\n",
       " 'https://www.interfax.ru/business/news/2023/10/16',\n",
       " 'https://www.interfax.ru/business/news/2023/10/17',\n",
       " 'https://www.interfax.ru/business/news/2023/10/18',\n",
       " 'https://www.interfax.ru/business/news/2023/10/19',\n",
       " 'https://www.interfax.ru/business/news/2023/10/20',\n",
       " 'https://www.interfax.ru/business/news/2023/10/21',\n",
       " 'https://www.interfax.ru/business/news/2023/10/22',\n",
       " 'https://www.interfax.ru/business/news/2023/10/23',\n",
       " 'https://www.interfax.ru/business/news/2023/10/24']"
      ]
     },
     "execution_count": 10,
     "metadata": {},
     "output_type": "execute_result"
    }
   ],
   "source": [
    "dates"
   ]
  },
  {
   "cell_type": "code",
   "execution_count": 11,
   "metadata": {
    "id": "trlEzLWTFnEc"
   },
   "outputs": [],
   "source": [
    "urls = []\n",
    "for n in dates:\n",
    "    url = n\n",
    "    page = requests.get(url)\n",
    "    soup = BeautifulSoup(page.text, 'html')\n",
    "    urls.extend([\n",
    "        link.get('href') for link in soup.find_all('a')\n",
    "        if re.search(r'\\/[A-Za-z]+\\/\\d{6}$', link.get('href')) is not None\n",
    "    ])"
   ]
  },
  {
   "cell_type": "code",
   "execution_count": 12,
   "metadata": {
    "id": "T9S2QLOhHNDW"
   },
   "outputs": [],
   "source": [
    "full_urls = []\n",
    "\n",
    "for u in urls:\n",
    "    res = 'https://www.interfax.ru' + u\n",
    "    full_urls.append(res)"
   ]
  },
  {
   "cell_type": "code",
   "execution_count": 13,
   "metadata": {
    "colab": {
     "base_uri": "https://localhost:8080/"
    },
    "id": "X0wRLlnzHWt_",
    "outputId": "2aa4cee1-8ddf-476b-f3df-32ab94e28996"
   },
   "outputs": [
    {
     "data": {
      "text/plain": [
       "14687"
      ]
     },
     "execution_count": 13,
     "metadata": {},
     "output_type": "execute_result"
    }
   ],
   "source": [
    "len(full_urls)"
   ]
  },
  {
   "cell_type": "code",
   "execution_count": 14,
   "metadata": {
    "id": "3divsYkqIPrj"
   },
   "outputs": [],
   "source": [
    "def get_text(driver):\n",
    "    paragraphs = driver.find_elements(By.TAG_NAME, \"p\")\n",
    "    full_text = '\\n'.join([p.text for p in paragraphs])\n",
    "    return full_text"
   ]
  },
  {
   "cell_type": "code",
   "execution_count": 15,
   "metadata": {
    "id": "E92wg-84MUP4"
   },
   "outputs": [],
   "source": [
    "def get_tags(driver):\n",
    "    try:\n",
    "        tags = driver.find_element(By.CLASS_NAME, \"textMTags\")\n",
    "        return tags.text.split('\\n')\n",
    "    except NoSuchElementException:\n",
    "        return None"
   ]
  },
  {
   "cell_type": "code",
   "execution_count": 16,
   "metadata": {
    "id": "1h36xfvEMt8a"
   },
   "outputs": [],
   "source": [
    "def get_time(driver):\n",
    "    time = driver.find_element(By.CLASS_NAME, \"time\")\n",
    "    return time.text"
   ]
  },
  {
   "cell_type": "code",
   "execution_count": 17,
   "metadata": {
    "id": "Vr5aUPGsSJg0"
   },
   "outputs": [],
   "source": [
    "def get_header(driver):\n",
    "    header = driver.find_element(By.TAG_NAME, \"h1\")\n",
    "    return header.text"
   ]
  },
  {
   "cell_type": "code",
   "execution_count": 18,
   "metadata": {
    "id": "gHJKQU4tYaSS"
   },
   "outputs": [],
   "source": [
    "def get_category(driver):\n",
    "    h1 = driver.find_element(By.XPATH, '/html/body/main/div[1]/div/div/aside/a')\n",
    "    return h1.text"
   ]
  },
  {
   "cell_type": "code",
   "execution_count": 19,
   "metadata": {
    "id": "0AJuNaXcxWDp"
   },
   "outputs": [],
   "source": [
    "def get_line(url0, driver):\n",
    "    driver.get(url0)\n",
    "    website = 'Интерфакс'\n",
    "    section = get_category(driver)\n",
    "    header = get_header(driver)\n",
    "    body = get_text(driver)\n",
    "    date = get_time(driver)\n",
    "    tags = get_tags(driver)\n",
    "    return website, section, url0, header, body, date, tags"
   ]
  },
  {
   "cell_type": "code",
   "execution_count": null,
   "metadata": {
    "colab": {
     "base_uri": "https://localhost:8080/"
    },
    "id": "wLJrUEKZ0Llz",
    "outputId": "befd5685-c9e9-46b9-e3a6-62d0a2722190"
   },
   "outputs": [],
   "source": [
    "dataset = []\n",
    "\n",
    "chrome_options = webdriver.ChromeOptions()\n",
    "chrome_options.add_argument('--headless')\n",
    "chrome_options.add_argument('--no-sandbox')\n",
    "chrome_options.add_argument('--disable-dev-shm-usage')\n",
    "driver = webdriver.Chrome(options=chrome_options)\n",
    "\n",
    "for i in tqdm(range(len(full_urls))):\n",
    "    dataset.append(get_line(full_urls[i], driver))"
   ]
  },
  {
   "cell_type": "code",
   "execution_count": null,
   "metadata": {},
   "outputs": [],
   "source": [
    "df = pd.DataFrame(dataset)\n",
    "df.columns = ['website', 'section', 'url', 'header', 'body', 'date', 'tags']"
   ]
  },
  {
   "cell_type": "code",
   "execution_count": null,
   "metadata": {},
   "outputs": [],
   "source": [
    "df.to_csv('interfax.csv')"
   ]
  }
 ],
 "metadata": {
  "colab": {
   "provenance": []
  },
  "kernelspec": {
   "display_name": "Python 3 (ipykernel)",
   "language": "python",
   "name": "python3"
  },
  "language_info": {
   "codemirror_mode": {
    "name": "ipython",
    "version": 3
   },
   "file_extension": ".py",
   "mimetype": "text/x-python",
   "name": "python",
   "nbconvert_exporter": "python",
   "pygments_lexer": "ipython3",
   "version": "3.11.4"
  },
  "toc": {
   "base_numbering": 1,
   "nav_menu": {},
   "number_sections": true,
   "sideBar": true,
   "skip_h1_title": false,
   "title_cell": "Table of Contents",
   "title_sidebar": "Contents",
   "toc_cell": false,
   "toc_position": {},
   "toc_section_display": true,
   "toc_window_display": false
  }
 },
 "nbformat": 4,
 "nbformat_minor": 1
}
