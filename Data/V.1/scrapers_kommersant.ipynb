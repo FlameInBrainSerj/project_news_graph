{
 "cells": [
  {
   "cell_type": "markdown",
   "id": "34d7530b",
   "metadata": {},
   "source": [
    "# [Kommersant](https://www.kommersant.ru/finance?from=burger) parse"
   ]
  },
  {
   "cell_type": "code",
   "execution_count": 8,
   "id": "cfcaaf5b",
   "metadata": {},
   "outputs": [],
   "source": [
    "from selenium import webdriver\n",
    "from selenium.webdriver.support.ui import Select\n",
    "from selenium.webdriver.chrome.options import Options\n",
    "from selenium.webdriver.chrome.service import Service\n",
    "from selenium.webdriver.common.by import By\n",
    "from selenium.webdriver.common.keys import Keys\n",
    "\n",
    "import pandas as pd\n",
    "\n",
    "from datetime import date, timedelta\n",
    "import pickle\n",
    "import time\n",
    "import os \n",
    "from tqdm import tqdm\n",
    "import re"
   ]
  },
  {
   "cell_type": "code",
   "execution_count": 9,
   "id": "c2b47c2d",
   "metadata": {},
   "outputs": [],
   "source": [
    "# Scraper's options\n",
    "options = Options()\n",
    "\n",
    "# Fully load the page to avoid some problems\n",
    "options.page_load_strategy = 'normal'\n",
    "\n",
    "# To avoid scraper detection and other problems\n",
    "options.add_argument(\"start-maximized\")\n",
    "options.add_argument(\"--disable-blink-features=AutomationControlled\")\n",
    "options.add_argument(\"user-agent=Mozilla/5.0 (X11; Linux x86_64) AppleWebKit/537.36 (KHTML, like Gecko) Chrome/51.0.2704.103 Safari/537.36\")\n",
    "options.add_experimental_option(\"excludeSwitches\", [\"enable-automation\"])\n",
    "options.add_experimental_option('useAutomationExtension', False)\n",
    "options.add_argument(\"--no-sandbox\")\n",
    "options.add_argument(\"--headless\")\n",
    "options.add_argument(\"--disable-gpu\")\n",
    "\n",
    "# Some other features\n",
    "options.add_argument(\"--disable-notifications\")\n",
    "options.add_argument(\"--mute-audio\")\n",
    "options.add_argument('--disable-dev-shm-usage')\n",
    "options.add_argument(\"--headless=new\")"
   ]
  },
  {
   "cell_type": "code",
   "execution_count": 10,
   "id": "00863509",
   "metadata": {},
   "outputs": [],
   "source": [
    "# Firstly we want to get all news' links\n",
    "def parse_links_kommersant(webdriver_options, dates, lst_links):\n",
    "    driver = webdriver.Chrome(options=webdriver_options)\n",
    "\n",
    "    for i, date in tqdm(enumerate(dates)):\n",
    "        driver.get(f'https://www.kommersant.ru/archive/rubric/40/day/{date}')\n",
    "        elements = driver.find_elements(By.XPATH, '//div[@class=\"rubric_lenta\"]//div//h2//a')\n",
    "        for element in elements:\n",
    "            lst_links.append(element.get_attribute('href'))\n",
    "        \n",
    "        if i % 50 == 0:\n",
    "            print(f'Numbers of links on {i} iteration: {len(lst_links)}')\n",
    "        \n",
    "    time.sleep(1)\n",
    "    driver.close()\n",
    "    time.sleep(1)\n",
    "    driver.quit()"
   ]
  },
  {
   "cell_type": "code",
   "execution_count": 11,
   "id": "ddf26d65",
   "metadata": {},
   "outputs": [],
   "source": [
    "# We will get news' links from 2023-01-01 up to current date\n",
    "dates_span = abs((date(2023, 1, 1) - date(2023, 10, 17)).days)\n",
    "dates_lst = [(date(2023, 1, 1) + timedelta(days=i)).strftime('%Y-%m-%d') for i in range(dates_span)]\n",
    "lst_links = []"
   ]
  },
  {
   "cell_type": "code",
   "execution_count": 12,
   "id": "9cd5699b",
   "metadata": {
    "scrolled": true
   },
   "outputs": [
    {
     "name": "stderr",
     "output_type": "stream",
     "text": [
      "1it [00:01,  1.62s/it]"
     ]
    },
    {
     "name": "stdout",
     "output_type": "stream",
     "text": [
      "Numbers of links on 0 iteration: 0\n"
     ]
    },
    {
     "name": "stderr",
     "output_type": "stream",
     "text": [
      "51it [00:38,  2.18it/s]"
     ]
    },
    {
     "name": "stdout",
     "output_type": "stream",
     "text": [
      "Numbers of links on 50 iteration: 341\n"
     ]
    },
    {
     "name": "stderr",
     "output_type": "stream",
     "text": [
      "101it [01:27,  1.41s/it]"
     ]
    },
    {
     "name": "stdout",
     "output_type": "stream",
     "text": [
      "Numbers of links on 100 iteration: 822\n"
     ]
    },
    {
     "name": "stderr",
     "output_type": "stream",
     "text": [
      "151it [02:31,  1.54s/it]"
     ]
    },
    {
     "name": "stdout",
     "output_type": "stream",
     "text": [
      "Numbers of links on 150 iteration: 1249\n"
     ]
    },
    {
     "name": "stderr",
     "output_type": "stream",
     "text": [
      "201it [03:28,  1.06s/it]"
     ]
    },
    {
     "name": "stdout",
     "output_type": "stream",
     "text": [
      "Numbers of links on 200 iteration: 1752\n"
     ]
    },
    {
     "name": "stderr",
     "output_type": "stream",
     "text": [
      "251it [04:28,  1.24s/it]"
     ]
    },
    {
     "name": "stdout",
     "output_type": "stream",
     "text": [
      "Numbers of links on 250 iteration: 2273\n"
     ]
    },
    {
     "name": "stderr",
     "output_type": "stream",
     "text": [
      "289it [05:13,  1.09s/it]\n"
     ]
    }
   ],
   "source": [
    "parse_links_kommersant(webdriver_options=options,\n",
    "                       dates=dates_lst,\n",
    "                       lst_links=lst_links)"
   ]
  },
  {
   "cell_type": "code",
   "execution_count": 13,
   "id": "e30c228d",
   "metadata": {},
   "outputs": [
    {
     "ename": "AssertionError",
     "evalue": "",
     "output_type": "error",
     "traceback": [
      "\u001b[1;31m---------------------------------------------------------------------------\u001b[0m",
      "\u001b[1;31mAssertionError\u001b[0m                            Traceback (most recent call last)",
      "Cell \u001b[1;32mIn[13], line 2\u001b[0m\n\u001b[0;32m      1\u001b[0m \u001b[38;5;66;03m# Checking that we do not have duplicaet links\u001b[39;00m\n\u001b[1;32m----> 2\u001b[0m \u001b[38;5;28;01massert\u001b[39;00m \u001b[38;5;28mlen\u001b[39m(lst_links) \u001b[38;5;241m==\u001b[39m \u001b[38;5;28mlen\u001b[39m(\u001b[38;5;28mset\u001b[39m(lst_links))\n",
      "\u001b[1;31mAssertionError\u001b[0m: "
     ]
    }
   ],
   "source": [
    "# Checking that we do not have duplicaet links\n",
    "assert len(lst_links) == len(set(lst_links))"
   ]
  },
  {
   "cell_type": "code",
   "execution_count": 23,
   "id": "ee239943",
   "metadata": {},
   "outputs": [],
   "source": [
    "# There are duplicates that is why we take a set of lst_links\n",
    "\n",
    "# Writing links to file to avoid parcing each time\n",
    "with open(r'kommersant_links.txt', 'w') as file:\n",
    "    for el in set(lst_links):\n",
    "        file.write(\"%s\\n\" % el)"
   ]
  },
  {
   "cell_type": "markdown",
   "id": "7e043e6b",
   "metadata": {},
   "source": [
    "### Output format (columns)\n",
    "1. id (pandas.DF) - default column\n",
    "\n",
    "2. website (where the news were retreived)\n",
    "\n",
    "3. section of the website (where the news were retreived)\n",
    "\n",
    "4. url (of the news)\n",
    "\n",
    "5. header (of the news)\n",
    "\n",
    "6. body (of the news)\n",
    "\n",
    "7. date (of the news)\n",
    "\n",
    "8. tags/key_words (of the news, if there are any)"
   ]
  },
  {
   "cell_type": "markdown",
   "id": "52b6f073",
   "metadata": {},
   "source": [
    "### This dataset\n",
    "1. default\n",
    "\n",
    "2. Kommersant (same for each url)\n",
    "\n",
    "3. section (vary for each url)\n",
    "\n",
    "4. url (unique for each url)\n",
    "\n",
    "5. header (unique for each url)\n",
    "\n",
    "6. body (unique for each url)\n",
    "\n",
    "7. date (unique for each url)\n",
    "\n",
    "8. tags/key_words (empty for each url)"
   ]
  },
  {
   "cell_type": "code",
   "execution_count": 28,
   "id": "a1816eff",
   "metadata": {},
   "outputs": [],
   "source": [
    "def parse_news_on_list_of_links(webdriver_options, urls_lst,\n",
    "                                body_lst, header_lst, date_lst,\n",
    "                                section_lst, new_urls_lst):\n",
    "    \n",
    "    regex_for_external_links = r'https?:\\/\\/(www\\.)?[-a-zA-Z0-9@:%._\\+~#=]{1,256}\\.[a-zA-Z0-9()]{1,6}\\b([-a-zA-Z0-9()@:%_\\+.~#?&//=]*)'\n",
    "\n",
    "    driver = webdriver.Chrome(options=webdriver_options)\n",
    "\n",
    "    for i in tqdm(range(len(urls_lst))):\n",
    "        try:\n",
    "            # For debugging purposes\n",
    "            if i % 200 == 0:\n",
    "                print(f'length of body_lst: {len(body_lst)}')\n",
    "                print(f'length of header_lst: {len(header_lst)}')\n",
    "                print(f'length of date_lst: {len(date_lst)}')\n",
    "                print(f'length of section_lst: {len(section_lst)}')\n",
    "                print(f'length of new_urls_lst: {len(new_urls_lst)}')\n",
    "\n",
    "            driver.get(urls_lst[i])\n",
    "\n",
    "            body = driver.find_element(By.XPATH, '//div[@class=\"doc__body\"]/div[2]').text\n",
    "            # Remove external links as we will not use them\n",
    "            body_without_external_links = re.sub(regex_for_external_links, '', body)\n",
    "#             print(f'BODY: {body_without_external_links} \\n')\n",
    "            if body_without_external_links.strip() == '':\n",
    "                continue\n",
    "            \n",
    "            header = driver.find_element(By.XPATH, '//header/h1').text\n",
    "#             print(f'HEADER: {header} \\n')\n",
    "\n",
    "            date = driver.find_element(By.XPATH, '//div[@class=\"doc_header__time\"]//time').text\n",
    "#             print(f'DATE: {date} \\n')\n",
    "\n",
    "            section = driver.find_element(By.XPATH, '//ul[@class=\"crumbs\"]//li//a').text\n",
    "#             print(f'SECTION: {section} \\n')\n",
    "\n",
    "            body_lst.append(body)\n",
    "            header_lst.append(header)\n",
    "            date_lst.append(date)\n",
    "            section_lst.append(section)\n",
    "            new_urls_lst.append(urls_lst[i])\n",
    "            \n",
    "        except:\n",
    "            pass\n",
    "\n",
    "    time.sleep(1)\n",
    "    driver.close()\n",
    "    time.sleep(1)\n",
    "    driver.quit()"
   ]
  },
  {
   "cell_type": "code",
   "execution_count": 29,
   "id": "b4d19b8d",
   "metadata": {},
   "outputs": [],
   "source": [
    "urls_lst = []\n",
    "body_lst = []\n",
    "header_lst = []\n",
    "date_lst = []\n",
    "section_lst = []\n",
    "new_urls_lst = []\n",
    "\n",
    "# Reading links from the file\n",
    "with open(r'kommersant_links.txt', 'r') as file:\n",
    "    urls_lst = file.read().splitlines()"
   ]
  },
  {
   "cell_type": "code",
   "execution_count": 30,
   "id": "fc3625d4",
   "metadata": {
    "scrolled": true
   },
   "outputs": [
    {
     "name": "stderr",
     "output_type": "stream",
     "text": [
      "\r",
      "  0%|                                                                                         | 0/2585 [00:00<?, ?it/s]"
     ]
    },
    {
     "name": "stdout",
     "output_type": "stream",
     "text": [
      "length of body_lst: 0\n",
      "length of header_lst: 0\n",
      "length of date_lst: 0\n",
      "length of section_lst: 0\n",
      "length of new_urls_lst: 0\n"
     ]
    },
    {
     "name": "stderr",
     "output_type": "stream",
     "text": [
      "  8%|██████                                                                         | 200/2585 [04:50<43:46,  1.10s/it]"
     ]
    },
    {
     "name": "stdout",
     "output_type": "stream",
     "text": [
      "length of body_lst: 193\n",
      "length of header_lst: 193\n",
      "length of date_lst: 193\n",
      "length of section_lst: 193\n",
      "length of new_urls_lst: 193\n"
     ]
    },
    {
     "name": "stderr",
     "output_type": "stream",
     "text": [
      " 15%|████████████▏                                                                  | 400/2585 [10:34<52:33,  1.44s/it]"
     ]
    },
    {
     "name": "stdout",
     "output_type": "stream",
     "text": [
      "length of body_lst: 389\n",
      "length of header_lst: 389\n",
      "length of date_lst: 389\n",
      "length of section_lst: 389\n",
      "length of new_urls_lst: 389\n"
     ]
    },
    {
     "name": "stderr",
     "output_type": "stream",
     "text": [
      " 23%|██████████████████▎                                                            | 600/2585 [19:07<50:10,  1.52s/it]"
     ]
    },
    {
     "name": "stdout",
     "output_type": "stream",
     "text": [
      "length of body_lst: 582\n",
      "length of header_lst: 582\n",
      "length of date_lst: 582\n",
      "length of section_lst: 582\n",
      "length of new_urls_lst: 582\n"
     ]
    },
    {
     "name": "stderr",
     "output_type": "stream",
     "text": [
      " 31%|████████████████████████▍                                                      | 800/2585 [27:04<39:40,  1.33s/it]"
     ]
    },
    {
     "name": "stdout",
     "output_type": "stream",
     "text": [
      "length of body_lst: 772\n",
      "length of header_lst: 772\n",
      "length of date_lst: 772\n",
      "length of section_lst: 772\n",
      "length of new_urls_lst: 772\n"
     ]
    },
    {
     "name": "stderr",
     "output_type": "stream",
     "text": [
      " 39%|██████████████████████████████▏                                               | 1000/2585 [34:43<27:21,  1.04s/it]"
     ]
    },
    {
     "name": "stdout",
     "output_type": "stream",
     "text": [
      "length of body_lst: 962\n",
      "length of header_lst: 962\n",
      "length of date_lst: 962\n",
      "length of section_lst: 962\n",
      "length of new_urls_lst: 962\n"
     ]
    },
    {
     "name": "stderr",
     "output_type": "stream",
     "text": [
      " 46%|████████████████████████████████████▏                                         | 1200/2585 [46:26<51:04,  2.21s/it]"
     ]
    },
    {
     "name": "stdout",
     "output_type": "stream",
     "text": [
      "length of body_lst: 1155\n",
      "length of header_lst: 1155\n",
      "length of date_lst: 1155\n",
      "length of section_lst: 1155\n",
      "length of new_urls_lst: 1155\n"
     ]
    },
    {
     "name": "stderr",
     "output_type": "stream",
     "text": [
      " 54%|██████████████████████████████████████████▏                                   | 1400/2585 [57:30<31:06,  1.58s/it]"
     ]
    },
    {
     "name": "stdout",
     "output_type": "stream",
     "text": [
      "length of body_lst: 1345\n",
      "length of header_lst: 1345\n",
      "length of date_lst: 1345\n",
      "length of section_lst: 1345\n",
      "length of new_urls_lst: 1345\n"
     ]
    },
    {
     "name": "stderr",
     "output_type": "stream",
     "text": [
      " 62%|███████████████████████████████████████████████                             | 1600/2585 [1:07:32<32:26,  1.98s/it]"
     ]
    },
    {
     "name": "stdout",
     "output_type": "stream",
     "text": [
      "length of body_lst: 1539\n",
      "length of header_lst: 1539\n",
      "length of date_lst: 1539\n",
      "length of section_lst: 1539\n",
      "length of new_urls_lst: 1539\n"
     ]
    },
    {
     "name": "stderr",
     "output_type": "stream",
     "text": [
      " 70%|████████████████████████████████████████████████████▉                       | 1800/2585 [1:22:48<22:09,  1.69s/it]"
     ]
    },
    {
     "name": "stdout",
     "output_type": "stream",
     "text": [
      "length of body_lst: 1728\n",
      "length of header_lst: 1728\n",
      "length of date_lst: 1728\n",
      "length of section_lst: 1728\n",
      "length of new_urls_lst: 1728\n"
     ]
    },
    {
     "name": "stderr",
     "output_type": "stream",
     "text": [
      " 77%|█████████████████████████████████████████████████████████▎                | 2000/2585 [1:34:38<1:47:52, 11.06s/it]"
     ]
    },
    {
     "name": "stdout",
     "output_type": "stream",
     "text": [
      "length of body_lst: 1921\n",
      "length of header_lst: 1921\n",
      "length of date_lst: 1921\n",
      "length of section_lst: 1921\n",
      "length of new_urls_lst: 1921\n"
     ]
    },
    {
     "name": "stderr",
     "output_type": "stream",
     "text": [
      " 85%|████████████████████████████████████████████████████████████████▋           | 2200/2585 [1:47:20<11:19,  1.77s/it]"
     ]
    },
    {
     "name": "stdout",
     "output_type": "stream",
     "text": [
      "length of body_lst: 2111\n",
      "length of header_lst: 2111\n",
      "length of date_lst: 2111\n",
      "length of section_lst: 2111\n",
      "length of new_urls_lst: 2111\n"
     ]
    },
    {
     "name": "stderr",
     "output_type": "stream",
     "text": [
      " 93%|██████████████████████████████████████████████████████████████████████▌     | 2400/2585 [2:00:07<09:03,  2.94s/it]"
     ]
    },
    {
     "name": "stdout",
     "output_type": "stream",
     "text": [
      "length of body_lst: 2301\n",
      "length of header_lst: 2301\n",
      "length of date_lst: 2301\n",
      "length of section_lst: 2301\n",
      "length of new_urls_lst: 2301\n"
     ]
    },
    {
     "name": "stderr",
     "output_type": "stream",
     "text": [
      "100%|████████████████████████████████████████████████████████████████████████████| 2585/2585 [2:12:08<00:00,  3.07s/it]\n"
     ]
    }
   ],
   "source": [
    "# Parse all links collected\n",
    "parse_news_on_list_of_links(webdriver_options=options,\n",
    "                            urls_lst=urls_lst,\n",
    "                            body_lst=body_lst,\n",
    "                            header_lst=header_lst,\n",
    "                            date_lst=date_lst,\n",
    "                            section_lst=section_lst,\n",
    "                            new_urls_lst=new_urls_lst)"
   ]
  },
  {
   "cell_type": "code",
   "execution_count": 31,
   "id": "c1a98a7d",
   "metadata": {},
   "outputs": [
    {
     "name": "stdout",
     "output_type": "stream",
     "text": [
      "2585 \n",
      "\n",
      "2480\n",
      "2480\n",
      "2480\n",
      "2480\n",
      "2480\n"
     ]
    }
   ],
   "source": [
    "# Some additional check\n",
    "print(len(urls_lst), '\\n')\n",
    "\n",
    "print(len(body_lst))\n",
    "print(len(header_lst))\n",
    "print(len(date_lst))\n",
    "print(len(section_lst))\n",
    "print(len(new_urls_lst))"
   ]
  },
  {
   "cell_type": "code",
   "execution_count": 32,
   "id": "f758b031",
   "metadata": {},
   "outputs": [],
   "source": [
    "# Create columns with the same values for each url\n",
    "website_lst = ['Kommersant' for _ in range(len(body_lst))]\n",
    "key_words_lst = [[] for _ in range(len(body_lst))]"
   ]
  },
  {
   "cell_type": "code",
   "execution_count": 33,
   "id": "f586b3ce",
   "metadata": {},
   "outputs": [],
   "source": [
    "# Crate pandas DataFrame\n",
    "df = pd.DataFrame(\n",
    "    {\n",
    "        'website': website_lst,\n",
    "        'section': section_lst, \n",
    "        'url': new_urls_lst,\n",
    "        'header': header_lst,\n",
    "        'body': body_lst,\n",
    "        'date': date_lst,\n",
    "        'key_words': key_words_lst\n",
    "    }\n",
    ")"
   ]
  },
  {
   "cell_type": "code",
   "execution_count": 34,
   "id": "f1735459",
   "metadata": {},
   "outputs": [],
   "source": [
    "# Save parced data\n",
    "df.to_csv('kommersant_parced_data.csv', index=False)"
   ]
  },
  {
   "cell_type": "code",
   "execution_count": null,
   "id": "c5f49bcf",
   "metadata": {},
   "outputs": [],
   "source": []
  },
  {
   "cell_type": "code",
   "execution_count": 35,
   "id": "05588246",
   "metadata": {},
   "outputs": [
    {
     "data": {
      "text/html": [
       "<div>\n",
       "<style scoped>\n",
       "    .dataframe tbody tr th:only-of-type {\n",
       "        vertical-align: middle;\n",
       "    }\n",
       "\n",
       "    .dataframe tbody tr th {\n",
       "        vertical-align: top;\n",
       "    }\n",
       "\n",
       "    .dataframe thead th {\n",
       "        text-align: right;\n",
       "    }\n",
       "</style>\n",
       "<table border=\"1\" class=\"dataframe\">\n",
       "  <thead>\n",
       "    <tr style=\"text-align: right;\">\n",
       "      <th></th>\n",
       "      <th>website</th>\n",
       "      <th>section</th>\n",
       "      <th>url</th>\n",
       "      <th>header</th>\n",
       "      <th>body</th>\n",
       "      <th>date</th>\n",
       "      <th>key_words</th>\n",
       "    </tr>\n",
       "  </thead>\n",
       "  <tbody>\n",
       "    <tr>\n",
       "      <th>0</th>\n",
       "      <td>Kommersant</td>\n",
       "      <td>Финансы</td>\n",
       "      <td>https://www.kommersant.ru/doc/6015937</td>\n",
       "      <td>Криптобиржа Binance сокращает сотрудников и те...</td>\n",
       "      <td>Криптовалютная биржа Binance начала сокращать ...</td>\n",
       "      <td>02.06.2023, 12:13</td>\n",
       "      <td>[]</td>\n",
       "    </tr>\n",
       "    <tr>\n",
       "      <th>1</th>\n",
       "      <td>Kommersant</td>\n",
       "      <td>Финансы</td>\n",
       "      <td>https://www.kommersant.ru/doc/6123294</td>\n",
       "      <td>Депутат Аксаков спрогнозировал курс доллара СШ...</td>\n",
       "      <td>Глава комитета Госдумы по финансовому рынку Ан...</td>\n",
       "      <td>24.07.2023, 19:10</td>\n",
       "      <td>[]</td>\n",
       "    </tr>\n",
       "    <tr>\n",
       "      <th>2</th>\n",
       "      <td>Kommersant</td>\n",
       "      <td>Фондовый рынок</td>\n",
       "      <td>https://www.kommersant.ru/doc/5915027</td>\n",
       "      <td>Иностранные бумаги не стерпели санкций</td>\n",
       "      <td>Объем торгов иностранными ценными бумагами на ...</td>\n",
       "      <td>05.04.2023, 21:45</td>\n",
       "      <td>[]</td>\n",
       "    </tr>\n",
       "    <tr>\n",
       "      <th>3</th>\n",
       "      <td>Kommersant</td>\n",
       "      <td>Валютные прогнозы</td>\n",
       "      <td>https://www.kommersant.ru/doc/5774233</td>\n",
       "      <td>Курс доллара. Прогноз на 19-20 января</td>\n",
       "      <td>На текущей неделе доллар предпринял попытку ук...</td>\n",
       "      <td>18.01.2023, 21:11</td>\n",
       "      <td>[]</td>\n",
       "    </tr>\n",
       "    <tr>\n",
       "      <th>4</th>\n",
       "      <td>Kommersant</td>\n",
       "      <td>Финансы</td>\n",
       "      <td>https://www.kommersant.ru/doc/6268215</td>\n",
       "      <td>Мосбиржа с февраля 2022 года потеряла 80% доли...</td>\n",
       "      <td>Доля акций в свободном обращении (free-float) ...</td>\n",
       "      <td>12.10.2023, 10:39</td>\n",
       "      <td>[]</td>\n",
       "    </tr>\n",
       "    <tr>\n",
       "      <th>...</th>\n",
       "      <td>...</td>\n",
       "      <td>...</td>\n",
       "      <td>...</td>\n",
       "      <td>...</td>\n",
       "      <td>...</td>\n",
       "      <td>...</td>\n",
       "      <td>...</td>\n",
       "    </tr>\n",
       "    <tr>\n",
       "      <th>2475</th>\n",
       "      <td>Kommersant</td>\n",
       "      <td>Финансы</td>\n",
       "      <td>https://www.kommersant.ru/doc/6146791</td>\n",
       "      <td>Путин подписал закон об эксперименте с исламск...</td>\n",
       "      <td>Президент Владимир Путин подписал закон о пров...</td>\n",
       "      <td>04.08.2023, 21:01</td>\n",
       "      <td>[]</td>\n",
       "    </tr>\n",
       "    <tr>\n",
       "      <th>2476</th>\n",
       "      <td>Kommersant</td>\n",
       "      <td>Финансы</td>\n",
       "      <td>https://www.kommersant.ru/doc/6095107</td>\n",
       "      <td>Bloomberg узнало о намерениях национализироват...</td>\n",
       "      <td>Агентство Bloomberg со ссылкой на собственные ...</td>\n",
       "      <td>07.07.2023, 19:42</td>\n",
       "      <td>[]</td>\n",
       "    </tr>\n",
       "    <tr>\n",
       "      <th>2477</th>\n",
       "      <td>Kommersant</td>\n",
       "      <td>Валютные прогнозы</td>\n",
       "      <td>https://www.kommersant.ru/doc/5812566</td>\n",
       "      <td>Курс доллара. Прогноз на 9–10 февраля</td>\n",
       "      <td>Российский рубль стремительно теряет позиции п...</td>\n",
       "      <td>08.02.2023, 21:00</td>\n",
       "      <td>[]</td>\n",
       "    </tr>\n",
       "    <tr>\n",
       "      <th>2478</th>\n",
       "      <td>Kommersant</td>\n",
       "      <td>Финансы</td>\n",
       "      <td>https://www.kommersant.ru/doc/5954802</td>\n",
       "      <td>Замминистра финансов России Моисеев назвал кри...</td>\n",
       "      <td>Заместитель министра финансов России Алексей М...</td>\n",
       "      <td>27.04.2023, 15:27</td>\n",
       "      <td>[]</td>\n",
       "    </tr>\n",
       "    <tr>\n",
       "      <th>2479</th>\n",
       "      <td>Kommersant</td>\n",
       "      <td>Финансы</td>\n",
       "      <td>https://www.kommersant.ru/doc/6028496</td>\n",
       "      <td>РБК: Минфин предложил отменить льготы по НДФЛ ...</td>\n",
       "      <td>Минфин считает, что налоговые льготы на долгос...</td>\n",
       "      <td>06.06.2023, 11:25</td>\n",
       "      <td>[]</td>\n",
       "    </tr>\n",
       "  </tbody>\n",
       "</table>\n",
       "<p>2480 rows × 7 columns</p>\n",
       "</div>"
      ],
      "text/plain": [
       "         website            section                                    url  \\\n",
       "0     Kommersant            Финансы  https://www.kommersant.ru/doc/6015937   \n",
       "1     Kommersant            Финансы  https://www.kommersant.ru/doc/6123294   \n",
       "2     Kommersant     Фондовый рынок  https://www.kommersant.ru/doc/5915027   \n",
       "3     Kommersant  Валютные прогнозы  https://www.kommersant.ru/doc/5774233   \n",
       "4     Kommersant            Финансы  https://www.kommersant.ru/doc/6268215   \n",
       "...          ...                ...                                    ...   \n",
       "2475  Kommersant            Финансы  https://www.kommersant.ru/doc/6146791   \n",
       "2476  Kommersant            Финансы  https://www.kommersant.ru/doc/6095107   \n",
       "2477  Kommersant  Валютные прогнозы  https://www.kommersant.ru/doc/5812566   \n",
       "2478  Kommersant            Финансы  https://www.kommersant.ru/doc/5954802   \n",
       "2479  Kommersant            Финансы  https://www.kommersant.ru/doc/6028496   \n",
       "\n",
       "                                                 header  \\\n",
       "0     Криптобиржа Binance сокращает сотрудников и те...   \n",
       "1     Депутат Аксаков спрогнозировал курс доллара СШ...   \n",
       "2                Иностранные бумаги не стерпели санкций   \n",
       "3                 Курс доллара. Прогноз на 19-20 января   \n",
       "4     Мосбиржа с февраля 2022 года потеряла 80% доли...   \n",
       "...                                                 ...   \n",
       "2475  Путин подписал закон об эксперименте с исламск...   \n",
       "2476  Bloomberg узнало о намерениях национализироват...   \n",
       "2477              Курс доллара. Прогноз на 9–10 февраля   \n",
       "2478  Замминистра финансов России Моисеев назвал кри...   \n",
       "2479  РБК: Минфин предложил отменить льготы по НДФЛ ...   \n",
       "\n",
       "                                                   body               date  \\\n",
       "0     Криптовалютная биржа Binance начала сокращать ...  02.06.2023, 12:13   \n",
       "1     Глава комитета Госдумы по финансовому рынку Ан...  24.07.2023, 19:10   \n",
       "2     Объем торгов иностранными ценными бумагами на ...  05.04.2023, 21:45   \n",
       "3     На текущей неделе доллар предпринял попытку ук...  18.01.2023, 21:11   \n",
       "4     Доля акций в свободном обращении (free-float) ...  12.10.2023, 10:39   \n",
       "...                                                 ...                ...   \n",
       "2475  Президент Владимир Путин подписал закон о пров...  04.08.2023, 21:01   \n",
       "2476  Агентство Bloomberg со ссылкой на собственные ...  07.07.2023, 19:42   \n",
       "2477  Российский рубль стремительно теряет позиции п...  08.02.2023, 21:00   \n",
       "2478  Заместитель министра финансов России Алексей М...  27.04.2023, 15:27   \n",
       "2479  Минфин считает, что налоговые льготы на долгос...  06.06.2023, 11:25   \n",
       "\n",
       "     key_words  \n",
       "0           []  \n",
       "1           []  \n",
       "2           []  \n",
       "3           []  \n",
       "4           []  \n",
       "...        ...  \n",
       "2475        []  \n",
       "2476        []  \n",
       "2477        []  \n",
       "2478        []  \n",
       "2479        []  \n",
       "\n",
       "[2480 rows x 7 columns]"
      ]
     },
     "execution_count": 35,
     "metadata": {},
     "output_type": "execute_result"
    }
   ],
   "source": [
    "# Check\n",
    "df = pd.read_csv('kommersant_parced_data.csv')\n",
    "df"
   ]
  },
  {
   "cell_type": "code",
   "execution_count": 36,
   "id": "4830392a",
   "metadata": {},
   "outputs": [
    {
     "data": {
      "text/html": [
       "<div>\n",
       "<style scoped>\n",
       "    .dataframe tbody tr th:only-of-type {\n",
       "        vertical-align: middle;\n",
       "    }\n",
       "\n",
       "    .dataframe tbody tr th {\n",
       "        vertical-align: top;\n",
       "    }\n",
       "\n",
       "    .dataframe thead th {\n",
       "        text-align: right;\n",
       "    }\n",
       "</style>\n",
       "<table border=\"1\" class=\"dataframe\">\n",
       "  <thead>\n",
       "    <tr style=\"text-align: right;\">\n",
       "      <th></th>\n",
       "      <th>website</th>\n",
       "      <th>section</th>\n",
       "      <th>url</th>\n",
       "      <th>header</th>\n",
       "      <th>body</th>\n",
       "      <th>date</th>\n",
       "      <th>key_words</th>\n",
       "    </tr>\n",
       "  </thead>\n",
       "  <tbody>\n",
       "    <tr>\n",
       "      <th>count</th>\n",
       "      <td>2480</td>\n",
       "      <td>2480</td>\n",
       "      <td>2480</td>\n",
       "      <td>2480</td>\n",
       "      <td>2480</td>\n",
       "      <td>2480</td>\n",
       "      <td>2480</td>\n",
       "    </tr>\n",
       "    <tr>\n",
       "      <th>unique</th>\n",
       "      <td>1</td>\n",
       "      <td>136</td>\n",
       "      <td>2480</td>\n",
       "      <td>2476</td>\n",
       "      <td>2480</td>\n",
       "      <td>2169</td>\n",
       "      <td>1</td>\n",
       "    </tr>\n",
       "    <tr>\n",
       "      <th>top</th>\n",
       "      <td>Kommersant</td>\n",
       "      <td>Финансы</td>\n",
       "      <td>https://www.kommersant.ru/doc/6015937</td>\n",
       "      <td>Цена вопроса</td>\n",
       "      <td>Криптовалютная биржа Binance начала сокращать ...</td>\n",
       "      <td>30.01.2023, 01:11</td>\n",
       "      <td>[]</td>\n",
       "    </tr>\n",
       "    <tr>\n",
       "      <th>freq</th>\n",
       "      <td>2480</td>\n",
       "      <td>1417</td>\n",
       "      <td>1</td>\n",
       "      <td>4</td>\n",
       "      <td>1</td>\n",
       "      <td>5</td>\n",
       "      <td>2480</td>\n",
       "    </tr>\n",
       "  </tbody>\n",
       "</table>\n",
       "</div>"
      ],
      "text/plain": [
       "           website  section                                    url  \\\n",
       "count         2480     2480                                   2480   \n",
       "unique           1      136                                   2480   \n",
       "top     Kommersant  Финансы  https://www.kommersant.ru/doc/6015937   \n",
       "freq          2480     1417                                      1   \n",
       "\n",
       "              header                                               body  \\\n",
       "count           2480                                               2480   \n",
       "unique          2476                                               2480   \n",
       "top     Цена вопроса  Криптовалютная биржа Binance начала сокращать ...   \n",
       "freq               4                                                  1   \n",
       "\n",
       "                     date key_words  \n",
       "count                2480      2480  \n",
       "unique               2169         1  \n",
       "top     30.01.2023, 01:11        []  \n",
       "freq                    5      2480  "
      ]
     },
     "execution_count": 36,
     "metadata": {},
     "output_type": "execute_result"
    }
   ],
   "source": [
    "df.describe()"
   ]
  }
 ],
 "metadata": {
  "kernelspec": {
   "display_name": "Python 3 (ipykernel)",
   "language": "python",
   "name": "python3"
  },
  "language_info": {
   "codemirror_mode": {
    "name": "ipython",
    "version": 3
   },
   "file_extension": ".py",
   "mimetype": "text/x-python",
   "name": "python",
   "nbconvert_exporter": "python",
   "pygments_lexer": "ipython3",
   "version": "3.11.4"
  },
  "toc": {
   "base_numbering": 1,
   "nav_menu": {},
   "number_sections": true,
   "sideBar": true,
   "skip_h1_title": false,
   "title_cell": "Table of Contents",
   "title_sidebar": "Contents",
   "toc_cell": false,
   "toc_position": {},
   "toc_section_display": true,
   "toc_window_display": false
  }
 },
 "nbformat": 4,
 "nbformat_minor": 5
}
