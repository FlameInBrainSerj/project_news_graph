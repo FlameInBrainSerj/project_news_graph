{
 "cells": [
  {
   "cell_type": "code",
   "execution_count": 1,
   "id": "3b7808df",
   "metadata": {},
   "outputs": [],
   "source": [
    "import pandas as pd\n",
    "import psycopg2\n",
    "from sqlalchemy import create_engine"
   ]
  },
  {
   "cell_type": "code",
   "execution_count": 2,
   "id": "deb5346d",
   "metadata": {},
   "outputs": [],
   "source": [
    "# Read local data and concatenate it into one dataset\n",
    "df_interfax = pd.read_csv(r'C:\\Users\\Sergey\\Project\\Disk\\interfax_parsed_data.csv', index_col=0)\n",
    "\n",
    "df_smart_labs = pd.read_csv(r'C:\\Users\\Sergey\\Project\\Disk\\smart_labs_parced_data.csv')\n",
    "df_smart_labs.rename(columns={'key_words': 'tags'}, inplace=True)\n",
    "\n",
    "df_ria = pd.read_csv(r'C:\\Users\\Sergey\\Project\\Disk\\ria_parsed_data.csv', index_col=0)\n",
    "\n",
    "df_kommersant = pd.read_csv(r'C:\\Users\\Sergey\\Project\\Disk\\kommersant_parced_data.csv')\n",
    "df_kommersant.rename(columns={'key_words': 'tags'}, inplace=True)\n",
    "\n",
    "df = pd.concat(\n",
    "    [df_interfax, df_smart_labs, df_ria, df_kommersant],\n",
    "    axis=0, \n",
    "    ignore_index=True\n",
    ")"
   ]
  },
  {
   "cell_type": "code",
   "execution_count": 3,
   "id": "0d817d52",
   "metadata": {},
   "outputs": [],
   "source": [
    "dbname = 'defaultdb'\n",
    "user = 'doadmin'\n",
    "password = 'AVNS_pWw7oK1YPADBn-TRPqp'\n",
    "host = 'db-postgresql-fra1-12797-do-user-8775628-0.c.db.ondigitalocean.com'\n",
    "port = '25060'\n",
    "\n",
    "conn_string = f'postgresql://{user}:{password}@{host}:{port}/{dbname}'"
   ]
  },
  {
   "cell_type": "code",
   "execution_count": 6,
   "id": "2a80fbf1",
   "metadata": {},
   "outputs": [],
   "source": [
    "db = create_engine(conn_string) \n",
    "conn = db.connect() \n",
    "conn.autocommit = True\n",
    "df.to_sql('raw_data', con=conn, if_exists='replace', index=False) \n",
    "conn.close()"
   ]
  },
  {
   "cell_type": "code",
   "execution_count": null,
   "id": "2e8efb5a",
   "metadata": {},
   "outputs": [],
   "source": [
    "%%time\n",
    "\n",
    "db = create_engine(conn_string) \n",
    "conn = db.connect() \n",
    "conn.autocommit = True\n",
    "\n",
    "gen = pd.read_sql_query('SELECT * FROM raw_data LIMIT 10000', conn, chunksize=100)\n",
    "df = pd.concat([next(gen) for i in range(100)]).reset_index()\n",
    "df = df.drop('id', axis=1)\n",
    "\n",
    "conn.close()"
   ]
  },
  {
   "cell_type": "code",
   "execution_count": null,
   "id": "ecebdbcb",
   "metadata": {},
   "outputs": [],
   "source": [
    "df"
   ]
  }
 ],
 "metadata": {
  "kernelspec": {
   "display_name": "Python 3 (ipykernel)",
   "language": "python",
   "name": "python3"
  },
  "language_info": {
   "codemirror_mode": {
    "name": "ipython",
    "version": 3
   },
   "file_extension": ".py",
   "mimetype": "text/x-python",
   "name": "python",
   "nbconvert_exporter": "python",
   "pygments_lexer": "ipython3",
   "version": "3.11.4"
  }
 },
 "nbformat": 4,
 "nbformat_minor": 5
}
