{
 "cells": [
  {
   "cell_type": "markdown",
   "metadata": {},
   "source": [
    "# [Interfax](https://interfax.ru/) parse"
   ]
  },
  {
   "cell_type": "code",
   "execution_count": 1,
   "metadata": {
    "colab": {
     "base_uri": "https://localhost:8080/"
    },
    "id": "xwSRzYe00rCv",
    "outputId": "dfe2a0f9-c921-4f9e-cb6b-09a66093b1ff"
   },
   "outputs": [],
   "source": [
    "from selenium import webdriver\n",
    "from selenium.webdriver.common.by import By\n",
    "import requests\n",
    "import re\n",
    "from datetime import date\n",
    "from dateutil.rrule import rrule, DAILY\n",
    "from bs4 import BeautifulSoup\n",
    "from time import sleep\n",
    "from tqdm import tqdm\n",
    "import random\n",
    "from selenium import webdriver\n",
    "from selenium.webdriver.chrome.service import Service\n",
    "from selenium.common.exceptions import NoSuchElementException\n",
    "import pandas as pd"
   ]
  },
  {
   "cell_type": "code",
   "execution_count": 3,
   "metadata": {
    "id": "K-3AAPM2FARY"
   },
   "outputs": [],
   "source": [
    "start_date = date(2019, 1, 1)\n",
    "end_date = date(2023, 12, 31)\n",
    "dates = []\n",
    "for d in rrule(DAILY, dtstart=start_date, until=end_date):\n",
    "    dates.append('https://www.interfax.ru/business/news/' + d.strftime(\"%Y/%m/%d\"))"
   ]
  },
  {
   "cell_type": "code",
   "execution_count": 11,
   "metadata": {
    "id": "trlEzLWTFnEc"
   },
   "outputs": [],
   "source": [
    "urls = []\n",
    "for n in dates:\n",
    "    url = n\n",
    "    page = requests.get(url)\n",
    "    soup = BeautifulSoup(page.text, 'html')\n",
    "    urls.extend([\n",
    "        link.get('href') for link in soup.find_all('a')\n",
    "        if re.search(r'\\/[A-Za-z]+\\/\\d{6}$', link.get('href')) is not None\n",
    "    ])"
   ]
  },
  {
   "cell_type": "code",
   "execution_count": 12,
   "metadata": {
    "id": "T9S2QLOhHNDW"
   },
   "outputs": [],
   "source": [
    "full_urls = []\n",
    "\n",
    "for u in urls:\n",
    "    res = 'https://www.interfax.ru' + u\n",
    "    full_urls.append(res)"
   ]
  },
  {
   "cell_type": "code",
   "execution_count": 14,
   "metadata": {
    "id": "3divsYkqIPrj"
   },
   "outputs": [],
   "source": [
    "def get_text(driver):\n",
    "    paragraphs = driver.find_elements(By.TAG_NAME, \"p\")\n",
    "    full_text = '\\n'.join([p.text for p in paragraphs])\n",
    "    return full_text"
   ]
  },
  {
   "cell_type": "code",
   "execution_count": 15,
   "metadata": {
    "id": "E92wg-84MUP4"
   },
   "outputs": [],
   "source": [
    "def get_tags(driver):\n",
    "    try:\n",
    "        tags = driver.find_element(By.CLASS_NAME, \"textMTags\")\n",
    "        return tags.text.split('\\n')\n",
    "    except NoSuchElementException:\n",
    "        return None"
   ]
  },
  {
   "cell_type": "code",
   "execution_count": 16,
   "metadata": {
    "id": "1h36xfvEMt8a"
   },
   "outputs": [],
   "source": [
    "def get_time(driver):\n",
    "    time = driver.find_element(By.CLASS_NAME, \"time\")\n",
    "    return time.text"
   ]
  },
  {
   "cell_type": "code",
   "execution_count": 17,
   "metadata": {
    "id": "Vr5aUPGsSJg0"
   },
   "outputs": [],
   "source": [
    "def get_header(driver):\n",
    "    header = driver.find_element(By.TAG_NAME, \"h1\")\n",
    "    return header.text"
   ]
  },
  {
   "cell_type": "code",
   "execution_count": 18,
   "metadata": {
    "id": "gHJKQU4tYaSS"
   },
   "outputs": [],
   "source": [
    "def get_category(driver):\n",
    "    h1 = driver.find_element(By.XPATH, '/html/body/main/div[1]/div/div/aside/a')\n",
    "    return h1.text"
   ]
  },
  {
   "cell_type": "code",
   "execution_count": 19,
   "metadata": {
    "id": "0AJuNaXcxWDp"
   },
   "outputs": [],
   "source": [
    "def get_line(url0, driver):\n",
    "    driver.get(url0)\n",
    "    website = 'Интерфакс'\n",
    "    section = get_category(driver)\n",
    "    header = get_header(driver)\n",
    "    body = get_text(driver)\n",
    "    date = get_time(driver)\n",
    "    tags = get_tags(driver)\n",
    "    return website, section, url0, header, body, date, tags"
   ]
  },
  {
   "cell_type": "code",
   "execution_count": null,
   "metadata": {
    "colab": {
     "base_uri": "https://localhost:8080/"
    },
    "id": "wLJrUEKZ0Llz",
    "outputId": "befd5685-c9e9-46b9-e3a6-62d0a2722190"
   },
   "outputs": [],
   "source": [
    "dataset = []\n",
    "\n",
    "chrome_options = webdriver.ChromeOptions()\n",
    "chrome_options.add_argument('--headless')\n",
    "chrome_options.add_argument('--no-sandbox')\n",
    "chrome_options.add_argument('--disable-dev-shm-usage')\n",
    "driver = webdriver.Chrome(options=chrome_options)\n",
    "\n",
    "for i in tqdm(range(len(full_urls))):\n",
    "    dataset.append(get_line(full_urls[i], driver))"
   ]
  },
  {
   "cell_type": "code",
   "execution_count": null,
   "metadata": {},
   "outputs": [],
   "source": [
    "df = pd.DataFrame(dataset)\n",
    "df.columns = ['website', 'section', 'url', 'header', 'body', 'date', 'tags']"
   ]
  },
  {
   "cell_type": "code",
   "execution_count": null,
   "metadata": {},
   "outputs": [],
   "source": [
    "df.to_parquet('interfax.parquet')"
   ]
  }
 ],
 "metadata": {
  "colab": {
   "provenance": []
  },
  "kernelspec": {
   "display_name": "Python 3 (ipykernel)",
   "language": "python",
   "name": "python3"
  },
  "language_info": {
   "codemirror_mode": {
    "name": "ipython",
    "version": 3
   },
   "file_extension": ".py",
   "mimetype": "text/x-python",
   "name": "python",
   "nbconvert_exporter": "python",
   "pygments_lexer": "ipython3",
   "version": "3.11.4"
  },
  "toc": {
   "base_numbering": 1,
   "nav_menu": {},
   "number_sections": true,
   "sideBar": true,
   "skip_h1_title": false,
   "title_cell": "Table of Contents",
   "title_sidebar": "Contents",
   "toc_cell": false,
   "toc_position": {},
   "toc_section_display": true,
   "toc_window_display": false
  }
 },
 "nbformat": 4,
 "nbformat_minor": 1
}
