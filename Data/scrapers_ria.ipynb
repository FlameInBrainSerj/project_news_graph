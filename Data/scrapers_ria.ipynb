{
 "cells": [
  {
   "cell_type": "markdown",
   "metadata": {},
   "source": [
    "# [Ria](https://ria.ru/) parse"
   ]
  },
  {
   "cell_type": "code",
   "execution_count": 1,
   "metadata": {
    "colab": {
     "base_uri": "https://localhost:8080/"
    },
    "id": "xwSRzYe00rCv",
    "outputId": "94f5ae56-dc7c-4823-abe1-48c16ccc6aba"
   },
   "outputs": [],
   "source": [
    "from selenium import webdriver\n",
    "from selenium.webdriver.common.by import By\n",
    "import requests\n",
    "import re\n",
    "from datetime import date\n",
    "from dateutil.rrule import rrule, DAILY\n",
    "from bs4 import BeautifulSoup\n",
    "from time import sleep\n",
    "from tqdm import tqdm\n",
    "import random\n",
    "import pandas as pd\n",
    "from selenium import webdriver\n",
    "from selenium.webdriver.chrome.service import Service\n",
    "from selenium.common.exceptions import NoSuchElementException\n"
   ]
  },
  {
   "cell_type": "code",
   "execution_count": 3,
   "metadata": {
    "id": "K-3AAPM2FARY"
   },
   "outputs": [],
   "source": [
    "start_date = date(2019, 1, 1)\n",
    "end_date = date(2023, 12, 31)\n",
    "dates = []\n",
    "for d in rrule(DAILY, dtstart=start_date, until=end_date):\n",
    "    dates.append('https://ria.ru/economy/' + d.strftime(\"%Y%m%d\"))"
   ]
  },
  {
   "cell_type": "code",
   "execution_count": 6,
   "metadata": {
    "colab": {
     "base_uri": "https://localhost:8080/"
    },
    "id": "trlEzLWTFnEc",
    "outputId": "a05d55ed-9f00-4381-fc0a-7f5bf5fc76a9"
   },
   "outputs": [],
   "source": [
    "import math\n",
    "\n",
    "urls = []\n",
    "for n in tqdm(dates):\n",
    "    url = n\n",
    "    page = requests.get(url)\n",
    "    soup = BeautifulSoup(page.text, 'html')\n",
    "    materials = int(\n",
    "        soup.find_all(\n",
    "            'div', {\"class\": \"rubric-count m-active\"})[0].text.split(' ')[0])\n",
    "    pages = math.ceil(materials / 20)\n",
    "    date = url[-8:]\n",
    "    for i in range(1, pages + 1):\n",
    "        page = requests.get(url + '?page={}'.format(i))\n",
    "        soup = BeautifulSoup(page.text, 'html')\n",
    "        urls.extend([\n",
    "            link.get('href') for link in soup.find_all(\n",
    "                'a', {\"class\": \"list-item__title color-font-hover-only\"})\n",
    "            if date in link.get('href')\n",
    "        ])"
   ]
  },
  {
   "cell_type": "code",
   "execution_count": 57,
   "metadata": {
    "id": "3divsYkqIPrj"
   },
   "outputs": [],
   "source": [
    "def get_text(driver):\n",
    "    paragraphs = driver.find_elements(By.CLASS_NAME, \"article__text\")\n",
    "    full_text = '\\n'.join([p.text for p in paragraphs])\n",
    "    return full_text"
   ]
  },
  {
   "cell_type": "code",
   "execution_count": 58,
   "metadata": {
    "id": "E92wg-84MUP4"
   },
   "outputs": [],
   "source": [
    "def get_tags(driver):\n",
    "    try:\n",
    "        tags = driver.find_elements(By.CLASS_NAME, \"article__tags-item\")\n",
    "        return [t.text for t in tags]\n",
    "    except NoSuchElementException:\n",
    "        return None"
   ]
  },
  {
   "cell_type": "code",
   "execution_count": 59,
   "metadata": {
    "id": "1h36xfvEMt8a"
   },
   "outputs": [],
   "source": [
    "def get_time(driver):\n",
    "    time = driver.find_element(By.CLASS_NAME, \"article__info-date\")\n",
    "    return time.text"
   ]
  },
  {
   "cell_type": "code",
   "execution_count": 65,
   "metadata": {
    "id": "Vr5aUPGsSJg0"
   },
   "outputs": [],
   "source": [
    "def get_header(driver):\n",
    "    header = driver.find_element(By.CLASS_NAME, \"article__title\")\n",
    "    return header.text"
   ]
  },
  {
   "cell_type": "code",
   "execution_count": 69,
   "metadata": {
    "id": "gHJKQU4tYaSS"
   },
   "outputs": [],
   "source": [
    "def get_category(driver):\n",
    "    try:\n",
    "        h1 = driver.find_element(By.CLASS_NAME, 'article__supertag-header-title')\n",
    "        return h1.text\n",
    "    except NoSuchElementException:\n",
    "        return \"Экономика\""
   ]
  },
  {
   "cell_type": "code",
   "execution_count": 70,
   "metadata": {
    "id": "0AJuNaXcxWDp"
   },
   "outputs": [],
   "source": [
    "def get_line(url0, driver):\n",
    "    driver.get(url0)\n",
    "    website = 'РИА'\n",
    "    section = get_category(driver)\n",
    "    header = get_header(driver)\n",
    "    body = get_text(driver)\n",
    "    date = get_time(driver)\n",
    "    tags = get_tags(driver)\n",
    "    return website, section, url0, header, body, date, tags"
   ]
  },
  {
   "cell_type": "code",
   "execution_count": null,
   "metadata": {
    "colab": {
     "base_uri": "https://localhost:8080/"
    },
    "id": "wLJrUEKZ0Llz",
    "outputId": "15efe3aa-6229-4f0d-ac58-10301e4cba43"
   },
   "outputs": [],
   "source": [
    "dataset = []\n",
    "chrome_options = webdriver.ChromeOptions()\n",
    "chrome_options.add_argument('--headless')\n",
    "chrome_options.add_argument('--no-sandbox')\n",
    "chrome_options.add_argument('--disable-dev-shm-usage')\n",
    "driver = webdriver.Chrome(chrome_options)\n",
    "for url in tqdm(urls):\n",
    "    dataset.append(get_line(url, driver))\n",
    "driver.close()"
   ]
  },
  {
   "cell_type": "code",
   "execution_count": 74,
   "metadata": {
    "id": "FHqiYiVEodWg"
   },
   "outputs": [],
   "source": [
    "df = pd.DataFrame(dataset)\n",
    "df.columns = ['website', 'section', 'url', 'header', 'body', 'date', 'tags']"
   ]
  },
  {
   "cell_type": "code",
   "execution_count": 76,
   "metadata": {
    "id": "40vtssShqpkE"
   },
   "outputs": [],
   "source": [
    "df.to_parquet('ria.parquet')"
   ]
  }
 ],
 "metadata": {
  "colab": {
   "provenance": []
  },
  "kernelspec": {
   "display_name": "Python 3 (ipykernel)",
   "language": "python",
   "name": "python3"
  },
  "language_info": {
   "codemirror_mode": {
    "name": "ipython",
    "version": 3
   },
   "file_extension": ".py",
   "mimetype": "text/x-python",
   "name": "python",
   "nbconvert_exporter": "python",
   "pygments_lexer": "ipython3",
   "version": "3.11.4"
  },
  "toc": {
   "base_numbering": 1,
   "nav_menu": {},
   "number_sections": true,
   "sideBar": true,
   "skip_h1_title": false,
   "title_cell": "Table of Contents",
   "title_sidebar": "Contents",
   "toc_cell": false,
   "toc_position": {},
   "toc_section_display": true,
   "toc_window_display": false
  }
 },
 "nbformat": 4,
 "nbformat_minor": 1
}
