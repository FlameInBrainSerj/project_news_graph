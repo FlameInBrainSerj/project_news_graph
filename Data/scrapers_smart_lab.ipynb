{
 "cells": [
  {
   "cell_type": "markdown",
   "id": "c6306280",
   "metadata": {},
   "source": [
    "# [Smart-lab](https://smart-lab.ru/news/) parse"
   ]
  },
  {
   "cell_type": "code",
   "execution_count": 5,
   "id": "d0f4b1a6",
   "metadata": {},
   "outputs": [],
   "source": [
    "from selenium import webdriver\n",
    "from selenium.webdriver.support.ui import Select\n",
    "from selenium.webdriver.chrome.options import Options\n",
    "from selenium.webdriver.chrome.service import Service\n",
    "from selenium.webdriver.common.by import By\n",
    "from selenium.webdriver.common.keys import Keys\n",
    "\n",
    "import pandas as pd\n",
    "\n",
    "from datetime import date, timedelta\n",
    "import pickle\n",
    "import time\n",
    "import os \n",
    "from tqdm import tqdm\n",
    "import re"
   ]
  },
  {
   "cell_type": "code",
   "execution_count": 2,
   "id": "dee4311c",
   "metadata": {},
   "outputs": [],
   "source": [
    "# Scraper's options\n",
    "options = Options()\n",
    "\n",
    "# Fully load the page to avoid some problems\n",
    "options.page_load_strategy = 'normal'\n",
    "\n",
    "# To avoid scraper detection and other problems\n",
    "options.add_argument(\"start-maximized\")\n",
    "options.add_argument(\"--disable-blink-features=AutomationControlled\")\n",
    "options.add_argument(\"user-agent=Mozilla/5.0 (X11; Linux x86_64) AppleWebKit/537.36 (KHTML, like Gecko) Chrome/51.0.2704.103 Safari/537.36\")\n",
    "options.add_experimental_option(\"excludeSwitches\", [\"enable-automation\"])\n",
    "options.add_experimental_option('useAutomationExtension', False)\n",
    "options.add_argument(\"--no-sandbox\")\n",
    "options.add_argument(\"--headless\")\n",
    "options.add_argument(\"--disable-gpu\")\n",
    "\n",
    "# Some other features\n",
    "options.add_argument(\"--disable-notifications\")\n",
    "options.add_argument(\"--mute-audio\")\n",
    "options.add_argument('--disable-dev-shm-usage')\n",
    "options.add_argument(\"--headless=new\")"
   ]
  },
  {
   "cell_type": "code",
   "execution_count": 152,
   "id": "86e9dace",
   "metadata": {},
   "outputs": [],
   "source": [
    "# Firstly we want to get all news' links\n",
    "def parse_links_smart_lab(webdriver_options, lst_dates, lst_links):\n",
    "    driver = webdriver.Chrome(options=webdriver_options)\n",
    "    \n",
    "    for i in tqdm(range(len(lst_dates))):\n",
    "        driver.get(f'https://smart-lab.ru/news/date/{lst_dates[i]}')\n",
    "\n",
    "        elements = driver.find_elements(By.XPATH, '//div[@class=\"topic allbloglist\"]//h3//div[@class=\"inside\"]//a')\n",
    "        for element in elements:\n",
    "            lst_links.append(element.get_attribute('href'))\n",
    "\n",
    "        try:\n",
    "            # For each date there is no more than 2 pages\n",
    "            next_page_btn = driver.find_element(By.XPATH, '//*[@id=\"pagination\"]/a[2]')\n",
    "            next_page_btn.click()\n",
    "            time.sleep(1)\n",
    "            elements = driver.find_elements(By.XPATH, '//div[@class=\"topic allbloglist\"]//h3//div[@class=\"inside\"]//a')\n",
    "            for element in elements:\n",
    "                lst_links.append(element.get_attribute('href'))\n",
    "        except:\n",
    "            pass\n",
    "\n",
    "        if i % 364 == 0 and i != 0:\n",
    "            print(len(lst_links))\n",
    "\n",
    "    time.sleep(1)\n",
    "    driver.close()\n",
    "    time.sleep(1)\n",
    "    driver.quit()"
   ]
  },
  {
   "cell_type": "code",
   "execution_count": 6,
   "id": "50d85eae",
   "metadata": {},
   "outputs": [],
   "source": [
    "dates_span = abs((date(2019, 1, 1) - date(2023, 12, 31)).days)\n",
    "dates_lst = [(date(2019, 1, 1) + timedelta(days=i)).strftime('%Y-%m-%d') for i in range(dates_span)]\n",
    "lst_links = []"
   ]
  },
  {
   "cell_type": "code",
   "execution_count": 1,
   "id": "309a54f4",
   "metadata": {},
   "outputs": [],
   "source": [
    "# Collecting the news' links for these dates\n",
    "parse_links_smart_lab(options, dates_lst, lst_links)"
   ]
  },
  {
   "cell_type": "code",
   "execution_count": 161,
   "id": "ee674160",
   "metadata": {},
   "outputs": [],
   "source": [
    "# Checking that we do not have duplicaet links\n",
    "assert len(lst_links) == len(set(lst_links))"
   ]
  },
  {
   "cell_type": "code",
   "execution_count": 2,
   "id": "83c59a84",
   "metadata": {},
   "outputs": [],
   "source": [
    "# Writing links to file to avoid parcing each time\n",
    "with open(r'smart_lab_links.txt', 'w') as file:\n",
    "    for i in range(len(lst_links)):\n",
    "        file.write(\"%s\\n\" % lst_links[i])"
   ]
  },
  {
   "cell_type": "markdown",
   "id": "d9686673",
   "metadata": {},
   "source": [
    "### Output format (columns)\n",
    "1. id (pandas.DF) - default column\n",
    "\n",
    "2. website (where the news were retreived)\n",
    "\n",
    "3. section of the website (where the news were retreived)\n",
    "\n",
    "4. url (of the news)\n",
    "\n",
    "5. header (of the news)\n",
    "\n",
    "6. body (of the news)\n",
    "\n",
    "7. date (of the news)\n",
    "\n",
    "8. tags/key_words (of the news, if there are any)"
   ]
  },
  {
   "cell_type": "markdown",
   "id": "e18e5ea7",
   "metadata": {},
   "source": [
    "### This dataset\n",
    "\n",
    "1. default\n",
    "\n",
    "2. Smart_Lab (same for each url)\n",
    "\n",
    "3. \"Новости компаний и новости по акциям\" (same for each url)\n",
    "\n",
    "4. url (unique for each url)\n",
    "\n",
    "5. header (unique for each url)\n",
    "\n",
    "6. body (unique for each url)\n",
    "\n",
    "7. date (unique for each url)\n",
    "\n",
    "8. tags/key_words (unique for each url)"
   ]
  },
  {
   "cell_type": "code",
   "execution_count": 6,
   "id": "8cc389ac",
   "metadata": {},
   "outputs": [],
   "source": [
    "def parse_news_on_list_of_links(webdriver_options, urls_lst,\n",
    "                                body_lst, header_lst, date_lst,\n",
    "                                key_words_lst, new_urls_lst):\n",
    "    \n",
    "    regex_for_external_links = r'https?:\\/\\/(www\\.)?[-a-zA-Z0-9@:%._\\+~#=]{1,256}\\.[a-zA-Z0-9()]{1,6}\\b([-a-zA-Z0-9()@:%_\\+.~#?&//=]*)'\n",
    "\n",
    "    driver = webdriver.Chrome(options=webdriver_options)\n",
    "    \n",
    "    for i in tqdm(range(len(urls_lst))):\n",
    "        driver.get(urls_lst[i])\n",
    "\n",
    "        body = driver.find_element(By.XPATH, '//div[@id=\"content\"]//div//div[@class=\"content\"]').text\n",
    "        body_without_external_links = re.sub(regex_for_external_links, '', body)\n",
    "        if body_without_external_links.strip() == '':\n",
    "            continue\n",
    "\n",
    "        header = driver.find_element(By.XPATH, '//div[@id=\"content\"]//div//h1//span').text\n",
    "\n",
    "        date = driver.find_element(By.XPATH, '//li[@class=\"date\"]').text\n",
    "        \n",
    "        key_words_phrase = driver.find_element(By.XPATH, '//ul[@class=\"tags\"]')\n",
    "        key_words_paths = key_words_phrase.find_elements(By.XPATH, './/li')\n",
    "        key_words = [key_words_paths[i].text.replace(',','') for i in range(1, len(key_words_paths))]\n",
    "        \n",
    "        body_lst.append(body_without_external_links)\n",
    "        header_lst.append(header)\n",
    "        date_lst.append(date)\n",
    "        key_words_lst.append(key_words)\n",
    "        new_urls_lst.append(urls_lst[i])\n",
    "\n",
    "    time.sleep(1)\n",
    "    driver.close()\n",
    "    time.sleep(1)\n",
    "    driver.quit()"
   ]
  },
  {
   "cell_type": "code",
   "execution_count": 7,
   "id": "6c83349f",
   "metadata": {},
   "outputs": [],
   "source": [
    "urls_lst = []\n",
    "new_urls_lst = []\n",
    "body_lst = []\n",
    "header_lst = []\n",
    "date_lst = []\n",
    "key_words_lst = []\n",
    "\n",
    "# Reading links from the file\n",
    "with open(r'smart_lab_links.txt', 'r') as file:\n",
    "    urls_lst = file.read().splitlines()"
   ]
  },
  {
   "cell_type": "code",
   "execution_count": 3,
   "id": "8b63bfbd",
   "metadata": {},
   "outputs": [],
   "source": [
    "# Parse all links collected\n",
    "parse_news_on_list_of_links(webdriver_options=options,\n",
    "                            urls_lst=urls_lst,\n",
    "                            body_lst=body_lst,\n",
    "                            header_lst=header_lst,\n",
    "                            date_lst=date_lst,\n",
    "                            key_words_lst=key_words_lst, \n",
    "                            new_urls_lst=new_urls_lst)"
   ]
  },
  {
   "cell_type": "code",
   "execution_count": 4,
   "id": "1525628d",
   "metadata": {},
   "outputs": [],
   "source": [
    "# Some additional check\n",
    "print(len(urls_lst), '\\n')\n",
    "\n",
    "print(len(body_lst))\n",
    "print(len(header_lst))\n",
    "print(len(date_lst))\n",
    "print(len(key_words_lst))\n",
    "print(len(new_urls_lst))"
   ]
  },
  {
   "cell_type": "code",
   "execution_count": 10,
   "id": "c0d9bce1",
   "metadata": {},
   "outputs": [],
   "source": [
    "# Create columns with the same values for each url\n",
    "website_lst = ['Smart_Lab' for _ in range(len(body_lst))]\n",
    "section_lst = ['Новости компаний и новости по акциям' for _ in range(len(body_lst))]"
   ]
  },
  {
   "cell_type": "code",
   "execution_count": 11,
   "id": "63cb9ecc",
   "metadata": {},
   "outputs": [],
   "source": [
    "# Crate pandas DataFrame\n",
    "df = pd.DataFrame(\n",
    "    {\n",
    "        'website': website_lst,\n",
    "        'section': section_lst, \n",
    "        'url': new_urls_lst,\n",
    "        'header': header_lst,\n",
    "        'body': body_lst,\n",
    "        'date': date_lst,\n",
    "        'key_words': key_words_lst\n",
    "    }\n",
    ")"
   ]
  },
  {
   "cell_type": "code",
   "execution_count": 13,
   "id": "fe9b58bb",
   "metadata": {},
   "outputs": [],
   "source": [
    "# Save parced data\n",
    "df.to_parquet('smart_labs_parced_data.parquet', index=False)"
   ]
  }
 ],
 "metadata": {
  "kernelspec": {
   "display_name": "Python 3 (ipykernel)",
   "language": "python",
   "name": "python3"
  },
  "language_info": {
   "codemirror_mode": {
    "name": "ipython",
    "version": 3
   },
   "file_extension": ".py",
   "mimetype": "text/x-python",
   "name": "python",
   "nbconvert_exporter": "python",
   "pygments_lexer": "ipython3",
   "version": "3.11.4"
  },
  "toc": {
   "base_numbering": 1,
   "nav_menu": {},
   "number_sections": true,
   "sideBar": true,
   "skip_h1_title": false,
   "title_cell": "Table of Contents",
   "title_sidebar": "Contents",
   "toc_cell": false,
   "toc_position": {},
   "toc_section_display": true,
   "toc_window_display": false
  }
 },
 "nbformat": 4,
 "nbformat_minor": 5
}
