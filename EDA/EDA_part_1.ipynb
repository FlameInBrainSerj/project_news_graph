{
 "cells": [
  {
   "cell_type": "code",
   "execution_count": 7,
   "id": "15133e4a",
   "metadata": {},
   "outputs": [],
   "source": [
    "import numpy as np\n",
    "import pandas as pd\n",
    "import matplotlib.pyplot as plt\n",
    "\n",
    "import psycopg2\n",
    "\n",
    "from tqdm import tqdm"
   ]
  },
  {
   "cell_type": "code",
   "execution_count": 8,
   "id": "966e3985",
   "metadata": {},
   "outputs": [
    {
     "name": "stderr",
     "output_type": "stream",
     "text": [
      "C:\\Users\\Sergey\\AppData\\Local\\Temp\\ipykernel_13612\\1893912237.py:9: UserWarning: pandas only supports SQLAlchemy connectable (engine/connection) or database string URI or sqlite3 DBAPI2 connection. Other DBAPI2 objects are not tested. Please consider using SQLAlchemy.\n",
      "  df = pd.read_sql_query('SELECT * FROM raw_data', conn)\n"
     ]
    }
   ],
   "source": [
    "# Connection details\n",
    "dbname = 'defaultdb'\n",
    "user = 'doadmin'\n",
    "password = 'AVNS_pWw7oK1YPADBn-TRPqp'\n",
    "host = 'db-postgresql-fra1-12797-do-user-8775628-0.c.db.ondigitalocean.com'\n",
    "port = '25060'\n",
    "\n",
    "conn = psycopg2.connect(f\"dbname={dbname} user={user} password={password} host={host} port={port}\")\n",
    "df = pd.read_sql_query('SELECT * FROM raw_data', conn)\n",
    "conn.close()"
   ]
  },
  {
   "cell_type": "markdown",
   "id": "ec5879ed",
   "metadata": {},
   "source": [
    "## Main"
   ]
  },
  {
   "cell_type": "code",
   "execution_count": 16,
   "id": "75c6ae2a",
   "metadata": {},
   "outputs": [
    {
     "name": "stdout",
     "output_type": "stream",
     "text": [
      "(45721, 8)\n"
     ]
    },
    {
     "data": {
      "text/html": [
       "<div>\n",
       "<style scoped>\n",
       "    .dataframe tbody tr th:only-of-type {\n",
       "        vertical-align: middle;\n",
       "    }\n",
       "\n",
       "    .dataframe tbody tr th {\n",
       "        vertical-align: top;\n",
       "    }\n",
       "\n",
       "    .dataframe thead th {\n",
       "        text-align: right;\n",
       "    }\n",
       "</style>\n",
       "<table border=\"1\" class=\"dataframe\">\n",
       "  <thead>\n",
       "    <tr style=\"text-align: right;\">\n",
       "      <th></th>\n",
       "      <th>id</th>\n",
       "      <th>website</th>\n",
       "      <th>section</th>\n",
       "      <th>url</th>\n",
       "      <th>header</th>\n",
       "      <th>body</th>\n",
       "      <th>date</th>\n",
       "      <th>tags</th>\n",
       "    </tr>\n",
       "  </thead>\n",
       "  <tbody>\n",
       "    <tr>\n",
       "      <th>0</th>\n",
       "      <td>1</td>\n",
       "      <td>Интерфакс</td>\n",
       "      <td>В РОССИИ</td>\n",
       "      <td>https://www.interfax.ru/russia/879448</td>\n",
       "      <td>Банки РФ с 2023 года начнут выходить из регуля...</td>\n",
       "      <td>Москва. 1 января. INTERFAX.RU - Банк России с ...</td>\n",
       "      <td>07:03, 1 января 2023</td>\n",
       "      <td>[\"Россия\", \"банки\", \"послабления\", \"отмена\"]</td>\n",
       "    </tr>\n",
       "    <tr>\n",
       "      <th>1</th>\n",
       "      <td>2</td>\n",
       "      <td>Интерфакс</td>\n",
       "      <td>В РОССИИ</td>\n",
       "      <td>https://www.interfax.ru/russia/879447</td>\n",
       "      <td>Запрет на раскрытие информации для банков в РФ...</td>\n",
       "      <td>Москва. 1 января. INTERFAX.RU - Банк России пр...</td>\n",
       "      <td>06:23, 1 января 2023</td>\n",
       "      <td>[\"Россия\", \"банки\", \"отчетность\", \"раскрытие\"]</td>\n",
       "    </tr>\n",
       "    <tr>\n",
       "      <th>2</th>\n",
       "      <td>3</td>\n",
       "      <td>Интерфакс</td>\n",
       "      <td>В РОССИИ</td>\n",
       "      <td>https://www.interfax.ru/russia/879440</td>\n",
       "      <td>Расширен перечень налоговых льгот для резидент...</td>\n",
       "      <td>Москва. 1 января. INTERFAX.RU - Резиденты росс...</td>\n",
       "      <td>05:08, 1 января 2023</td>\n",
       "      <td>[\"Россия\", \"налоги\", \"ставки\", \"САР\"]</td>\n",
       "    </tr>\n",
       "    <tr>\n",
       "      <th>3</th>\n",
       "      <td>4</td>\n",
       "      <td>Интерфакс</td>\n",
       "      <td>В РОССИИ</td>\n",
       "      <td>https://www.interfax.ru/russia/879436</td>\n",
       "      <td>С 1 января будет взиматься пошлина при экспорт...</td>\n",
       "      <td>Москва. 1 января. INTERFAX.RU - Пошлина при эк...</td>\n",
       "      <td>04:10, 1 января 2023</td>\n",
       "      <td>[\"Россия\", \"топливо\", \"демпфер\", \"пошлина\"]</td>\n",
       "    </tr>\n",
       "    <tr>\n",
       "      <th>4</th>\n",
       "      <td>5</td>\n",
       "      <td>Интерфакс</td>\n",
       "      <td>В РОССИИ</td>\n",
       "      <td>https://www.interfax.ru/russia/879434</td>\n",
       "      <td>Пошлина на экспорт подсолнечного масла из РФ в...</td>\n",
       "      <td>На шрот - вырастет почти в 23 раза\\nМосква. 1 ...</td>\n",
       "      <td>04:05, 1 января 2023</td>\n",
       "      <td>[\"Россия\", \"экспорт\", \"масло\", \"пошлина\"]</td>\n",
       "    </tr>\n",
       "  </tbody>\n",
       "</table>\n",
       "</div>"
      ],
      "text/plain": [
       "   id    website   section                                    url  \\\n",
       "0   1  Интерфакс  В РОССИИ  https://www.interfax.ru/russia/879448   \n",
       "1   2  Интерфакс  В РОССИИ  https://www.interfax.ru/russia/879447   \n",
       "2   3  Интерфакс  В РОССИИ  https://www.interfax.ru/russia/879440   \n",
       "3   4  Интерфакс  В РОССИИ  https://www.interfax.ru/russia/879436   \n",
       "4   5  Интерфакс  В РОССИИ  https://www.interfax.ru/russia/879434   \n",
       "\n",
       "                                              header  \\\n",
       "0  Банки РФ с 2023 года начнут выходить из регуля...   \n",
       "1  Запрет на раскрытие информации для банков в РФ...   \n",
       "2  Расширен перечень налоговых льгот для резидент...   \n",
       "3  С 1 января будет взиматься пошлина при экспорт...   \n",
       "4  Пошлина на экспорт подсолнечного масла из РФ в...   \n",
       "\n",
       "                                                body                  date  \\\n",
       "0  Москва. 1 января. INTERFAX.RU - Банк России с ...  07:03, 1 января 2023   \n",
       "1  Москва. 1 января. INTERFAX.RU - Банк России пр...  06:23, 1 января 2023   \n",
       "2  Москва. 1 января. INTERFAX.RU - Резиденты росс...  05:08, 1 января 2023   \n",
       "3  Москва. 1 января. INTERFAX.RU - Пошлина при эк...  04:10, 1 января 2023   \n",
       "4  На шрот - вырастет почти в 23 раза\\nМосква. 1 ...  04:05, 1 января 2023   \n",
       "\n",
       "                                             tags  \n",
       "0    [\"Россия\", \"банки\", \"послабления\", \"отмена\"]  \n",
       "1  [\"Россия\", \"банки\", \"отчетность\", \"раскрытие\"]  \n",
       "2           [\"Россия\", \"налоги\", \"ставки\", \"САР\"]  \n",
       "3     [\"Россия\", \"топливо\", \"демпфер\", \"пошлина\"]  \n",
       "4       [\"Россия\", \"экспорт\", \"масло\", \"пошлина\"]  "
      ]
     },
     "execution_count": 16,
     "metadata": {},
     "output_type": "execute_result"
    }
   ],
   "source": [
    "print(df.shape)\n",
    "df.head()"
   ]
  },
  {
   "cell_type": "code",
   "execution_count": null,
   "id": "2a6fa265",
   "metadata": {},
   "outputs": [],
   "source": []
  },
  {
   "cell_type": "code",
   "execution_count": null,
   "id": "661ad7a1",
   "metadata": {},
   "outputs": [],
   "source": []
  },
  {
   "cell_type": "markdown",
   "id": "9fea794f",
   "metadata": {},
   "source": [
    "> __Выводы:__ <выводы>"
   ]
  },
  {
   "cell_type": "markdown",
   "id": "3e04992a",
   "metadata": {},
   "source": [
    "## Body"
   ]
  },
  {
   "cell_type": "code",
   "execution_count": null,
   "id": "00d83513",
   "metadata": {},
   "outputs": [],
   "source": []
  },
  {
   "cell_type": "code",
   "execution_count": null,
   "id": "bcb841b5",
   "metadata": {},
   "outputs": [],
   "source": []
  },
  {
   "cell_type": "code",
   "execution_count": null,
   "id": "f59a23d6",
   "metadata": {},
   "outputs": [],
   "source": []
  },
  {
   "cell_type": "markdown",
   "id": "1a06f34f",
   "metadata": {},
   "source": [
    "> __Выводы:__ <выводы>"
   ]
  },
  {
   "cell_type": "markdown",
   "id": "fadeed26",
   "metadata": {},
   "source": [
    "# Section"
   ]
  },
  {
   "cell_type": "code",
   "execution_count": null,
   "id": "694866b9",
   "metadata": {},
   "outputs": [],
   "source": []
  },
  {
   "cell_type": "code",
   "execution_count": null,
   "id": "470e0f25",
   "metadata": {},
   "outputs": [],
   "source": []
  },
  {
   "cell_type": "code",
   "execution_count": null,
   "id": "fa75e705",
   "metadata": {},
   "outputs": [],
   "source": []
  },
  {
   "cell_type": "markdown",
   "id": "e5e80ec6",
   "metadata": {},
   "source": [
    "> __Выводы:__ <выводы>"
   ]
  },
  {
   "cell_type": "markdown",
   "id": "e180d7a1",
   "metadata": {},
   "source": [
    "## Header"
   ]
  },
  {
   "cell_type": "code",
   "execution_count": null,
   "id": "7564bb37",
   "metadata": {},
   "outputs": [],
   "source": []
  },
  {
   "cell_type": "code",
   "execution_count": null,
   "id": "5d1c6ea5",
   "metadata": {},
   "outputs": [],
   "source": []
  },
  {
   "cell_type": "code",
   "execution_count": null,
   "id": "fec78da1",
   "metadata": {},
   "outputs": [],
   "source": []
  },
  {
   "cell_type": "markdown",
   "id": "4e2f25a2",
   "metadata": {},
   "source": [
    "> __Выводы:__ <выводы>"
   ]
  }
 ],
 "metadata": {
  "kernelspec": {
   "display_name": "Python 3 (ipykernel)",
   "language": "python",
   "name": "python3"
  },
  "language_info": {
   "codemirror_mode": {
    "name": "ipython",
    "version": 3
   },
   "file_extension": ".py",
   "mimetype": "text/x-python",
   "name": "python",
   "nbconvert_exporter": "python",
   "pygments_lexer": "ipython3",
   "version": "3.11.4"
  }
 },
 "nbformat": 4,
 "nbformat_minor": 5
}
