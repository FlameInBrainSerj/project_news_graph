{
 "cells": [
  {
   "cell_type": "markdown",
   "id": "bc84161a",
   "metadata": {},
   "source": [
    "# Main"
   ]
  },
  {
   "cell_type": "code",
   "execution_count": 28,
   "id": "b78de607",
   "metadata": {},
   "outputs": [],
   "source": [
    "import numpy as np\n",
    "import pandas as pd\n",
    "import matplotlib.pyplot as plt\n",
    "from sqlalchemy import create_engine\n",
    "\n",
    "import re\n",
    "from tqdm import tqdm\n",
    "import requests\n",
    "import datetime\n",
    "import time\n",
    "from collections import Counter\n",
    "from random import uniform, randint\n",
    "import warnings\n",
    "\n",
    "warnings.filterwarnings('ignore')\n",
    "\n",
    "from nltk.corpus import stopwords\n",
    "from nltk.tokenize import word_tokenize\n",
    "from natasha import (Segmenter, MorphVocab, NewsEmbedding, NewsMorphTagger,\n",
    "                     NewsNERTagger, Doc)\n",
    "\n",
    "from sklearn.utils.class_weight import compute_class_weight\n",
    "from sklearn.model_selection import train_test_split\n",
    "from sklearn.metrics import (ConfusionMatrixDisplay, confusion_matrix,\n",
    "                             f1_score, classification_report)\n",
    "\n",
    "from keras.preprocessing.text import Tokenizer\n",
    "from keras.preprocessing.sequence import pad_sequences\n",
    "from keras.layers import Embedding, LSTM, Dense\n",
    "from keras.models import Sequential\n",
    "import tensorflow as tf\n",
    "import tensorflow_addons as tfa\n",
    "import keras"
   ]
  },
  {
   "cell_type": "code",
   "execution_count": 2,
   "id": "c130bd25",
   "metadata": {},
   "outputs": [],
   "source": [
    "username = '...'\n",
    "password = '...'\n",
    "host = '...'\n",
    "port = '...'\n",
    "database = '...'\n",
    "conn_string = f'postgresql://{username}:{password}@{host}:{port}/{database}'"
   ]
  },
  {
   "cell_type": "code",
   "execution_count": 5,
   "id": "1663883d",
   "metadata": {},
   "outputs": [
    {
     "name": "stdout",
     "output_type": "stream",
     "text": [
      "(7542, 9)\n"
     ]
    },
    {
     "data": {
      "text/html": [
       "<div>\n",
       "<style scoped>\n",
       "    .dataframe tbody tr th:only-of-type {\n",
       "        vertical-align: middle;\n",
       "    }\n",
       "\n",
       "    .dataframe tbody tr th {\n",
       "        vertical-align: top;\n",
       "    }\n",
       "\n",
       "    .dataframe thead th {\n",
       "        text-align: right;\n",
       "    }\n",
       "</style>\n",
       "<table border=\"1\" class=\"dataframe\">\n",
       "  <thead>\n",
       "    <tr style=\"text-align: right;\">\n",
       "      <th></th>\n",
       "      <th>website</th>\n",
       "      <th>section</th>\n",
       "      <th>url</th>\n",
       "      <th>header</th>\n",
       "      <th>body</th>\n",
       "      <th>tags</th>\n",
       "      <th>body_length</th>\n",
       "      <th>datetime</th>\n",
       "      <th>company</th>\n",
       "    </tr>\n",
       "  </thead>\n",
       "  <tbody>\n",
       "    <tr>\n",
       "      <th>0</th>\n",
       "      <td>РИА</td>\n",
       "      <td>Экономика</td>\n",
       "      <td>https://ria.ru/20230103/banki-1842907991.html</td>\n",
       "      <td>Эксперт рассказал о развитии исламского банкин...</td>\n",
       "      <td>Порядка 10-15 филиалов исламского банкинга м...</td>\n",
       "      <td>['Экономика', 'Россия', 'Сбербанк России']</td>\n",
       "      <td>1759</td>\n",
       "      <td>2023-01-03 10:16:00</td>\n",
       "      <td>SBER</td>\n",
       "    </tr>\n",
       "    <tr>\n",
       "      <th>1</th>\n",
       "      <td>РИА</td>\n",
       "      <td>Экономика</td>\n",
       "      <td>https://ria.ru/20230103/gazprom-1842940413.html</td>\n",
       "      <td>Экспорт \"Газпрома\" снизился до минимума с конц...</td>\n",
       "      <td>Объём экспорта \"Газпрома\" в прошедшем году с...</td>\n",
       "      <td>['Экономика', 'Газпром', 'Россия']</td>\n",
       "      <td>1299</td>\n",
       "      <td>2023-01-03 14:22:00</td>\n",
       "      <td>GAZP</td>\n",
       "    </tr>\n",
       "    <tr>\n",
       "      <th>2</th>\n",
       "      <td>РИА</td>\n",
       "      <td>Экономика</td>\n",
       "      <td>https://ria.ru/20230104/shelf-1843063413.html</td>\n",
       "      <td>Ямальской шельфовой компании предоставили два ...</td>\n",
       "      <td>Правительство РФ предоставило Ямальской шель...</td>\n",
       "      <td>['Экономика', 'Карское море', 'Россия']</td>\n",
       "      <td>1719</td>\n",
       "      <td>2023-01-04 16:36:00</td>\n",
       "      <td>ROSN</td>\n",
       "    </tr>\n",
       "    <tr>\n",
       "      <th>3</th>\n",
       "      <td>Интерфакс</td>\n",
       "      <td>ЭКОНОМИКА</td>\n",
       "      <td>https://www.interfax.ru/business/879947</td>\n",
       "      <td>\"Соллерс\" возобновил после новогодних каникул ...</td>\n",
       "      <td>- Российская автомобилестроительная группа \"...</td>\n",
       "      <td>['Соллерс', 'Соллерс Алабуга', 'Татарстан']</td>\n",
       "      <td>2243</td>\n",
       "      <td>2023-01-09 12:28:00</td>\n",
       "      <td>SVAV</td>\n",
       "    </tr>\n",
       "    <tr>\n",
       "      <th>4</th>\n",
       "      <td>Kommersant</td>\n",
       "      <td>Фондовый рынок</td>\n",
       "      <td>https://www.kommersant.ru/doc/5757640</td>\n",
       "      <td>Нестабильный рост</td>\n",
       "      <td>Минувший год запомнится инвесторам как время с...</td>\n",
       "      <td>None</td>\n",
       "      <td>12414</td>\n",
       "      <td>2023-01-06 10:02:00</td>\n",
       "      <td>SBER</td>\n",
       "    </tr>\n",
       "  </tbody>\n",
       "</table>\n",
       "</div>"
      ],
      "text/plain": [
       "      website         section  \\\n",
       "0         РИА       Экономика   \n",
       "1         РИА       Экономика   \n",
       "2         РИА       Экономика   \n",
       "3   Интерфакс       ЭКОНОМИКА   \n",
       "4  Kommersant  Фондовый рынок   \n",
       "\n",
       "                                               url  \\\n",
       "0    https://ria.ru/20230103/banki-1842907991.html   \n",
       "1  https://ria.ru/20230103/gazprom-1842940413.html   \n",
       "2    https://ria.ru/20230104/shelf-1843063413.html   \n",
       "3          https://www.interfax.ru/business/879947   \n",
       "4            https://www.kommersant.ru/doc/5757640   \n",
       "\n",
       "                                              header  \\\n",
       "0  Эксперт рассказал о развитии исламского банкин...   \n",
       "1  Экспорт \"Газпрома\" снизился до минимума с конц...   \n",
       "2  Ямальской шельфовой компании предоставили два ...   \n",
       "3  \"Соллерс\" возобновил после новогодних каникул ...   \n",
       "4                                  Нестабильный рост   \n",
       "\n",
       "                                                body  \\\n",
       "0    Порядка 10-15 филиалов исламского банкинга м...   \n",
       "1    Объём экспорта \"Газпрома\" в прошедшем году с...   \n",
       "2    Правительство РФ предоставило Ямальской шель...   \n",
       "3    - Российская автомобилестроительная группа \"...   \n",
       "4  Минувший год запомнится инвесторам как время с...   \n",
       "\n",
       "                                          tags  body_length  \\\n",
       "0   ['Экономика', 'Россия', 'Сбербанк России']         1759   \n",
       "1           ['Экономика', 'Газпром', 'Россия']         1299   \n",
       "2      ['Экономика', 'Карское море', 'Россия']         1719   \n",
       "3  ['Соллерс', 'Соллерс Алабуга', 'Татарстан']         2243   \n",
       "4                                         None        12414   \n",
       "\n",
       "             datetime company  \n",
       "0 2023-01-03 10:16:00    SBER  \n",
       "1 2023-01-03 14:22:00    GAZP  \n",
       "2 2023-01-04 16:36:00    ROSN  \n",
       "3 2023-01-09 12:28:00    SVAV  \n",
       "4 2023-01-06 10:02:00    SBER  "
      ]
     },
     "execution_count": 5,
     "metadata": {},
     "output_type": "execute_result"
    }
   ],
   "source": [
    "db = create_engine(conn_string) \n",
    "conn = db.connect() \n",
    "conn.autocommit = True\n",
    "companies_df = pd.read_sql_query('SELECT * FROM data.companies_tickets;', conn)\n",
    "conn.close()\n",
    "\n",
    "print(companies_df.shape)\n",
    "companies_df.head()"
   ]
  },
  {
   "cell_type": "markdown",
   "id": "7b5f4094",
   "metadata": {},
   "source": [
    "# Get data for different deltas"
   ]
  },
  {
   "cell_type": "code",
   "execution_count": 6,
   "id": "986291f9",
   "metadata": {},
   "outputs": [],
   "source": [
    "# To send get requests consequently in time\n",
    "companies_df = companies_df.sort_values(by=['datetime'])"
   ]
  },
  {
   "cell_type": "code",
   "execution_count": 17,
   "id": "8c774804",
   "metadata": {},
   "outputs": [],
   "source": [
    "companies_string = 'http://iss.moex.com/iss/engines/stock/markets/shares/securities/{}/candles.json?from={}&till={}&interval=1'\n",
    "companies_df['price_release'] = np.nan\n",
    "time_deltas = [5, 10, 15, 30, 45, 60, 75, 90]\n",
    "\n",
    "for timedelta in tqdm(time_deltas, total=len(time_deltas)):\n",
    "    companies_df[f'price_lag_{timedelta}'] = np.nan\n",
    "\n",
    "    for i in range(len(companies_df)):\n",
    "        start = companies_df['datetime'][i]\n",
    "        end = companies_df['datetime'][i] + datetime.timedelta(minutes=timedelta)\n",
    "        company = companies_df['company'][i]\n",
    "        connect_timeout = 300\n",
    "        read_timeout = 120\n",
    "        n = requests.get(companies_string.format(company, start, end), timeout=(connect_timeout, read_timeout)).json()\n",
    "        try:\n",
    "            companies_df.loc[i, 'price_release'] = n['candles']['data'][0][0]\n",
    "            companies_df.loc[i, f'price_lag_{timedelta}'] = n['candles']['data'][-1][0]\n",
    "        except IndexError:\n",
    "            continue\n",
    "    #     if i % randint() == 0:\n",
    "    #         delay = uniform(5, 10)\n",
    "    #         time.sleep(delay)"
   ]
  },
  {
   "cell_type": "code",
   "execution_count": 35,
   "id": "f22d6fed",
   "metadata": {},
   "outputs": [],
   "source": [
    "companies_df = companies_df[companies_df['price_release'].notna()]\n",
    "companies_df.to_csv(f'deltas_test.csv', index=False)"
   ]
  },
  {
   "cell_type": "code",
   "execution_count": 66,
   "id": "d2a09cc9",
   "metadata": {},
   "outputs": [],
   "source": [
    "companies_df = pd.read_csv('deltas_test.csv')\n",
    "\n",
    "# For convinience (in fact, does not make difference)\n",
    "companies_df = companies_df.drop(['tags'], axis=1).dropna()\n",
    "companies_df.reset_index(inplace=True)"
   ]
  },
  {
   "cell_type": "markdown",
   "id": "e6a0e9b0",
   "metadata": {},
   "source": [
    "# Text preprocessing"
   ]
  },
  {
   "cell_type": "markdown",
   "id": "51f1c055",
   "metadata": {},
   "source": [
    "## Setup"
   ]
  },
  {
   "cell_type": "code",
   "execution_count": 70,
   "id": "35457b18",
   "metadata": {},
   "outputs": [],
   "source": [
    "additional_stopwords = [\n",
    "    'которых', 'которые', 'твой', 'которой', 'которого', 'сих', 'ком', 'свой',\n",
    "    'твоя', 'этими', 'слишком', 'нами', 'всему', 'будь', 'саму', 'чаще',\n",
    "    'ваше', 'сами', 'наш', 'затем', 'самих', 'наши', 'ту', 'каждое', 'мочь',\n",
    "    'весь', 'этим', 'наша', 'своих', 'оба', 'который', 'зато', 'те', 'этих',\n",
    "    'вся', 'ваш', 'такая', 'теми', 'ею', 'которая', 'нередко', 'каждая',\n",
    "    'также', 'чему', 'собой', 'самими', 'нем', 'вами', 'ими', 'откуда',\n",
    "    'такие', 'тому', 'та', 'очень', 'сама', 'нему', 'алло', 'оно', 'этому',\n",
    "    'кому', 'тобой', 'таки', 'твоё', 'каждые', 'твои', 'нею', 'самим', 'ваши',\n",
    "    'ваша', 'кем', 'мои', 'однако', 'сразу', 'свое', 'ними', 'всё', 'неё',\n",
    "    'тех', 'хотя', 'всем', 'тобою', 'тебе', 'одной', 'другие', 'само', 'эта',\n",
    "    'самой', 'моё', 'своей', 'такое', 'всею', 'будут', 'своего', 'кого',\n",
    "    'свои', 'мог', 'нам', 'особенно', 'её', 'самому', 'наше', 'кроме',\n",
    "    'вообще', 'вон', 'мною', 'никто', 'это'\n",
    "]\n",
    "\n",
    "stop_words = stopwords.words('russian') + additional_stopwords"
   ]
  },
  {
   "cell_type": "code",
   "execution_count": 71,
   "id": "9282812b",
   "metadata": {},
   "outputs": [],
   "source": [
    "# Natasha <3\n",
    "segmenter = Segmenter()\n",
    "morph_vocab = MorphVocab()\n",
    "\n",
    "emb = NewsEmbedding()\n",
    "morph_tagger = NewsMorphTagger(emb)\n",
    "\n",
    "ner_tagger = NewsNERTagger(emb)"
   ]
  },
  {
   "cell_type": "code",
   "execution_count": 72,
   "id": "c86fd38a",
   "metadata": {},
   "outputs": [],
   "source": [
    "del_n = re.compile('\\n')\n",
    "del_tags = re.compile('<[^>]*>')\n",
    "del_brackets = re.compile('\\([^)]*\\)')\n",
    "clean_text = re.compile('[^а-яa-z\\s]')\n",
    "del_spaces = re.compile('\\s{2,}')\n",
    "\n",
    "\n",
    "def prepare_text(text):\n",
    "    text = del_n.sub(' ', str(text).lower())\n",
    "    text = del_tags.sub('', text)\n",
    "    text = del_brackets.sub('', text)\n",
    "    res_text = clean_text.sub('', text)\n",
    "    return del_spaces.sub(' ', res_text)\n",
    "\n",
    "\n",
    "def del_stopwords(text):\n",
    "    clean_tokens = tuple(\n",
    "        map(lambda x: x if x not in stop_words else '', word_tokenize(text)))\n",
    "    res_text = ' '.join(clean_tokens)\n",
    "    return res_text\n",
    "\n",
    "\n",
    "def lemmatize(text):\n",
    "    text = Doc(text)\n",
    "    text.segment(segmenter)\n",
    "    text.tag_morph(morph_tagger)\n",
    "    for token in text.tokens:\n",
    "        token.lemmatize(morph_vocab)\n",
    "    text.tag_ner(ner_tagger)\n",
    "    for span in text.spans:\n",
    "        span.normalize(morph_vocab)\n",
    "    return ' '.join([token.lemma for token in text.tokens])"
   ]
  },
  {
   "cell_type": "code",
   "execution_count": 73,
   "id": "40f44779",
   "metadata": {},
   "outputs": [],
   "source": [
    "def preprocess_and_save(df, save_name):\n",
    "    txt_lst = []\n",
    "    txts = df.body.copy()\n",
    "\n",
    "    for text in tqdm(txts):\n",
    "        text = prepare_text(text)\n",
    "        text = del_stopwords(text)\n",
    "        text = lemmatize(text)\n",
    "        txt_lst.append(text)\n",
    "    \n",
    "    # Save locally file with preprocessed texts (for convenience)\n",
    "    df_safe = pd.concat(\n",
    "        [df, pd.DataFrame(txt_lst, columns=['text_clear'])], axis=1)\n",
    "\n",
    "    df_safe.to_csv(f'deltas_test_{save_name}.csv', index=False)"
   ]
  },
  {
   "cell_type": "code",
   "execution_count": 74,
   "id": "cb97c82e",
   "metadata": {},
   "outputs": [],
   "source": [
    "def define_classes(df, main_col, class_col, p=0.05):\n",
    "    df_ret = df.copy()\n",
    "\n",
    "    q_l = df_ret[main_col].quantile(p)\n",
    "    q_u = df_ret[main_col].quantile(1 - p)\n",
    "\n",
    "    df_ret[class_col] = 1\n",
    "    df_ret.loc[df_ret[main_col] <= q_l, class_col] = 0\n",
    "    df_ret.loc[df_ret[main_col] >= q_u, class_col] = 2\n",
    "\n",
    "    print(df_ret[class_col].value_counts())\n",
    "    \n",
    "    return df_ret"
   ]
  },
  {
   "cell_type": "markdown",
   "id": "47da2b68",
   "metadata": {},
   "source": [
    "## Preprocessing"
   ]
  },
  {
   "cell_type": "code",
   "execution_count": 75,
   "id": "96df00b1",
   "metadata": {},
   "outputs": [
    {
     "name": "stderr",
     "output_type": "stream",
     "text": [
      "100%|██████████████████████████████████████████████| 6934/6934 [09:20<00:00, 12.38it/s]\n"
     ]
    }
   ],
   "source": [
    "preprocess_and_save(companies_df, 'comp')"
   ]
  },
  {
   "cell_type": "code",
   "execution_count": 80,
   "id": "f7b7bbe3",
   "metadata": {},
   "outputs": [],
   "source": [
    "df_comp = pd.read_csv('deltas_test_comp.csv')\n",
    "\n",
    "for i, text in enumerate(df_comp.text_clear):\n",
    "    df_comp.loc[i, 'text_clear'] = prepare_text(text).strip()"
   ]
  },
  {
   "cell_type": "markdown",
   "id": "6a106200",
   "metadata": {},
   "source": [
    "# Models testing with different deltas"
   ]
  },
  {
   "cell_type": "markdown",
   "id": "accc3e09",
   "metadata": {},
   "source": [
    "## Setup"
   ]
  },
  {
   "cell_type": "code",
   "execution_count": 82,
   "id": "ee83e83c",
   "metadata": {},
   "outputs": [
    {
     "name": "stdout",
     "output_type": "stream",
     "text": [
      "price_diff_cat_5\n",
      "1    6240\n",
      "0     347\n",
      "2     347\n",
      "Name: count, dtype: int64\n",
      "price_diff_cat_10\n",
      "1    6240\n",
      "0     347\n",
      "2     347\n",
      "Name: count, dtype: int64\n",
      "price_diff_cat_15\n",
      "1    6240\n",
      "2     347\n",
      "0     347\n",
      "Name: count, dtype: int64\n",
      "price_diff_cat_30\n",
      "1    6240\n",
      "2     347\n",
      "0     347\n",
      "Name: count, dtype: int64\n",
      "price_diff_cat_45\n",
      "1    6240\n",
      "2     347\n",
      "0     347\n",
      "Name: count, dtype: int64\n",
      "price_diff_cat_60\n",
      "1    6240\n",
      "0     347\n",
      "2     347\n",
      "Name: count, dtype: int64\n",
      "price_diff_cat_75\n",
      "1    6240\n",
      "2     347\n",
      "0     347\n",
      "Name: count, dtype: int64\n",
      "price_diff_cat_90\n",
      "1    6240\n",
      "2     347\n",
      "0     347\n",
      "Name: count, dtype: int64\n"
     ]
    }
   ],
   "source": [
    "for timedelta in time_deltas:\n",
    "    df_comp[f'price_diff_{timedelta}'] = df_comp[f'price_lag_{timedelta}'] - df_comp['price_release']\n",
    "    df_comp[f'price_diff_percent_{timedelta}'] = df_comp[f'price_diff_{timedelta}'] / df_comp['price_release'] * 100\n",
    "    \n",
    "    df_comp = define_classes(df_comp, f'price_diff_percent_{timedelta}', f'price_diff_cat_{timedelta}', 0.05)"
   ]
  },
  {
   "cell_type": "code",
   "execution_count": 111,
   "id": "f8788c88",
   "metadata": {},
   "outputs": [],
   "source": [
    "def model_my_lstm_fit_predict(y, X, epochs=20):\n",
    "    texts = X.copy()\n",
    "    labels = y.copy()\n",
    "\n",
    "    X_train, X_test, y_train, y_test = train_test_split(texts,\n",
    "                                                        labels,\n",
    "                                                        random_state=42,\n",
    "                                                        test_size=0.25,\n",
    "                                                        stratify=labels)\n",
    "\n",
    "    max_words = 10000  # max number of words to use in the vocabulary\n",
    "    max_len = 500  # max length of each text (in terms of number of words)\n",
    "    embedding_dim = 500  # dimension of word embeddings\n",
    "    lstm_units = 32  # number of units in the LSTM layer\n",
    "    num_classes = len(set(labels))  # number of classes\n",
    "\n",
    "    tokenizer = Tokenizer(num_words=max_words)\n",
    "    tokenizer.fit_on_texts(X_train)\n",
    "\n",
    "    sequences_train = tokenizer.texts_to_sequences(X_train)\n",
    "    sequences_test = tokenizer.texts_to_sequences(X_test)\n",
    "\n",
    "    X_train = pad_sequences(sequences_train, maxlen=max_len)\n",
    "    X_test = pad_sequences(sequences_test, maxlen=max_len)\n",
    "\n",
    "    y_train = pd.get_dummies(y_train).values\n",
    "    y_test = pd.get_dummies(y_test).values\n",
    "\n",
    "    keras.backend.clear_session()\n",
    "\n",
    "    model = Sequential()\n",
    "    model.add(Embedding(max_words, embedding_dim, input_length=max_len))\n",
    "    model.add(LSTM(lstm_units))\n",
    "    model.add(Dense(num_classes, activation='softmax'))\n",
    "\n",
    "    model.compile(loss='categorical_crossentropy',\n",
    "                  optimizer=tf.keras.optimizers.Adam(clipvalue=0.7),\n",
    "                  metrics=[tfa.metrics.F1Score(num_classes=num_classes)])\n",
    "\n",
    "    scheduler = keras.callbacks.LearningRateScheduler(\n",
    "        tf.keras.optimizers.schedules.ExponentialDecay(\n",
    "            initial_learning_rate=6e-5, decay_rate=0.85, decay_steps=100))\n",
    "\n",
    "    weights = compute_class_weight(class_weight='balanced',\n",
    "                                   classes=np.unique(labels),\n",
    "                                   y=labels)\n",
    "\n",
    "    weights = {i: weight for i, weight in enumerate(weights)}\n",
    "\n",
    "    model.fit(X_train,\n",
    "              y_train,\n",
    "              batch_size=32,\n",
    "              epochs=epochs,\n",
    "              callbacks=[scheduler],\n",
    "              class_weight=weights,\n",
    "              validation_data=(X_test, y_test))\n",
    "\n",
    "    return model"
   ]
  },
  {
   "cell_type": "markdown",
   "id": "2a00917b",
   "metadata": {},
   "source": [
    "## time_delta==5"
   ]
  },
  {
   "cell_type": "code",
   "execution_count": 112,
   "id": "03aa8af7",
   "metadata": {},
   "outputs": [
    {
     "name": "stdout",
     "output_type": "stream",
     "text": [
      "Epoch 1/20\n",
      "163/163 [==============================] - 85s 501ms/step - loss: 1.0973 - f1_score: 0.3173 - val_loss: 1.0771 - val_f1_score: 0.3498 - lr: 6.0000e-05\n",
      "Epoch 2/20\n",
      "163/163 [==============================] - 83s 508ms/step - loss: 1.0821 - f1_score: 0.4648 - val_loss: 1.0544 - val_f1_score: 0.3658 - lr: 5.9903e-05\n",
      "Epoch 3/20\n",
      "163/163 [==============================] - 90s 551ms/step - loss: 1.0544 - f1_score: 0.5493 - val_loss: 0.9451 - val_f1_score: 0.3983 - lr: 5.9805e-05\n",
      "Epoch 4/20\n",
      "163/163 [==============================] - 96s 591ms/step - loss: 0.9699 - f1_score: 0.5614 - val_loss: 0.8639 - val_f1_score: 0.3726 - lr: 5.9708e-05\n",
      "Epoch 5/20\n",
      "163/163 [==============================] - 93s 571ms/step - loss: 0.8570 - f1_score: 0.6241 - val_loss: 0.6824 - val_f1_score: 0.3807 - lr: 5.9611e-05\n",
      "Epoch 6/20\n",
      "163/163 [==============================] - 93s 571ms/step - loss: 0.7498 - f1_score: 0.6604 - val_loss: 0.6404 - val_f1_score: 0.3824 - lr: 5.9514e-05\n",
      "Epoch 7/20\n",
      "163/163 [==============================] - 94s 578ms/step - loss: 0.6460 - f1_score: 0.6811 - val_loss: 0.5754 - val_f1_score: 0.3808 - lr: 5.9418e-05\n",
      "Epoch 8/20\n",
      "163/163 [==============================] - 96s 588ms/step - loss: 0.5580 - f1_score: 0.6953 - val_loss: 0.5905 - val_f1_score: 0.3846 - lr: 5.9321e-05\n",
      "Epoch 9/20\n",
      "163/163 [==============================] - 97s 596ms/step - loss: 0.4747 - f1_score: 0.7044 - val_loss: 0.6122 - val_f1_score: 0.3722 - lr: 5.9225e-05\n",
      "Epoch 10/20\n",
      "163/163 [==============================] - 96s 592ms/step - loss: 0.3980 - f1_score: 0.7223 - val_loss: 0.6222 - val_f1_score: 0.3711 - lr: 5.9129e-05\n",
      "Epoch 11/20\n",
      "163/163 [==============================] - 97s 593ms/step - loss: 0.3511 - f1_score: 0.7160 - val_loss: 0.6467 - val_f1_score: 0.3623 - lr: 5.9033e-05\n",
      "Epoch 12/20\n",
      "163/163 [==============================] - 97s 596ms/step - loss: 0.3031 - f1_score: 0.7290 - val_loss: 0.6462 - val_f1_score: 0.3695 - lr: 5.8937e-05\n",
      "Epoch 13/20\n",
      "163/163 [==============================] - 97s 594ms/step - loss: 0.2721 - f1_score: 0.7290 - val_loss: 0.6849 - val_f1_score: 0.3599 - lr: 5.8841e-05\n",
      "Epoch 14/20\n",
      "163/163 [==============================] - 103s 634ms/step - loss: 0.2469 - f1_score: 0.7381 - val_loss: 0.6603 - val_f1_score: 0.3680 - lr: 5.8746e-05\n",
      "Epoch 15/20\n",
      "163/163 [==============================] - 100s 613ms/step - loss: 0.2271 - f1_score: 0.7516 - val_loss: 0.6754 - val_f1_score: 0.3691 - lr: 5.8650e-05\n",
      "Epoch 16/20\n",
      "163/163 [==============================] - 101s 623ms/step - loss: 0.2140 - f1_score: 0.7560 - val_loss: 0.6740 - val_f1_score: 0.3675 - lr: 5.8555e-05\n",
      "Epoch 17/20\n",
      "163/163 [==============================] - 99s 606ms/step - loss: 0.2043 - f1_score: 0.7579 - val_loss: 0.6708 - val_f1_score: 0.3686 - lr: 5.8460e-05\n",
      "Epoch 18/20\n",
      "163/163 [==============================] - 98s 601ms/step - loss: 0.1849 - f1_score: 0.7684 - val_loss: 0.6771 - val_f1_score: 0.3672 - lr: 5.8365e-05\n",
      "Epoch 19/20\n",
      "163/163 [==============================] - 97s 598ms/step - loss: 0.1843 - f1_score: 0.7684 - val_loss: 0.6954 - val_f1_score: 0.3633 - lr: 5.8270e-05\n",
      "Epoch 20/20\n",
      "163/163 [==============================] - 103s 632ms/step - loss: 0.1660 - f1_score: 0.7858 - val_loss: 0.6872 - val_f1_score: 0.3712 - lr: 5.8176e-05\n"
     ]
    },
    {
     "data": {
      "text/plain": [
       "<keras.src.engine.sequential.Sequential at 0x285b3e50bd0>"
      ]
     },
     "execution_count": 112,
     "metadata": {},
     "output_type": "execute_result"
    }
   ],
   "source": [
    "model_my_lstm_fit_predict(df_comp['price_diff_cat_5'], df_comp['text_clear'])"
   ]
  },
  {
   "cell_type": "markdown",
   "id": "d1586eac",
   "metadata": {},
   "source": [
    "## time_delta==10"
   ]
  },
  {
   "cell_type": "code",
   "execution_count": 113,
   "id": "04e391db",
   "metadata": {},
   "outputs": [
    {
     "name": "stdout",
     "output_type": "stream",
     "text": [
      "Epoch 1/20\n",
      "163/163 [==============================] - 102s 602ms/step - loss: 1.0970 - f1_score: 0.2976 - val_loss: 1.0802 - val_f1_score: 0.3433 - lr: 6.0000e-05\n",
      "Epoch 2/20\n",
      "163/163 [==============================] - 95s 581ms/step - loss: 1.0813 - f1_score: 0.4280 - val_loss: 1.0629 - val_f1_score: 0.3522 - lr: 5.9903e-05\n",
      "Epoch 3/20\n",
      "163/163 [==============================] - 97s 593ms/step - loss: 1.0524 - f1_score: 0.5287 - val_loss: 1.0128 - val_f1_score: 0.3645 - lr: 5.9805e-05\n",
      "Epoch 4/20\n",
      "163/163 [==============================] - 96s 590ms/step - loss: 0.9551 - f1_score: 0.4910 - val_loss: 0.8236 - val_f1_score: 0.3435 - lr: 5.9708e-05\n",
      "Epoch 5/20\n",
      "163/163 [==============================] - 95s 582ms/step - loss: 0.8019 - f1_score: 0.4709 - val_loss: 0.7856 - val_f1_score: 0.3327 - lr: 5.9611e-05\n",
      "Epoch 6/20\n",
      "163/163 [==============================] - 95s 583ms/step - loss: 0.7011 - f1_score: 0.5027 - val_loss: 0.8135 - val_f1_score: 0.3459 - lr: 5.9514e-05\n",
      "Epoch 7/20\n",
      "163/163 [==============================] - 95s 582ms/step - loss: 0.6395 - f1_score: 0.5553 - val_loss: 0.8294 - val_f1_score: 0.3715 - lr: 5.9418e-05\n",
      "Epoch 8/20\n",
      "163/163 [==============================] - 95s 585ms/step - loss: 0.5952 - f1_score: 0.5888 - val_loss: 0.8151 - val_f1_score: 0.3660 - lr: 5.9321e-05\n",
      "Epoch 9/20\n",
      "163/163 [==============================] - 95s 582ms/step - loss: 0.5572 - f1_score: 0.6300 - val_loss: 0.8060 - val_f1_score: 0.3503 - lr: 5.9225e-05\n",
      "Epoch 10/20\n",
      "163/163 [==============================] - 93s 572ms/step - loss: 0.5209 - f1_score: 0.6650 - val_loss: 0.7961 - val_f1_score: 0.3647 - lr: 5.9129e-05\n",
      "Epoch 11/20\n",
      "163/163 [==============================] - 96s 590ms/step - loss: 0.4934 - f1_score: 0.6870 - val_loss: 0.7920 - val_f1_score: 0.3656 - lr: 5.9033e-05\n",
      "Epoch 12/20\n",
      "163/163 [==============================] - 94s 580ms/step - loss: 0.4674 - f1_score: 0.7079 - val_loss: 0.8275 - val_f1_score: 0.3659 - lr: 5.8937e-05\n",
      "Epoch 13/20\n",
      "163/163 [==============================] - 78s 481ms/step - loss: 0.4389 - f1_score: 0.7249 - val_loss: 0.7767 - val_f1_score: 0.3660 - lr: 5.8841e-05\n",
      "Epoch 14/20\n",
      "163/163 [==============================] - 80s 491ms/step - loss: 0.4094 - f1_score: 0.7405 - val_loss: 0.7509 - val_f1_score: 0.3793 - lr: 5.8746e-05\n",
      "Epoch 15/20\n",
      "163/163 [==============================] - 80s 493ms/step - loss: 0.3883 - f1_score: 0.7394 - val_loss: 0.7423 - val_f1_score: 0.3684 - lr: 5.8650e-05\n",
      "Epoch 16/20\n",
      "163/163 [==============================] - 94s 578ms/step - loss: 0.3600 - f1_score: 0.7463 - val_loss: 0.7233 - val_f1_score: 0.3590 - lr: 5.8555e-05\n",
      "Epoch 17/20\n",
      "163/163 [==============================] - 83s 511ms/step - loss: 0.3319 - f1_score: 0.7559 - val_loss: 0.7245 - val_f1_score: 0.3465 - lr: 5.8460e-05\n",
      "Epoch 18/20\n",
      "163/163 [==============================] - 81s 496ms/step - loss: 0.3030 - f1_score: 0.7611 - val_loss: 0.7193 - val_f1_score: 0.3540 - lr: 5.8365e-05\n",
      "Epoch 19/20\n",
      "163/163 [==============================] - 84s 515ms/step - loss: 0.2778 - f1_score: 0.7647 - val_loss: 0.6963 - val_f1_score: 0.3564 - lr: 5.8270e-05\n",
      "Epoch 20/20\n",
      "163/163 [==============================] - 90s 550ms/step - loss: 0.2604 - f1_score: 0.7665 - val_loss: 0.6851 - val_f1_score: 0.3501 - lr: 5.8176e-05\n"
     ]
    },
    {
     "data": {
      "text/plain": [
       "<keras.src.engine.sequential.Sequential at 0x285d70f7e90>"
      ]
     },
     "execution_count": 113,
     "metadata": {},
     "output_type": "execute_result"
    }
   ],
   "source": [
    "model_my_lstm_fit_predict(df_comp['price_diff_cat_10'], df_comp['text_clear'])"
   ]
  },
  {
   "cell_type": "markdown",
   "id": "42871428",
   "metadata": {},
   "source": [
    "## time_delta==15"
   ]
  },
  {
   "cell_type": "code",
   "execution_count": 114,
   "id": "a369b8b3",
   "metadata": {},
   "outputs": [
    {
     "name": "stdout",
     "output_type": "stream",
     "text": [
      "Epoch 1/20\n",
      "163/163 [==============================] - 87s 512ms/step - loss: 1.0981 - f1_score: 0.3023 - val_loss: 1.0785 - val_f1_score: 0.3411 - lr: 6.0000e-05\n",
      "Epoch 2/20\n",
      "163/163 [==============================] - 75s 461ms/step - loss: 1.0833 - f1_score: 0.4404 - val_loss: 1.0589 - val_f1_score: 0.3900 - lr: 5.9903e-05\n",
      "Epoch 3/20\n",
      "163/163 [==============================] - 77s 475ms/step - loss: 1.0512 - f1_score: 0.5335 - val_loss: 0.8678 - val_f1_score: 0.3876 - lr: 5.9805e-05\n",
      "Epoch 4/20\n",
      "163/163 [==============================] - 75s 463ms/step - loss: 0.9707 - f1_score: 0.5400 - val_loss: 0.8777 - val_f1_score: 0.3828 - lr: 5.9708e-05\n",
      "Epoch 5/20\n",
      "163/163 [==============================] - 84s 514ms/step - loss: 0.8769 - f1_score: 0.5679 - val_loss: 0.6406 - val_f1_score: 0.4051 - lr: 5.9611e-05\n",
      "Epoch 6/20\n",
      "163/163 [==============================] - 75s 461ms/step - loss: 0.7805 - f1_score: 0.6081 - val_loss: 0.6663 - val_f1_score: 0.3914 - lr: 5.9514e-05\n",
      "Epoch 7/20\n",
      "163/163 [==============================] - 77s 475ms/step - loss: 0.6687 - f1_score: 0.6373 - val_loss: 0.5675 - val_f1_score: 0.4097 - lr: 5.9418e-05\n",
      "Epoch 8/20\n",
      "163/163 [==============================] - 76s 467ms/step - loss: 0.5646 - f1_score: 0.6633 - val_loss: 0.5811 - val_f1_score: 0.4033 - lr: 5.9321e-05\n",
      "Epoch 9/20\n",
      "163/163 [==============================] - 79s 484ms/step - loss: 0.4814 - f1_score: 0.6475 - val_loss: 0.5926 - val_f1_score: 0.3840 - lr: 5.9225e-05\n",
      "Epoch 10/20\n",
      "163/163 [==============================] - 78s 478ms/step - loss: 0.4202 - f1_score: 0.6628 - val_loss: 0.6296 - val_f1_score: 0.3870 - lr: 5.9129e-05\n",
      "Epoch 11/20\n",
      "163/163 [==============================] - 76s 468ms/step - loss: 0.3728 - f1_score: 0.6665 - val_loss: 0.6086 - val_f1_score: 0.3784 - lr: 5.9033e-05\n",
      "Epoch 12/20\n",
      "163/163 [==============================] - 77s 470ms/step - loss: 0.3392 - f1_score: 0.6738 - val_loss: 0.6330 - val_f1_score: 0.3785 - lr: 5.8937e-05\n",
      "Epoch 13/20\n",
      "163/163 [==============================] - 82s 502ms/step - loss: 0.3153 - f1_score: 0.6859 - val_loss: 0.6377 - val_f1_score: 0.3743 - lr: 5.8841e-05\n",
      "Epoch 14/20\n",
      "163/163 [==============================] - 78s 480ms/step - loss: 0.2943 - f1_score: 0.6914 - val_loss: 0.6282 - val_f1_score: 0.3862 - lr: 5.8746e-05\n",
      "Epoch 15/20\n",
      "163/163 [==============================] - 79s 484ms/step - loss: 0.2713 - f1_score: 0.7089 - val_loss: 0.6423 - val_f1_score: 0.3796 - lr: 5.8650e-05\n",
      "Epoch 16/20\n",
      "163/163 [==============================] - 97s 598ms/step - loss: 0.2484 - f1_score: 0.7153 - val_loss: 0.6404 - val_f1_score: 0.3863 - lr: 5.8555e-05\n",
      "Epoch 17/20\n",
      "163/163 [==============================] - 101s 620ms/step - loss: 0.2381 - f1_score: 0.7258 - val_loss: 0.6310 - val_f1_score: 0.3886 - lr: 5.8460e-05\n",
      "Epoch 18/20\n",
      "163/163 [==============================] - 101s 623ms/step - loss: 0.2260 - f1_score: 0.7347 - val_loss: 0.6408 - val_f1_score: 0.3918 - lr: 5.8365e-05\n",
      "Epoch 19/20\n",
      "163/163 [==============================] - 102s 628ms/step - loss: 0.2238 - f1_score: 0.7350 - val_loss: 0.6424 - val_f1_score: 0.3853 - lr: 5.8270e-05\n",
      "Epoch 20/20\n",
      "163/163 [==============================] - 99s 610ms/step - loss: 0.2047 - f1_score: 0.7503 - val_loss: 0.6476 - val_f1_score: 0.3858 - lr: 5.8176e-05\n"
     ]
    },
    {
     "data": {
      "text/plain": [
       "<keras.src.engine.sequential.Sequential at 0x28604398290>"
      ]
     },
     "execution_count": 114,
     "metadata": {},
     "output_type": "execute_result"
    }
   ],
   "source": [
    "model_my_lstm_fit_predict(df_comp['price_diff_cat_15'], df_comp['text_clear'])"
   ]
  },
  {
   "cell_type": "markdown",
   "id": "8612116e",
   "metadata": {},
   "source": [
    "## time_delta==30"
   ]
  },
  {
   "cell_type": "code",
   "execution_count": 115,
   "id": "683cdb35",
   "metadata": {},
   "outputs": [
    {
     "name": "stdout",
     "output_type": "stream",
     "text": [
      "Epoch 1/20\n",
      "163/163 [==============================] - 107s 633ms/step - loss: 1.0974 - f1_score: 0.3065 - val_loss: 1.0786 - val_f1_score: 0.3448 - lr: 6.0000e-05\n",
      "Epoch 2/20\n",
      "163/163 [==============================] - 102s 625ms/step - loss: 1.0826 - f1_score: 0.4470 - val_loss: 1.0554 - val_f1_score: 0.3650 - lr: 5.9903e-05\n",
      "Epoch 3/20\n",
      "163/163 [==============================] - 103s 631ms/step - loss: 1.0587 - f1_score: 0.5316 - val_loss: 0.9920 - val_f1_score: 0.3663 - lr: 5.9805e-05\n",
      "Epoch 4/20\n",
      "163/163 [==============================] - 104s 636ms/step - loss: 0.9909 - f1_score: 0.5651 - val_loss: 0.7994 - val_f1_score: 0.3797 - lr: 5.9708e-05\n",
      "Epoch 5/20\n",
      "163/163 [==============================] - 102s 624ms/step - loss: 0.8862 - f1_score: 0.6068 - val_loss: 0.6222 - val_f1_score: 0.3774 - lr: 5.9611e-05\n",
      "Epoch 6/20\n",
      "163/163 [==============================] - 104s 636ms/step - loss: 0.7769 - f1_score: 0.6526 - val_loss: 0.5891 - val_f1_score: 0.4020 - lr: 5.9514e-05\n",
      "Epoch 7/20\n",
      "163/163 [==============================] - 103s 635ms/step - loss: 0.6708 - f1_score: 0.6763 - val_loss: 0.5429 - val_f1_score: 0.3845 - lr: 5.9418e-05\n",
      "Epoch 8/20\n",
      "163/163 [==============================] - 101s 623ms/step - loss: 0.5757 - f1_score: 0.6961 - val_loss: 0.5885 - val_f1_score: 0.3769 - lr: 5.9321e-05\n",
      "Epoch 9/20\n",
      "163/163 [==============================] - 101s 623ms/step - loss: 0.5027 - f1_score: 0.6969 - val_loss: 0.5871 - val_f1_score: 0.3800 - lr: 5.9225e-05\n",
      "Epoch 10/20\n",
      "163/163 [==============================] - 102s 628ms/step - loss: 0.4311 - f1_score: 0.7083 - val_loss: 0.6009 - val_f1_score: 0.3633 - lr: 5.9129e-05\n",
      "Epoch 11/20\n",
      "163/163 [==============================] - 102s 629ms/step - loss: 0.3675 - f1_score: 0.7271 - val_loss: 0.6487 - val_f1_score: 0.3671 - lr: 5.9033e-05\n",
      "Epoch 12/20\n",
      "163/163 [==============================] - 101s 620ms/step - loss: 0.3291 - f1_score: 0.7316 - val_loss: 0.6256 - val_f1_score: 0.3721 - lr: 5.8937e-05\n",
      "Epoch 13/20\n",
      "163/163 [==============================] - 102s 629ms/step - loss: 0.2829 - f1_score: 0.7476 - val_loss: 0.6433 - val_f1_score: 0.3699 - lr: 5.8841e-05\n",
      "Epoch 14/20\n",
      "163/163 [==============================] - 101s 619ms/step - loss: 0.2530 - f1_score: 0.7574 - val_loss: 0.6188 - val_f1_score: 0.3852 - lr: 5.8746e-05\n",
      "Epoch 15/20\n",
      "163/163 [==============================] - 103s 633ms/step - loss: 0.2260 - f1_score: 0.7671 - val_loss: 0.6256 - val_f1_score: 0.3910 - lr: 5.8650e-05\n",
      "Epoch 16/20\n",
      "163/163 [==============================] - 104s 637ms/step - loss: 0.2001 - f1_score: 0.7823 - val_loss: 0.6578 - val_f1_score: 0.3742 - lr: 5.8555e-05\n",
      "Epoch 17/20\n",
      "163/163 [==============================] - 101s 618ms/step - loss: 0.1814 - f1_score: 0.7938 - val_loss: 0.6598 - val_f1_score: 0.3746 - lr: 5.8460e-05\n",
      "Epoch 18/20\n",
      "163/163 [==============================] - 103s 633ms/step - loss: 0.1715 - f1_score: 0.7998 - val_loss: 0.6774 - val_f1_score: 0.3770 - lr: 5.8365e-05\n",
      "Epoch 19/20\n",
      "163/163 [==============================] - 103s 633ms/step - loss: 0.1633 - f1_score: 0.8058 - val_loss: 0.7063 - val_f1_score: 0.3727 - lr: 5.8270e-05\n",
      "Epoch 20/20\n",
      "163/163 [==============================] - 103s 635ms/step - loss: 0.1545 - f1_score: 0.8090 - val_loss: 0.6879 - val_f1_score: 0.3804 - lr: 5.8176e-05\n"
     ]
    },
    {
     "data": {
      "text/plain": [
       "<keras.src.engine.sequential.Sequential at 0x285ee14fa50>"
      ]
     },
     "execution_count": 115,
     "metadata": {},
     "output_type": "execute_result"
    }
   ],
   "source": [
    "model_my_lstm_fit_predict(df_comp['price_diff_cat_30'], df_comp['text_clear'])"
   ]
  },
  {
   "cell_type": "markdown",
   "id": "684ff847",
   "metadata": {},
   "source": [
    "## time_delta==45"
   ]
  },
  {
   "cell_type": "code",
   "execution_count": 116,
   "id": "e7a05df2",
   "metadata": {},
   "outputs": [
    {
     "name": "stdout",
     "output_type": "stream",
     "text": [
      "Epoch 1/20\n",
      "163/163 [==============================] - 106s 629ms/step - loss: 1.0970 - f1_score: 0.3327 - val_loss: 1.0713 - val_f1_score: 0.3680 - lr: 6.0000e-05\n",
      "Epoch 2/20\n",
      "163/163 [==============================] - 100s 613ms/step - loss: 1.0806 - f1_score: 0.4576 - val_loss: 1.0470 - val_f1_score: 0.3627 - lr: 5.9903e-05\n",
      "Epoch 3/20\n",
      "163/163 [==============================] - 100s 612ms/step - loss: 1.0517 - f1_score: 0.5389 - val_loss: 0.9443 - val_f1_score: 0.3747 - lr: 5.9805e-05\n",
      "Epoch 4/20\n",
      "163/163 [==============================] - 100s 616ms/step - loss: 0.9672 - f1_score: 0.5355 - val_loss: 0.8336 - val_f1_score: 0.3723 - lr: 5.9708e-05\n",
      "Epoch 5/20\n",
      "163/163 [==============================] - 101s 619ms/step - loss: 0.8613 - f1_score: 0.5625 - val_loss: 0.6594 - val_f1_score: 0.3894 - lr: 5.9611e-05\n",
      "Epoch 6/20\n",
      "163/163 [==============================] - 100s 616ms/step - loss: 0.7670 - f1_score: 0.5860 - val_loss: 0.6307 - val_f1_score: 0.3844 - lr: 5.9514e-05\n",
      "Epoch 7/20\n",
      "163/163 [==============================] - 101s 619ms/step - loss: 0.6853 - f1_score: 0.6135 - val_loss: 0.6116 - val_f1_score: 0.3734 - lr: 5.9418e-05\n",
      "Epoch 8/20\n",
      "163/163 [==============================] - 103s 629ms/step - loss: 0.6139 - f1_score: 0.6517 - val_loss: 0.6100 - val_f1_score: 0.3726 - lr: 5.9321e-05\n",
      "Epoch 9/20\n",
      "163/163 [==============================] - 101s 618ms/step - loss: 0.5430 - f1_score: 0.6826 - val_loss: 0.5948 - val_f1_score: 0.3714 - lr: 5.9225e-05\n",
      "Epoch 10/20\n",
      "163/163 [==============================] - 102s 623ms/step - loss: 0.4731 - f1_score: 0.7021 - val_loss: 0.6302 - val_f1_score: 0.3776 - lr: 5.9129e-05\n",
      "Epoch 11/20\n",
      "163/163 [==============================] - 102s 629ms/step - loss: 0.4183 - f1_score: 0.7044 - val_loss: 0.6394 - val_f1_score: 0.3898 - lr: 5.9033e-05\n",
      "Epoch 12/20\n",
      "163/163 [==============================] - 102s 627ms/step - loss: 0.3639 - f1_score: 0.7105 - val_loss: 0.6825 - val_f1_score: 0.3824 - lr: 5.8937e-05\n",
      "Epoch 13/20\n",
      "163/163 [==============================] - 100s 613ms/step - loss: 0.3311 - f1_score: 0.7125 - val_loss: 0.6539 - val_f1_score: 0.3901 - lr: 5.8841e-05\n",
      "Epoch 14/20\n",
      "163/163 [==============================] - 101s 620ms/step - loss: 0.2966 - f1_score: 0.7242 - val_loss: 0.6497 - val_f1_score: 0.3975 - lr: 5.8746e-05\n",
      "Epoch 15/20\n",
      "163/163 [==============================] - 101s 622ms/step - loss: 0.2714 - f1_score: 0.7264 - val_loss: 0.6610 - val_f1_score: 0.3839 - lr: 5.8650e-05\n",
      "Epoch 16/20\n",
      "163/163 [==============================] - 103s 631ms/step - loss: 0.2453 - f1_score: 0.7388 - val_loss: 0.6641 - val_f1_score: 0.3847 - lr: 5.8555e-05\n",
      "Epoch 17/20\n",
      "163/163 [==============================] - 102s 627ms/step - loss: 0.2506 - f1_score: 0.7392 - val_loss: 0.6670 - val_f1_score: 0.3787 - lr: 5.8460e-05\n",
      "Epoch 18/20\n",
      "163/163 [==============================] - 100s 615ms/step - loss: 0.2462 - f1_score: 0.7310 - val_loss: 0.6865 - val_f1_score: 0.3781 - lr: 5.8365e-05\n",
      "Epoch 19/20\n",
      "163/163 [==============================] - 101s 619ms/step - loss: 0.2232 - f1_score: 0.7433 - val_loss: 0.6757 - val_f1_score: 0.3889 - lr: 5.8270e-05\n",
      "Epoch 20/20\n",
      "163/163 [==============================] - 101s 617ms/step - loss: 0.2003 - f1_score: 0.7628 - val_loss: 0.6842 - val_f1_score: 0.3843 - lr: 5.8176e-05\n"
     ]
    },
    {
     "data": {
      "text/plain": [
       "<keras.src.engine.sequential.Sequential at 0x2860ada1fd0>"
      ]
     },
     "execution_count": 116,
     "metadata": {},
     "output_type": "execute_result"
    }
   ],
   "source": [
    "model_my_lstm_fit_predict(df_comp['price_diff_cat_45'], df_comp['text_clear'])"
   ]
  },
  {
   "cell_type": "markdown",
   "id": "c215cda4",
   "metadata": {},
   "source": [
    "## time_delta==60"
   ]
  },
  {
   "cell_type": "code",
   "execution_count": 117,
   "id": "df4ce870",
   "metadata": {},
   "outputs": [
    {
     "name": "stdout",
     "output_type": "stream",
     "text": [
      "Epoch 1/20\n",
      "163/163 [==============================] - 110s 649ms/step - loss: 1.0964 - f1_score: 0.3343 - val_loss: 1.0724 - val_f1_score: 0.3662 - lr: 6.0000e-05\n",
      "Epoch 2/20\n",
      "163/163 [==============================] - 105s 645ms/step - loss: 1.0813 - f1_score: 0.4558 - val_loss: 1.0498 - val_f1_score: 0.3826 - lr: 5.9903e-05\n",
      "Epoch 3/20\n",
      "163/163 [==============================] - 104s 636ms/step - loss: 1.0576 - f1_score: 0.5477 - val_loss: 0.9919 - val_f1_score: 0.4007 - lr: 5.9805e-05\n",
      "Epoch 4/20\n",
      "163/163 [==============================] - 104s 638ms/step - loss: 0.9837 - f1_score: 0.5581 - val_loss: 0.6987 - val_f1_score: 0.3942 - lr: 5.9708e-05\n",
      "Epoch 5/20\n",
      "163/163 [==============================] - 102s 629ms/step - loss: 0.8576 - f1_score: 0.6218 - val_loss: 0.6519 - val_f1_score: 0.3969 - lr: 5.9611e-05\n",
      "Epoch 6/20\n",
      "163/163 [==============================] - 104s 641ms/step - loss: 0.7573 - f1_score: 0.6495 - val_loss: 0.5635 - val_f1_score: 0.4084 - lr: 5.9514e-05\n",
      "Epoch 7/20\n",
      "163/163 [==============================] - 103s 631ms/step - loss: 0.6763 - f1_score: 0.6675 - val_loss: 0.5603 - val_f1_score: 0.3997 - lr: 5.9418e-05\n",
      "Epoch 8/20\n",
      "163/163 [==============================] - 102s 628ms/step - loss: 0.6182 - f1_score: 0.6818 - val_loss: 0.5603 - val_f1_score: 0.4064 - lr: 5.9321e-05\n",
      "Epoch 9/20\n",
      "163/163 [==============================] - 104s 641ms/step - loss: 0.5702 - f1_score: 0.7071 - val_loss: 0.5920 - val_f1_score: 0.3954 - lr: 5.9225e-05\n",
      "Epoch 10/20\n",
      "163/163 [==============================] - 102s 625ms/step - loss: 0.5254 - f1_score: 0.7153 - val_loss: 0.5730 - val_f1_score: 0.3972 - lr: 5.9129e-05\n",
      "Epoch 11/20\n",
      "163/163 [==============================] - 103s 630ms/step - loss: 0.4767 - f1_score: 0.7304 - val_loss: 0.5841 - val_f1_score: 0.3968 - lr: 5.9033e-05\n",
      "Epoch 12/20\n",
      "163/163 [==============================] - 103s 631ms/step - loss: 0.4265 - f1_score: 0.7400 - val_loss: 0.5988 - val_f1_score: 0.3972 - lr: 5.8937e-05\n",
      "Epoch 13/20\n",
      "163/163 [==============================] - 104s 640ms/step - loss: 0.3774 - f1_score: 0.7457 - val_loss: 0.6045 - val_f1_score: 0.3945 - lr: 5.8841e-05\n",
      "Epoch 14/20\n",
      "163/163 [==============================] - 26780s 165s/step - loss: 0.3351 - f1_score: 0.7483 - val_loss: 0.6326 - val_f1_score: 0.3934 - lr: 5.8746e-05\n",
      "Epoch 15/20\n",
      "163/163 [==============================] - 71s 436ms/step - loss: 0.2983 - f1_score: 0.7536 - val_loss: 0.6477 - val_f1_score: 0.3932 - lr: 5.8650e-05\n",
      "Epoch 16/20\n",
      "163/163 [==============================] - 81s 496ms/step - loss: 0.2648 - f1_score: 0.7596 - val_loss: 0.6575 - val_f1_score: 0.3906 - lr: 5.8555e-05\n",
      "Epoch 17/20\n",
      "163/163 [==============================] - 77s 472ms/step - loss: 0.2390 - f1_score: 0.7656 - val_loss: 0.6615 - val_f1_score: 0.3991 - lr: 5.8460e-05\n",
      "Epoch 18/20\n",
      "163/163 [==============================] - 77s 471ms/step - loss: 0.2148 - f1_score: 0.7713 - val_loss: 0.6728 - val_f1_score: 0.3859 - lr: 5.8365e-05\n",
      "Epoch 19/20\n",
      "163/163 [==============================] - 82s 501ms/step - loss: 0.2034 - f1_score: 0.7779 - val_loss: 0.6897 - val_f1_score: 0.3928 - lr: 5.8270e-05\n",
      "Epoch 20/20\n",
      "163/163 [==============================] - 77s 470ms/step - loss: 0.1849 - f1_score: 0.7841 - val_loss: 0.7167 - val_f1_score: 0.3880 - lr: 5.8176e-05\n"
     ]
    },
    {
     "data": {
      "text/plain": [
       "<keras.src.engine.sequential.Sequential at 0x286060da290>"
      ]
     },
     "execution_count": 117,
     "metadata": {},
     "output_type": "execute_result"
    }
   ],
   "source": [
    "model_my_lstm_fit_predict(df_comp['price_diff_cat_60'], df_comp['text_clear'])"
   ]
  },
  {
   "cell_type": "markdown",
   "id": "a65940ad",
   "metadata": {},
   "source": [
    "## time_delta==75"
   ]
  },
  {
   "cell_type": "code",
   "execution_count": 118,
   "id": "49dff850",
   "metadata": {},
   "outputs": [
    {
     "name": "stdout",
     "output_type": "stream",
     "text": [
      "Epoch 1/20\n",
      "163/163 [==============================] - 88s 502ms/step - loss: 1.0978 - f1_score: 0.3046 - val_loss: 1.0782 - val_f1_score: 0.3711 - lr: 6.0000e-05\n",
      "Epoch 2/20\n",
      "163/163 [==============================] - 84s 514ms/step - loss: 1.0842 - f1_score: 0.4525 - val_loss: 1.0632 - val_f1_score: 0.3852 - lr: 5.9903e-05\n",
      "Epoch 3/20\n",
      "163/163 [==============================] - 87s 533ms/step - loss: 1.0628 - f1_score: 0.5508 - val_loss: 1.0248 - val_f1_score: 0.3923 - lr: 5.9805e-05\n",
      "Epoch 4/20\n",
      "163/163 [==============================] - 86s 527ms/step - loss: 1.0019 - f1_score: 0.5774 - val_loss: 0.7544 - val_f1_score: 0.4071 - lr: 5.9708e-05\n",
      "Epoch 5/20\n",
      "163/163 [==============================] - 88s 540ms/step - loss: 0.8519 - f1_score: 0.6310 - val_loss: 0.5944 - val_f1_score: 0.3982 - lr: 5.9611e-05\n",
      "Epoch 6/20\n",
      "163/163 [==============================] - 85s 520ms/step - loss: 0.6754 - f1_score: 0.6656 - val_loss: 0.6272 - val_f1_score: 0.3925 - lr: 5.9514e-05\n",
      "Epoch 7/20\n",
      "163/163 [==============================] - 86s 525ms/step - loss: 0.5336 - f1_score: 0.6811 - val_loss: 0.5664 - val_f1_score: 0.3891 - lr: 5.9418e-05\n",
      "Epoch 8/20\n",
      "163/163 [==============================] - 87s 534ms/step - loss: 0.4269 - f1_score: 0.7040 - val_loss: 0.5171 - val_f1_score: 0.3972 - lr: 5.9321e-05\n",
      "Epoch 9/20\n",
      "163/163 [==============================] - 88s 543ms/step - loss: 0.3657 - f1_score: 0.7122 - val_loss: 0.5162 - val_f1_score: 0.3992 - lr: 5.9225e-05\n",
      "Epoch 10/20\n",
      "163/163 [==============================] - 85s 520ms/step - loss: 0.3277 - f1_score: 0.7147 - val_loss: 0.5735 - val_f1_score: 0.3900 - lr: 5.9129e-05\n",
      "Epoch 11/20\n",
      "163/163 [==============================] - 86s 529ms/step - loss: 0.2943 - f1_score: 0.7305 - val_loss: 0.5406 - val_f1_score: 0.3926 - lr: 5.9033e-05\n",
      "Epoch 12/20\n",
      "163/163 [==============================] - 85s 523ms/step - loss: 0.2635 - f1_score: 0.7372 - val_loss: 0.5573 - val_f1_score: 0.3898 - lr: 5.8937e-05\n",
      "Epoch 13/20\n",
      "163/163 [==============================] - 87s 531ms/step - loss: 0.2408 - f1_score: 0.7447 - val_loss: 0.5781 - val_f1_score: 0.3836 - lr: 5.8841e-05\n",
      "Epoch 14/20\n",
      "163/163 [==============================] - 87s 535ms/step - loss: 0.2244 - f1_score: 0.7595 - val_loss: 0.5812 - val_f1_score: 0.3843 - lr: 5.8746e-05\n",
      "Epoch 15/20\n",
      "163/163 [==============================] - 87s 535ms/step - loss: 0.2109 - f1_score: 0.7643 - val_loss: 0.5649 - val_f1_score: 0.3826 - lr: 5.8650e-05\n",
      "Epoch 16/20\n",
      "163/163 [==============================] - 85s 523ms/step - loss: 0.2014 - f1_score: 0.7670 - val_loss: 0.5811 - val_f1_score: 0.3797 - lr: 5.8555e-05\n",
      "Epoch 17/20\n",
      "163/163 [==============================] - 86s 525ms/step - loss: 0.1915 - f1_score: 0.7711 - val_loss: 0.6025 - val_f1_score: 0.3825 - lr: 5.8460e-05\n",
      "Epoch 18/20\n",
      "163/163 [==============================] - 87s 534ms/step - loss: 0.1942 - f1_score: 0.7624 - val_loss: 0.5871 - val_f1_score: 0.3909 - lr: 5.8365e-05\n",
      "Epoch 19/20\n",
      "163/163 [==============================] - 87s 533ms/step - loss: 0.1922 - f1_score: 0.7569 - val_loss: 0.5915 - val_f1_score: 0.3881 - lr: 5.8270e-05\n",
      "Epoch 20/20\n",
      "163/163 [==============================] - 84s 517ms/step - loss: 0.1700 - f1_score: 0.7729 - val_loss: 0.6106 - val_f1_score: 0.3790 - lr: 5.8176e-05\n"
     ]
    },
    {
     "data": {
      "text/plain": [
       "<keras.src.engine.sequential.Sequential at 0x28611ba3510>"
      ]
     },
     "execution_count": 118,
     "metadata": {},
     "output_type": "execute_result"
    }
   ],
   "source": [
    "model_my_lstm_fit_predict(df_comp['price_diff_cat_75'], df_comp['text_clear'])"
   ]
  },
  {
   "cell_type": "markdown",
   "id": "3c1a62b6",
   "metadata": {},
   "source": [
    "## time_delta==90"
   ]
  },
  {
   "cell_type": "code",
   "execution_count": 119,
   "id": "05ad516f",
   "metadata": {},
   "outputs": [
    {
     "name": "stdout",
     "output_type": "stream",
     "text": [
      "Epoch 1/20\n",
      "163/163 [==============================] - 97s 574ms/step - loss: 1.0963 - f1_score: 0.3097 - val_loss: 1.0771 - val_f1_score: 0.3414 - lr: 6.0000e-05\n",
      "Epoch 2/20\n",
      "163/163 [==============================] - 97s 597ms/step - loss: 1.0812 - f1_score: 0.4482 - val_loss: 1.0574 - val_f1_score: 0.3593 - lr: 5.9903e-05\n",
      "Epoch 3/20\n",
      "163/163 [==============================] - 101s 623ms/step - loss: 1.0565 - f1_score: 0.5469 - val_loss: 1.0124 - val_f1_score: 0.3763 - lr: 5.9805e-05\n",
      "Epoch 4/20\n",
      "163/163 [==============================] - 101s 621ms/step - loss: 0.9801 - f1_score: 0.5922 - val_loss: 0.7362 - val_f1_score: 0.3717 - lr: 5.9708e-05\n",
      "Epoch 5/20\n",
      "163/163 [==============================] - 102s 625ms/step - loss: 0.8261 - f1_score: 0.6052 - val_loss: 0.6816 - val_f1_score: 0.3809 - lr: 5.9611e-05\n",
      "Epoch 6/20\n",
      "163/163 [==============================] - 104s 639ms/step - loss: 0.6556 - f1_score: 0.6371 - val_loss: 0.6500 - val_f1_score: 0.3619 - lr: 5.9514e-05\n",
      "Epoch 7/20\n",
      "163/163 [==============================] - 106s 651ms/step - loss: 0.5289 - f1_score: 0.6538 - val_loss: 0.6293 - val_f1_score: 0.3643 - lr: 5.9418e-05\n",
      "Epoch 8/20\n",
      "163/163 [==============================] - 105s 647ms/step - loss: 0.4453 - f1_score: 0.6698 - val_loss: 0.5568 - val_f1_score: 0.3730 - lr: 5.9321e-05\n",
      "Epoch 9/20\n",
      "163/163 [==============================] - 105s 643ms/step - loss: 0.3844 - f1_score: 0.6891 - val_loss: 0.6037 - val_f1_score: 0.3667 - lr: 5.9225e-05\n",
      "Epoch 10/20\n",
      "163/163 [==============================] - 104s 638ms/step - loss: 0.3344 - f1_score: 0.6976 - val_loss: 0.5779 - val_f1_score: 0.3727 - lr: 5.9129e-05\n",
      "Epoch 11/20\n",
      "163/163 [==============================] - 105s 646ms/step - loss: 0.2963 - f1_score: 0.7174 - val_loss: 0.5951 - val_f1_score: 0.3649 - lr: 5.9033e-05\n",
      "Epoch 12/20\n",
      "163/163 [==============================] - 104s 639ms/step - loss: 0.2668 - f1_score: 0.7395 - val_loss: 0.5859 - val_f1_score: 0.3774 - lr: 5.8937e-05\n",
      "Epoch 13/20\n",
      "163/163 [==============================] - 103s 630ms/step - loss: 0.2440 - f1_score: 0.7411 - val_loss: 0.6151 - val_f1_score: 0.3805 - lr: 5.8841e-05\n",
      "Epoch 14/20\n",
      "163/163 [==============================] - 98s 603ms/step - loss: 0.2201 - f1_score: 0.7537 - val_loss: 0.5968 - val_f1_score: 0.3799 - lr: 5.8746e-05\n",
      "Epoch 15/20\n",
      "163/163 [==============================] - 75s 460ms/step - loss: 0.2078 - f1_score: 0.7586 - val_loss: 0.6033 - val_f1_score: 0.3763 - lr: 5.8650e-05\n",
      "Epoch 16/20\n",
      "163/163 [==============================] - 79s 483ms/step - loss: 0.1930 - f1_score: 0.7730 - val_loss: 0.5928 - val_f1_score: 0.3803 - lr: 5.8555e-05\n",
      "Epoch 17/20\n",
      "163/163 [==============================] - 73s 448ms/step - loss: 0.1750 - f1_score: 0.7896 - val_loss: 0.6255 - val_f1_score: 0.3771 - lr: 5.8460e-05\n",
      "Epoch 18/20\n",
      "163/163 [==============================] - 72s 441ms/step - loss: 0.1618 - f1_score: 0.7953 - val_loss: 0.6128 - val_f1_score: 0.3813 - lr: 5.8365e-05\n",
      "Epoch 19/20\n",
      "163/163 [==============================] - 75s 460ms/step - loss: 0.1707 - f1_score: 0.7961 - val_loss: 0.6121 - val_f1_score: 0.3745 - lr: 5.8270e-05\n",
      "Epoch 20/20\n",
      "163/163 [==============================] - 76s 465ms/step - loss: 0.1628 - f1_score: 0.8007 - val_loss: 0.6011 - val_f1_score: 0.3823 - lr: 5.8176e-05\n"
     ]
    },
    {
     "data": {
      "text/plain": [
       "<keras.src.engine.sequential.Sequential at 0x285eef06950>"
      ]
     },
     "execution_count": 119,
     "metadata": {},
     "output_type": "execute_result"
    }
   ],
   "source": [
    "model_my_lstm_fit_predict(df_comp['price_diff_cat_90'], df_comp['text_clear'])"
   ]
  },
  {
   "cell_type": "markdown",
   "id": "423827b0",
   "metadata": {},
   "source": [
    "# Result"
   ]
  },
  {
   "cell_type": "markdown",
   "id": "0b63eaeb",
   "metadata": {},
   "source": [
    "> **Conclusion:** As we can see, there is no much difference between various time deltas taken, that is why we will stop on using **time_delta==30**, as it was adviced in the paper dedicated to this question"
   ]
  }
 ],
 "metadata": {
  "kernelspec": {
   "display_name": "Python 3 (ipykernel)",
   "language": "python",
   "name": "python3"
  },
  "language_info": {
   "codemirror_mode": {
    "name": "ipython",
    "version": 3
   },
   "file_extension": ".py",
   "mimetype": "text/x-python",
   "name": "python",
   "nbconvert_exporter": "python",
   "pygments_lexer": "ipython3",
   "version": "3.11.4"
  },
  "toc": {
   "base_numbering": 1,
   "nav_menu": {},
   "number_sections": true,
   "sideBar": true,
   "skip_h1_title": false,
   "title_cell": "Table of Contents",
   "title_sidebar": "Contents",
   "toc_cell": false,
   "toc_position": {},
   "toc_section_display": true,
   "toc_window_display": false
  }
 },
 "nbformat": 4,
 "nbformat_minor": 5
}
