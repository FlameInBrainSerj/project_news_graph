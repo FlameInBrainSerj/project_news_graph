{
 "cells": [
  {
   "cell_type": "code",
   "execution_count": 1,
   "id": "ab6d6277",
   "metadata": {},
   "outputs": [],
   "source": [
    "import numpy as np\n",
    "import pandas as pd\n",
    "import matplotlib.pyplot as plt\n",
    "from sqlalchemy import create_engine\n",
    "\n",
    "import re\n",
    "from tqdm.notebook import tqdm\n",
    "import requests\n",
    "import datetime\n",
    "import time\n",
    "from collections import Counter\n",
    "from random import uniform, randint\n",
    "import warnings\n",
    "\n",
    "warnings.filterwarnings('ignore')\n",
    "\n",
    "from nltk.corpus import stopwords\n",
    "from nltk.tokenize import word_tokenize\n",
    "# import nltk\n",
    "# nltk.download('stopwords')\n",
    "# nltk.download('punkt')\n",
    "from natasha import (Segmenter, MorphVocab, NewsEmbedding, NewsMorphTagger,\n",
    "                     NewsNERTagger, Doc)\n",
    "\n",
    "from sklearn.utils.class_weight import compute_class_weight\n",
    "from sklearn.feature_extraction.text import TfidfVectorizer\n",
    "from sklearn.pipeline import Pipeline, make_pipeline\n",
    "from sklearn.experimental import enable_halving_search_cv\n",
    "from sklearn.model_selection import (train_test_split, HalvingRandomSearchCV,\n",
    "                                     GridSearchCV)\n",
    "from sklearn.metrics import (ConfusionMatrixDisplay, confusion_matrix,\n",
    "                             f1_score, roc_auc_score, classification_report,\n",
    "                             make_scorer, accuracy_score)\n",
    "from sklearn.ensemble import RandomForestClassifier\n",
    "import xgboost as xgb\n",
    "from imblearn.under_sampling import NearMiss\n",
    "from imblearn.over_sampling import RandomOverSampler, SMOTE\n",
    "import optuna\n",
    "\n",
    "from gensim.models.fasttext import load_facebook_model\n",
    "\n",
    "from keras.preprocessing.text import Tokenizer\n",
    "from keras.preprocessing.sequence import pad_sequences\n",
    "from keras.layers import Embedding, Bidirectional, LSTM, Dense, Dropout, ReLU, BatchNormalization, GRU\n",
    "from keras.models import Sequential\n",
    "import tensorflow as tf\n",
    "import tensorflow_addons as tfa\n",
    "import keras\n",
    "\n",
    "import gc\n",
    "import torch\n",
    "import transformers\n",
    "import torch.nn as nn\n",
    "from transformers import AutoModel, BertTokenizer, BertForSequenceClassification, AdamW\n",
    "from torch.utils.data import TensorDataset, DataLoader, RandomSampler, SequentialSampler\n",
    "\n",
    "tqdm.pandas()\n",
    "device = torch.device('cuda')"
   ]
  },
  {
   "cell_type": "markdown",
   "id": "d1e5c578",
   "metadata": {},
   "source": [
    "# Experiments"
   ]
  },
  {
   "cell_type": "markdown",
   "id": "cd7ae757",
   "metadata": {},
   "source": [
    "**Замечание**: эксперименты проводятся только на датасете с компаниями"
   ]
  },
  {
   "cell_type": "code",
   "execution_count": 9,
   "id": "6ff85999",
   "metadata": {},
   "outputs": [],
   "source": [
    "def data_import_from_db(table_name, conn_string):\n",
    "    db = create_engine(conn_string) \n",
    "    conn = db.connect() \n",
    "    conn.autocommit = True\n",
    "    df = pd.read_sql_query(f'SELECT * FROM {table_name}', conn)\n",
    "    conn.close()\n",
    "    return df"
   ]
  },
  {
   "cell_type": "code",
   "execution_count": 10,
   "id": "edd84f8d",
   "metadata": {},
   "outputs": [],
   "source": [
    "username = '...'\n",
    "password = '...'\n",
    "host = '...'\n",
    "port = '...'\n",
    "database = '...'\n",
    "\n",
    "conn_string = f'postgresql://{username}:{password}@{host}:{port}/{database}'"
   ]
  },
  {
   "cell_type": "code",
   "execution_count": 11,
   "id": "61469c17",
   "metadata": {},
   "outputs": [],
   "source": [
    "df_comp = data_import_from_db('companies_trade', conn_string)"
   ]
  },
  {
   "cell_type": "markdown",
   "id": "a3f2ae8d",
   "metadata": {},
   "source": [
    "## Predprocessing\n",
    "- make every word lowercase\n",
    "- clear the garbage\n",
    "- delete the stop-words\n",
    "- lemmatization"
   ]
  },
  {
   "cell_type": "code",
   "execution_count": 12,
   "id": "0c8bcf47",
   "metadata": {},
   "outputs": [],
   "source": [
    "additional_stopwords = [\n",
    "    'которых', 'которые', 'твой', 'которой', 'которого', 'сих', 'ком', 'свой',\n",
    "    'твоя', 'этими', 'нами', 'всему', 'будь', 'саму', 'никто', 'это',\n",
    "    'ваше', 'сами', 'наш', 'затем', 'самих', 'наши', 'ту', 'каждое', 'мочь',\n",
    "    'весь', 'этим', 'наша', 'своих', 'оба', 'который', 'зато', 'те', 'этих',\n",
    "    'вся', 'ваш', 'такая', 'теми', 'ею', 'которая', 'нередко', 'каждая',\n",
    "    'также', 'чему', 'собой', 'самими', 'нем', 'вами', 'ими', 'откуда',\n",
    "    'такие', 'тому', 'та', 'сама', 'нему', 'алло', 'оно', 'этому',\n",
    "    'кому', 'тобой', 'таки', 'твоё', 'каждые', 'твои', 'нею', 'самим', 'ваши',\n",
    "    'ваша', 'кем', 'мои', 'однако', 'сразу', 'свое', 'ними', 'всё', 'неё',\n",
    "    'тех', 'хотя', 'всем', 'тобою', 'тебе', 'одной', 'другие', 'само', 'эта',\n",
    "    'самой', 'моё', 'своей', 'такое', 'всею', 'будут', 'своего', 'кого',\n",
    "    'свои', 'мог', 'нам', 'особенно', 'её', 'самому', 'наше', 'кроме',\n",
    "    'вообще', 'вон', 'мною'\n",
    "]\n",
    "\n",
    "stop_words = stopwords.words('russian') + additional_stopwords"
   ]
  },
  {
   "cell_type": "code",
   "execution_count": 13,
   "id": "29753a82",
   "metadata": {},
   "outputs": [],
   "source": [
    "# Natasha <3\n",
    "segmenter = Segmenter()\n",
    "morph_vocab = MorphVocab()\n",
    "\n",
    "emb = NewsEmbedding()\n",
    "morph_tagger = NewsMorphTagger(emb)\n",
    "\n",
    "ner_tagger = NewsNERTagger(emb)"
   ]
  },
  {
   "cell_type": "code",
   "execution_count": 2,
   "id": "0b3f8373",
   "metadata": {},
   "outputs": [],
   "source": [
    "del_n = re.compile('\\n')\n",
    "del_tags = re.compile('<[^>]*>')\n",
    "del_brackets = re.compile('\\([^)]*\\)')\n",
    "clean_text = re.compile('[^а-яa-z\\s]')\n",
    "del_spaces = re.compile('\\s{2,}')\n",
    "\n",
    "\n",
    "def prepare_text(text):\n",
    "    text = del_n.sub(' ', str(text).lower())\n",
    "    text = del_tags.sub('', text)\n",
    "    text = del_brackets.sub('', text)\n",
    "    res_text = clean_text.sub('', text)\n",
    "    return del_spaces.sub(' ', res_text)\n",
    "\n",
    "\n",
    "def del_stopwords(text):\n",
    "    clean_tokens = tuple(\n",
    "        map(lambda x: x if x not in stop_words else '', word_tokenize(text)))\n",
    "    res_text = ' '.join(clean_tokens)\n",
    "    return res_text\n",
    "\n",
    "\n",
    "def lemmatize(text):\n",
    "    text = Doc(text)\n",
    "    text.segment(segmenter)\n",
    "    text.tag_morph(morph_tagger)\n",
    "    for token in text.tokens:\n",
    "        token.lemmatize(morph_vocab)\n",
    "    text.tag_ner(ner_tagger)\n",
    "    for span in text.spans:\n",
    "        span.normalize(morph_vocab)\n",
    "    return ' '.join([token.lemma for token in text.tokens])"
   ]
  },
  {
   "cell_type": "code",
   "execution_count": 15,
   "id": "a72b6281",
   "metadata": {
    "scrolled": true
   },
   "outputs": [
    {
     "data": {
      "application/vnd.jupyter.widget-view+json": {
       "model_id": "ac498267ae264584b88c4ace96777261",
       "version_major": 2,
       "version_minor": 0
      },
      "text/plain": [
       "  0%|          | 0/7267 [00:00<?, ?it/s]"
      ]
     },
     "metadata": {},
     "output_type": "display_data"
    }
   ],
   "source": [
    "txt_lst = []\n",
    "txts = df_comp.body.copy()\n",
    "\n",
    "for text in tqdm(txts):\n",
    "    text = prepare_text(text)\n",
    "    text = del_stopwords(text)\n",
    "    text = lemmatize(text)\n",
    "    txt_lst.append(text)"
   ]
  },
  {
   "cell_type": "code",
   "execution_count": 16,
   "id": "102c0f97",
   "metadata": {},
   "outputs": [],
   "source": [
    "# Save locally file with preprocessed texts (for experiments convenience)\n",
    "df_comp_safe = pd.concat(\n",
    "    [df_comp, pd.DataFrame(txt_lst, columns=['text_clear'])],\n",
    "    axis=1\n",
    ")\n",
    "\n",
    "df_comp_safe.to_csv('texts_comp.csv', index=False)"
   ]
  },
  {
   "cell_type": "code",
   "execution_count": 3,
   "id": "181f9d3e",
   "metadata": {},
   "outputs": [],
   "source": [
    "df_comp = pd.read_csv('texts_comp.csv')\n",
    "\n",
    "for i, text in enumerate(df_comp.text_clear):\n",
    "    df_comp.loc[i, 'text_clear'] = prepare_text(text).strip()"
   ]
  },
  {
   "cell_type": "markdown",
   "id": "e9dc264e",
   "metadata": {},
   "source": [
    "## Feature generation with TfidfVectorizer and train with XGBClassifier"
   ]
  },
  {
   "cell_type": "code",
   "execution_count": 157,
   "id": "e21bcec1",
   "metadata": {},
   "outputs": [],
   "source": [
    "def plot_cm(y, pred):\n",
    "    fig, ax = plt.subplots(figsize=(8, 5))\n",
    "    cm = confusion_matrix(y, pred)\n",
    "    cmp = ConfusionMatrixDisplay(\n",
    "        cm, display_labels=[0, 1, 2])\n",
    "    cmp.plot(ax=ax)\n",
    "    plt.show()"
   ]
  },
  {
   "cell_type": "markdown",
   "id": "5220a6d6",
   "metadata": {},
   "source": [
    "Определяем, какие классы у нас есть:"
   ]
  },
  {
   "cell_type": "code",
   "execution_count": 4,
   "id": "9e89b0fd",
   "metadata": {},
   "outputs": [
    {
     "data": {
      "text/plain": [
       "price_diff_cat\n",
       "0     364\n",
       "1    6539\n",
       "2     364\n",
       "Name: count, dtype: int64"
      ]
     },
     "execution_count": 4,
     "metadata": {},
     "output_type": "execute_result"
    }
   ],
   "source": [
    "p = 0.05\n",
    "\n",
    "q_l = df_comp.price_diff_percent.quantile(p)\n",
    "q_u = df_comp.price_diff_percent.quantile(1-p)\n",
    "\n",
    "df_comp['price_diff_cat'] = 1\n",
    "df_comp.loc[df_comp['price_diff_percent'] <= q_l, 'price_diff_cat'] = 0\n",
    "df_comp.loc[df_comp['price_diff_percent'] >= q_u, 'price_diff_cat'] = 2\n",
    "\n",
    "df_comp[['price_diff_cat']].groupby('price_diff_cat').value_counts()"
   ]
  },
  {
   "cell_type": "code",
   "execution_count": 23,
   "id": "d5fc87d6",
   "metadata": {},
   "outputs": [],
   "source": [
    "X, y = np.array(df_comp['text_clear']), np.array(df_comp['price_diff_cat'].values)\n",
    "\n",
    "# Feature extraction\n",
    "vectorizer = TfidfVectorizer(min_df=30)\n",
    "vect_x = vectorizer.fit_transform(X)"
   ]
  },
  {
   "cell_type": "code",
   "execution_count": 24,
   "id": "dd183bae",
   "metadata": {},
   "outputs": [],
   "source": [
    "# Train test split\n",
    "X_train, X_test, y_train, y_test = train_test_split(vect_x,\n",
    "                                                    y,\n",
    "                                                    random_state=42,\n",
    "                                                    test_size=0.25,\n",
    "                                                    stratify=y)\n",
    "\n",
    "# # Undersampling for better prediction\n",
    "# nm = NearMiss()\n",
    "# X_res, Y_res = nm.fit_resample(X_train, y_train)\n",
    "\n",
    "# # Oversamloing for better prediction\n",
    "# ros = RandomOverSampler(random_state=42)\n",
    "# X_res, Y_res = ros.fit_resample(X_train, y_train)\n",
    "\n",
    "X_res, Y_res = X_train, y_train"
   ]
  },
  {
   "cell_type": "code",
   "execution_count": 46,
   "id": "d6677d1f",
   "metadata": {},
   "outputs": [],
   "source": [
    "def objective(trial):\n",
    "    train_x, valid_x, train_y, valid_y = train_test_split(X_res,\n",
    "                                                          Y_res,\n",
    "                                                          test_size=0.25,\n",
    "                                                          stratify=Y_res)\n",
    "\n",
    "    dtrain = xgb.DMatrix(train_x, label=train_y)\n",
    "    dvalid = xgb.DMatrix(valid_x, label=valid_y)\n",
    "\n",
    "    param = {\n",
    "        \"verbosity\": 0,\n",
    "        \"objective\": \"multi:softprob\",\n",
    "        'num_class': 3,\n",
    "        # use exact for small dataset.\n",
    "        \"tree_method\": \"exact\",\n",
    "        # defines booster, gblinear for linear functions.\n",
    "        \"booster\": trial.suggest_categorical(\"booster\", [\"gbtree\"]),\n",
    "        # L2 regularization weight.\n",
    "        \"reg_lambda\": trial.suggest_float(\"lambda\", 1e-8, 1.0, log=True),\n",
    "        # L1 regularization weight.\n",
    "        \"reg_alpha\": trial.suggest_float(\"alpha\", 1e-8, 1.0, log=True),\n",
    "        # sampling ratio for training data.\n",
    "        \"subsample\": trial.suggest_float(\"subsample\", 0.2, 1.0),\n",
    "        # sampling according to each tree.\n",
    "        \"colsample_bytree\": trial.suggest_float(\"colsample_bytree\", 0.2, 1.0),\n",
    "        'max_delta_step': 1\n",
    "    }\n",
    "\n",
    "    if param[\"booster\"] in [\"gbtree\"]:\n",
    "        # maximum depth of the tree, signifies complexity of the tree.\n",
    "        param[\"max_depth\"] = trial.suggest_int(\"max_depth\", 3, 9, step=2)\n",
    "        # minimum child weight, larger the term more conservative the tree.\n",
    "        param[\"min_child_weight\"] = trial.suggest_int(\"min_child_weight\", 2,\n",
    "                                                      10)\n",
    "        param[\"eta\"] = trial.suggest_float(\"eta\", 1e-8, 1.0, log=True)\n",
    "        # defines how selective algorithm is.\n",
    "        param[\"gamma\"] = trial.suggest_float(\"gamma\", 1e-8, 1.0, log=True)\n",
    "        param[\"grow_policy\"] = trial.suggest_categorical(\n",
    "            \"grow_policy\", [\"depthwise\", \"lossguide\"])\n",
    "\n",
    "    bst = xgb.train(param, dtrain)\n",
    "\n",
    "    preds = bst.predict(dvalid)\n",
    "\n",
    "    cl = []\n",
    "    for pred in preds:\n",
    "        cl.append(pred.argmax())\n",
    "\n",
    "    f1 = f1_score(valid_y, cl, average='macro')\n",
    "\n",
    "    return f1"
   ]
  },
  {
   "cell_type": "code",
   "execution_count": 48,
   "id": "73a5c7df",
   "metadata": {
    "scrolled": true
   },
   "outputs": [
    {
     "name": "stdout",
     "output_type": "stream",
     "text": [
      "Number of finished trials:  100\n",
      "Best trial:\n",
      "  Value: 0.39533595568357366\n",
      "  Params: \n",
      "    booster: gbtree\n",
      "    lambda: 1.0507996308478455e-08\n",
      "    alpha: 0.0029355676147190257\n",
      "    subsample: 0.5274983849316145\n",
      "    colsample_bytree: 0.354304077205616\n",
      "    max_depth: 9\n",
      "    min_child_weight: 5\n",
      "    eta: 0.8775761584245781\n",
      "    gamma: 1.1312984018031061e-07\n",
      "    grow_policy: lossguide\n"
     ]
    }
   ],
   "source": [
    "optuna.logging.set_verbosity(optuna.logging.WARNING)\n",
    "\n",
    "study = optuna.create_study(direction=\"maximize\")\n",
    "study.optimize(objective, n_trials=100, timeout=600)\n",
    "\n",
    "print(\"Number of finished trials: \", len(study.trials))\n",
    "print(\"Best trial:\")\n",
    "trial = study.best_trial\n",
    "\n",
    "print(\"  Value: {}\".format(trial.value))\n",
    "print(\"  Params: \")\n",
    "for key, value in trial.params.items():\n",
    "    print(\"    {}: {}\".format(key, value))"
   ]
  },
  {
   "cell_type": "markdown",
   "id": "ad71743b",
   "metadata": {},
   "source": [
    "Обучение лучшей модели + попытка улучшить качество засчет подбора порога:"
   ]
  },
  {
   "cell_type": "code",
   "execution_count": 49,
   "id": "d8841a47",
   "metadata": {},
   "outputs": [
    {
     "name": "stdout",
     "output_type": "stream",
     "text": [
      "Best thr: 0.79\n",
      "Best score: 0.3871964244635053\n"
     ]
    }
   ],
   "source": [
    "xgbc = xgb.XGBClassifier(study.best_params)\n",
    "xgbc.fit(X_res, Y_res)\n",
    "\n",
    "test_probas = xgbc.predict_proba(X_test)\n",
    "\n",
    "best_thr = 0\n",
    "best_score = 0\n",
    "\n",
    "for i in range(1, 100):\n",
    "    thr = 0.01 * i\n",
    "    \n",
    "    pred_test = [\n",
    "        row.argmax() if row.argmax() == 1 and row.max() >= thr\n",
    "        else row[0:3:2].argmax()\n",
    "        for row in test_probas\n",
    "    ]\n",
    "    \n",
    "    score = f1_score(y_test, pred_test, average='macro')\n",
    "    \n",
    "    if best_score < score:\n",
    "        best_score = score\n",
    "        best_thr = thr\n",
    "        \n",
    "print(f'Best thr: {best_thr}')\n",
    "print(f'Best score: {best_score}')"
   ]
  },
  {
   "cell_type": "code",
   "execution_count": 50,
   "id": "8f5dfa67",
   "metadata": {},
   "outputs": [
    {
     "name": "stdout",
     "output_type": "stream",
     "text": [
      "              precision    recall  f1-score   support\n",
      "\n",
      "           0       0.25      0.20      0.22        91\n",
      "           1       0.91      0.97      0.94      1635\n",
      "           2       0.00      0.00      0.00        91\n",
      "\n",
      "    accuracy                           0.88      1817\n",
      "   macro avg       0.39      0.39      0.39      1817\n",
      "weighted avg       0.83      0.88      0.86      1817\n",
      "\n"
     ]
    },
    {
     "data": {
      "image/png": "[encoded data removed]",
      "text/plain": [
       "<Figure size 800x500 with 2 Axes>"
      ]
     },
     "metadata": {},
     "output_type": "display_data"
    }
   ],
   "source": [
    "pred_test = [\n",
    "        row.argmax() if row.argmax() == 1 and row.max() >= best_thr\n",
    "        else row[0:3:2].argmax()\n",
    "        for row in xgbc.predict_proba(X_test)\n",
    "    ]\n",
    "\n",
    "print(classification_report(y_test, pred_test))\n",
    "plot_cm(y_test, pred_test)"
   ]
  },
  {
   "cell_type": "markdown",
   "id": "d4b47bf6",
   "metadata": {},
   "source": [
    "**Результаты экспериментов:** (некотрые в коде сейчас отсутствуют)\n",
    "- Oversampling, Undersamplig - качество не улучшилось\n",
    "- Подбор гиперпараметров - особо качество не улучшилось\n",
    "- Добавление весов для каждого из классов таргета - качество не улучшилось"
   ]
  },
  {
   "cell_type": "markdown",
   "id": "c3eb2b98",
   "metadata": {},
   "source": [
    "## Embeddings generation with FastText and their averaging and train with XGBClassifier"
   ]
  },
  {
   "cell_type": "markdown",
   "id": "ef2d6cb5",
   "metadata": {},
   "source": [
    "Попробуем сгенерировать менее тривиальные эмбеддинги\n",
    "\n",
    "**Почему именно FastText?**\n",
    "- есть предобученная модель под русский язык\n",
    "- способна генерировать эмбеддинги для неизвестных слов\n",
    "- неплохо работает на редких словах\n",
    "\n",
    "**Замечание:** Стоит обратить внмиание, что мы здесь для каждого текста взяли эмбеддинг как усреднение эмбеддингов всех его токенов, этот метод является сомнительным, так как мы теряем очень много информации, но стоит попробовать "
   ]
  },
  {
   "cell_type": "code",
   "execution_count": 107,
   "id": "16862d45",
   "metadata": {},
   "outputs": [],
   "source": [
    "fasttext_model_ru = load_facebook_model('cc.ru.300.bin.gz')"
   ]
  },
  {
   "cell_type": "code",
   "execution_count": 143,
   "id": "14350017",
   "metadata": {},
   "outputs": [],
   "source": [
    "X, y = np.array(df_comp['text_clear']), np.array(df_comp['price_diff_cat'].values)\n",
    "\n",
    "X_train, X_test, y_train, y_test = train_test_split(X,\n",
    "                                                    y,\n",
    "                                                    random_state=42,\n",
    "                                                    test_size=0.25,\n",
    "                                                    stratify=y)\n",
    "\n",
    "X_res, Y_res = X_train, y_train"
   ]
  },
  {
   "cell_type": "code",
   "execution_count": 144,
   "id": "c67ab259",
   "metadata": {},
   "outputs": [
    {
     "data": {
      "application/vnd.jupyter.widget-view+json": {
       "model_id": "bbeeb50017b34ee283dcc97bc43494f0",
       "version_major": 2,
       "version_minor": 0
      },
      "text/plain": [
       "  0%|          | 0/5450 [00:00<?, ?it/s]"
      ]
     },
     "metadata": {},
     "output_type": "display_data"
    },
    {
     "data": {
      "application/vnd.jupyter.widget-view+json": {
       "model_id": "b9a5428e32e0464ea80344dad2fc79f8",
       "version_major": 2,
       "version_minor": 0
      },
      "text/plain": [
       "  0%|          | 0/1817 [00:00<?, ?it/s]"
      ]
     },
     "metadata": {},
     "output_type": "display_data"
    }
   ],
   "source": [
    "def get_text_embeddings(text):\n",
    "\n",
    "    embeddings = [fasttext_model_ru.wv[word] for word in text]\n",
    "    return sum(embeddings) / len(embeddings)\n",
    "\n",
    "\n",
    "X_res_emb = []\n",
    "X_test_emb = []\n",
    "\n",
    "for text in tqdm(X_res):\n",
    "    text_embedding = get_text_embeddings(text.split())\n",
    "    X_res_emb.append(text_embedding)\n",
    "    \n",
    "for text in tqdm(X_test):\n",
    "    text_embedding = get_text_embeddings(text.split())\n",
    "    X_test_emb.append(text_embedding)"
   ]
  },
  {
   "cell_type": "code",
   "execution_count": 145,
   "id": "700bb9d1",
   "metadata": {},
   "outputs": [],
   "source": [
    "X_res = X_res_emb\n",
    "Y_res = Y_res"
   ]
  },
  {
   "cell_type": "code",
   "execution_count": 146,
   "id": "cd9a5530",
   "metadata": {},
   "outputs": [
    {
     "name": "stdout",
     "output_type": "stream",
     "text": [
      "Number of finished trials:  100\n",
      "Best trial:\n",
      "  Value: 0.4021096383180652\n",
      "  Params: \n",
      "    booster: gbtree\n",
      "    lambda: 0.015156930613926655\n",
      "    alpha: 0.030909208018206662\n",
      "    subsample: 0.6958031677996217\n",
      "    colsample_bytree: 0.8036663452393854\n",
      "    max_depth: 5\n",
      "    min_child_weight: 3\n",
      "    eta: 0.8466070191860348\n",
      "    gamma: 0.00043490796154456993\n",
      "    grow_policy: lossguide\n"
     ]
    }
   ],
   "source": [
    "optuna.logging.set_verbosity(optuna.logging.WARNING)\n",
    "\n",
    "study = optuna.create_study(direction=\"maximize\")\n",
    "study.optimize(objective, n_trials=100, timeout=600)\n",
    "\n",
    "print(\"Number of finished trials: \", len(study.trials))\n",
    "print(\"Best trial:\")\n",
    "trial = study.best_trial\n",
    "\n",
    "print(\"  Value: {}\".format(trial.value))\n",
    "print(\"  Params: \")\n",
    "for key, value in trial.params.items():\n",
    "    print(\"    {}: {}\".format(key, value))"
   ]
  },
  {
   "cell_type": "code",
   "execution_count": 149,
   "id": "4d550d29",
   "metadata": {},
   "outputs": [
    {
     "name": "stdout",
     "output_type": "stream",
     "text": [
      "Best thr: 0.96\n",
      "Best score: 0.3759052661586606\n"
     ]
    }
   ],
   "source": [
    "xgbc = xgb.XGBClassifier(study.best_params)\n",
    "xgbc.fit(X_res, Y_res)\n",
    "\n",
    "test_probas = xgbc.predict_proba(X_test_emb)\n",
    "\n",
    "best_thr = 0\n",
    "best_score = 0\n",
    "\n",
    "for i in range(1, 100):\n",
    "    thr = 0.01 * i\n",
    "    \n",
    "    pred_test = [\n",
    "        row.argmax() if row.argmax() == 1 and row.max() >= thr\n",
    "        else row[0:3:2].argmax()\n",
    "        for row in test_probas\n",
    "    ]\n",
    "    \n",
    "    score = f1_score(y_test, pred_test, average='macro')\n",
    "    \n",
    "    if best_score < score:\n",
    "        best_score = score\n",
    "        best_thr = thr\n",
    "        \n",
    "print(f'Best thr: {best_thr}')\n",
    "print(f'Best score: {best_score}')"
   ]
  },
  {
   "cell_type": "code",
   "execution_count": 160,
   "id": "78058c89",
   "metadata": {},
   "outputs": [
    {
     "name": "stdout",
     "output_type": "stream",
     "text": [
      "              precision    recall  f1-score   support\n",
      "\n",
      "           0       0.25      0.05      0.09        91\n",
      "           1       0.91      0.98      0.94      1635\n",
      "           2       0.32      0.08      0.12        91\n",
      "\n",
      "    accuracy                           0.89      1817\n",
      "   macro avg       0.49      0.37      0.39      1817\n",
      "weighted avg       0.84      0.89      0.86      1817\n",
      "\n"
     ]
    },
    {
     "data": {
      "image/png": "[encoded data removed]",
      "text/plain": [
       "<Figure size 800x500 with 2 Axes>"
      ]
     },
     "metadata": {},
     "output_type": "display_data"
    }
   ],
   "source": [
    "pred_test = [row.argmax() for row in xgbc.predict_proba(X_test_emb)]\n",
    "\n",
    "print(classification_report(y_test, pred_test))\n",
    "plot_cm(y_test, pred_test)"
   ]
  },
  {
   "cell_type": "markdown",
   "id": "b9781775",
   "metadata": {},
   "source": [
    "**Результаты экспериментов:**\n",
    "- Подобный способ получения эмбеддингов текстов не помог"
   ]
  },
  {
   "cell_type": "markdown",
   "id": "287ad950",
   "metadata": {},
   "source": [
    "## LSTM"
   ]
  },
  {
   "cell_type": "code",
   "execution_count": 6,
   "id": "b2a60a01",
   "metadata": {},
   "outputs": [],
   "source": [
    "def plot_cm(y, pred):\n",
    "    fig, ax = plt.subplots(figsize=(8, 5))\n",
    "    cm = confusion_matrix([row.argmax() for row in y], pred)\n",
    "    cmp = ConfusionMatrixDisplay(\n",
    "        cm, display_labels=[0, 1, 2])\n",
    "    cmp.plot(ax=ax)\n",
    "    plt.show()"
   ]
  },
  {
   "cell_type": "code",
   "execution_count": 163,
   "id": "7ad6102e",
   "metadata": {},
   "outputs": [],
   "source": [
    "texts = df_comp['text_clear']\n",
    "labels = df_comp['price_diff_cat']\n",
    "\n",
    "X_train, X_test, y_train, y_test = train_test_split(texts,\n",
    "                                                    labels,\n",
    "                                                    random_state=42,\n",
    "                                                    test_size=0.25,\n",
    "                                                    stratify=labels)"
   ]
  },
  {
   "cell_type": "code",
   "execution_count": 164,
   "id": "1f83cad0",
   "metadata": {},
   "outputs": [
    {
     "data": {
      "image/png": "[encoded data removed]",
      "text/plain": [
       "<Figure size 640x480 with 1 Axes>"
      ]
     },
     "metadata": {},
     "output_type": "display_data"
    }
   ],
   "source": [
    "pd.Series([len(str(i).split()) for i in X_train]).hist(bins=40)\n",
    "\n",
    "plt.xticks(np.arange(0, 4000, 100), rotation='vertical')\n",
    "plt.title('Распределение длин текстов')\n",
    "plt.xlabel('Длина текста, кол-во слов')\n",
    "plt.grid()\n",
    "plt.show()"
   ]
  },
  {
   "cell_type": "code",
   "execution_count": 177,
   "id": "0449ff31",
   "metadata": {},
   "outputs": [],
   "source": [
    "max_words = 10000 # max number of words to use in the vocabulary\n",
    "max_len = 500 # max length of each text (in terms of number of words)\n",
    "embedding_dim = 500 # dimension of word embeddings\n",
    "lstm_units = 32 # number of units in the LSTM layer\n",
    "num_classes = len(set(labels)) # number of classes"
   ]
  },
  {
   "cell_type": "code",
   "execution_count": 178,
   "id": "38a7d2a9",
   "metadata": {},
   "outputs": [],
   "source": [
    "tokenizer = Tokenizer(num_words=max_words)\n",
    "tokenizer.fit_on_texts(X_train)\n",
    "\n",
    "sequences_train = tokenizer.texts_to_sequences(X_train)\n",
    "sequences_test = tokenizer.texts_to_sequences(X_test)"
   ]
  },
  {
   "cell_type": "code",
   "execution_count": 179,
   "id": "a2b433b9",
   "metadata": {},
   "outputs": [],
   "source": [
    "X_train = pad_sequences(sequences_train, maxlen=max_len)\n",
    "X_test = pad_sequences(sequences_test, maxlen=max_len)\n",
    "\n",
    "y_train = pd.get_dummies(y_train).values\n",
    "y_test = pd.get_dummies(y_test).values"
   ]
  },
  {
   "cell_type": "code",
   "execution_count": 198,
   "id": "d9ad0b7c",
   "metadata": {},
   "outputs": [
    {
     "name": "stdout",
     "output_type": "stream",
     "text": [
      "Model: \"sequential\"\n",
      "_________________________________________________________________\n",
      " Layer (type)                Output Shape              Param #   \n",
      "=================================================================\n",
      " embedding (Embedding)       (None, 500, 500)          5000000   \n",
      "                                                                 \n",
      " lstm (LSTM)                 (None, 32)                68224     \n",
      "                                                                 \n",
      " dense (Dense)               (None, 3)                 99        \n",
      "                                                                 \n",
      "=================================================================\n",
      "Total params: 5068323 (19.33 MB)\n",
      "Trainable params: 5068323 (19.33 MB)\n",
      "Non-trainable params: 0 (0.00 Byte)\n",
      "_________________________________________________________________\n"
     ]
    }
   ],
   "source": [
    "keras.backend.clear_session()\n",
    "\n",
    "model = Sequential()\n",
    "model.add(Embedding(max_words, embedding_dim, input_length=max_len))\n",
    "model.add(LSTM(lstm_units))\n",
    "model.add(Dense(num_classes, activation='sigmoid'))\n",
    "\n",
    "model.compile(loss='categorical_crossentropy',\n",
    "              optimizer=tf.keras.optimizers.Adam(clipvalue=0.7),\n",
    "              metrics=[tfa.metrics.F1Score(num_classes=num_classes)])\n",
    "\n",
    "scheduler = keras.callbacks.LearningRateScheduler(\n",
    "    tf.keras.optimizers.schedules.ExponentialDecay(initial_learning_rate=5e-5, decay_rate=0.85, decay_steps=100)\n",
    ")\n",
    "\n",
    "model.summary()"
   ]
  },
  {
   "cell_type": "code",
   "execution_count": 199,
   "id": "8fdf9534",
   "metadata": {},
   "outputs": [
    {
     "name": "stdout",
     "output_type": "stream",
     "text": [
      "{0: 6.654761904761905, 1: 0.3704440026507621, 2: 6.654761904761905}\n"
     ]
    }
   ],
   "source": [
    "weights = compute_class_weight(class_weight='balanced',\n",
    "                                     classes=np.unique(labels),\n",
    "                                     y=labels)\n",
    "\n",
    "weights = {i: weight for i, weight in enumerate(weights)}\n",
    "\n",
    "print(weights)"
   ]
  },
  {
   "cell_type": "code",
   "execution_count": 200,
   "id": "81377858",
   "metadata": {},
   "outputs": [
    {
     "name": "stdout",
     "output_type": "stream",
     "text": [
      "Epoch 1/10\n",
      "171/171 [==============================] - 152s 886ms/step - loss: 1.0981 - f1_score: 0.2938 - val_loss: 1.0864 - val_f1_score: 0.3178 - lr: 2.5000e-05\n",
      "Epoch 2/10\n",
      "171/171 [==============================] - 146s 854ms/step - loss: 1.0909 - f1_score: 0.3677 - val_loss: 1.0801 - val_f1_score: 0.3344 - lr: 2.4911e-05\n",
      "Epoch 3/10\n",
      "171/171 [==============================] - 132s 773ms/step - loss: 1.0831 - f1_score: 0.4410 - val_loss: 1.0716 - val_f1_score: 0.3548 - lr: 2.4822e-05\n",
      "Epoch 4/10\n",
      "171/171 [==============================] - 139s 813ms/step - loss: 1.0737 - f1_score: 0.4964 - val_loss: 1.0595 - val_f1_score: 0.3667 - lr: 2.4734e-05\n",
      "Epoch 5/10\n",
      "171/171 [==============================] - 188s 1s/step - loss: 1.0613 - f1_score: 0.5448 - val_loss: 1.0444 - val_f1_score: 0.3818 - lr: 2.4646e-05\n",
      "Epoch 6/10\n",
      "171/171 [==============================] - 177s 1s/step - loss: 1.0424 - f1_score: 0.5757 - val_loss: 1.0144 - val_f1_score: 0.4005 - lr: 2.4558e-05\n",
      "Epoch 7/10\n",
      "171/171 [==============================] - 189s 1s/step - loss: 1.0051 - f1_score: 0.6155 - val_loss: 0.8939 - val_f1_score: 0.3912 - lr: 2.4471e-05\n",
      "Epoch 8/10\n",
      "171/171 [==============================] - 179s 1s/step - loss: 0.9309 - f1_score: 0.5899 - val_loss: 0.8330 - val_f1_score: 0.3975 - lr: 2.4384e-05\n",
      "Epoch 9/10\n",
      "171/171 [==============================] - 192s 1s/step - loss: 0.8598 - f1_score: 0.6236 - val_loss: 0.7675 - val_f1_score: 0.4037 - lr: 2.4297e-05\n",
      "Epoch 10/10\n",
      "171/171 [==============================] - 167s 974ms/step - loss: 0.8028 - f1_score: 0.6502 - val_loss: 0.7494 - val_f1_score: 0.4324 - lr: 2.4210e-05\n"
     ]
    },
    {
     "data": {
      "text/plain": [
       "<keras.src.callbacks.History at 0x1adca915410>"
      ]
     },
     "execution_count": 200,
     "metadata": {},
     "output_type": "execute_result"
    }
   ],
   "source": [
    "model.fit(X_train,\n",
    "          y_train,\n",
    "          batch_size=32,\n",
    "          epochs=10,\n",
    "          callbacks=[scheduler],\n",
    "          class_weight=weights,\n",
    "          validation_data=(X_test, y_test))"
   ]
  },
  {
   "cell_type": "code",
   "execution_count": 202,
   "id": "4643e29f",
   "metadata": {},
   "outputs": [
    {
     "name": "stdout",
     "output_type": "stream",
     "text": [
      "57/57 [==============================] - 18s 315ms/step\n"
     ]
    }
   ],
   "source": [
    "# probs_train = model.predict(X_train)\n",
    "probs_test = model.predict(X_test)"
   ]
  },
  {
   "cell_type": "code",
   "execution_count": 205,
   "id": "25224e17",
   "metadata": {},
   "outputs": [
    {
     "name": "stdout",
     "output_type": "stream",
     "text": [
      "Best thr: 0.01\n",
      "Best score: 0.3808113465554342\n"
     ]
    }
   ],
   "source": [
    "best_thr = 0\n",
    "best_score = 0\n",
    "\n",
    "for i in range(1, 100):\n",
    "    thr = 0.01 * i\n",
    "    \n",
    "    pred_test = [\n",
    "        row.argmax() if row.argmax() == 1 and row.max() >= thr\n",
    "        else row[0:3:2].argmax()\n",
    "        for row in probs_test\n",
    "    ]\n",
    "    \n",
    "    score = f1_score([row.argmax() for row in y_test], pred_test, average='macro')\n",
    "    \n",
    "    if best_score < score:\n",
    "        best_score = score\n",
    "        best_thr = thr\n",
    "        \n",
    "print(f'Best thr: {best_thr}')\n",
    "print(f'Best score: {best_score}')"
   ]
  },
  {
   "cell_type": "code",
   "execution_count": 206,
   "id": "f4198c26",
   "metadata": {},
   "outputs": [
    {
     "name": "stdout",
     "output_type": "stream",
     "text": [
      "\n",
      "Test:\n",
      "              precision    recall  f1-score   support\n",
      "\n",
      "           0       0.17      0.36      0.23        91\n",
      "           1       0.93      0.87      0.90      1635\n",
      "           2       0.18      0.16      0.17        91\n",
      "\n",
      "    accuracy                           0.81      1817\n",
      "   macro avg       0.42      0.47      0.43      1817\n",
      "weighted avg       0.85      0.81      0.83      1817\n",
      "\n"
     ]
    },
    {
     "data": {
      "image/png": "[encoded data removed]",
      "text/plain": [
       "<Figure size 800x500 with 2 Axes>"
      ]
     },
     "metadata": {},
     "output_type": "display_data"
    }
   ],
   "source": [
    "# preds_train = [row.argmax() for row in probs_train]\n",
    "\n",
    "# print('Train:')\n",
    "# print(classification_report([row.argmax() for row in y_train], preds_train))\n",
    "# plot_cm(y_train, preds_train)\n",
    "\n",
    "preds_test = [row.argmax() for row in probs_test]\n",
    "\n",
    "print('\\nTest:')\n",
    "print(classification_report([row.argmax() for row in y_test], preds_test))\n",
    "plot_cm(y_test, preds_test)"
   ]
  },
  {
   "cell_type": "markdown",
   "id": "6ea30415",
   "metadata": {},
   "source": [
    "**Результаты экспериментов:** (все дальнейшие условия проверялись как вместе, так и обособленно)\n",
    "- Усложнение модели путем добавления Dense+ReLU+Dropout (одного или нексольких)\n",
    "- Усложнение модели путем использования Bi-LSTM\n",
    "- Увеличение/уменьшение batch_size\n",
    "- Увеличение/уменьшение числа lstm_units\n",
    "- Увеличение/уменьшение размерности эмбеддингов\n",
    "- Увеличение/уменьшение максимальной длины текста\n",
    "- Обучение на большом количестве эпох\n",
    "- Подбор learning rate\n",
    "\n",
    "Все это было проделано на пути к получению финальной версии модели.   \n",
    "Как можно заметить, качество, конечно, лучше, чем в случае TfidfVectorizer+XGBClassifier, но все еще достаточно посредственное"
   ]
  },
  {
   "cell_type": "markdown",
   "id": "0ae66051",
   "metadata": {},
   "source": [
    "## BERT Fine-tuning"
   ]
  },
  {
   "cell_type": "code",
   "execution_count": 9,
   "id": "fe7bdc4c",
   "metadata": {},
   "outputs": [],
   "source": [
    "bert = AutoModel.from_pretrained('DeepPavlov/rubert-base-cased')\n",
    "tokenizer = BertTokenizer.from_pretrained('DeepPavlov/rubert-base-cased')"
   ]
  },
  {
   "cell_type": "markdown",
   "id": "850d38bc",
   "metadata": {},
   "source": [
    "Берем непредобработанные тексты, так как \"rubert-base-cased\" обучался именно на таких"
   ]
  },
  {
   "cell_type": "code",
   "execution_count": 10,
   "id": "fdb36d12",
   "metadata": {},
   "outputs": [],
   "source": [
    "X, y = df_comp.body, df_comp.price_diff_cat\n",
    "\n",
    "X_train, X_test, y_train, y_test = train_test_split(X,\n",
    "                                                    y,\n",
    "                                                    random_state=42,\n",
    "                                                    test_size=0.25,\n",
    "                                                    stratify=y)"
   ]
  },
  {
   "cell_type": "code",
   "execution_count": 11,
   "id": "9e93dfa5",
   "metadata": {},
   "outputs": [],
   "source": [
    "size = 500\n",
    "\n",
    "tokens_train = tokenizer.batch_encode_plus(\n",
    "    X_train.values,\n",
    "    max_length = size,\n",
    "    padding = 'max_length',\n",
    "    truncation = True\n",
    ")\n",
    "\n",
    "tokens_test = tokenizer.batch_encode_plus(\n",
    "    X_test.values,\n",
    "    max_length = size,\n",
    "    padding = 'max_length',\n",
    "    truncation = True\n",
    ")"
   ]
  },
  {
   "cell_type": "code",
   "execution_count": 12,
   "id": "9edceb4c",
   "metadata": {},
   "outputs": [],
   "source": [
    "train_seq = torch.tensor(tokens_train['input_ids'])\n",
    "train_mask = torch.tensor(tokens_train['attention_mask'])\n",
    "train_y = torch.tensor(y_train.values)\n",
    "\n",
    "test_seq = torch.tensor(tokens_test['input_ids'])\n",
    "test_mask = torch.tensor(tokens_test['attention_mask'])\n",
    "test_y = torch.tensor(y_test.values)"
   ]
  },
  {
   "cell_type": "code",
   "execution_count": 13,
   "id": "ad82ef93",
   "metadata": {},
   "outputs": [],
   "source": [
    "batch_size = 32\n",
    "\n",
    "train_data = TensorDataset(train_seq, train_mask, train_y)\n",
    "train_sampler = RandomSampler(train_data)\n",
    "train_dataloader = DataLoader(train_data,\n",
    "                              sampler=train_sampler,\n",
    "                              batch_size=batch_size)\n",
    "\n",
    "test_data = TensorDataset(test_seq, test_mask, test_y)\n",
    "test_sampler = SequentialSampler(test_data)\n",
    "test_dataloader = DataLoader(test_data,\n",
    "                            sampler=test_sampler,\n",
    "                            batch_size=batch_size)"
   ]
  },
  {
   "cell_type": "code",
   "execution_count": 14,
   "id": "6a6320e0",
   "metadata": {},
   "outputs": [],
   "source": [
    "for param in bert.parameters():\n",
    "    param.requires_grad = False\n",
    "\n",
    "\n",
    "class BERT_Arch(nn.Module):\n",
    "    def __init__(self, bert):\n",
    "        super(BERT_Arch, self).__init__()\n",
    "        self.bert = bert\n",
    "        self.dropout = nn.Dropout(0.2)\n",
    "        self.relu = nn.ReLU()\n",
    "        self.fc1 = nn.Linear(768, 512)\n",
    "        self.fc2 = nn.Linear(512, 3)\n",
    "        self.softmax = nn.LogSoftmax(dim=1)\n",
    "\n",
    "    def forward(self, sent_id, mask):\n",
    "        _, cls_hs = self.bert(sent_id, attention_mask=mask, return_dict=False)\n",
    "        x = self.fc1(cls_hs)\n",
    "        x = self.relu(x)\n",
    "        x = self.dropout(x)\n",
    "        x = self.fc2(x)\n",
    "        x = self.softmax(x)\n",
    "        return x"
   ]
  },
  {
   "cell_type": "code",
   "execution_count": 20,
   "id": "2c75c250",
   "metadata": {},
   "outputs": [
    {
     "name": "stdout",
     "output_type": "stream",
     "text": [
      "[6.65445665 0.37044589 6.65445665]\n"
     ]
    }
   ],
   "source": [
    "class_weights = compute_class_weight(class_weight='balanced',\n",
    "                                     classes=np.unique(y_train),\n",
    "                                     y=y_train)\n",
    "\n",
    "print(class_weights)\n",
    "\n",
    "weights = torch.tensor(class_weights, dtype = torch.float)\n",
    "weights = weights.to(device)"
   ]
  },
  {
   "cell_type": "code",
   "execution_count": 21,
   "id": "d6ae0b56",
   "metadata": {},
   "outputs": [],
   "source": [
    "model = BERT_Arch(bert)\n",
    "model = model.to(device)\n",
    "optimizer = torch.optim.AdamW(model.parameters(), lr=1e-6)\n",
    "\n",
    "nll_loss = nn.NLLLoss(weight=weights)\n",
    "epochs = 10"
   ]
  },
  {
   "cell_type": "code",
   "execution_count": 22,
   "id": "ee466bcf",
   "metadata": {},
   "outputs": [],
   "source": [
    "def train():\n",
    "    model.train()\n",
    "    total_loss, f1_macro = 0, 0\n",
    "    total_preds = []\n",
    "\n",
    "    for step, batch in tqdm(enumerate(train_dataloader),\n",
    "                            total=len(train_dataloader)):\n",
    "        batch = [r.to(device) for r in batch]\n",
    "        sent_id, mask, labels = batch\n",
    "        \n",
    "        model.zero_grad()\n",
    "        preds = model(sent_id, mask)\n",
    "        loss = nll_loss(preds, labels)\n",
    "        total_loss += loss.item()\n",
    "        loss.backward()\n",
    "        \n",
    "        torch.nn.utils.clip_grad_norm_(model.parameters(), 1.0)\n",
    "        \n",
    "        optimizer.step()\n",
    "        \n",
    "        preds = preds.detach().cpu().numpy()\n",
    "        total_preds.extend(preds)\n",
    "\n",
    "    avg_loss = total_loss / len(train_dataloader)\n",
    "    \n",
    "    pred_train = [row.argmax() for row in np.exp(np.array(total_preds))]\n",
    "    f1_macro = f1_score(train_y, pred_train, average='macro')\n",
    "\n",
    "    return avg_loss, f1_macro\n",
    "\n",
    "\n",
    "def evaluate():\n",
    "    model.eval()\n",
    "    total_loss, f1_macro = 0, 0\n",
    "    total_preds = []\n",
    "\n",
    "    for step, batch in tqdm(enumerate(test_dataloader),\n",
    "                            total=len(test_dataloader)):\n",
    "        batch = [t.to(device) for t in batch]\n",
    "        sent_id, mask, labels = batch\n",
    "\n",
    "        with torch.no_grad():\n",
    "            preds = model(sent_id, mask)\n",
    "            loss = nll_loss(preds, labels)\n",
    "            total_loss = total_loss + loss.item()\n",
    "            preds = preds.detach().cpu().numpy()\n",
    "            total_preds.extend(preds)\n",
    "\n",
    "    avg_loss = total_loss / len(test_dataloader)\n",
    "    \n",
    "    pred_test = [row.argmax() for row in np.exp(np.array(total_preds))]\n",
    "    f1_macro = f1_score(test_y, pred_test, average='macro')\n",
    "\n",
    "    return avg_loss, f1_macro"
   ]
  },
  {
   "cell_type": "code",
   "execution_count": 23,
   "id": "805b9ede",
   "metadata": {},
   "outputs": [],
   "source": [
    "from IPython.display import clear_output\n",
    "\n",
    "def plot_losses(train_losses, test_metrics):\n",
    "    clear_output()\n",
    "    plt.figure(figsize=(6, 4))\n",
    "    plt.plot(range(1, len(train_losses) + 1), train_losses, label='train', color='deepskyblue', linewidth=2)\n",
    "    plt.plot(range(1, len(test_metrics) + 1), test_metrics, label='test', color='springgreen', linewidth=2)\n",
    "    plt.ylabel('loss')\n",
    "    plt.xlabel('epoch')\n",
    "    plt.legend()\n",
    "    plt.show()\n",
    "    \n",
    "def plot_metric(train_metrics, test_metrics):\n",
    "    plt.figure(figsize=(6, 4))\n",
    "    plt.plot(range(1, len(train_metrics) + 1), train_metrics, label='train', color='deepskyblue', linewidth=2)\n",
    "    plt.plot(range(1, len(test_metrics) + 1), test_metrics, label='test', color='springgreen', linewidth=2)\n",
    "    plt.ylabel('f1_macro')\n",
    "    plt.xlabel('epoch')\n",
    "    plt.legend()\n",
    "    plt.show()"
   ]
  },
  {
   "cell_type": "code",
   "execution_count": 24,
   "id": "46365fe2",
   "metadata": {
    "scrolled": false
   },
   "outputs": [
    {
     "data": {
      "image/png": "[encoded data removed]",
      "text/plain": [
       "<Figure size 600x400 with 1 Axes>"
      ]
     },
     "metadata": {},
     "output_type": "display_data"
    },
    {
     "data": {
      "image/png": "[encoded data removed]",
      "text/plain": [
       "<Figure size 600x400 with 1 Axes>"
      ]
     },
     "metadata": {},
     "output_type": "display_data"
    }
   ],
   "source": [
    "best_test_loss = float('inf')\n",
    "\n",
    "train_losses = []\n",
    "test_losses = []\n",
    "\n",
    "train_metrics = []\n",
    "test_metrics = []\n",
    "\n",
    "for epoch in range(epochs):\n",
    "    print('\\n Epoch {:} / {:}'.format(epoch + 1, epochs))\n",
    "\n",
    "    train_loss, train_metric = train()\n",
    "    test_loss, test_metric = evaluate()\n",
    "\n",
    "    if test_loss < best_test_loss:\n",
    "        best_test_loss = test_loss\n",
    "        torch.save(model.state_dict(), 'saved_weights.pt')\n",
    "\n",
    "    train_losses.append(train_loss)\n",
    "    train_metrics.append(train_metric)\n",
    "\n",
    "    test_losses.append(test_loss)\n",
    "    test_metrics.append(test_metric)\n",
    "\n",
    "    print(f'\\nTrain loss: {train_loss:.3f}')\n",
    "    print(f'Train f1: {train_metric:.3f}')\n",
    "    print(f'Test loss: {test_loss:.3f}')\n",
    "    print(f'Test f1: {test_metric:.3f}')\n",
    "\n",
    "plot_losses(train_losses, test_losses)\n",
    "plot_metric(train_metrics, test_metrics)\n",
    "\n",
    "torch.cuda.empty_cache()"
   ]
  },
  {
   "cell_type": "markdown",
   "id": "ada22214",
   "metadata": {},
   "source": [
    "**Результаты экспериментов:** (все дальнейшие условия проверялись как вместе, так и обособленно)\n",
    "- Усложнение модели путем добавления Dense+ReLU+Dropout (одного или нексольких)\n",
    "- Увеличение/уменьшение batch_size\n",
    "- Увеличение/уменьшение максимальной длины текста\n",
    "- Обучение на большом количестве эпох\n",
    "- Подбор learning rate\n",
    "\n",
    "Все это было проделано на пути к получению финальной версии модели.   \n",
    "Как можно заметить, мы даже не смогли получить качество лучше чем на TfidfVectorizer+XGBClassifier"
   ]
  },
  {
   "cell_type": "markdown",
   "id": "e93bd5da",
   "metadata": {},
   "source": [
    "# Conclusions"
   ]
  },
  {
   "cell_type": "markdown",
   "id": "69f62848",
   "metadata": {},
   "source": [
    "**Модель:** Лучшей моделью оказалась LSTM "
   ]
  },
  {
   "cell_type": "markdown",
   "id": "a4b1b768",
   "metadata": {},
   "source": [
    "**Общие выводы:**   \n",
    "Как можно понять, хорошую модель обучить у нас не получилось какую бы конфигурацию мы не подбирали (но, по крайней мере, лучшая модель имеет качество лучше чем просто случайное предсказание)\n",
    "\n",
    "У нас есть несколько гипотез, почему так произошло:\n",
    "1. Слишком мало данных\n",
    "2. Мы пытаемся смоделировать то, что не поддается моделированию\n",
    "\n",
    "Так как 2-ую проблему мы решить не можем, остается только собрать больше данных и построить модель на них. Это и будет нашим следующим 'чекпоинтом'\n",
    "\n",
    "Если же большее количество данных не поможет улучшить качество модели, то мы откажемся от нынешней задачи и попробуем решить другую поддающуюся решению схожую задачу на этих данных"
   ]
  },
  {
   "cell_type": "code",
   "execution_count": null,
   "id": "42404ba9",
   "metadata": {},
   "outputs": [],
   "source": []
  },
  {
   "cell_type": "code",
   "execution_count": null,
   "id": "a4ad5b98",
   "metadata": {},
   "outputs": [],
   "source": []
  },
  {
   "cell_type": "code",
   "execution_count": null,
   "id": "19c09a21",
   "metadata": {},
   "outputs": [],
   "source": []
  },
  {
   "cell_type": "code",
   "execution_count": null,
   "id": "eef15ba0",
   "metadata": {},
   "outputs": [],
   "source": []
  },
  {
   "cell_type": "code",
   "execution_count": null,
   "id": "66fa0221",
   "metadata": {},
   "outputs": [],
   "source": [
    "texts = df_comp['text_clear']\n",
    "labels = df_comp['<>']\n",
    "\n",
    "X_train, X_test, y_train, y_test = train_test_split(texts,\n",
    "                                                    labels,\n",
    "                                                    random_state=42,\n",
    "                                                    test_size=0.25,\n",
    "                                                    stratify=labels)"
   ]
  },
  {
   "cell_type": "code",
   "execution_count": null,
   "id": "bb2ef257",
   "metadata": {},
   "outputs": [],
   "source": []
  },
  {
   "cell_type": "code",
   "execution_count": null,
   "id": "a61f9637",
   "metadata": {},
   "outputs": [],
   "source": []
  },
  {
   "cell_type": "code",
   "execution_count": null,
   "id": "5bc2b6c9",
   "metadata": {},
   "outputs": [],
   "source": [
    "max_words = 10000 # max number of words to use in the vocabulary\n",
    "max_len = 500 # max length of each text (in terms of number of words)\n",
    "embedding_dim = 500 # dimension of word embeddings\n",
    "lstm_units = 32 # number of units in the LSTM layer\n",
    "num_classes = len(set(labels)) # number of classes\n",
    "\n",
    "tokenizer = Tokenizer(num_words=max_words)\n",
    "tokenizer.fit_on_texts(X_train)\n",
    "\n",
    "sequences_train = tokenizer.texts_to_sequences(X_train)\n",
    "sequences_test = tokenizer.texts_to_sequences(X_test)\n",
    "\n",
    "X_train = pad_sequences(sequences_train, maxlen=max_len)\n",
    "X_test = pad_sequences(sequences_test, maxlen=max_len)\n",
    "\n",
    "y_train = pd.get_dummies(y_train).values\n",
    "y_test = pd.get_dummies(y_test).values"
   ]
  },
  {
   "cell_type": "code",
   "execution_count": null,
   "id": "6e6ae3b2",
   "metadata": {},
   "outputs": [],
   "source": [
    "keras.backend.clear_session()\n",
    "\n",
    "model = Sequential()\n",
    "model.add(Embedding(max_words, embedding_dim, input_length=max_len))\n",
    "model.add(LSTM(lstm_units))\n",
    "model.add(Dense(num_classes, activation='sigmoid'))\n",
    "\n",
    "model.compile(loss='categorical_crossentropy',\n",
    "              optimizer=tf.keras.optimizers.Adam(clipvalue=0.7),\n",
    "              metrics=[tfa.metrics.F1Score(num_classes=num_classes)])\n",
    "\n",
    "scheduler = keras.callbacks.LearningRateScheduler(\n",
    "    tf.keras.optimizers.schedules.ExponentialDecay(initial_learning_rate=5e-5, decay_rate=0.85, decay_steps=100)\n",
    ")\n",
    "\n",
    "model.summary()"
   ]
  },
  {
   "cell_type": "code",
   "execution_count": null,
   "id": "12f0a6e0",
   "metadata": {},
   "outputs": [],
   "source": [
    "weights = compute_class_weight(class_weight='balanced',\n",
    "                                     classes=np.unique(labels),\n",
    "                                     y=labels)\n",
    "\n",
    "weights = {i: weight for i, weight in enumerate(weights)}\n",
    "\n",
    "print(weights)"
   ]
  },
  {
   "cell_type": "code",
   "execution_count": null,
   "id": "179ec45f",
   "metadata": {},
   "outputs": [],
   "source": [
    "model.fit(X_train,\n",
    "          y_train,\n",
    "          batch_size=32,\n",
    "          epochs=10,\n",
    "          callbacks=[scheduler],\n",
    "          class_weight=weights,\n",
    "          validation_data=(X_test, y_test))"
   ]
  },
  {
   "cell_type": "code",
   "execution_count": null,
   "id": "b9cbe4fb",
   "metadata": {},
   "outputs": [],
   "source": [
    "model.save('artifacts/glob/glob_moex_model.keras')"
   ]
  },
  {
   "cell_type": "code",
   "execution_count": null,
   "id": "d78d47f1",
   "metadata": {},
   "outputs": [],
   "source": [
    "keras.models.load_model('artifacts/glob/glob_moex_model.keras')"
   ]
  },
  {
   "cell_type": "code",
   "execution_count": null,
   "id": "f780ddc4",
   "metadata": {},
   "outputs": [],
   "source": []
  },
  {
   "cell_type": "code",
   "execution_count": null,
   "id": "26080c1c",
   "metadata": {},
   "outputs": [],
   "source": []
  }
 ],
 "metadata": {
  "kernelspec": {
   "display_name": "Python 3 (ipykernel)",
   "language": "python",
   "name": "python3"
  },
  "language_info": {
   "codemirror_mode": {
    "name": "ipython",
    "version": 3
   },
   "file_extension": ".py",
   "mimetype": "text/x-python",
   "name": "python",
   "nbconvert_exporter": "python",
   "pygments_lexer": "ipython3",
   "version": "3.11.4"
  },
  "toc": {
   "base_numbering": 1,
   "nav_menu": {},
   "number_sections": true,
   "sideBar": true,
   "skip_h1_title": false,
   "title_cell": "Table of Contents",
   "title_sidebar": "Contents",
   "toc_cell": false,
   "toc_position": {
    "height": "calc(100% - 180px)",
    "left": "10px",
    "top": "150px",
    "width": "278.6px"
   },
   "toc_section_display": true,
   "toc_window_display": false
  }
 },
 "nbformat": 4,
 "nbformat_minor": 5
}
