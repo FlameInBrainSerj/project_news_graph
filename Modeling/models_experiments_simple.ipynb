{
 "cells": [
  {
   "cell_type": "code",
   "execution_count": 1,
   "metadata": {},
   "outputs": [
    {
     "name": "stderr",
     "output_type": "stream",
     "text": [
      "c:\\Users\\maxod\\Desktop\\tutorial\\.venv\\Lib\\site-packages\\tqdm\\auto.py:21: TqdmWarning: IProgress not found. Please update jupyter and ipywidgets. See https://ipywidgets.readthedocs.io/en/stable/user_install.html\n",
      "  from .autonotebook import tqdm as notebook_tqdm\n"
     ]
    }
   ],
   "source": [
    "import numpy as np\n",
    "import pandas as pd\n",
    "import re\n",
    "from tqdm import tqdm\n",
    "from sqlalchemy import create_engine\n",
    "from sklearn.model_selection import train_test_split\n",
    "from sklearn.neighbors import KNeighborsClassifier\n",
    "from sklearn.linear_model import LogisticRegression\n",
    "from sklearn.ensemble import RandomForestClassifier\n",
    "from sklearn.feature_extraction.text import TfidfVectorizer\n",
    "from sklearn.svm import SVC\n",
    "import matplotlib.pyplot as plt\n",
    "from sklearn.metrics import (ConfusionMatrixDisplay, confusion_matrix,\n",
    "                             f1_score, roc_auc_score, classification_report,\n",
    "                             make_scorer, accuracy_score)\n",
    "from nltk.corpus import stopwords\n",
    "from nltk.tokenize import word_tokenize\n",
    "import optuna\n",
    "from natasha import (\n",
    "    Segmenter,\n",
    "    MorphVocab,\n",
    "    NewsEmbedding,\n",
    "    NewsMorphTagger,\n",
    "    NewsNERTagger,\n",
    "    Doc\n",
    ")"
   ]
  },
  {
   "cell_type": "code",
   "execution_count": 2,
   "metadata": {},
   "outputs": [],
   "source": [
    "username = '...'\n",
    "password = '...'\n",
    "host = '...'\n",
    "port = '...'\n",
    "database = '...'\n",
    "conn_string = f'postgresql://{username}:{password}@{host}:{port}/{database}'"
   ]
  },
  {
   "cell_type": "markdown",
   "metadata": {},
   "source": [
    "# Компании"
   ]
  },
  {
   "cell_type": "code",
   "execution_count": 3,
   "metadata": {},
   "outputs": [
    {
     "name": "stdout",
     "output_type": "stream",
     "text": [
      "(7267, 17)\n"
     ]
    },
    {
     "data": {
      "text/html": [
       "<div>\n",
       "<style scoped>\n",
       "    .dataframe tbody tr th:only-of-type {\n",
       "        vertical-align: middle;\n",
       "    }\n",
       "\n",
       "    .dataframe tbody tr th {\n",
       "        vertical-align: top;\n",
       "    }\n",
       "\n",
       "    .dataframe thead th {\n",
       "        text-align: right;\n",
       "    }\n",
       "</style>\n",
       "<table border=\"1\" class=\"dataframe\">\n",
       "  <thead>\n",
       "    <tr style=\"text-align: right;\">\n",
       "      <th></th>\n",
       "      <th>website</th>\n",
       "      <th>section</th>\n",
       "      <th>url</th>\n",
       "      <th>header</th>\n",
       "      <th>body</th>\n",
       "      <th>tags</th>\n",
       "      <th>body_length</th>\n",
       "      <th>datetime</th>\n",
       "      <th>company</th>\n",
       "      <th>price_release</th>\n",
       "      <th>volume_release</th>\n",
       "      <th>price_lag_30</th>\n",
       "      <th>volume_lag_30</th>\n",
       "      <th>price_diff</th>\n",
       "      <th>price_diff_percent</th>\n",
       "      <th>volume_diff</th>\n",
       "      <th>volume_diff_percent</th>\n",
       "    </tr>\n",
       "  </thead>\n",
       "  <tbody>\n",
       "    <tr>\n",
       "      <th>0</th>\n",
       "      <td>РИА</td>\n",
       "      <td>Экономика</td>\n",
       "      <td>https://ria.ru/20230103/banki-1842907991.html</td>\n",
       "      <td>Эксперт рассказал о развитии исламского банкин...</td>\n",
       "      <td>Порядка 10-15 филиалов исламского банкинга м...</td>\n",
       "      <td>['Экономика', 'Россия', 'Сбербанк России']</td>\n",
       "      <td>1759</td>\n",
       "      <td>2023-01-03 10:16:00</td>\n",
       "      <td>SBER</td>\n",
       "      <td>142.75</td>\n",
       "      <td>11917688.40</td>\n",
       "      <td>142.62</td>\n",
       "      <td>2958789.90</td>\n",
       "      <td>-0.13</td>\n",
       "      <td>-0.091068</td>\n",
       "      <td>-8958898.5</td>\n",
       "      <td>-75.173122</td>\n",
       "    </tr>\n",
       "    <tr>\n",
       "      <th>1</th>\n",
       "      <td>РИА</td>\n",
       "      <td>Экономика</td>\n",
       "      <td>https://ria.ru/20230103/gazprom-1842940413.html</td>\n",
       "      <td>Экспорт \"Газпрома\" снизился до минимума с конц...</td>\n",
       "      <td>Объём экспорта \"Газпрома\" в прошедшем году с...</td>\n",
       "      <td>['Экономика', 'Газпром', 'Россия']</td>\n",
       "      <td>1299</td>\n",
       "      <td>2023-01-03 14:22:00</td>\n",
       "      <td>GAZP</td>\n",
       "      <td>163.13</td>\n",
       "      <td>1100961.10</td>\n",
       "      <td>163.37</td>\n",
       "      <td>1413064.30</td>\n",
       "      <td>0.24</td>\n",
       "      <td>0.147122</td>\n",
       "      <td>312103.2</td>\n",
       "      <td>28.348250</td>\n",
       "    </tr>\n",
       "    <tr>\n",
       "      <th>2</th>\n",
       "      <td>РИА</td>\n",
       "      <td>Экономика</td>\n",
       "      <td>https://ria.ru/20230104/shelf-1843063413.html</td>\n",
       "      <td>Ямальской шельфовой компании предоставили два ...</td>\n",
       "      <td>Правительство РФ предоставило Ямальской шель...</td>\n",
       "      <td>['Экономика', 'Карское море', 'Россия']</td>\n",
       "      <td>1719</td>\n",
       "      <td>2023-01-04 16:36:00</td>\n",
       "      <td>ROSN</td>\n",
       "      <td>363.70</td>\n",
       "      <td>178263.05</td>\n",
       "      <td>364.85</td>\n",
       "      <td>321423.75</td>\n",
       "      <td>1.15</td>\n",
       "      <td>0.316195</td>\n",
       "      <td>143160.7</td>\n",
       "      <td>80.308679</td>\n",
       "    </tr>\n",
       "    <tr>\n",
       "      <th>3</th>\n",
       "      <td>Kommersant</td>\n",
       "      <td>Фондовый рынок</td>\n",
       "      <td>https://www.kommersant.ru/doc/5757640</td>\n",
       "      <td>Нестабильный рост</td>\n",
       "      <td>Минувший год запомнится инвесторам как время с...</td>\n",
       "      <td>None</td>\n",
       "      <td>12414</td>\n",
       "      <td>2023-01-06 10:02:00</td>\n",
       "      <td>SBER</td>\n",
       "      <td>141.31</td>\n",
       "      <td>1573757.40</td>\n",
       "      <td>141.40</td>\n",
       "      <td>2401025.00</td>\n",
       "      <td>0.09</td>\n",
       "      <td>0.063690</td>\n",
       "      <td>827267.6</td>\n",
       "      <td>52.566399</td>\n",
       "    </tr>\n",
       "    <tr>\n",
       "      <th>4</th>\n",
       "      <td>Kommersant</td>\n",
       "      <td>Фондовый рынок</td>\n",
       "      <td>https://www.kommersant.ru/doc/5757640</td>\n",
       "      <td>Нестабильный рост</td>\n",
       "      <td>Минувший год запомнится инвесторам как время с...</td>\n",
       "      <td>None</td>\n",
       "      <td>12414</td>\n",
       "      <td>2023-01-06 10:02:00</td>\n",
       "      <td>GAZP</td>\n",
       "      <td>161.69</td>\n",
       "      <td>4620114.20</td>\n",
       "      <td>161.60</td>\n",
       "      <td>1373716.00</td>\n",
       "      <td>-0.09</td>\n",
       "      <td>-0.055662</td>\n",
       "      <td>-3246398.2</td>\n",
       "      <td>-70.266622</td>\n",
       "    </tr>\n",
       "  </tbody>\n",
       "</table>\n",
       "</div>"
      ],
      "text/plain": [
       "      website         section  \\\n",
       "0         РИА       Экономика   \n",
       "1         РИА       Экономика   \n",
       "2         РИА       Экономика   \n",
       "3  Kommersant  Фондовый рынок   \n",
       "4  Kommersant  Фондовый рынок   \n",
       "\n",
       "                                               url  \\\n",
       "0    https://ria.ru/20230103/banki-1842907991.html   \n",
       "1  https://ria.ru/20230103/gazprom-1842940413.html   \n",
       "2    https://ria.ru/20230104/shelf-1843063413.html   \n",
       "3            https://www.kommersant.ru/doc/5757640   \n",
       "4            https://www.kommersant.ru/doc/5757640   \n",
       "\n",
       "                                              header  \\\n",
       "0  Эксперт рассказал о развитии исламского банкин...   \n",
       "1  Экспорт \"Газпрома\" снизился до минимума с конц...   \n",
       "2  Ямальской шельфовой компании предоставили два ...   \n",
       "3                                  Нестабильный рост   \n",
       "4                                  Нестабильный рост   \n",
       "\n",
       "                                                body  \\\n",
       "0    Порядка 10-15 филиалов исламского банкинга м...   \n",
       "1    Объём экспорта \"Газпрома\" в прошедшем году с...   \n",
       "2    Правительство РФ предоставило Ямальской шель...   \n",
       "3  Минувший год запомнится инвесторам как время с...   \n",
       "4  Минувший год запомнится инвесторам как время с...   \n",
       "\n",
       "                                         tags  body_length  \\\n",
       "0  ['Экономика', 'Россия', 'Сбербанк России']         1759   \n",
       "1          ['Экономика', 'Газпром', 'Россия']         1299   \n",
       "2     ['Экономика', 'Карское море', 'Россия']         1719   \n",
       "3                                        None        12414   \n",
       "4                                        None        12414   \n",
       "\n",
       "             datetime company  price_release  volume_release  price_lag_30  \\\n",
       "0 2023-01-03 10:16:00    SBER         142.75     11917688.40        142.62   \n",
       "1 2023-01-03 14:22:00    GAZP         163.13      1100961.10        163.37   \n",
       "2 2023-01-04 16:36:00    ROSN         363.70       178263.05        364.85   \n",
       "3 2023-01-06 10:02:00    SBER         141.31      1573757.40        141.40   \n",
       "4 2023-01-06 10:02:00    GAZP         161.69      4620114.20        161.60   \n",
       "\n",
       "   volume_lag_30  price_diff  price_diff_percent  volume_diff  \\\n",
       "0     2958789.90       -0.13           -0.091068   -8958898.5   \n",
       "1     1413064.30        0.24            0.147122     312103.2   \n",
       "2      321423.75        1.15            0.316195     143160.7   \n",
       "3     2401025.00        0.09            0.063690     827267.6   \n",
       "4     1373716.00       -0.09           -0.055662   -3246398.2   \n",
       "\n",
       "   volume_diff_percent  \n",
       "0           -75.173122  \n",
       "1            28.348250  \n",
       "2            80.308679  \n",
       "3            52.566399  \n",
       "4           -70.266622  "
      ]
     },
     "execution_count": 3,
     "metadata": {},
     "output_type": "execute_result"
    }
   ],
   "source": [
    "db = create_engine(conn_string) \n",
    "conn = db.connect() \n",
    "conn.autocommit = True\n",
    "\n",
    "dataframe = pd.read_sql_query('SELECT * FROM companies_trade', conn)\n",
    "conn.close()\n",
    "\n",
    "print(dataframe.shape)\n",
    "dataframe.head()"
   ]
  },
  {
   "cell_type": "code",
   "execution_count": 2,
   "metadata": {},
   "outputs": [],
   "source": [
    "additional_stopwords = [\n",
    "    'которых', 'которые', 'твой', 'которой', 'которого', 'сих', 'ком', 'свой',\n",
    "    'твоя', 'этими', 'слишком', 'нами', 'всему', 'будь', 'саму', 'чаще',\n",
    "    'ваше', 'сами', 'наш', 'затем', 'самих', 'наши', 'ту', 'каждое', 'мочь',\n",
    "    'весь', 'этим', 'наша', 'своих', 'оба', 'который', 'зато', 'те', 'этих',\n",
    "    'вся', 'ваш', 'такая', 'теми', 'ею', 'которая', 'нередко', 'каждая',\n",
    "    'также', 'чему', 'собой', 'самими', 'нем', 'вами', 'ими', 'откуда',\n",
    "    'такие', 'тому', 'та', 'очень', 'сама', 'нему', 'алло', 'оно', 'этому',\n",
    "    'кому', 'тобой', 'таки', 'твоё', 'каждые', 'твои', 'нею', 'самим', 'ваши',\n",
    "    'ваша', 'кем', 'мои', 'однако', 'сразу', 'свое', 'ними', 'всё', 'неё',\n",
    "    'тех', 'хотя', 'всем', 'тобою', 'тебе', 'одной', 'другие', 'само', 'эта',\n",
    "    'самой', 'моё', 'своей', 'такое', 'всею', 'будут', 'своего', 'кого',\n",
    "    'свои', 'мог', 'нам', 'особенно', 'её', 'самому', 'наше', 'кроме',\n",
    "    'вообще', 'вон', 'мною', 'никто', 'это'\n",
    "]\n",
    "\n",
    "stop_words = stopwords.words('russian') + additional_stopwords"
   ]
  },
  {
   "cell_type": "code",
   "execution_count": 3,
   "metadata": {},
   "outputs": [],
   "source": [
    "segmenter = Segmenter()\n",
    "morph_vocab = MorphVocab()\n",
    "\n",
    "emb = NewsEmbedding()\n",
    "morph_tagger = NewsMorphTagger(emb)\n",
    "\n",
    "ner_tagger = NewsNERTagger(emb)"
   ]
  },
  {
   "cell_type": "code",
   "execution_count": 4,
   "metadata": {},
   "outputs": [],
   "source": [
    "del_n = re.compile('\\n')\n",
    "del_tags = re.compile('<[^>]*>')\n",
    "del_brackets = re.compile('\\([^)]*\\)')\n",
    "clean_text = re.compile('[^а-яa-z\\s]')\n",
    "del_spaces = re.compile('\\s{2,}')\n",
    "\n",
    "\n",
    "def prepare_text(text):\n",
    "    text = del_n.sub(' ', str(text).lower())\n",
    "    text = del_tags.sub('', text)\n",
    "    text = del_brackets.sub('', text)\n",
    "    res_text = clean_text.sub('', text)\n",
    "    return del_spaces.sub(' ', res_text)\n",
    "\n",
    "\n",
    "def del_stopwords(text):\n",
    "    clean_tokens = tuple(\n",
    "        map(lambda x: x if x not in stop_words else '', word_tokenize(text)))\n",
    "    res_text = ' '.join(clean_tokens)\n",
    "    return res_text\n",
    "\n",
    "\n",
    "def lemmatize(text):\n",
    "    text = Doc(text)\n",
    "    text.segment(segmenter)\n",
    "    text.tag_morph(morph_tagger)\n",
    "    for token in text.tokens:\n",
    "        token.lemmatize(morph_vocab)\n",
    "    text.tag_ner(ner_tagger)\n",
    "    for span in text.spans:\n",
    "        span.normalize(morph_vocab)\n",
    "    return ' '.join([token.lemma for token in text.tokens])"
   ]
  },
  {
   "cell_type": "code",
   "execution_count": 7,
   "metadata": {},
   "outputs": [
    {
     "name": "stderr",
     "output_type": "stream",
     "text": [
      "  0%|          | 1/7267 [00:00<17:18,  7.00it/s]"
     ]
    },
    {
     "name": "stderr",
     "output_type": "stream",
     "text": [
      "100%|██████████| 7267/7267 [04:34<00:00, 26.48it/s]\n"
     ]
    }
   ],
   "source": [
    "txt_lst = []\n",
    "txts = dataframe.body.copy()\n",
    "\n",
    "for text in tqdm(txts):\n",
    "    text = prepare_text(text)\n",
    "    text = del_stopwords(text)\n",
    "    text = lemmatize(text)\n",
    "    txt_lst.append(text)"
   ]
  },
  {
   "cell_type": "code",
   "execution_count": 8,
   "metadata": {},
   "outputs": [],
   "source": [
    "df_comp_safe = pd.concat(\n",
    "    [dataframe, pd.DataFrame(txt_lst, columns=['text_clear'])],\n",
    "    axis=1\n",
    ")\n",
    "\n",
    "df_comp_safe.to_csv('texts_comp.csv', index=False)"
   ]
  },
  {
   "cell_type": "code",
   "execution_count": 5,
   "metadata": {},
   "outputs": [],
   "source": [
    "del_n = re.compile('\\n')\n",
    "del_tags = re.compile('<[^>]*>')\n",
    "del_brackets = re.compile('\\([^)]*\\)')\n",
    "clean_text = re.compile('[^а-яa-z\\s]')\n",
    "del_spaces = re.compile('\\s{2,}')\n",
    "\n",
    "\n",
    "def prepare_text(text):\n",
    "    text = del_n.sub(' ', str(text).lower())\n",
    "    text = del_tags.sub('', text)\n",
    "    text = del_brackets.sub('', text)\n",
    "    res_text = clean_text.sub('', text)\n",
    "    return del_spaces.sub(' ', res_text)\n",
    "\n",
    "df_comp = pd.read_csv('texts_comp.csv')\n",
    "\n",
    "for i, text in enumerate(df_comp.text_clear):\n",
    "    df_comp.loc[i, 'text_clear'] = prepare_text(text).strip()"
   ]
  },
  {
   "cell_type": "code",
   "execution_count": 6,
   "metadata": {},
   "outputs": [],
   "source": [
    "def plot_confusion_matrix(y_test, y_preds, model):\n",
    "    fig, ax = plt.subplots(figsize=(16, 10))\n",
    "    cm = confusion_matrix(y_test, y_preds)\n",
    "    cmp = ConfusionMatrixDisplay(\n",
    "        cm, display_labels=[j - 1 for j in model.classes_])\n",
    "    cmp.plot(ax=ax)\n",
    "    plt.show()"
   ]
  },
  {
   "cell_type": "code",
   "execution_count": 7,
   "metadata": {},
   "outputs": [
    {
     "data": {
      "text/plain": [
       "price_diff_cat\n",
       "0     364\n",
       "1    6539\n",
       "2     364\n",
       "Name: count, dtype: int64"
      ]
     },
     "execution_count": 7,
     "metadata": {},
     "output_type": "execute_result"
    }
   ],
   "source": [
    "p = 0.05\n",
    "\n",
    "q_l = df_comp.price_diff_percent.quantile(p)\n",
    "q_u = df_comp.price_diff_percent.quantile(1-p)\n",
    "\n",
    "df_comp['price_diff_cat'] = 1\n",
    "df_comp.loc[df_comp['price_diff_percent'] <= q_l, 'price_diff_cat'] = 0\n",
    "df_comp.loc[df_comp['price_diff_percent'] >= q_u, 'price_diff_cat'] = 2\n",
    "\n",
    "df_comp[['price_diff_cat']].groupby('price_diff_cat').value_counts()"
   ]
  },
  {
   "cell_type": "code",
   "execution_count": 8,
   "metadata": {},
   "outputs": [
    {
     "data": {
      "text/html": [
       "<div>\n",
       "<style scoped>\n",
       "    .dataframe tbody tr th:only-of-type {\n",
       "        vertical-align: middle;\n",
       "    }\n",
       "\n",
       "    .dataframe tbody tr th {\n",
       "        vertical-align: top;\n",
       "    }\n",
       "\n",
       "    .dataframe thead th {\n",
       "        text-align: right;\n",
       "    }\n",
       "</style>\n",
       "<table border=\"1\" class=\"dataframe\">\n",
       "  <thead>\n",
       "    <tr style=\"text-align: right;\">\n",
       "      <th></th>\n",
       "      <th>body_length</th>\n",
       "      <th>price_release</th>\n",
       "      <th>volume_release</th>\n",
       "      <th>price_lag_30</th>\n",
       "      <th>volume_lag_30</th>\n",
       "      <th>price_diff</th>\n",
       "      <th>price_diff_percent</th>\n",
       "      <th>volume_diff</th>\n",
       "      <th>volume_diff_percent</th>\n",
       "      <th>price_diff_cat</th>\n",
       "    </tr>\n",
       "  </thead>\n",
       "  <tbody>\n",
       "    <tr>\n",
       "      <th>count</th>\n",
       "      <td>7267.000000</td>\n",
       "      <td>7267.000000</td>\n",
       "      <td>7.267000e+03</td>\n",
       "      <td>7267.000000</td>\n",
       "      <td>7.267000e+03</td>\n",
       "      <td>7267.000000</td>\n",
       "      <td>7267.000000</td>\n",
       "      <td>7.267000e+03</td>\n",
       "      <td>7267.000000</td>\n",
       "      <td>7267.000000</td>\n",
       "    </tr>\n",
       "    <tr>\n",
       "      <th>mean</th>\n",
       "      <td>1952.959543</td>\n",
       "      <td>1491.862511</td>\n",
       "      <td>7.887541e+06</td>\n",
       "      <td>1491.773309</td>\n",
       "      <td>5.721324e+06</td>\n",
       "      <td>-0.089202</td>\n",
       "      <td>0.002461</td>\n",
       "      <td>-2.166217e+06</td>\n",
       "      <td>528.523294</td>\n",
       "      <td>1.000000</td>\n",
       "    </tr>\n",
       "    <tr>\n",
       "      <th>std</th>\n",
       "      <td>1804.111893</td>\n",
       "      <td>3225.549159</td>\n",
       "      <td>3.161944e+07</td>\n",
       "      <td>3225.317056</td>\n",
       "      <td>2.021367e+07</td>\n",
       "      <td>14.817624</td>\n",
       "      <td>0.521579</td>\n",
       "      <td>2.656147e+07</td>\n",
       "      <td>5328.539323</td>\n",
       "      <td>0.316532</td>\n",
       "    </tr>\n",
       "    <tr>\n",
       "      <th>min</th>\n",
       "      <td>202.000000</td>\n",
       "      <td>0.003740</td>\n",
       "      <td>2.494000e+02</td>\n",
       "      <td>0.003700</td>\n",
       "      <td>1.628900e+02</td>\n",
       "      <td>-708.500000</td>\n",
       "      <td>-5.813333</td>\n",
       "      <td>-6.565861e+08</td>\n",
       "      <td>-99.991628</td>\n",
       "      <td>0.000000</td>\n",
       "    </tr>\n",
       "    <tr>\n",
       "      <th>25%</th>\n",
       "      <td>997.000000</td>\n",
       "      <td>71.025000</td>\n",
       "      <td>2.371487e+05</td>\n",
       "      <td>71.000000</td>\n",
       "      <td>1.793270e+05</td>\n",
       "      <td>-0.400000</td>\n",
       "      <td>-0.164353</td>\n",
       "      <td>-1.513370e+06</td>\n",
       "      <td>-73.011939</td>\n",
       "      <td>1.000000</td>\n",
       "    </tr>\n",
       "    <tr>\n",
       "      <th>50%</th>\n",
       "      <td>1496.000000</td>\n",
       "      <td>255.700000</td>\n",
       "      <td>1.192395e+06</td>\n",
       "      <td>256.000000</td>\n",
       "      <td>9.488263e+05</td>\n",
       "      <td>0.000000</td>\n",
       "      <td>0.000000</td>\n",
       "      <td>-4.558780e+04</td>\n",
       "      <td>-20.351958</td>\n",
       "      <td>1.000000</td>\n",
       "    </tr>\n",
       "    <tr>\n",
       "      <th>75%</th>\n",
       "      <td>2338.000000</td>\n",
       "      <td>1281.000000</td>\n",
       "      <td>4.804763e+06</td>\n",
       "      <td>1281.000000</td>\n",
       "      <td>4.029187e+06</td>\n",
       "      <td>0.380000</td>\n",
       "      <td>0.154965</td>\n",
       "      <td>5.952707e+05</td>\n",
       "      <td>138.065313</td>\n",
       "      <td>1.000000</td>\n",
       "    </tr>\n",
       "    <tr>\n",
       "      <th>max</th>\n",
       "      <td>32767.000000</td>\n",
       "      <td>49320.000000</td>\n",
       "      <td>1.033405e+09</td>\n",
       "      <td>49400.000000</td>\n",
       "      <td>6.271164e+08</td>\n",
       "      <td>280.000000</td>\n",
       "      <td>9.756098</td>\n",
       "      <td>3.439704e+08</td>\n",
       "      <td>278627.457343</td>\n",
       "      <td>2.000000</td>\n",
       "    </tr>\n",
       "  </tbody>\n",
       "</table>\n",
       "</div>"
      ],
      "text/plain": [
       "        body_length  price_release  volume_release  price_lag_30  \\\n",
       "count   7267.000000    7267.000000    7.267000e+03   7267.000000   \n",
       "mean    1952.959543    1491.862511    7.887541e+06   1491.773309   \n",
       "std     1804.111893    3225.549159    3.161944e+07   3225.317056   \n",
       "min      202.000000       0.003740    2.494000e+02      0.003700   \n",
       "25%      997.000000      71.025000    2.371487e+05     71.000000   \n",
       "50%     1496.000000     255.700000    1.192395e+06    256.000000   \n",
       "75%     2338.000000    1281.000000    4.804763e+06   1281.000000   \n",
       "max    32767.000000   49320.000000    1.033405e+09  49400.000000   \n",
       "\n",
       "       volume_lag_30   price_diff  price_diff_percent   volume_diff  \\\n",
       "count   7.267000e+03  7267.000000         7267.000000  7.267000e+03   \n",
       "mean    5.721324e+06    -0.089202            0.002461 -2.166217e+06   \n",
       "std     2.021367e+07    14.817624            0.521579  2.656147e+07   \n",
       "min     1.628900e+02  -708.500000           -5.813333 -6.565861e+08   \n",
       "25%     1.793270e+05    -0.400000           -0.164353 -1.513370e+06   \n",
       "50%     9.488263e+05     0.000000            0.000000 -4.558780e+04   \n",
       "75%     4.029187e+06     0.380000            0.154965  5.952707e+05   \n",
       "max     6.271164e+08   280.000000            9.756098  3.439704e+08   \n",
       "\n",
       "       volume_diff_percent  price_diff_cat  \n",
       "count          7267.000000     7267.000000  \n",
       "mean            528.523294        1.000000  \n",
       "std            5328.539323        0.316532  \n",
       "min             -99.991628        0.000000  \n",
       "25%             -73.011939        1.000000  \n",
       "50%             -20.351958        1.000000  \n",
       "75%             138.065313        1.000000  \n",
       "max          278627.457343        2.000000  "
      ]
     },
     "execution_count": 8,
     "metadata": {},
     "output_type": "execute_result"
    }
   ],
   "source": [
    "df_comp.describe()"
   ]
  },
  {
   "cell_type": "code",
   "execution_count": 9,
   "metadata": {},
   "outputs": [],
   "source": [
    "X, y = np.array(df_comp['text_clear']), np.array(df_comp['price_diff_cat'].values)"
   ]
  },
  {
   "cell_type": "code",
   "execution_count": 10,
   "metadata": {},
   "outputs": [],
   "source": [
    "vectorizer = TfidfVectorizer(min_df=50)\n",
    "vect_x = vectorizer.fit_transform(X)"
   ]
  },
  {
   "cell_type": "code",
   "execution_count": 11,
   "metadata": {},
   "outputs": [],
   "source": [
    "X_train, X_test, y_train, y_test = train_test_split(vect_x,\n",
    "                                                    y,\n",
    "                                                    random_state=23,\n",
    "                                                    test_size=0.25,\n",
    "                                                    stratify=y)\n",
    "\n",
    "X_res, Y_res = X_train, y_train"
   ]
  },
  {
   "cell_type": "code",
   "execution_count": 12,
   "metadata": {},
   "outputs": [],
   "source": [
    "train_x, valid_x, train_y, valid_y = train_test_split(X_res,\n",
    "                                                      Y_res,\n",
    "                                                      random_state=23,\n",
    "                                                      test_size=0.25,\n",
    "                                                      stratify=Y_res)"
   ]
  },
  {
   "cell_type": "markdown",
   "metadata": {},
   "source": [
    "## SVC"
   ]
  },
  {
   "cell_type": "code",
   "execution_count": 13,
   "metadata": {},
   "outputs": [],
   "source": [
    "def objective(trial):\n",
    "    svc_kernel = trial.suggest_categorical(\"kernel\", ['linear', 'poly', 'rbf', 'sigmoid'])\n",
    "    svc_degree = trial.suggest_int('degree', 2, 5, 1, log=True)\n",
    "    svc_gamma = trial.suggest_categorical('gamma', ['scale', 'auto'])\n",
    "    svc_c = trial.suggest_float(\"C\", 1e-2, 1e2, log=True)\n",
    "    clf = SVC(C=svc_c, gamma=svc_gamma, degree=svc_degree, kernel=svc_kernel)\n",
    "    clf.fit(train_x, train_y)\n",
    "    cl = clf.predict(valid_x)\n",
    "    f1 = f1_score(valid_y, cl, average='macro')\n",
    "    \n",
    "    return f1"
   ]
  },
  {
   "cell_type": "code",
   "execution_count": 14,
   "metadata": {},
   "outputs": [
    {
     "name": "stdout",
     "output_type": "stream",
     "text": [
      "Number of finished trials:  100\n",
      "Best trial:\n",
      "  Value: 0.43263509203572076\n",
      "  Params: \n",
      "    kernel: linear\n",
      "    degree: 2\n",
      "    gamma: scale\n",
      "    C: 18.578492002801674\n"
     ]
    }
   ],
   "source": [
    "optuna.logging.set_verbosity(optuna.logging.WARNING)\n",
    "study = optuna.create_study(study_name=\"svc\", direction=\"maximize\")\n",
    "study.optimize(objective, n_trials=100)\n",
    "print(\"Number of finished trials: \", len(study.trials))\n",
    "print(\"Best trial:\")\n",
    "trial = study.best_trial\n",
    "print(\"  Value: {}\".format(trial.value))\n",
    "print(\"  Params: \")\n",
    "for key, value in trial.params.items():\n",
    "    print(\"    {}: {}\".format(key, value))"
   ]
  },
  {
   "cell_type": "code",
   "execution_count": 15,
   "metadata": {},
   "outputs": [
    {
     "name": "stdout",
     "output_type": "stream",
     "text": [
      "0.3984823250500287\n"
     ]
    },
    {
     "data": {
      "image/png": "[encoded data removed]",
      "text/plain": [
       "<Figure size 1600x1000 with 2 Axes>"
      ]
     },
     "metadata": {},
     "output_type": "display_data"
    }
   ],
   "source": [
    "clf = SVC(**study.best_params)\n",
    "clf.fit(X_res, Y_res)\n",
    "pred_test = clf.predict(X_test)\n",
    "print(f1_score(y_test, pred_test, average='macro'))\n",
    "plot_confusion_matrix(y_test, pred_test, clf)"
   ]
  },
  {
   "cell_type": "markdown",
   "metadata": {},
   "source": [
    "## KNN"
   ]
  },
  {
   "cell_type": "code",
   "execution_count": 16,
   "metadata": {},
   "outputs": [],
   "source": [
    "def objective(trial):\n",
    "    knn_n_neighbors = trial.suggest_int('n_neighbors', 3, 15, 1, log=True)\n",
    "    knn_weights = trial.suggest_categorical('weights', ['uniform','distance'])\n",
    "    knn_metric = trial.suggest_categorical('metric', ['euclidean', 'manhattan', 'minkowski'])\n",
    "    clf = KNeighborsClassifier(n_neighbors=knn_n_neighbors, weights=knn_weights, metric=knn_metric)\n",
    "    clf.fit(train_x, train_y)\n",
    "    cl = clf.predict(valid_x)\n",
    "    f1 = f1_score(valid_y, cl, average='macro')\n",
    "    \n",
    "    return f1"
   ]
  },
  {
   "cell_type": "code",
   "execution_count": 17,
   "metadata": {},
   "outputs": [
    {
     "name": "stderr",
     "output_type": "stream",
     "text": [
      "c:\\Users\\maxod\\Desktop\\tutorial\\.venv\\Lib\\site-packages\\joblib\\externals\\loky\\backend\\context.py:136: UserWarning: Could not find the number of physical cores for the following reason:\n",
      "[WinError 2] Не удается найти указанный файл\n",
      "Returning the number of logical cores instead. You can silence this warning by setting LOKY_MAX_CPU_COUNT to the number of cores you want to use.\n",
      "  warnings.warn(\n",
      "  File \"c:\\Users\\maxod\\Desktop\\tutorial\\.venv\\Lib\\site-packages\\joblib\\externals\\loky\\backend\\context.py\", line 257, in _count_physical_cores\n",
      "    cpu_info = subprocess.run(\n",
      "               ^^^^^^^^^^^^^^^\n",
      "  File \"C:\\Users\\maxod\\AppData\\Local\\Programs\\Python\\Python311\\Lib\\subprocess.py\", line 548, in run\n",
      "    with Popen(*popenargs, **kwargs) as process:\n",
      "         ^^^^^^^^^^^^^^^^^^^^^^^^^^^\n",
      "  File \"C:\\Users\\maxod\\AppData\\Local\\Programs\\Python\\Python311\\Lib\\subprocess.py\", line 1026, in __init__\n",
      "    self._execute_child(args, executable, preexec_fn, close_fds,\n",
      "  File \"C:\\Users\\maxod\\AppData\\Local\\Programs\\Python\\Python311\\Lib\\subprocess.py\", line 1538, in _execute_child\n",
      "    hp, ht, pid, tid = _winapi.CreateProcess(executable, args,\n",
      "                       ^^^^^^^^^^^^^^^^^^^^^^^^^^^^^^^^^^^^^^^\n"
     ]
    },
    {
     "name": "stdout",
     "output_type": "stream",
     "text": [
      "Number of finished trials:  100\n",
      "Best trial:\n",
      "  Value: 0.4293735130848533\n",
      "  Params: \n",
      "    n_neighbors: 4\n",
      "    weights: distance\n",
      "    metric: euclidean\n"
     ]
    }
   ],
   "source": [
    "optuna.logging.set_verbosity(optuna.logging.WARNING)\n",
    "study = optuna.create_study(study_name=\"knn\", direction=\"maximize\")\n",
    "study.optimize(objective, n_trials=100)\n",
    "print(\"Number of finished trials: \", len(study.trials))\n",
    "print(\"Best trial:\")\n",
    "trial = study.best_trial\n",
    "print(\"  Value: {}\".format(trial.value))\n",
    "print(\"  Params: \")\n",
    "for key, value in trial.params.items():\n",
    "    print(\"    {}: {}\".format(key, value))"
   ]
  },
  {
   "cell_type": "markdown",
   "metadata": {},
   "source": [
    "## LogReg"
   ]
  },
  {
   "cell_type": "code",
   "execution_count": 18,
   "metadata": {},
   "outputs": [],
   "source": [
    "def objective(trial):\n",
    "    logreg_solver = trial.suggest_categorical('solver', ['newton-cg', 'sag', 'saga','lbfgs'])\n",
    "    logereg_C = trial.suggest_float('C', 1e-2, 1e2, log=True)\n",
    "    clf = LogisticRegression(multi_class='multinomial', solver=logreg_solver, C=logereg_C, max_iter=1000)\n",
    "    clf.fit(train_x, train_y)\n",
    "    cl = clf.predict(valid_x)\n",
    "    f1 = f1_score(valid_y, cl, average='macro')\n",
    "    \n",
    "    return f1"
   ]
  },
  {
   "cell_type": "code",
   "execution_count": 19,
   "metadata": {},
   "outputs": [
    {
     "name": "stdout",
     "output_type": "stream",
     "text": [
      "Number of finished trials:  100\n",
      "Best trial:\n",
      "  Value: 0.4297652866302657\n",
      "  Params: \n",
      "    solver: lbfgs\n",
      "    C: 44.87157213103335\n"
     ]
    }
   ],
   "source": [
    "optuna.logging.set_verbosity(optuna.logging.WARNING)\n",
    "study = optuna.create_study(study_name=\"logreg\", direction=\"maximize\")\n",
    "study.optimize(objective, n_trials=100)\n",
    "print(\"Number of finished trials: \", len(study.trials))\n",
    "print(\"Best trial:\")\n",
    "trial = study.best_trial\n",
    "print(\"  Value: {}\".format(trial.value))\n",
    "print(\"  Params: \")\n",
    "for key, value in trial.params.items():\n",
    "    print(\"    {}: {}\".format(key, value))"
   ]
  },
  {
   "cell_type": "code",
   "execution_count": 20,
   "metadata": {},
   "outputs": [
    {
     "name": "stderr",
     "output_type": "stream",
     "text": [
      "c:\\Users\\maxod\\Desktop\\tutorial\\.venv\\Lib\\site-packages\\sklearn\\linear_model\\_logistic.py:460: ConvergenceWarning: lbfgs failed to converge (status=1):\n",
      "STOP: TOTAL NO. of ITERATIONS REACHED LIMIT.\n",
      "\n",
      "Increase the number of iterations (max_iter) or scale the data as shown in:\n",
      "    https://scikit-learn.org/stable/modules/preprocessing.html\n",
      "Please also refer to the documentation for alternative solver options:\n",
      "    https://scikit-learn.org/stable/modules/linear_model.html#logistic-regression\n",
      "  n_iter_i = _check_optimize_result(\n"
     ]
    },
    {
     "name": "stdout",
     "output_type": "stream",
     "text": [
      "0.39141788400100425\n"
     ]
    },
    {
     "data": {
      "image/png": "[encoded data removed]",
      "text/plain": [
       "<Figure size 1600x1000 with 2 Axes>"
      ]
     },
     "metadata": {},
     "output_type": "display_data"
    }
   ],
   "source": [
    "clf = LogisticRegression(**study.best_params)\n",
    "clf.fit(X_res, Y_res)\n",
    "pred_test = clf.predict(X_test)\n",
    "print(f1_score(y_test, pred_test, average='macro'))\n",
    "plot_confusion_matrix(y_test, pred_test, clf)"
   ]
  },
  {
   "cell_type": "markdown",
   "metadata": {},
   "source": [
    "## RandomForest"
   ]
  },
  {
   "cell_type": "code",
   "execution_count": 21,
   "metadata": {},
   "outputs": [],
   "source": [
    "def objective(trial):\n",
    "    n_estimators = trial.suggest_int(\"n_estimators\", 50, 1000, log=True)\n",
    "    max_depth = trial.suggest_int(\"max_depth\", 10, 100, log=True)\n",
    "    class_weight = trial.suggest_categorical('class_weight', ['balanced', 'balanced_subsample'])\n",
    "    clf = RandomForestClassifier(n_estimators=n_estimators, max_depth=max_depth, class_weight=class_weight)\n",
    "    clf.fit(train_x, train_y)\n",
    "    cl = clf.predict(valid_x)\n",
    "    f1 = f1_score(valid_y, cl, average='macro')\n",
    "    \n",
    "    return f1"
   ]
  },
  {
   "cell_type": "code",
   "execution_count": 22,
   "metadata": {},
   "outputs": [
    {
     "name": "stdout",
     "output_type": "stream",
     "text": [
      "Number of finished trials:  100\n",
      "Best trial:\n",
      "  Value: 0.43322228737663254\n",
      "  Params: \n",
      "    n_estimators: 224\n",
      "    max_depth: 11\n",
      "    class_weight: balanced_subsample\n"
     ]
    }
   ],
   "source": [
    "optuna.logging.set_verbosity(optuna.logging.WARNING)\n",
    "study = optuna.create_study(study_name=\"rf\", direction=\"maximize\")\n",
    "study.optimize(objective, n_trials=100)\n",
    "print(\"Number of finished trials: \", len(study.trials))\n",
    "print(\"Best trial:\")\n",
    "trial = study.best_trial\n",
    "print(\"  Value: {}\".format(trial.value))\n",
    "print(\"  Params: \")\n",
    "for key, value in trial.params.items():\n",
    "    print(\"    {}: {}\".format(key, value))"
   ]
  },
  {
   "cell_type": "code",
   "execution_count": 23,
   "metadata": {},
   "outputs": [
    {
     "name": "stdout",
     "output_type": "stream",
     "text": [
      "0.3942422806601911\n"
     ]
    },
    {
     "data": {
      "image/png": "[encoded data removed]",
      "text/plain": [
       "<Figure size 1600x1000 with 2 Axes>"
      ]
     },
     "metadata": {},
     "output_type": "display_data"
    }
   ],
   "source": [
    "clf = RandomForestClassifier(**study.best_params)\n",
    "clf.fit(X_res, Y_res)\n",
    "pred_test = clf.predict(X_test)\n",
    "print(f1_score(y_test, pred_test, average='macro'))\n",
    "plot_confusion_matrix(y_test, pred_test, clf)"
   ]
  },
  {
   "cell_type": "markdown",
   "metadata": {},
   "source": [
    "# Индустрии"
   ]
  },
  {
   "cell_type": "code",
   "execution_count": 29,
   "metadata": {},
   "outputs": [
    {
     "name": "stdout",
     "output_type": "stream",
     "text": [
      "(4755, 17)\n"
     ]
    },
    {
     "data": {
      "text/html": [
       "<div>\n",
       "<style scoped>\n",
       "    .dataframe tbody tr th:only-of-type {\n",
       "        vertical-align: middle;\n",
       "    }\n",
       "\n",
       "    .dataframe tbody tr th {\n",
       "        vertical-align: top;\n",
       "    }\n",
       "\n",
       "    .dataframe thead th {\n",
       "        text-align: right;\n",
       "    }\n",
       "</style>\n",
       "<table border=\"1\" class=\"dataframe\">\n",
       "  <thead>\n",
       "    <tr style=\"text-align: right;\">\n",
       "      <th></th>\n",
       "      <th>website</th>\n",
       "      <th>section</th>\n",
       "      <th>url</th>\n",
       "      <th>header</th>\n",
       "      <th>body</th>\n",
       "      <th>tags</th>\n",
       "      <th>body_length</th>\n",
       "      <th>datetime</th>\n",
       "      <th>industry</th>\n",
       "      <th>price_release</th>\n",
       "      <th>volume_release</th>\n",
       "      <th>price_lag_30</th>\n",
       "      <th>volume_lag_30</th>\n",
       "      <th>price_diff</th>\n",
       "      <th>price_diff_percent</th>\n",
       "      <th>volume_diff</th>\n",
       "      <th>volume_diff_percent</th>\n",
       "    </tr>\n",
       "  </thead>\n",
       "  <tbody>\n",
       "    <tr>\n",
       "      <th>0</th>\n",
       "      <td>РИА</td>\n",
       "      <td>Экономика</td>\n",
       "      <td>https://ria.ru/20230103/banki-1842907991.html</td>\n",
       "      <td>Эксперт рассказал о развитии исламского банкин...</td>\n",
       "      <td>Порядка 10-15 филиалов исламского банкинга м...</td>\n",
       "      <td>['Экономика', 'Россия', 'Сбербанк России']</td>\n",
       "      <td>1759</td>\n",
       "      <td>2023-01-03 10:16:00</td>\n",
       "      <td>MOEXFN</td>\n",
       "      <td>6307.20</td>\n",
       "      <td>16806757.15</td>\n",
       "      <td>6308.77</td>\n",
       "      <td>11854100.00</td>\n",
       "      <td>1.57</td>\n",
       "      <td>0.024892</td>\n",
       "      <td>-4952657.15</td>\n",
       "      <td>-29.468250</td>\n",
       "    </tr>\n",
       "    <tr>\n",
       "      <th>1</th>\n",
       "      <td>РИА</td>\n",
       "      <td>Экономика</td>\n",
       "      <td>https://ria.ru/20230103/gazprom-1842940413.html</td>\n",
       "      <td>Экспорт \"Газпрома\" снизился до минимума с конц...</td>\n",
       "      <td>Объём экспорта \"Газпрома\" в прошедшем году с...</td>\n",
       "      <td>['Экономика', 'Газпром', 'Россия']</td>\n",
       "      <td>1299</td>\n",
       "      <td>2023-01-03 14:22:00</td>\n",
       "      <td>MOEXOG</td>\n",
       "      <td>5696.30</td>\n",
       "      <td>4451180.75</td>\n",
       "      <td>5696.72</td>\n",
       "      <td>4605859.35</td>\n",
       "      <td>0.42</td>\n",
       "      <td>0.007373</td>\n",
       "      <td>154678.60</td>\n",
       "      <td>3.475002</td>\n",
       "    </tr>\n",
       "    <tr>\n",
       "      <th>2</th>\n",
       "      <td>РИА</td>\n",
       "      <td>Экономика</td>\n",
       "      <td>https://ria.ru/20230104/shelf-1843063413.html</td>\n",
       "      <td>Ямальской шельфовой компании предоставили два ...</td>\n",
       "      <td>Правительство РФ предоставило Ямальской шель...</td>\n",
       "      <td>['Экономика', 'Карское море', 'Россия']</td>\n",
       "      <td>1719</td>\n",
       "      <td>2023-01-04 16:36:00</td>\n",
       "      <td>MOEXOG</td>\n",
       "      <td>5655.65</td>\n",
       "      <td>3325798.35</td>\n",
       "      <td>5663.65</td>\n",
       "      <td>1490555.35</td>\n",
       "      <td>8.00</td>\n",
       "      <td>0.141451</td>\n",
       "      <td>-1835243.00</td>\n",
       "      <td>-55.182029</td>\n",
       "    </tr>\n",
       "    <tr>\n",
       "      <th>3</th>\n",
       "      <td>Kommersant</td>\n",
       "      <td>Фондовый рынок</td>\n",
       "      <td>https://www.kommersant.ru/doc/5757640</td>\n",
       "      <td>Нестабильный рост</td>\n",
       "      <td>Минувший год запомнится инвесторам как время с...</td>\n",
       "      <td>None</td>\n",
       "      <td>12414</td>\n",
       "      <td>2023-01-06 10:02:00</td>\n",
       "      <td>MOEXFN</td>\n",
       "      <td>6298.36</td>\n",
       "      <td>7394623.45</td>\n",
       "      <td>6296.27</td>\n",
       "      <td>3371524.05</td>\n",
       "      <td>-2.09</td>\n",
       "      <td>-0.033183</td>\n",
       "      <td>-4023099.40</td>\n",
       "      <td>-54.405737</td>\n",
       "    </tr>\n",
       "    <tr>\n",
       "      <th>4</th>\n",
       "      <td>Kommersant</td>\n",
       "      <td>Фондовый рынок</td>\n",
       "      <td>https://www.kommersant.ru/doc/5757640</td>\n",
       "      <td>Нестабильный рост</td>\n",
       "      <td>Минувший год запомнится инвесторам как время с...</td>\n",
       "      <td>None</td>\n",
       "      <td>12414</td>\n",
       "      <td>2023-01-06 10:02:00</td>\n",
       "      <td>MOEXOG</td>\n",
       "      <td>5655.00</td>\n",
       "      <td>15940301.65</td>\n",
       "      <td>5647.93</td>\n",
       "      <td>1358915.70</td>\n",
       "      <td>-7.07</td>\n",
       "      <td>-0.125022</td>\n",
       "      <td>-14581385.95</td>\n",
       "      <td>-91.474969</td>\n",
       "    </tr>\n",
       "  </tbody>\n",
       "</table>\n",
       "</div>"
      ],
      "text/plain": [
       "      website         section  \\\n",
       "0         РИА       Экономика   \n",
       "1         РИА       Экономика   \n",
       "2         РИА       Экономика   \n",
       "3  Kommersant  Фондовый рынок   \n",
       "4  Kommersant  Фондовый рынок   \n",
       "\n",
       "                                               url  \\\n",
       "0    https://ria.ru/20230103/banki-1842907991.html   \n",
       "1  https://ria.ru/20230103/gazprom-1842940413.html   \n",
       "2    https://ria.ru/20230104/shelf-1843063413.html   \n",
       "3            https://www.kommersant.ru/doc/5757640   \n",
       "4            https://www.kommersant.ru/doc/5757640   \n",
       "\n",
       "                                              header  \\\n",
       "0  Эксперт рассказал о развитии исламского банкин...   \n",
       "1  Экспорт \"Газпрома\" снизился до минимума с конц...   \n",
       "2  Ямальской шельфовой компании предоставили два ...   \n",
       "3                                  Нестабильный рост   \n",
       "4                                  Нестабильный рост   \n",
       "\n",
       "                                                body  \\\n",
       "0    Порядка 10-15 филиалов исламского банкинга м...   \n",
       "1    Объём экспорта \"Газпрома\" в прошедшем году с...   \n",
       "2    Правительство РФ предоставило Ямальской шель...   \n",
       "3  Минувший год запомнится инвесторам как время с...   \n",
       "4  Минувший год запомнится инвесторам как время с...   \n",
       "\n",
       "                                         tags  body_length  \\\n",
       "0  ['Экономика', 'Россия', 'Сбербанк России']         1759   \n",
       "1          ['Экономика', 'Газпром', 'Россия']         1299   \n",
       "2     ['Экономика', 'Карское море', 'Россия']         1719   \n",
       "3                                        None        12414   \n",
       "4                                        None        12414   \n",
       "\n",
       "             datetime industry  price_release  volume_release  price_lag_30  \\\n",
       "0 2023-01-03 10:16:00   MOEXFN        6307.20     16806757.15       6308.77   \n",
       "1 2023-01-03 14:22:00   MOEXOG        5696.30      4451180.75       5696.72   \n",
       "2 2023-01-04 16:36:00   MOEXOG        5655.65      3325798.35       5663.65   \n",
       "3 2023-01-06 10:02:00   MOEXFN        6298.36      7394623.45       6296.27   \n",
       "4 2023-01-06 10:02:00   MOEXOG        5655.00     15940301.65       5647.93   \n",
       "\n",
       "   volume_lag_30  price_diff  price_diff_percent  volume_diff  \\\n",
       "0    11854100.00        1.57            0.024892  -4952657.15   \n",
       "1     4605859.35        0.42            0.007373    154678.60   \n",
       "2     1490555.35        8.00            0.141451  -1835243.00   \n",
       "3     3371524.05       -2.09           -0.033183  -4023099.40   \n",
       "4     1358915.70       -7.07           -0.125022 -14581385.95   \n",
       "\n",
       "   volume_diff_percent  \n",
       "0           -29.468250  \n",
       "1             3.475002  \n",
       "2           -55.182029  \n",
       "3           -54.405737  \n",
       "4           -91.474969  "
      ]
     },
     "execution_count": 29,
     "metadata": {},
     "output_type": "execute_result"
    }
   ],
   "source": [
    "db = create_engine(conn_string) \n",
    "conn = db.connect() \n",
    "conn.autocommit = True\n",
    "\n",
    "dataframe_ind = pd.read_sql_query('SELECT * FROM industries_trade', conn)\n",
    "conn.close()\n",
    "\n",
    "print(dataframe_ind.shape)\n",
    "dataframe_ind.head()"
   ]
  },
  {
   "cell_type": "code",
   "execution_count": 30,
   "metadata": {},
   "outputs": [
    {
     "name": "stderr",
     "output_type": "stream",
     "text": [
      "100%|██████████| 4755/4755 [01:54<00:00, 41.40it/s]\n"
     ]
    }
   ],
   "source": [
    "txt_lst = []\n",
    "txts = dataframe_ind.body.copy()\n",
    "\n",
    "for text in tqdm(txts):\n",
    "    text = prepare_text(text)\n",
    "    text = del_stopwords(text)\n",
    "    text = lemmatize(text)\n",
    "    txt_lst.append(text)"
   ]
  },
  {
   "cell_type": "code",
   "execution_count": 31,
   "metadata": {},
   "outputs": [],
   "source": [
    "df_ind_safe = pd.concat(\n",
    "    [dataframe_ind, pd.DataFrame(txt_lst, columns=['text_clear'])],\n",
    "    axis=1\n",
    ")\n",
    "\n",
    "df_ind_safe.to_csv('texts_ind.csv', index=False)"
   ]
  },
  {
   "cell_type": "code",
   "execution_count": 24,
   "metadata": {},
   "outputs": [],
   "source": [
    "df_ind = pd.read_csv('texts_ind.csv')\n",
    "\n",
    "for i, text in enumerate(df_ind.text_clear):\n",
    "    df_ind.loc[i, 'text_clear'] = prepare_text(text).strip()"
   ]
  },
  {
   "cell_type": "code",
   "execution_count": 25,
   "metadata": {},
   "outputs": [
    {
     "data": {
      "text/plain": [
       "price_diff_cat\n",
       "0     238\n",
       "1    4279\n",
       "2     238\n",
       "Name: count, dtype: int64"
      ]
     },
     "execution_count": 25,
     "metadata": {},
     "output_type": "execute_result"
    }
   ],
   "source": [
    "p = 0.05\n",
    "\n",
    "q_l = df_ind.price_diff_percent.quantile(p)\n",
    "q_u = df_ind.price_diff_percent.quantile(1-p)\n",
    "\n",
    "df_ind['price_diff_cat'] = 1\n",
    "df_ind.loc[df_ind['price_diff_percent'] <= q_l, 'price_diff_cat'] = 0\n",
    "df_ind.loc[df_ind['price_diff_percent'] >= q_u, 'price_diff_cat'] = 2\n",
    "\n",
    "df_ind[['price_diff_cat']].groupby('price_diff_cat').value_counts()"
   ]
  },
  {
   "cell_type": "code",
   "execution_count": 26,
   "metadata": {},
   "outputs": [
    {
     "data": {
      "text/html": [
       "<div>\n",
       "<style scoped>\n",
       "    .dataframe tbody tr th:only-of-type {\n",
       "        vertical-align: middle;\n",
       "    }\n",
       "\n",
       "    .dataframe tbody tr th {\n",
       "        vertical-align: top;\n",
       "    }\n",
       "\n",
       "    .dataframe thead th {\n",
       "        text-align: right;\n",
       "    }\n",
       "</style>\n",
       "<table border=\"1\" class=\"dataframe\">\n",
       "  <thead>\n",
       "    <tr style=\"text-align: right;\">\n",
       "      <th></th>\n",
       "      <th>body_length</th>\n",
       "      <th>price_release</th>\n",
       "      <th>volume_release</th>\n",
       "      <th>price_lag_30</th>\n",
       "      <th>volume_lag_30</th>\n",
       "      <th>price_diff</th>\n",
       "      <th>price_diff_percent</th>\n",
       "      <th>volume_diff</th>\n",
       "      <th>volume_diff_percent</th>\n",
       "      <th>price_diff_cat</th>\n",
       "    </tr>\n",
       "  </thead>\n",
       "  <tbody>\n",
       "    <tr>\n",
       "      <th>count</th>\n",
       "      <td>4755.000000</td>\n",
       "      <td>4755.000000</td>\n",
       "      <td>4.755000e+03</td>\n",
       "      <td>4755.000000</td>\n",
       "      <td>4.755000e+03</td>\n",
       "      <td>4755.000000</td>\n",
       "      <td>4755.000000</td>\n",
       "      <td>4.755000e+03</td>\n",
       "      <td>4755.000000</td>\n",
       "      <td>4755.000000</td>\n",
       "    </tr>\n",
       "    <tr>\n",
       "      <th>mean</th>\n",
       "      <td>1767.579811</td>\n",
       "      <td>7413.158797</td>\n",
       "      <td>3.820572e+07</td>\n",
       "      <td>7413.186601</td>\n",
       "      <td>3.165379e+07</td>\n",
       "      <td>0.027804</td>\n",
       "      <td>0.002538</td>\n",
       "      <td>-6.551927e+06</td>\n",
       "      <td>95.293698</td>\n",
       "      <td>1.000000</td>\n",
       "    </tr>\n",
       "    <tr>\n",
       "      <th>std</th>\n",
       "      <td>1592.462497</td>\n",
       "      <td>5064.177935</td>\n",
       "      <td>7.411692e+07</td>\n",
       "      <td>5063.749307</td>\n",
       "      <td>5.703261e+07</td>\n",
       "      <td>23.365797</td>\n",
       "      <td>0.271261</td>\n",
       "      <td>6.895301e+07</td>\n",
       "      <td>620.845172</td>\n",
       "      <td>0.316427</td>\n",
       "    </tr>\n",
       "    <tr>\n",
       "      <th>min</th>\n",
       "      <td>203.000000</td>\n",
       "      <td>797.340000</td>\n",
       "      <td>4.104400e+03</td>\n",
       "      <td>796.810000</td>\n",
       "      <td>2.542000e+03</td>\n",
       "      <td>-376.840000</td>\n",
       "      <td>-3.976298</td>\n",
       "      <td>-1.091141e+09</td>\n",
       "      <td>-99.930102</td>\n",
       "      <td>0.000000</td>\n",
       "    </tr>\n",
       "    <tr>\n",
       "      <th>25%</th>\n",
       "      <td>939.000000</td>\n",
       "      <td>6006.255000</td>\n",
       "      <td>6.628012e+06</td>\n",
       "      <td>6009.615000</td>\n",
       "      <td>5.992865e+06</td>\n",
       "      <td>-6.470000</td>\n",
       "      <td>-0.107233</td>\n",
       "      <td>-1.340766e+07</td>\n",
       "      <td>-56.462377</td>\n",
       "      <td>1.000000</td>\n",
       "    </tr>\n",
       "    <tr>\n",
       "      <th>50%</th>\n",
       "      <td>1409.000000</td>\n",
       "      <td>7280.860000</td>\n",
       "      <td>1.627919e+07</td>\n",
       "      <td>7281.670000</td>\n",
       "      <td>1.497770e+07</td>\n",
       "      <td>0.230000</td>\n",
       "      <td>0.004961</td>\n",
       "      <td>-1.035134e+06</td>\n",
       "      <td>-15.995331</td>\n",
       "      <td>1.000000</td>\n",
       "    </tr>\n",
       "    <tr>\n",
       "      <th>75%</th>\n",
       "      <td>2158.500000</td>\n",
       "      <td>8587.900000</td>\n",
       "      <td>3.964378e+07</td>\n",
       "      <td>8582.270000</td>\n",
       "      <td>3.357984e+07</td>\n",
       "      <td>7.570000</td>\n",
       "      <td>0.119216</td>\n",
       "      <td>5.404258e+06</td>\n",
       "      <td>65.988172</td>\n",
       "      <td>1.000000</td>\n",
       "    </tr>\n",
       "    <tr>\n",
       "      <th>max</th>\n",
       "      <td>32767.000000</td>\n",
       "      <td>42515.650000</td>\n",
       "      <td>1.212407e+09</td>\n",
       "      <td>42521.770000</td>\n",
       "      <td>1.029316e+09</td>\n",
       "      <td>390.430000</td>\n",
       "      <td>1.959216</td>\n",
       "      <td>7.443854e+08</td>\n",
       "      <td>22259.393510</td>\n",
       "      <td>2.000000</td>\n",
       "    </tr>\n",
       "  </tbody>\n",
       "</table>\n",
       "</div>"
      ],
      "text/plain": [
       "        body_length  price_release  volume_release  price_lag_30  \\\n",
       "count   4755.000000    4755.000000    4.755000e+03   4755.000000   \n",
       "mean    1767.579811    7413.158797    3.820572e+07   7413.186601   \n",
       "std     1592.462497    5064.177935    7.411692e+07   5063.749307   \n",
       "min      203.000000     797.340000    4.104400e+03    796.810000   \n",
       "25%      939.000000    6006.255000    6.628012e+06   6009.615000   \n",
       "50%     1409.000000    7280.860000    1.627919e+07   7281.670000   \n",
       "75%     2158.500000    8587.900000    3.964378e+07   8582.270000   \n",
       "max    32767.000000   42515.650000    1.212407e+09  42521.770000   \n",
       "\n",
       "       volume_lag_30   price_diff  price_diff_percent   volume_diff  \\\n",
       "count   4.755000e+03  4755.000000         4755.000000  4.755000e+03   \n",
       "mean    3.165379e+07     0.027804            0.002538 -6.551927e+06   \n",
       "std     5.703261e+07    23.365797            0.271261  6.895301e+07   \n",
       "min     2.542000e+03  -376.840000           -3.976298 -1.091141e+09   \n",
       "25%     5.992865e+06    -6.470000           -0.107233 -1.340766e+07   \n",
       "50%     1.497770e+07     0.230000            0.004961 -1.035134e+06   \n",
       "75%     3.357984e+07     7.570000            0.119216  5.404258e+06   \n",
       "max     1.029316e+09   390.430000            1.959216  7.443854e+08   \n",
       "\n",
       "       volume_diff_percent  price_diff_cat  \n",
       "count          4755.000000     4755.000000  \n",
       "mean             95.293698        1.000000  \n",
       "std             620.845172        0.316427  \n",
       "min             -99.930102        0.000000  \n",
       "25%             -56.462377        1.000000  \n",
       "50%             -15.995331        1.000000  \n",
       "75%              65.988172        1.000000  \n",
       "max           22259.393510        2.000000  "
      ]
     },
     "execution_count": 26,
     "metadata": {},
     "output_type": "execute_result"
    }
   ],
   "source": [
    "df_ind.describe()"
   ]
  },
  {
   "cell_type": "code",
   "execution_count": 27,
   "metadata": {},
   "outputs": [],
   "source": [
    "X, y = np.array(df_ind['text_clear']), np.array(df_ind['price_diff_cat'].values)"
   ]
  },
  {
   "cell_type": "code",
   "execution_count": 28,
   "metadata": {},
   "outputs": [],
   "source": [
    "vectorizer = TfidfVectorizer(min_df=50)\n",
    "vect_x = vectorizer.fit_transform(X)"
   ]
  },
  {
   "cell_type": "code",
   "execution_count": 29,
   "metadata": {},
   "outputs": [],
   "source": [
    "X_train, X_test, y_train, y_test = train_test_split(vect_x,\n",
    "                                                    y,\n",
    "                                                    random_state=23,\n",
    "                                                    test_size=0.25,\n",
    "                                                    stratify=y)\n",
    "\n",
    "X_res, Y_res = X_train, y_train"
   ]
  },
  {
   "cell_type": "code",
   "execution_count": 30,
   "metadata": {},
   "outputs": [],
   "source": [
    "train_x, valid_x, train_y, valid_y = train_test_split(X_res,\n",
    "                                                      Y_res,\n",
    "                                                      random_state=23,\n",
    "                                                      test_size=0.25,\n",
    "                                                      stratify=Y_res)"
   ]
  },
  {
   "cell_type": "markdown",
   "metadata": {},
   "source": [
    "## SVC"
   ]
  },
  {
   "cell_type": "code",
   "execution_count": 31,
   "metadata": {},
   "outputs": [],
   "source": [
    "def objective(trial):\n",
    "    svc_kernel = trial.suggest_categorical(\"kernel\", ['linear', 'poly', 'rbf', 'sigmoid'])\n",
    "    svc_degree = trial.suggest_int('degree', 2, 5, 1, log=True)\n",
    "    svc_gamma = trial.suggest_categorical('gamma', ['scale', 'auto'])\n",
    "    svc_c = trial.suggest_float(\"C\", 1e-2, 1e2, log=True)\n",
    "    clf = SVC(C=svc_c, gamma=svc_gamma, degree=svc_degree, kernel=svc_kernel)\n",
    "    clf.fit(train_x, train_y)\n",
    "    cl = clf.predict(valid_x)\n",
    "    f1 = f1_score(valid_y, cl, average='macro')\n",
    "    \n",
    "    return f1"
   ]
  },
  {
   "cell_type": "code",
   "execution_count": 32,
   "metadata": {},
   "outputs": [
    {
     "name": "stdout",
     "output_type": "stream",
     "text": [
      "Number of finished trials:  100\n",
      "Best trial:\n",
      "  Value: 0.37950807603781217\n",
      "  Params: \n",
      "    kernel: linear\n",
      "    degree: 5\n",
      "    gamma: scale\n",
      "    C: 13.356277865163404\n"
     ]
    }
   ],
   "source": [
    "optuna.logging.set_verbosity(optuna.logging.WARNING)\n",
    "study = optuna.create_study(study_name=\"svc\", direction=\"maximize\")\n",
    "study.optimize(objective, n_trials=100)\n",
    "print(\"Number of finished trials: \", len(study.trials))\n",
    "print(\"Best trial:\")\n",
    "trial = study.best_trial\n",
    "print(\"  Value: {}\".format(trial.value))\n",
    "print(\"  Params: \")\n",
    "for key, value in trial.params.items():\n",
    "    print(\"    {}: {}\".format(key, value))"
   ]
  },
  {
   "cell_type": "code",
   "execution_count": 33,
   "metadata": {},
   "outputs": [
    {
     "name": "stdout",
     "output_type": "stream",
     "text": [
      "0.3649424323332078\n"
     ]
    },
    {
     "data": {
      "image/png": "[encoded data removed]",
      "text/plain": [
       "<Figure size 1600x1000 with 2 Axes>"
      ]
     },
     "metadata": {},
     "output_type": "display_data"
    }
   ],
   "source": [
    "clf = SVC(**study.best_params)\n",
    "clf.fit(X_res, Y_res)\n",
    "pred_test = clf.predict(X_test)\n",
    "print(f1_score(y_test, pred_test, average='macro'))\n",
    "plot_confusion_matrix(y_test, pred_test, clf)"
   ]
  },
  {
   "cell_type": "markdown",
   "metadata": {},
   "source": [
    "## KNN"
   ]
  },
  {
   "cell_type": "code",
   "execution_count": 34,
   "metadata": {},
   "outputs": [],
   "source": [
    "def objective(trial):\n",
    "    knn_n_neighbors = trial.suggest_int('n_neighbors', 3, 15, 1, log=True)\n",
    "    knn_weights = trial.suggest_categorical('weights', ['uniform','distance'])\n",
    "    knn_metric = trial.suggest_categorical('metric', ['euclidean', 'manhattan', 'minkowski'])\n",
    "    clf = KNeighborsClassifier(n_neighbors=knn_n_neighbors, weights=knn_weights, metric=knn_metric)\n",
    "    clf.fit(train_x, train_y)\n",
    "    cl = clf.predict(valid_x)\n",
    "    f1 = f1_score(valid_y, cl, average='macro')\n",
    "    \n",
    "    return f1"
   ]
  },
  {
   "cell_type": "code",
   "execution_count": 35,
   "metadata": {},
   "outputs": [
    {
     "name": "stdout",
     "output_type": "stream",
     "text": [
      "Number of finished trials:  100\n",
      "Best trial:\n",
      "  Value: 0.3852472089314194\n",
      "  Params: \n",
      "    n_neighbors: 4\n",
      "    weights: distance\n",
      "    metric: manhattan\n"
     ]
    }
   ],
   "source": [
    "optuna.logging.set_verbosity(optuna.logging.WARNING)\n",
    "study = optuna.create_study(study_name=\"knn\", direction=\"maximize\")\n",
    "study.optimize(objective, n_trials=100)\n",
    "print(\"Number of finished trials: \", len(study.trials))\n",
    "print(\"Best trial:\")\n",
    "trial = study.best_trial\n",
    "print(\"  Value: {}\".format(trial.value))\n",
    "print(\"  Params: \")\n",
    "for key, value in trial.params.items():\n",
    "    print(\"    {}: {}\".format(key, value))"
   ]
  },
  {
   "cell_type": "code",
   "execution_count": 36,
   "metadata": {},
   "outputs": [
    {
     "name": "stdout",
     "output_type": "stream",
     "text": [
      "0.3645750249523834\n"
     ]
    },
    {
     "data": {
      "image/png": "[encoded data removed]",
      "text/plain": [
       "<Figure size 1600x1000 with 2 Axes>"
      ]
     },
     "metadata": {},
     "output_type": "display_data"
    }
   ],
   "source": [
    "clf = KNeighborsClassifier(**study.best_params)\n",
    "clf.fit(X_res, Y_res)\n",
    "pred_test = clf.predict(X_test)\n",
    "print(f1_score(y_test, pred_test, average='macro'))\n",
    "plot_confusion_matrix(y_test, pred_test, clf)"
   ]
  },
  {
   "cell_type": "markdown",
   "metadata": {},
   "source": [
    "## LogReg"
   ]
  },
  {
   "cell_type": "code",
   "execution_count": 37,
   "metadata": {},
   "outputs": [],
   "source": [
    "def objective(trial):\n",
    "    logreg_solver = trial.suggest_categorical('solver', ['newton-cg', 'sag', 'saga','lbfgs'])\n",
    "    logereg_C = trial.suggest_float('C', 1e-2, 1e2, log=True)\n",
    "    clf = LogisticRegression(multi_class='multinomial', solver=logreg_solver, C=logereg_C, max_iter=1000)\n",
    "    clf.fit(train_x, train_y)\n",
    "    cl = clf.predict(valid_x)\n",
    "    f1 = f1_score(valid_y, cl, average='macro')\n",
    "    \n",
    "    return f1"
   ]
  },
  {
   "cell_type": "code",
   "execution_count": 38,
   "metadata": {},
   "outputs": [
    {
     "name": "stdout",
     "output_type": "stream",
     "text": [
      "Number of finished trials:  100\n",
      "Best trial:\n",
      "  Value: 0.370676725657693\n",
      "  Params: \n",
      "    solver: newton-cg\n",
      "    C: 95.55177992061044\n"
     ]
    }
   ],
   "source": [
    "optuna.logging.set_verbosity(optuna.logging.WARNING)\n",
    "study = optuna.create_study(study_name=\"logreg\", direction=\"maximize\")\n",
    "study.optimize(objective, n_trials=100)\n",
    "print(\"Number of finished trials: \", len(study.trials))\n",
    "print(\"Best trial:\")\n",
    "trial = study.best_trial\n",
    "print(\"  Value: {}\".format(trial.value))\n",
    "print(\"  Params: \")\n",
    "for key, value in trial.params.items():\n",
    "    print(\"    {}: {}\".format(key, value))"
   ]
  },
  {
   "cell_type": "code",
   "execution_count": 39,
   "metadata": {},
   "outputs": [
    {
     "name": "stdout",
     "output_type": "stream",
     "text": [
      "0.3537418222133022\n"
     ]
    },
    {
     "data": {
      "image/png": "[encoded data removed]",
      "text/plain": [
       "<Figure size 1600x1000 with 2 Axes>"
      ]
     },
     "metadata": {},
     "output_type": "display_data"
    }
   ],
   "source": [
    "clf = LogisticRegression(**study.best_params)\n",
    "clf.fit(X_res, Y_res)\n",
    "pred_test = clf.predict(X_test)\n",
    "print(f1_score(y_test, pred_test, average='macro'))\n",
    "plot_confusion_matrix(y_test, pred_test, clf)"
   ]
  },
  {
   "cell_type": "markdown",
   "metadata": {},
   "source": [
    "## RandomForest"
   ]
  },
  {
   "cell_type": "code",
   "execution_count": 40,
   "metadata": {},
   "outputs": [],
   "source": [
    "def objective(trial):\n",
    "    n_estimators = trial.suggest_int(\"n_estimators\", 50, 1000, log=True)\n",
    "    max_depth = trial.suggest_int(\"max_depth\", 10, 100, log=True)\n",
    "    class_weight = trial.suggest_categorical('class_weight', ['balanced', 'balanced_subsample'])\n",
    "    clf = RandomForestClassifier(n_estimators=n_estimators, max_depth=max_depth, class_weight=class_weight)\n",
    "    clf.fit(train_x, train_y)\n",
    "    cl = clf.predict(valid_x)\n",
    "    f1 = f1_score(valid_y, cl, average='macro')\n",
    "    \n",
    "    return f1"
   ]
  },
  {
   "cell_type": "code",
   "execution_count": 41,
   "metadata": {},
   "outputs": [
    {
     "name": "stdout",
     "output_type": "stream",
     "text": [
      "Number of finished trials:  100\n",
      "Best trial:\n",
      "  Value: 0.3667941717855318\n",
      "  Params: \n",
      "    n_estimators: 188\n",
      "    max_depth: 79\n",
      "    class_weight: balanced\n"
     ]
    }
   ],
   "source": [
    "optuna.logging.set_verbosity(optuna.logging.WARNING)\n",
    "study = optuna.create_study(study_name=\"rf\", direction=\"maximize\")\n",
    "study.optimize(objective, n_trials=100)\n",
    "print(\"Number of finished trials: \", len(study.trials))\n",
    "print(\"Best trial:\")\n",
    "trial = study.best_trial\n",
    "print(\"  Value: {}\".format(trial.value))\n",
    "print(\"  Params: \")\n",
    "for key, value in trial.params.items():\n",
    "    print(\"    {}: {}\".format(key, value))"
   ]
  },
  {
   "cell_type": "code",
   "execution_count": 42,
   "metadata": {},
   "outputs": [
    {
     "name": "stdout",
     "output_type": "stream",
     "text": [
      "0.3489290031647718\n"
     ]
    },
    {
     "data": {
      "image/png": "[encoded data removed]",
      "text/plain": [
       "<Figure size 1600x1000 with 2 Axes>"
      ]
     },
     "metadata": {},
     "output_type": "display_data"
    }
   ],
   "source": [
    "clf = RandomForestClassifier(**study.best_params)\n",
    "clf.fit(X_res, Y_res)\n",
    "pred_test = clf.predict(X_test)\n",
    "print(f1_score(y_test, pred_test, average='macro'))\n",
    "plot_confusion_matrix(y_test, pred_test, clf)"
   ]
  },
  {
   "cell_type": "markdown",
   "metadata": {},
   "source": [
    "## Общий рынок - IMOEX"
   ]
  },
  {
   "cell_type": "code",
   "execution_count": 51,
   "metadata": {},
   "outputs": [
    {
     "name": "stdout",
     "output_type": "stream",
     "text": [
      "(13304, 20)\n"
     ]
    },
    {
     "data": {
      "text/html": [
       "<div>\n",
       "<style scoped>\n",
       "    .dataframe tbody tr th:only-of-type {\n",
       "        vertical-align: middle;\n",
       "    }\n",
       "\n",
       "    .dataframe tbody tr th {\n",
       "        vertical-align: top;\n",
       "    }\n",
       "\n",
       "    .dataframe thead th {\n",
       "        text-align: right;\n",
       "    }\n",
       "</style>\n",
       "<table border=\"1\" class=\"dataframe\">\n",
       "  <thead>\n",
       "    <tr style=\"text-align: right;\">\n",
       "      <th></th>\n",
       "      <th>website</th>\n",
       "      <th>section</th>\n",
       "      <th>url</th>\n",
       "      <th>header</th>\n",
       "      <th>body</th>\n",
       "      <th>tags</th>\n",
       "      <th>body_length</th>\n",
       "      <th>datetime</th>\n",
       "      <th>imoex_price_release</th>\n",
       "      <th>imoex_price_lag_30</th>\n",
       "      <th>rvi_price_release</th>\n",
       "      <th>rvi_price_lag_30</th>\n",
       "      <th>usd_price_release</th>\n",
       "      <th>usd_price_lag_30</th>\n",
       "      <th>imoex_price_diff</th>\n",
       "      <th>imoex_price_diff_percent</th>\n",
       "      <th>rvi_price_diff</th>\n",
       "      <th>rvi_price_diff_percent</th>\n",
       "      <th>usd_price_diff</th>\n",
       "      <th>usd_price_diff_percent</th>\n",
       "    </tr>\n",
       "  </thead>\n",
       "  <tbody>\n",
       "    <tr>\n",
       "      <th>0</th>\n",
       "      <td>РИА</td>\n",
       "      <td>Экономика</td>\n",
       "      <td>https://ria.ru/20230103/banki-1842907991.html</td>\n",
       "      <td>Эксперт рассказал о развитии исламского банкин...</td>\n",
       "      <td>Порядка 10-15 филиалов исламского банкинга м...</td>\n",
       "      <td>['Экономика', 'Россия', 'Сбербанк России']</td>\n",
       "      <td>1759</td>\n",
       "      <td>2023-01-03 10:16:00</td>\n",
       "      <td>2166.77</td>\n",
       "      <td>2168.03</td>\n",
       "      <td>40.45</td>\n",
       "      <td>40.26</td>\n",
       "      <td>70352.0</td>\n",
       "      <td>69975.0</td>\n",
       "      <td>1.26</td>\n",
       "      <td>0.058151</td>\n",
       "      <td>-0.19</td>\n",
       "      <td>-0.469716</td>\n",
       "      <td>-377.0</td>\n",
       "      <td>-0.535877</td>\n",
       "    </tr>\n",
       "    <tr>\n",
       "      <th>1</th>\n",
       "      <td>РИА</td>\n",
       "      <td>Экономика</td>\n",
       "      <td>https://ria.ru/20230103/avtomobili-1842908567....</td>\n",
       "      <td>Минпромторг спрогнозировал рост производства а...</td>\n",
       "      <td>Минпромторг прогнозирует в наступившем году ...</td>\n",
       "      <td>['Экономика', 'Авто', 'Денис Мантуров', 'Росси...</td>\n",
       "      <td>808</td>\n",
       "      <td>2023-01-03 10:20:00</td>\n",
       "      <td>2166.37</td>\n",
       "      <td>2167.18</td>\n",
       "      <td>40.45</td>\n",
       "      <td>40.25</td>\n",
       "      <td>70264.0</td>\n",
       "      <td>70008.0</td>\n",
       "      <td>0.81</td>\n",
       "      <td>0.037390</td>\n",
       "      <td>-0.20</td>\n",
       "      <td>-0.494438</td>\n",
       "      <td>-256.0</td>\n",
       "      <td>-0.364340</td>\n",
       "    </tr>\n",
       "    <tr>\n",
       "      <th>2</th>\n",
       "      <td>Интерфакс</td>\n",
       "      <td>ЭКОНОМИКА</td>\n",
       "      <td>https://www.interfax.ru/business/879539</td>\n",
       "      <td>Рынок акций РФ открылся ростом индекса МосБирж...</td>\n",
       "      <td>- Рынок акций РФ открылся во вторник ростом ...</td>\n",
       "      <td>['Московская биржа']</td>\n",
       "      <td>1249</td>\n",
       "      <td>2023-01-03 10:22:00</td>\n",
       "      <td>2166.08</td>\n",
       "      <td>2166.96</td>\n",
       "      <td>40.45</td>\n",
       "      <td>40.24</td>\n",
       "      <td>70176.0</td>\n",
       "      <td>70017.0</td>\n",
       "      <td>0.88</td>\n",
       "      <td>0.040626</td>\n",
       "      <td>-0.21</td>\n",
       "      <td>-0.519159</td>\n",
       "      <td>-159.0</td>\n",
       "      <td>-0.226573</td>\n",
       "    </tr>\n",
       "    <tr>\n",
       "      <th>3</th>\n",
       "      <td>РИА</td>\n",
       "      <td>Экономика</td>\n",
       "      <td>https://ria.ru/20230103/nissan-1842909188.html</td>\n",
       "      <td>\"АвтоВАЗу\" передадут активы Nissan в России</td>\n",
       "      <td>Подведомственное Минпромторгу ФГУП \"НАМИ\" пе...</td>\n",
       "      <td>['Экономика', 'Авто', 'Денис Мантуров', 'Минис...</td>\n",
       "      <td>1414</td>\n",
       "      <td>2023-01-03 10:29:00</td>\n",
       "      <td>2168.32</td>\n",
       "      <td>2168.95</td>\n",
       "      <td>39.86</td>\n",
       "      <td>40.22</td>\n",
       "      <td>70051.0</td>\n",
       "      <td>70144.0</td>\n",
       "      <td>0.63</td>\n",
       "      <td>0.029055</td>\n",
       "      <td>0.36</td>\n",
       "      <td>0.903161</td>\n",
       "      <td>93.0</td>\n",
       "      <td>0.132760</td>\n",
       "    </tr>\n",
       "    <tr>\n",
       "      <th>4</th>\n",
       "      <td>Kommersant</td>\n",
       "      <td>Финансы</td>\n",
       "      <td>https://www.kommersant.ru/doc/5757823</td>\n",
       "      <td>Индекс Мосбиржи растет на 0,5% на первой торго...</td>\n",
       "      <td>Индекс Московской биржи на открытии торгов рас...</td>\n",
       "      <td>None</td>\n",
       "      <td>598</td>\n",
       "      <td>2023-01-03 10:31:00</td>\n",
       "      <td>2168.03</td>\n",
       "      <td>2170.54</td>\n",
       "      <td>39.89</td>\n",
       "      <td>40.13</td>\n",
       "      <td>69940.0</td>\n",
       "      <td>70053.0</td>\n",
       "      <td>2.51</td>\n",
       "      <td>0.115773</td>\n",
       "      <td>0.24</td>\n",
       "      <td>0.601655</td>\n",
       "      <td>113.0</td>\n",
       "      <td>0.161567</td>\n",
       "    </tr>\n",
       "  </tbody>\n",
       "</table>\n",
       "</div>"
      ],
      "text/plain": [
       "      website    section                                                url  \\\n",
       "0         РИА  Экономика      https://ria.ru/20230103/banki-1842907991.html   \n",
       "1         РИА  Экономика  https://ria.ru/20230103/avtomobili-1842908567....   \n",
       "2   Интерфакс  ЭКОНОМИКА            https://www.interfax.ru/business/879539   \n",
       "3         РИА  Экономика     https://ria.ru/20230103/nissan-1842909188.html   \n",
       "4  Kommersant    Финансы              https://www.kommersant.ru/doc/5757823   \n",
       "\n",
       "                                              header  \\\n",
       "0  Эксперт рассказал о развитии исламского банкин...   \n",
       "1  Минпромторг спрогнозировал рост производства а...   \n",
       "2  Рынок акций РФ открылся ростом индекса МосБирж...   \n",
       "3        \"АвтоВАЗу\" передадут активы Nissan в России   \n",
       "4  Индекс Мосбиржи растет на 0,5% на первой торго...   \n",
       "\n",
       "                                                body  \\\n",
       "0    Порядка 10-15 филиалов исламского банкинга м...   \n",
       "1    Минпромторг прогнозирует в наступившем году ...   \n",
       "2    - Рынок акций РФ открылся во вторник ростом ...   \n",
       "3    Подведомственное Минпромторгу ФГУП \"НАМИ\" пе...   \n",
       "4  Индекс Московской биржи на открытии торгов рас...   \n",
       "\n",
       "                                                tags  body_length  \\\n",
       "0         ['Экономика', 'Россия', 'Сбербанк России']         1759   \n",
       "1  ['Экономика', 'Авто', 'Денис Мантуров', 'Росси...          808   \n",
       "2                               ['Московская биржа']         1249   \n",
       "3  ['Экономика', 'Авто', 'Денис Мантуров', 'Минис...         1414   \n",
       "4                                               None          598   \n",
       "\n",
       "             datetime  imoex_price_release  imoex_price_lag_30  \\\n",
       "0 2023-01-03 10:16:00              2166.77             2168.03   \n",
       "1 2023-01-03 10:20:00              2166.37             2167.18   \n",
       "2 2023-01-03 10:22:00              2166.08             2166.96   \n",
       "3 2023-01-03 10:29:00              2168.32             2168.95   \n",
       "4 2023-01-03 10:31:00              2168.03             2170.54   \n",
       "\n",
       "   rvi_price_release  rvi_price_lag_30  usd_price_release  usd_price_lag_30  \\\n",
       "0              40.45             40.26            70352.0           69975.0   \n",
       "1              40.45             40.25            70264.0           70008.0   \n",
       "2              40.45             40.24            70176.0           70017.0   \n",
       "3              39.86             40.22            70051.0           70144.0   \n",
       "4              39.89             40.13            69940.0           70053.0   \n",
       "\n",
       "   imoex_price_diff  imoex_price_diff_percent  rvi_price_diff  \\\n",
       "0              1.26                  0.058151           -0.19   \n",
       "1              0.81                  0.037390           -0.20   \n",
       "2              0.88                  0.040626           -0.21   \n",
       "3              0.63                  0.029055            0.36   \n",
       "4              2.51                  0.115773            0.24   \n",
       "\n",
       "   rvi_price_diff_percent  usd_price_diff  usd_price_diff_percent  \n",
       "0               -0.469716          -377.0               -0.535877  \n",
       "1               -0.494438          -256.0               -0.364340  \n",
       "2               -0.519159          -159.0               -0.226573  \n",
       "3                0.903161            93.0                0.132760  \n",
       "4                0.601655           113.0                0.161567  "
      ]
     },
     "execution_count": 51,
     "metadata": {},
     "output_type": "execute_result"
    }
   ],
   "source": [
    "db = create_engine(conn_string) \n",
    "conn = db.connect() \n",
    "conn.autocommit = True\n",
    "\n",
    "dataframe_global = pd.read_sql_query('SELECT * FROM global_trade', conn)\n",
    "conn.close()\n",
    "\n",
    "print(dataframe_global.shape)\n",
    "dataframe_global.head()"
   ]
  },
  {
   "cell_type": "code",
   "execution_count": 52,
   "metadata": {},
   "outputs": [
    {
     "name": "stderr",
     "output_type": "stream",
     "text": [
      "100%|██████████| 13304/13304 [06:02<00:00, 36.67it/s]\n"
     ]
    }
   ],
   "source": [
    "txt_lst = []\n",
    "txts = dataframe_global.body.copy()\n",
    "\n",
    "for text in tqdm(txts):\n",
    "    text = prepare_text(text)\n",
    "    text = del_stopwords(text)\n",
    "    text = lemmatize(text)\n",
    "    txt_lst.append(text)"
   ]
  },
  {
   "cell_type": "code",
   "execution_count": 53,
   "metadata": {},
   "outputs": [],
   "source": [
    "df_global_safe = pd.concat(\n",
    "    [dataframe_global, pd.DataFrame(txt_lst, columns=['text_clear'])],\n",
    "    axis=1\n",
    ")\n",
    "\n",
    "df_global_safe.to_csv('texts_global.csv', index=False)"
   ]
  },
  {
   "cell_type": "code",
   "execution_count": 43,
   "metadata": {},
   "outputs": [],
   "source": [
    "df_global = pd.read_csv('texts_global.csv')\n",
    "\n",
    "for i, text in enumerate(df_global.text_clear):\n",
    "    df_global.loc[i, 'text_clear'] = prepare_text(text).strip()"
   ]
  },
  {
   "cell_type": "code",
   "execution_count": 44,
   "metadata": {},
   "outputs": [
    {
     "data": {
      "text/plain": [
       "imoex_price_diff_cat\n",
       "0      666\n",
       "1    11972\n",
       "2      666\n",
       "Name: count, dtype: int64"
      ]
     },
     "execution_count": 44,
     "metadata": {},
     "output_type": "execute_result"
    }
   ],
   "source": [
    "p = 0.05\n",
    "\n",
    "q_l = df_global.imoex_price_diff_percent.quantile(p)\n",
    "q_u = df_global.imoex_price_diff_percent.quantile(1-p)\n",
    "\n",
    "df_global['imoex_price_diff_cat'] = 1\n",
    "df_global.loc[df_global['imoex_price_diff_percent'] <= q_l, 'imoex_price_diff_cat'] = 0\n",
    "df_global.loc[df_global['imoex_price_diff_percent'] >= q_u, 'imoex_price_diff_cat'] = 2\n",
    "\n",
    "df_global[['imoex_price_diff_cat']].groupby('imoex_price_diff_cat').value_counts()"
   ]
  },
  {
   "cell_type": "code",
   "execution_count": 45,
   "metadata": {},
   "outputs": [],
   "source": [
    "X, y = np.array(df_global['text_clear']), np.array(df_global['imoex_price_diff_cat'].values)"
   ]
  },
  {
   "cell_type": "code",
   "execution_count": 46,
   "metadata": {},
   "outputs": [],
   "source": [
    "vectorizer = TfidfVectorizer(min_df=50)\n",
    "vect_x = vectorizer.fit_transform(X)"
   ]
  },
  {
   "cell_type": "code",
   "execution_count": 47,
   "metadata": {},
   "outputs": [
    {
     "data": {
      "text/plain": [
       "<13304x3822 sparse matrix of type '<class 'numpy.float64'>'\n",
       "\twith 1351450 stored elements in Compressed Sparse Row format>"
      ]
     },
     "execution_count": 47,
     "metadata": {},
     "output_type": "execute_result"
    }
   ],
   "source": [
    "vect_x"
   ]
  },
  {
   "cell_type": "code",
   "execution_count": 48,
   "metadata": {},
   "outputs": [],
   "source": [
    "X_train, X_test, y_train, y_test = train_test_split(vect_x,\n",
    "                                                    y,\n",
    "                                                    random_state=23,\n",
    "                                                    test_size=0.25,\n",
    "                                                    stratify=y)\n",
    "\n",
    "X_res, Y_res = X_train, y_train"
   ]
  },
  {
   "cell_type": "code",
   "execution_count": 49,
   "metadata": {},
   "outputs": [],
   "source": [
    "train_x, valid_x, train_y, valid_y = train_test_split(X_res,\n",
    "                                                      Y_res,\n",
    "                                                      random_state=23,\n",
    "                                                      test_size=0.25,\n",
    "                                                      stratify=Y_res)"
   ]
  },
  {
   "cell_type": "markdown",
   "metadata": {},
   "source": [
    "## SVC"
   ]
  },
  {
   "cell_type": "code",
   "execution_count": 50,
   "metadata": {},
   "outputs": [],
   "source": [
    "def objective(trial):\n",
    "    svc_kernel = trial.suggest_categorical(\"kernel\", ['linear', 'poly', 'rbf', 'sigmoid'])\n",
    "    svc_degree = trial.suggest_int('degree', 2, 5, 1, log=True)\n",
    "    svc_gamma = trial.suggest_categorical('gamma', ['scale', 'auto'])\n",
    "    svc_c = trial.suggest_float(\"C\", 1e-2, 1e2, log=True)\n",
    "    clf = SVC(C=svc_c, gamma=svc_gamma, degree=svc_degree, kernel=svc_kernel)\n",
    "    clf.fit(train_x, train_y)\n",
    "    cl = clf.predict(valid_x)\n",
    "    f1 = f1_score(valid_y, cl, average='macro')\n",
    "    \n",
    "    return f1"
   ]
  },
  {
   "cell_type": "code",
   "execution_count": 51,
   "metadata": {},
   "outputs": [
    {
     "name": "stdout",
     "output_type": "stream",
     "text": [
      "Number of finished trials:  100\n",
      "Best trial:\n",
      "  Value: 0.3602138555342142\n",
      "  Params: \n",
      "    kernel: poly\n",
      "    degree: 2\n",
      "    gamma: scale\n",
      "    C: 9.775042909523725\n"
     ]
    }
   ],
   "source": [
    "optuna.logging.set_verbosity(optuna.logging.WARNING)\n",
    "study = optuna.create_study(study_name=\"svc\", direction=\"maximize\")\n",
    "study.optimize(objective, n_trials=100)\n",
    "print(\"Number of finished trials: \", len(study.trials))\n",
    "print(\"Best trial:\")\n",
    "trial = study.best_trial\n",
    "print(\"  Value: {}\".format(trial.value))\n",
    "print(\"  Params: \")\n",
    "for key, value in trial.params.items():\n",
    "    print(\"    {}: {}\".format(key, value))"
   ]
  },
  {
   "cell_type": "code",
   "execution_count": 52,
   "metadata": {},
   "outputs": [
    {
     "name": "stdout",
     "output_type": "stream",
     "text": [
      "0.37184102390613\n"
     ]
    },
    {
     "data": {
      "image/png": "[encoded data removed]",
      "text/plain": [
       "<Figure size 1600x1000 with 2 Axes>"
      ]
     },
     "metadata": {},
     "output_type": "display_data"
    }
   ],
   "source": [
    "clf = SVC(**study.best_params)\n",
    "clf.fit(X_res, Y_res)\n",
    "pred_test = clf.predict(X_test)\n",
    "print(f1_score(y_test, pred_test, average='macro'))\n",
    "plot_confusion_matrix(y_test, pred_test, clf)"
   ]
  },
  {
   "cell_type": "markdown",
   "metadata": {},
   "source": [
    "## KNN"
   ]
  },
  {
   "cell_type": "code",
   "execution_count": 53,
   "metadata": {},
   "outputs": [],
   "source": [
    "def objective(trial):\n",
    "    knn_n_neighbors = trial.suggest_int('n_neighbors', 3, 15, 1, log=True)\n",
    "    knn_weights = trial.suggest_categorical('weights', ['uniform','distance'])\n",
    "    knn_metric = trial.suggest_categorical('metric', ['euclidean', 'manhattan', 'minkowski'])\n",
    "    clf = KNeighborsClassifier(n_neighbors=knn_n_neighbors, weights=knn_weights, metric=knn_metric)\n",
    "    clf.fit(train_x, train_y)\n",
    "    cl = clf.predict(valid_x)\n",
    "    f1 = f1_score(valid_y, cl, average='macro')\n",
    "    \n",
    "    return f1"
   ]
  },
  {
   "cell_type": "code",
   "execution_count": 54,
   "metadata": {},
   "outputs": [
    {
     "name": "stdout",
     "output_type": "stream",
     "text": [
      "Number of finished trials:  100\n",
      "Best trial:\n",
      "  Value: 0.38352666433928934\n",
      "  Params: \n",
      "    n_neighbors: 4\n",
      "    weights: distance\n",
      "    metric: minkowski\n"
     ]
    }
   ],
   "source": [
    "optuna.logging.set_verbosity(optuna.logging.WARNING)\n",
    "study = optuna.create_study(study_name=\"knn\", direction=\"maximize\")\n",
    "study.optimize(objective, n_trials=100)\n",
    "print(\"Number of finished trials: \", len(study.trials))\n",
    "print(\"Best trial:\")\n",
    "trial = study.best_trial\n",
    "print(\"  Value: {}\".format(trial.value))\n",
    "print(\"  Params: \")\n",
    "for key, value in trial.params.items():\n",
    "    print(\"    {}: {}\".format(key, value))"
   ]
  },
  {
   "cell_type": "code",
   "execution_count": 55,
   "metadata": {},
   "outputs": [
    {
     "name": "stdout",
     "output_type": "stream",
     "text": [
      "0.38019215888556035\n"
     ]
    },
    {
     "data": {
      "image/png": "[encoded data removed]",
      "text/plain": [
       "<Figure size 1600x1000 with 2 Axes>"
      ]
     },
     "metadata": {},
     "output_type": "display_data"
    }
   ],
   "source": [
    "clf = KNeighborsClassifier(**study.best_params)\n",
    "clf.fit(X_res, Y_res)\n",
    "pred_test = clf.predict(X_test)\n",
    "print(f1_score(y_test, pred_test, average='macro'))\n",
    "plot_confusion_matrix(y_test, pred_test, clf)"
   ]
  },
  {
   "cell_type": "markdown",
   "metadata": {},
   "source": [
    "## LogReg"
   ]
  },
  {
   "cell_type": "code",
   "execution_count": 56,
   "metadata": {},
   "outputs": [],
   "source": [
    "def objective(trial):\n",
    "    logreg_solver = trial.suggest_categorical('solver', ['newton-cg', 'sag', 'saga','lbfgs'])\n",
    "    logereg_C = trial.suggest_float('C', 1e-2, 1e2, log=True)\n",
    "    clf = LogisticRegression(multi_class='multinomial', solver=logreg_solver, C=logereg_C, max_iter=1000)\n",
    "    clf.fit(train_x, train_y)\n",
    "    cl = clf.predict(valid_x)\n",
    "    f1 = f1_score(valid_y, cl, average='macro')\n",
    "    \n",
    "    return f1"
   ]
  },
  {
   "cell_type": "code",
   "execution_count": 57,
   "metadata": {},
   "outputs": [
    {
     "name": "stdout",
     "output_type": "stream",
     "text": [
      "Number of finished trials:  100\n",
      "Best trial:\n",
      "  Value: 0.3486553761521191\n",
      "  Params: \n",
      "    solver: saga\n",
      "    C: 84.66812532694345\n"
     ]
    }
   ],
   "source": [
    "optuna.logging.set_verbosity(optuna.logging.WARNING)\n",
    "study = optuna.create_study(study_name=\"logreg\", direction=\"maximize\")\n",
    "study.optimize(objective, n_trials=100)\n",
    "print(\"Number of finished trials: \", len(study.trials))\n",
    "print(\"Best trial:\")\n",
    "trial = study.best_trial\n",
    "print(\"  Value: {}\".format(trial.value))\n",
    "print(\"  Params: \")\n",
    "for key, value in trial.params.items():\n",
    "    print(\"    {}: {}\".format(key, value))"
   ]
  },
  {
   "cell_type": "code",
   "execution_count": 58,
   "metadata": {},
   "outputs": [
    {
     "name": "stderr",
     "output_type": "stream",
     "text": [
      "c:\\Users\\maxod\\Desktop\\tutorial\\.venv\\Lib\\site-packages\\sklearn\\linear_model\\_sag.py:350: ConvergenceWarning: The max_iter was reached which means the coef_ did not converge\n",
      "  warnings.warn(\n"
     ]
    },
    {
     "name": "stdout",
     "output_type": "stream",
     "text": [
      "0.36358186156351296\n"
     ]
    },
    {
     "data": {
      "image/png": "[encoded data removed]",
      "text/plain": [
       "<Figure size 1600x1000 with 2 Axes>"
      ]
     },
     "metadata": {},
     "output_type": "display_data"
    }
   ],
   "source": [
    "clf = LogisticRegression(**study.best_params)\n",
    "clf.fit(X_res, Y_res)\n",
    "pred_test = clf.predict(X_test)\n",
    "print(f1_score(y_test, pred_test, average='macro'))\n",
    "plot_confusion_matrix(y_test, pred_test, clf)"
   ]
  },
  {
   "cell_type": "markdown",
   "metadata": {},
   "source": [
    "## RandomForest"
   ]
  },
  {
   "cell_type": "code",
   "execution_count": 59,
   "metadata": {},
   "outputs": [],
   "source": [
    "def objective(trial):\n",
    "    n_estimators = trial.suggest_int(\"n_estimators\", 50, 1000, log=True)\n",
    "    max_depth = trial.suggest_int(\"max_depth\", 10, 100, log=True)\n",
    "    class_weight = trial.suggest_categorical('class_weight', ['balanced', 'balanced_subsample'])\n",
    "    clf = RandomForestClassifier(n_estimators=n_estimators, max_depth=max_depth, class_weight=class_weight)\n",
    "    clf.fit(train_x, train_y)\n",
    "    cl = clf.predict(valid_x)\n",
    "    f1 = f1_score(valid_y, cl, average='macro')\n",
    "    \n",
    "    return f1"
   ]
  },
  {
   "cell_type": "code",
   "execution_count": 60,
   "metadata": {},
   "outputs": [
    {
     "name": "stdout",
     "output_type": "stream",
     "text": [
      "Number of finished trials:  100\n",
      "Best trial:\n",
      "  Value: 0.40021821239923305\n",
      "  Params: \n",
      "    n_estimators: 289\n",
      "    max_depth: 13\n",
      "    class_weight: balanced_subsample\n"
     ]
    }
   ],
   "source": [
    "optuna.logging.set_verbosity(optuna.logging.WARNING)\n",
    "study = optuna.create_study(study_name=\"rf\", direction=\"maximize\")\n",
    "study.optimize(objective, n_trials=100)\n",
    "print(\"Number of finished trials: \", len(study.trials))\n",
    "print(\"Best trial:\")\n",
    "trial = study.best_trial\n",
    "print(\"  Value: {}\".format(trial.value))\n",
    "print(\"  Params: \")\n",
    "for key, value in trial.params.items():\n",
    "    print(\"    {}: {}\".format(key, value))"
   ]
  },
  {
   "cell_type": "code",
   "execution_count": 61,
   "metadata": {},
   "outputs": [
    {
     "name": "stdout",
     "output_type": "stream",
     "text": [
      "0.3418565685514294\n"
     ]
    },
    {
     "data": {
      "image/png": "[encoded data removed]",
      "text/plain": [
       "<Figure size 1600x1000 with 2 Axes>"
      ]
     },
     "metadata": {},
     "output_type": "display_data"
    }
   ],
   "source": [
    "clf = RandomForestClassifier(**study.best_params)\n",
    "clf.fit(X_res, Y_res)\n",
    "pred_test = clf.predict(X_test)\n",
    "print(f1_score(y_test, pred_test, average='macro'))\n",
    "plot_confusion_matrix(y_test, pred_test, clf)"
   ]
  },
  {
   "cell_type": "markdown",
   "metadata": {},
   "source": [
    "## Общий рынок - RVI"
   ]
  },
  {
   "cell_type": "code",
   "execution_count": 62,
   "metadata": {},
   "outputs": [
    {
     "data": {
      "text/plain": [
       "rvi_price_diff_cat\n",
       "0      666\n",
       "1    11972\n",
       "2      666\n",
       "Name: count, dtype: int64"
      ]
     },
     "execution_count": 62,
     "metadata": {},
     "output_type": "execute_result"
    }
   ],
   "source": [
    "p = 0.05\n",
    "\n",
    "q_l = df_global.rvi_price_diff_percent.quantile(p)\n",
    "q_u = df_global.rvi_price_diff_percent.quantile(1-p)\n",
    "\n",
    "df_global['rvi_price_diff_cat'] = 1\n",
    "df_global.loc[df_global['rvi_price_diff_percent'] <= q_l, 'rvi_price_diff_cat'] = 0\n",
    "df_global.loc[df_global['rvi_price_diff_percent'] >= q_u, 'rvi_price_diff_cat'] = 2\n",
    "\n",
    "df_global[['rvi_price_diff_cat']].groupby('rvi_price_diff_cat').value_counts()"
   ]
  },
  {
   "cell_type": "code",
   "execution_count": 63,
   "metadata": {},
   "outputs": [],
   "source": [
    "X, y = np.array(df_global['text_clear']), np.array(df_global['rvi_price_diff_cat'].values)"
   ]
  },
  {
   "cell_type": "code",
   "execution_count": 64,
   "metadata": {},
   "outputs": [],
   "source": [
    "vectorizer = TfidfVectorizer(min_df=50)\n",
    "vect_x = vectorizer.fit_transform(X)"
   ]
  },
  {
   "cell_type": "code",
   "execution_count": 65,
   "metadata": {},
   "outputs": [],
   "source": [
    "X_train, X_test, y_train, y_test = train_test_split(vect_x,\n",
    "                                                    y,\n",
    "                                                    random_state=23,\n",
    "                                                    test_size=0.25,\n",
    "                                                    stratify=y)\n",
    "\n",
    "X_res, Y_res = X_train, y_train"
   ]
  },
  {
   "cell_type": "code",
   "execution_count": 66,
   "metadata": {},
   "outputs": [],
   "source": [
    "train_x, valid_x, train_y, valid_y = train_test_split(X_res,\n",
    "                                                      Y_res,\n",
    "                                                      random_state=23,\n",
    "                                                      test_size=0.25,\n",
    "                                                      stratify=Y_res)"
   ]
  },
  {
   "cell_type": "markdown",
   "metadata": {},
   "source": [
    "## SVC"
   ]
  },
  {
   "cell_type": "code",
   "execution_count": 67,
   "metadata": {},
   "outputs": [],
   "source": [
    "def objective(trial):\n",
    "    svc_kernel = trial.suggest_categorical(\"kernel\", ['linear', 'poly', 'rbf', 'sigmoid'])\n",
    "    svc_degree = trial.suggest_int('degree', 2, 5, 1, log=True)\n",
    "    svc_gamma = trial.suggest_categorical('gamma', ['scale', 'auto'])\n",
    "    svc_c = trial.suggest_float(\"C\", 1e-2, 1e2, log=True)\n",
    "    clf = SVC(C=svc_c, gamma=svc_gamma, degree=svc_degree, kernel=svc_kernel)\n",
    "    clf.fit(train_x, train_y)\n",
    "    cl = clf.predict(valid_x)\n",
    "    f1 = f1_score(valid_y, cl, average='macro')\n",
    "    \n",
    "    return f1"
   ]
  },
  {
   "cell_type": "code",
   "execution_count": 68,
   "metadata": {},
   "outputs": [
    {
     "name": "stdout",
     "output_type": "stream",
     "text": [
      "Number of finished trials:  100\n",
      "Best trial:\n",
      "  Value: 0.36742617546068407\n",
      "  Params: \n",
      "    kernel: linear\n",
      "    degree: 4\n",
      "    gamma: auto\n",
      "    C: 22.590181902238598\n"
     ]
    }
   ],
   "source": [
    "optuna.logging.set_verbosity(optuna.logging.WARNING)\n",
    "study = optuna.create_study(study_name=\"svc\", direction=\"maximize\")\n",
    "study.optimize(objective, n_trials=100)\n",
    "print(\"Number of finished trials: \", len(study.trials))\n",
    "print(\"Best trial:\")\n",
    "trial = study.best_trial\n",
    "print(\"  Value: {}\".format(trial.value))\n",
    "print(\"  Params: \")\n",
    "for key, value in trial.params.items():\n",
    "    print(\"    {}: {}\".format(key, value))"
   ]
  },
  {
   "cell_type": "code",
   "execution_count": 69,
   "metadata": {},
   "outputs": [
    {
     "name": "stdout",
     "output_type": "stream",
     "text": [
      "0.3677344462321562\n"
     ]
    },
    {
     "data": {
      "image/png": "[encoded data removed]",
      "text/plain": [
       "<Figure size 1600x1000 with 2 Axes>"
      ]
     },
     "metadata": {},
     "output_type": "display_data"
    }
   ],
   "source": [
    "clf = SVC(**study.best_params)\n",
    "clf.fit(X_res, Y_res)\n",
    "pred_test = clf.predict(X_test)\n",
    "print(f1_score(y_test, pred_test, average='macro'))\n",
    "plot_confusion_matrix(y_test, pred_test, clf)"
   ]
  },
  {
   "cell_type": "markdown",
   "metadata": {},
   "source": [
    "## KNN"
   ]
  },
  {
   "cell_type": "code",
   "execution_count": 70,
   "metadata": {},
   "outputs": [],
   "source": [
    "def objective(trial):\n",
    "    knn_n_neighbors = trial.suggest_int('n_neighbors', 3, 15, 1, log=True)\n",
    "    knn_weights = trial.suggest_categorical('weights', ['uniform','distance'])\n",
    "    knn_metric = trial.suggest_categorical('metric', ['euclidean', 'manhattan', 'minkowski'])\n",
    "    clf = KNeighborsClassifier(n_neighbors=knn_n_neighbors, weights=knn_weights, metric=knn_metric)\n",
    "    clf.fit(train_x, train_y)\n",
    "    cl = clf.predict(valid_x)\n",
    "    f1 = f1_score(valid_y, cl, average='macro')\n",
    "    \n",
    "    return f1"
   ]
  },
  {
   "cell_type": "code",
   "execution_count": 71,
   "metadata": {},
   "outputs": [
    {
     "name": "stdout",
     "output_type": "stream",
     "text": [
      "Number of finished trials:  100\n",
      "Best trial:\n",
      "  Value: 0.3550553600442296\n",
      "  Params: \n",
      "    n_neighbors: 3\n",
      "    weights: distance\n",
      "    metric: manhattan\n"
     ]
    }
   ],
   "source": [
    "optuna.logging.set_verbosity(optuna.logging.WARNING)\n",
    "study = optuna.create_study(study_name=\"knn\", direction=\"maximize\")\n",
    "study.optimize(objective, n_trials=100)\n",
    "print(\"Number of finished trials: \", len(study.trials))\n",
    "print(\"Best trial:\")\n",
    "trial = study.best_trial\n",
    "print(\"  Value: {}\".format(trial.value))\n",
    "print(\"  Params: \")\n",
    "for key, value in trial.params.items():\n",
    "    print(\"    {}: {}\".format(key, value))"
   ]
  },
  {
   "cell_type": "code",
   "execution_count": 72,
   "metadata": {},
   "outputs": [
    {
     "name": "stdout",
     "output_type": "stream",
     "text": [
      "0.3592966986389752\n"
     ]
    },
    {
     "data": {
      "image/png": "[encoded data removed]",
      "text/plain": [
       "<Figure size 1600x1000 with 2 Axes>"
      ]
     },
     "metadata": {},
     "output_type": "display_data"
    }
   ],
   "source": [
    "clf = KNeighborsClassifier(**study.best_params)\n",
    "clf.fit(X_res, Y_res)\n",
    "pred_test = clf.predict(X_test)\n",
    "print(f1_score(y_test, pred_test, average='macro'))\n",
    "plot_confusion_matrix(y_test, pred_test, clf)"
   ]
  },
  {
   "cell_type": "markdown",
   "metadata": {},
   "source": [
    "## LogReg"
   ]
  },
  {
   "cell_type": "code",
   "execution_count": 73,
   "metadata": {},
   "outputs": [],
   "source": [
    "def objective(trial):\n",
    "    logreg_solver = trial.suggest_categorical('solver', ['newton-cg', 'sag', 'saga','lbfgs'])\n",
    "    logereg_C = trial.suggest_float('C', 1e-2, 1e2, log=True)\n",
    "    clf = LogisticRegression(multi_class='multinomial', solver=logreg_solver, C=logereg_C, max_iter=1000)\n",
    "    clf.fit(train_x, train_y)\n",
    "    cl = clf.predict(valid_x)\n",
    "    f1 = f1_score(valid_y, cl, average='macro')\n",
    "    \n",
    "    return f1"
   ]
  },
  {
   "cell_type": "code",
   "execution_count": 74,
   "metadata": {},
   "outputs": [
    {
     "name": "stdout",
     "output_type": "stream",
     "text": [
      "Number of finished trials:  100\n",
      "Best trial:\n",
      "  Value: 0.3622794091119235\n",
      "  Params: \n",
      "    solver: sag\n",
      "    C: 39.340833758138125\n"
     ]
    }
   ],
   "source": [
    "optuna.logging.set_verbosity(optuna.logging.WARNING)\n",
    "study = optuna.create_study(study_name=\"logreg\", direction=\"maximize\")\n",
    "study.optimize(objective, n_trials=100)\n",
    "print(\"Number of finished trials: \", len(study.trials))\n",
    "print(\"Best trial:\")\n",
    "trial = study.best_trial\n",
    "print(\"  Value: {}\".format(trial.value))\n",
    "print(\"  Params: \")\n",
    "for key, value in trial.params.items():\n",
    "    print(\"    {}: {}\".format(key, value))"
   ]
  },
  {
   "cell_type": "code",
   "execution_count": 75,
   "metadata": {},
   "outputs": [
    {
     "name": "stdout",
     "output_type": "stream",
     "text": [
      "0.3560446775882673\n"
     ]
    },
    {
     "data": {
      "image/png": "[encoded data removed]",
      "text/plain": [
       "<Figure size 1600x1000 with 2 Axes>"
      ]
     },
     "metadata": {},
     "output_type": "display_data"
    }
   ],
   "source": [
    "clf = LogisticRegression(**study.best_params)\n",
    "clf.fit(X_res, Y_res)\n",
    "pred_test = clf.predict(X_test)\n",
    "print(f1_score(y_test, pred_test, average='macro'))\n",
    "plot_confusion_matrix(y_test, pred_test, clf)"
   ]
  },
  {
   "cell_type": "markdown",
   "metadata": {},
   "source": [
    "## RandomForest"
   ]
  },
  {
   "cell_type": "code",
   "execution_count": 76,
   "metadata": {},
   "outputs": [],
   "source": [
    "def objective(trial):\n",
    "    n_estimators = trial.suggest_int(\"n_estimators\", 50, 1000, log=True)\n",
    "    max_depth = trial.suggest_int(\"max_depth\", 10, 100, log=True)\n",
    "    class_weight = trial.suggest_categorical('class_weight', ['balanced', 'balanced_subsample'])\n",
    "    clf = RandomForestClassifier(n_estimators=n_estimators, max_depth=max_depth, class_weight=class_weight)\n",
    "    clf.fit(train_x, train_y)\n",
    "    cl = clf.predict(valid_x)\n",
    "    f1 = f1_score(valid_y, cl, average='macro')\n",
    "    \n",
    "    return f1"
   ]
  },
  {
   "cell_type": "code",
   "execution_count": 77,
   "metadata": {},
   "outputs": [
    {
     "name": "stdout",
     "output_type": "stream",
     "text": [
      "Number of finished trials:  100\n",
      "Best trial:\n",
      "  Value: 0.3664000699340493\n",
      "  Params: \n",
      "    n_estimators: 63\n",
      "    max_depth: 10\n",
      "    class_weight: balanced\n"
     ]
    }
   ],
   "source": [
    "optuna.logging.set_verbosity(optuna.logging.WARNING)\n",
    "study = optuna.create_study(study_name=\"rf\", direction=\"maximize\")\n",
    "study.optimize(objective, n_trials=100)\n",
    "print(\"Number of finished trials: \", len(study.trials))\n",
    "print(\"Best trial:\")\n",
    "trial = study.best_trial\n",
    "print(\"  Value: {}\".format(trial.value))\n",
    "print(\"  Params: \")\n",
    "for key, value in trial.params.items():\n",
    "    print(\"    {}: {}\".format(key, value))"
   ]
  },
  {
   "cell_type": "code",
   "execution_count": 78,
   "metadata": {},
   "outputs": [
    {
     "name": "stdout",
     "output_type": "stream",
     "text": [
      "0.3546664108460483\n"
     ]
    },
    {
     "data": {
      "image/png": "[encoded data removed]",
      "text/plain": [
       "<Figure size 1600x1000 with 2 Axes>"
      ]
     },
     "metadata": {},
     "output_type": "display_data"
    }
   ],
   "source": [
    "clf = RandomForestClassifier(**study.best_params)\n",
    "clf.fit(X_res, Y_res)\n",
    "pred_test = clf.predict(X_test)\n",
    "print(f1_score(y_test, pred_test, average='macro'))\n",
    "plot_confusion_matrix(y_test, pred_test, clf)"
   ]
  },
  {
   "cell_type": "markdown",
   "metadata": {},
   "source": [
    "## Общий рынок - Фьючерс на доллар"
   ]
  },
  {
   "cell_type": "code",
   "execution_count": 79,
   "metadata": {},
   "outputs": [
    {
     "data": {
      "text/plain": [
       "usd_price_diff_cat\n",
       "0      666\n",
       "1    11972\n",
       "2      666\n",
       "Name: count, dtype: int64"
      ]
     },
     "execution_count": 79,
     "metadata": {},
     "output_type": "execute_result"
    }
   ],
   "source": [
    "p = 0.05\n",
    "\n",
    "q_l = df_global.usd_price_diff_percent.quantile(p)\n",
    "q_u = df_global.usd_price_diff_percent.quantile(1-p)\n",
    "\n",
    "df_global['usd_price_diff_cat'] = 1\n",
    "df_global.loc[df_global['usd_price_diff_percent'] <= q_l, 'usd_price_diff_cat'] = 0\n",
    "df_global.loc[df_global['usd_price_diff_percent'] >= q_u, 'usd_price_diff_cat'] = 2\n",
    "\n",
    "df_global[['usd_price_diff_cat']].groupby('usd_price_diff_cat').value_counts()"
   ]
  },
  {
   "cell_type": "code",
   "execution_count": 80,
   "metadata": {},
   "outputs": [],
   "source": [
    "X, y = np.array(df_global['text_clear']), np.array(df_global['usd_price_diff_cat'].values)"
   ]
  },
  {
   "cell_type": "code",
   "execution_count": 81,
   "metadata": {},
   "outputs": [],
   "source": [
    "vectorizer = TfidfVectorizer(min_df=50)\n",
    "vect_x = vectorizer.fit_transform(X)"
   ]
  },
  {
   "cell_type": "code",
   "execution_count": 82,
   "metadata": {},
   "outputs": [],
   "source": [
    "X_train, X_test, y_train, y_test = train_test_split(vect_x,\n",
    "                                                    y,\n",
    "                                                    random_state=23,\n",
    "                                                    test_size=0.25,\n",
    "                                                    stratify=y)\n",
    "\n",
    "X_res, Y_res = X_train, y_train"
   ]
  },
  {
   "cell_type": "code",
   "execution_count": 83,
   "metadata": {},
   "outputs": [],
   "source": [
    "train_x, valid_x, train_y, valid_y = train_test_split(X_res,\n",
    "                                                      Y_res,\n",
    "                                                      random_state=23,\n",
    "                                                      test_size=0.25,\n",
    "                                                      stratify=Y_res)"
   ]
  },
  {
   "cell_type": "markdown",
   "metadata": {},
   "source": [
    "## SVC"
   ]
  },
  {
   "cell_type": "code",
   "execution_count": 84,
   "metadata": {},
   "outputs": [],
   "source": [
    "def objective(trial):\n",
    "    svc_kernel = trial.suggest_categorical(\"kernel\", ['linear', 'poly', 'rbf', 'sigmoid'])\n",
    "    svc_degree = trial.suggest_int('degree', 2, 5, 1, log=True)\n",
    "    svc_gamma = trial.suggest_categorical('gamma', ['scale', 'auto'])\n",
    "    svc_c = trial.suggest_float(\"C\", 1e-2, 1e2, log=True)\n",
    "    clf = SVC(C=svc_c, gamma=svc_gamma, degree=svc_degree, kernel=svc_kernel)\n",
    "    clf.fit(train_x, train_y)\n",
    "    cl = clf.predict(valid_x)\n",
    "    f1 = f1_score(valid_y, cl, average='macro')\n",
    "    \n",
    "    return f1"
   ]
  },
  {
   "cell_type": "code",
   "execution_count": 85,
   "metadata": {},
   "outputs": [
    {
     "name": "stdout",
     "output_type": "stream",
     "text": [
      "Number of finished trials:  100\n",
      "Best trial:\n",
      "  Value: 0.37306344402380415\n",
      "  Params: \n",
      "    kernel: poly\n",
      "    degree: 2\n",
      "    gamma: scale\n",
      "    C: 2.9824472008421727\n"
     ]
    }
   ],
   "source": [
    "optuna.logging.set_verbosity(optuna.logging.WARNING)\n",
    "study = optuna.create_study(study_name=\"svc\", direction=\"maximize\")\n",
    "study.optimize(objective, n_trials=100)\n",
    "print(\"Number of finished trials: \", len(study.trials))\n",
    "print(\"Best trial:\")\n",
    "trial = study.best_trial\n",
    "print(\"  Value: {}\".format(trial.value))\n",
    "print(\"  Params: \")\n",
    "for key, value in trial.params.items():\n",
    "    print(\"    {}: {}\".format(key, value))"
   ]
  },
  {
   "cell_type": "code",
   "execution_count": 86,
   "metadata": {},
   "outputs": [
    {
     "name": "stdout",
     "output_type": "stream",
     "text": [
      "0.33326319208672145\n"
     ]
    },
    {
     "data": {
      "image/png": "[encoded data removed]",
      "text/plain": [
       "<Figure size 1600x1000 with 2 Axes>"
      ]
     },
     "metadata": {},
     "output_type": "display_data"
    }
   ],
   "source": [
    "clf = SVC(**study.best_params)\n",
    "clf.fit(X_res, Y_res)\n",
    "pred_test = clf.predict(X_test)\n",
    "print(f1_score(y_test, pred_test, average='macro'))\n",
    "plot_confusion_matrix(y_test, pred_test, clf)"
   ]
  },
  {
   "cell_type": "markdown",
   "metadata": {},
   "source": [
    "## KNN"
   ]
  },
  {
   "cell_type": "code",
   "execution_count": 87,
   "metadata": {},
   "outputs": [],
   "source": [
    "def objective(trial):\n",
    "    knn_n_neighbors = trial.suggest_int('n_neighbors', 3, 15, 1, log=True)\n",
    "    knn_weights = trial.suggest_categorical('weights', ['uniform','distance'])\n",
    "    knn_metric = trial.suggest_categorical('metric', ['euclidean', 'manhattan', 'minkowski'])\n",
    "    clf = KNeighborsClassifier(n_neighbors=knn_n_neighbors, weights=knn_weights, metric=knn_metric)\n",
    "    clf.fit(train_x, train_y)\n",
    "    cl = clf.predict(valid_x)\n",
    "    f1 = f1_score(valid_y, cl, average='macro')\n",
    "    \n",
    "    return f1"
   ]
  },
  {
   "cell_type": "code",
   "execution_count": 88,
   "metadata": {},
   "outputs": [
    {
     "name": "stdout",
     "output_type": "stream",
     "text": [
      "Number of finished trials:  100\n",
      "Best trial:\n",
      "  Value: 0.3729921449466296\n",
      "  Params: \n",
      "    n_neighbors: 3\n",
      "    weights: distance\n",
      "    metric: euclidean\n"
     ]
    }
   ],
   "source": [
    "optuna.logging.set_verbosity(optuna.logging.WARNING)\n",
    "study = optuna.create_study(study_name=\"knn\", direction=\"maximize\")\n",
    "study.optimize(objective, n_trials=100)\n",
    "print(\"Number of finished trials: \", len(study.trials))\n",
    "print(\"Best trial:\")\n",
    "trial = study.best_trial\n",
    "print(\"  Value: {}\".format(trial.value))\n",
    "print(\"  Params: \")\n",
    "for key, value in trial.params.items():\n",
    "    print(\"    {}: {}\".format(key, value))"
   ]
  },
  {
   "cell_type": "code",
   "execution_count": 89,
   "metadata": {},
   "outputs": [
    {
     "name": "stdout",
     "output_type": "stream",
     "text": [
      "0.35318711508348993\n"
     ]
    },
    {
     "data": {
      "image/png": "[encoded data removed]",
      "text/plain": [
       "<Figure size 1600x1000 with 2 Axes>"
      ]
     },
     "metadata": {},
     "output_type": "display_data"
    }
   ],
   "source": [
    "clf = KNeighborsClassifier(**study.best_params)\n",
    "clf.fit(X_res, Y_res)\n",
    "pred_test = clf.predict(X_test)\n",
    "print(f1_score(y_test, pred_test, average='macro'))\n",
    "plot_confusion_matrix(y_test, pred_test, clf)"
   ]
  },
  {
   "cell_type": "markdown",
   "metadata": {},
   "source": [
    "## LogReg"
   ]
  },
  {
   "cell_type": "code",
   "execution_count": 90,
   "metadata": {},
   "outputs": [],
   "source": [
    "def objective(trial):\n",
    "    logreg_solver = trial.suggest_categorical('solver', ['newton-cg', 'sag', 'saga','lbfgs'])\n",
    "    logereg_C = trial.suggest_float('C', 1e-2, 1e2, log=True)\n",
    "    clf = LogisticRegression(multi_class='multinomial', solver=logreg_solver, C=logereg_C, max_iter=1000)\n",
    "    clf.fit(train_x, train_y)\n",
    "    cl = clf.predict(valid_x)\n",
    "    f1 = f1_score(valid_y, cl, average='macro')\n",
    "    \n",
    "    return f1"
   ]
  },
  {
   "cell_type": "code",
   "execution_count": 91,
   "metadata": {},
   "outputs": [
    {
     "name": "stdout",
     "output_type": "stream",
     "text": [
      "Number of finished trials:  100\n",
      "Best trial:\n",
      "  Value: 0.37776405406968366\n",
      "  Params: \n",
      "    solver: saga\n",
      "    C: 24.998500585371122\n"
     ]
    }
   ],
   "source": [
    "optuna.logging.set_verbosity(optuna.logging.WARNING)\n",
    "study = optuna.create_study(study_name=\"logreg\", direction=\"maximize\")\n",
    "study.optimize(objective, n_trials=100)\n",
    "print(\"Number of finished trials: \", len(study.trials))\n",
    "print(\"Best trial:\")\n",
    "trial = study.best_trial\n",
    "print(\"  Value: {}\".format(trial.value))\n",
    "print(\"  Params: \")\n",
    "for key, value in trial.params.items():\n",
    "    print(\"    {}: {}\".format(key, value))"
   ]
  },
  {
   "cell_type": "code",
   "execution_count": 92,
   "metadata": {},
   "outputs": [
    {
     "name": "stderr",
     "output_type": "stream",
     "text": [
      "c:\\Users\\maxod\\Desktop\\tutorial\\.venv\\Lib\\site-packages\\sklearn\\linear_model\\_sag.py:350: ConvergenceWarning: The max_iter was reached which means the coef_ did not converge\n",
      "  warnings.warn(\n"
     ]
    },
    {
     "name": "stdout",
     "output_type": "stream",
     "text": [
      "0.35686870570725326\n"
     ]
    },
    {
     "data": {
      "image/png": "[encoded data removed]",
      "text/plain": [
       "<Figure size 1600x1000 with 2 Axes>"
      ]
     },
     "metadata": {},
     "output_type": "display_data"
    }
   ],
   "source": [
    "clf = LogisticRegression(**study.best_params)\n",
    "clf.fit(X_res, Y_res)\n",
    "pred_test = clf.predict(X_test)\n",
    "print(f1_score(y_test, pred_test, average='macro'))\n",
    "plot_confusion_matrix(y_test, pred_test, clf)"
   ]
  },
  {
   "cell_type": "markdown",
   "metadata": {},
   "source": [
    "## RandomForest"
   ]
  },
  {
   "cell_type": "code",
   "execution_count": 93,
   "metadata": {},
   "outputs": [],
   "source": [
    "def objective(trial):\n",
    "    n_estimators = trial.suggest_int(\"n_estimators\", 50, 1000, log=True)\n",
    "    max_depth = trial.suggest_int(\"max_depth\", 10, 100, log=True)\n",
    "    class_weight = trial.suggest_categorical('class_weight', ['balanced', 'balanced_subsample'])\n",
    "    clf = RandomForestClassifier(n_estimators=n_estimators, max_depth=max_depth, class_weight=class_weight)\n",
    "    clf.fit(train_x, train_y)\n",
    "    cl = clf.predict(valid_x)\n",
    "    f1 = f1_score(valid_y, cl, average='macro')\n",
    "    \n",
    "    return f1"
   ]
  },
  {
   "cell_type": "code",
   "execution_count": 94,
   "metadata": {},
   "outputs": [
    {
     "name": "stdout",
     "output_type": "stream",
     "text": [
      "Number of finished trials:  100\n",
      "Best trial:\n",
      "  Value: 0.38666422982954723\n",
      "  Params: \n",
      "    n_estimators: 66\n",
      "    max_depth: 10\n",
      "    class_weight: balanced_subsample\n"
     ]
    }
   ],
   "source": [
    "optuna.logging.set_verbosity(optuna.logging.WARNING)\n",
    "study = optuna.create_study(study_name=\"rf\", direction=\"maximize\")\n",
    "study.optimize(objective, n_trials=100)\n",
    "print(\"Number of finished trials: \", len(study.trials))\n",
    "print(\"Best trial:\")\n",
    "trial = study.best_trial\n",
    "print(\"  Value: {}\".format(trial.value))\n",
    "print(\"  Params: \")\n",
    "for key, value in trial.params.items():\n",
    "    print(\"    {}: {}\".format(key, value))"
   ]
  },
  {
   "cell_type": "code",
   "execution_count": 95,
   "metadata": {},
   "outputs": [
    {
     "name": "stdout",
     "output_type": "stream",
     "text": [
      "0.3527296256549714\n"
     ]
    },
    {
     "data": {
      "image/png": "[encoded data removed]",
      "text/plain": [
       "<Figure size 1600x1000 with 2 Axes>"
      ]
     },
     "metadata": {},
     "output_type": "display_data"
    }
   ],
   "source": [
    "clf = RandomForestClassifier(**study.best_params)\n",
    "clf.fit(X_res, Y_res)\n",
    "pred_test = clf.predict(X_test)\n",
    "print(f1_score(y_test, pred_test, average='macro'))\n",
    "plot_confusion_matrix(y_test, pred_test, clf)"
   ]
  },
  {
   "cell_type": "code",
   "execution_count": null,
   "metadata": {},
   "outputs": [],
   "source": []
  },
  {
   "cell_type": "code",
   "execution_count": null,
   "metadata": {},
   "outputs": [],
   "source": []
  }
 ],
 "metadata": {
  "kernelspec": {
   "display_name": ".venv",
   "language": "python",
   "name": "python3"
  },
  "language_info": {
   "codemirror_mode": {
    "name": "ipython",
    "version": 3
   },
   "file_extension": ".py",
   "mimetype": "text/x-python",
   "name": "python",
   "nbconvert_exporter": "python",
   "pygments_lexer": "ipython3",
   "version": "3.11.5"
  }
 },
 "nbformat": 4,
 "nbformat_minor": 2
}
