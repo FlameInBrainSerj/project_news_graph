{
 "cells": [
  {
   "cell_type": "code",
   "execution_count": 1,
   "id": "223bad47",
   "metadata": {},
   "outputs": [],
   "source": [
    "import numpy as np\n",
    "import pandas as pd\n",
    "import matplotlib.pyplot as plt\n",
    "from sqlalchemy import create_engine\n",
    "\n",
    "import re\n",
    "from tqdm.notebook import tqdm\n",
    "import requests\n",
    "import datetime\n",
    "import time\n",
    "from collections import Counter\n",
    "from random import uniform, randint\n",
    "import warnings\n",
    "\n",
    "warnings.filterwarnings('ignore')\n",
    "\n",
    "from nltk.corpus import stopwords\n",
    "from nltk.tokenize import word_tokenize\n",
    "from natasha import (Segmenter, MorphVocab, NewsEmbedding, NewsMorphTagger,\n",
    "                     NewsNERTagger, Doc)\n",
    "\n",
    "from sklearn.utils.class_weight import compute_class_weight\n",
    "from sklearn.model_selection import train_test_split\n",
    "from sklearn.metrics import (ConfusionMatrixDisplay, confusion_matrix,\n",
    "                             f1_score, classification_report)\n",
    "\n",
    "from keras.preprocessing.text import Tokenizer\n",
    "from keras.preprocessing.sequence import pad_sequences\n",
    "from keras.layers import Embedding, LSTM, Dense\n",
    "from keras.models import Sequential\n",
    "import tensorflow as tf\n",
    "import tensorflow_addons as tfa\n",
    "import keras"
   ]
  },
  {
   "cell_type": "code",
   "execution_count": 2,
   "id": "edbe0bc8",
   "metadata": {},
   "outputs": [],
   "source": [
    "username = '...'\n",
    "password = '...'\n",
    "host = '...'\n",
    "port = '...'\n",
    "database = '...'\n",
    "\n",
    "conn_string = f'postgresql://{username}:{password}@{host}:{port}/{database}'"
   ]
  },
  {
   "cell_type": "code",
   "execution_count": 3,
   "id": "603a7bc0",
   "metadata": {},
   "outputs": [],
   "source": [
    "def data_import_from_db(table_name, conn_string):\n",
    "    db = create_engine(conn_string) \n",
    "    conn = db.connect() \n",
    "    conn.autocommit = True\n",
    "    df = pd.read_sql_query(f'SELECT * FROM {table_name}', conn)\n",
    "    conn.close()\n",
    "    return df"
   ]
  },
  {
   "cell_type": "markdown",
   "id": "f3c96326",
   "metadata": {},
   "source": [
    "# Setup"
   ]
  },
  {
   "cell_type": "code",
   "execution_count": 4,
   "id": "5ad1e550",
   "metadata": {},
   "outputs": [],
   "source": [
    "def plot_cm(y, pred):\n",
    "    fig, ax = plt.subplots(figsize=(8, 5))\n",
    "    cm = confusion_matrix(y, pred)\n",
    "    cmp = ConfusionMatrixDisplay(\n",
    "        cm, display_labels=[0, 1, 2])\n",
    "    cmp.plot(ax=ax)\n",
    "    plt.show()"
   ]
  },
  {
   "cell_type": "code",
   "execution_count": 5,
   "id": "43ae5da0",
   "metadata": {},
   "outputs": [],
   "source": [
    "additional_stopwords = [\n",
    "    'которых', 'которые', 'твой', 'которой', 'которого', 'сих', 'ком', 'свой',\n",
    "    'твоя', 'этими', 'слишком', 'нами', 'всему', 'будь', 'саму', 'чаще',\n",
    "    'ваше', 'сами', 'наш', 'затем', 'самих', 'наши', 'ту', 'каждое', 'мочь',\n",
    "    'весь', 'этим', 'наша', 'своих', 'оба', 'который', 'зато', 'те', 'этих',\n",
    "    'вся', 'ваш', 'такая', 'теми', 'ею', 'которая', 'нередко', 'каждая',\n",
    "    'также', 'чему', 'собой', 'самими', 'нем', 'вами', 'ими', 'откуда',\n",
    "    'такие', 'тому', 'та', 'очень', 'сама', 'нему', 'алло', 'оно', 'этому',\n",
    "    'кому', 'тобой', 'таки', 'твоё', 'каждые', 'твои', 'нею', 'самим', 'ваши',\n",
    "    'ваша', 'кем', 'мои', 'однако', 'сразу', 'свое', 'ними', 'всё', 'неё',\n",
    "    'тех', 'хотя', 'всем', 'тобою', 'тебе', 'одной', 'другие', 'само', 'эта',\n",
    "    'самой', 'моё', 'своей', 'такое', 'всею', 'будут', 'своего', 'кого',\n",
    "    'свои', 'мог', 'нам', 'особенно', 'её', 'самому', 'наше', 'кроме',\n",
    "    'вообще', 'вон', 'мною', 'никто', 'это'\n",
    "]\n",
    "\n",
    "stop_words = stopwords.words('russian') + additional_stopwords"
   ]
  },
  {
   "cell_type": "code",
   "execution_count": 2,
   "id": "0c463ede",
   "metadata": {},
   "outputs": [],
   "source": [
    "# Natasha <3\n",
    "segmenter = Segmenter()\n",
    "morph_vocab = MorphVocab()\n",
    "\n",
    "emb = NewsEmbedding()\n",
    "morph_tagger = NewsMorphTagger(emb)\n",
    "\n",
    "ner_tagger = NewsNERTagger(emb)"
   ]
  },
  {
   "cell_type": "code",
   "execution_count": 2,
   "id": "df4c878c",
   "metadata": {},
   "outputs": [],
   "source": [
    "del_n = re.compile('\\n')\n",
    "del_tags = re.compile('<[^>]*>')\n",
    "del_brackets = re.compile('\\([^)]*\\)')\n",
    "clean_text = re.compile('[^а-яa-z\\s]')\n",
    "del_spaces = re.compile('\\s{2,}')\n",
    "\n",
    "\n",
    "def prepare_text(text):\n",
    "    text = del_n.sub(' ', str(text).lower())\n",
    "    text = del_tags.sub('', text)\n",
    "    text = del_brackets.sub('', text)\n",
    "    res_text = clean_text.sub('', text)\n",
    "    return del_spaces.sub(' ', res_text)\n",
    "\n",
    "\n",
    "def del_stopwords(text):\n",
    "    clean_tokens = tuple(\n",
    "        map(lambda x: x if x not in stop_words else '', word_tokenize(text)))\n",
    "    res_text = ' '.join(clean_tokens)\n",
    "    return res_text\n",
    "\n",
    "\n",
    "def lemmatize(text):\n",
    "    text = Doc(text)\n",
    "    text.segment(segmenter)\n",
    "    text.tag_morph(morph_tagger)\n",
    "    for token in text.tokens:\n",
    "        token.lemmatize(morph_vocab)\n",
    "    text.tag_ner(ner_tagger)\n",
    "    for span in text.spans:\n",
    "        span.normalize(morph_vocab)\n",
    "    return ' '.join([token.lemma for token in text.tokens])"
   ]
  },
  {
   "cell_type": "code",
   "execution_count": 3,
   "id": "a971d9cb",
   "metadata": {},
   "outputs": [],
   "source": [
    "def preprocess_and_save(df, save_name):\n",
    "    txt_lst = []\n",
    "    txts = df.body.copy()\n",
    "\n",
    "    for text in tqdm(txts):\n",
    "        text = prepare_text(text)\n",
    "        text = del_stopwords(text)\n",
    "        text = lemmatize(text)\n",
    "        txt_lst.append(text)\n",
    "    \n",
    "    # Save locally file with preprocessed texts (for convenience)\n",
    "    df_safe = pd.concat(\n",
    "        [df, pd.DataFrame(txt_lst, columns=['text_clear'])], axis=1)\n",
    "\n",
    "    df_safe.to_csv(f'texts_{save_name}.csv', index=False)"
   ]
  },
  {
   "cell_type": "code",
   "execution_count": 4,
   "id": "11deca2f",
   "metadata": {},
   "outputs": [],
   "source": [
    "def define_classes(df, main_col, class_col, p=0.05):\n",
    "    df_ret = df.copy()\n",
    "\n",
    "    q_l = df_ret[main_col].quantile(p)\n",
    "    q_u = df_ret[main_col].quantile(1 - p)\n",
    "\n",
    "    df_ret[class_col] = 1\n",
    "    df_ret.loc[df_ret[main_col] <= q_l, class_col] = 0\n",
    "    df_ret.loc[df_ret[main_col] >= q_u, class_col] = 2\n",
    "\n",
    "    print(df_ret[class_col].value_counts())\n",
    "    \n",
    "    return df_ret"
   ]
  },
  {
   "cell_type": "markdown",
   "id": "541d50f9",
   "metadata": {},
   "source": [
    "# Model for the companies"
   ]
  },
  {
   "cell_type": "code",
   "execution_count": 20,
   "id": "d72008b8",
   "metadata": {},
   "outputs": [],
   "source": [
    "df_comp = data_import_from_db('companies_trade', conn_string)"
   ]
  },
  {
   "cell_type": "markdown",
   "id": "b790f4d2",
   "metadata": {},
   "source": [
    "## Preprocessing"
   ]
  },
  {
   "cell_type": "code",
   "execution_count": 21,
   "id": "e5a08502",
   "metadata": {},
   "outputs": [
    {
     "data": {
      "application/vnd.jupyter.widget-view+json": {
       "model_id": "28f8eb225eeb4ea1a64b8e1f12c2e0d7",
       "version_major": 2,
       "version_minor": 0
      },
      "text/plain": [
       "  0%|          | 0/7267 [00:00<?, ?it/s]"
      ]
     },
     "metadata": {},
     "output_type": "display_data"
    }
   ],
   "source": [
    "preprocess_and_save(df_comp, 'comp')"
   ]
  },
  {
   "cell_type": "code",
   "execution_count": 6,
   "id": "4529a480",
   "metadata": {},
   "outputs": [],
   "source": [
    "df_comp = pd.read_csv('texts_comp.csv')\n",
    "\n",
    "for i, text in enumerate(df_comp.text_clear):\n",
    "    df_comp.loc[i, 'text_clear'] = prepare_text(text).strip()"
   ]
  },
  {
   "cell_type": "code",
   "execution_count": 7,
   "id": "f4e269d0",
   "metadata": {},
   "outputs": [
    {
     "name": "stdout",
     "output_type": "stream",
     "text": [
      "price_diff_cat\n",
      "1    6539\n",
      "0     364\n",
      "2     364\n",
      "Name: count, dtype: int64\n"
     ]
    }
   ],
   "source": [
    "df_comp = define_classes(df_comp, 'price_diff_percent', 'price_diff_cat', 0.05)"
   ]
  },
  {
   "cell_type": "markdown",
   "id": "985ddffc",
   "metadata": {},
   "source": [
    "## Model"
   ]
  },
  {
   "cell_type": "code",
   "execution_count": 8,
   "id": "d70546a9",
   "metadata": {},
   "outputs": [],
   "source": [
    "texts = df_comp['text_clear']\n",
    "labels = df_comp['price_diff_cat']\n",
    "\n",
    "X_train, X_test, y_train, y_test = train_test_split(texts,\n",
    "                                                    labels,\n",
    "                                                    random_state=42,\n",
    "                                                    test_size=0.25,\n",
    "                                                    stratify=labels)"
   ]
  },
  {
   "cell_type": "code",
   "execution_count": 9,
   "id": "d39a3949",
   "metadata": {},
   "outputs": [
    {
     "data": {
      "image/png": "[encoded data removed]",
      "text/plain": [
       "<Figure size 640x480 with 1 Axes>"
      ]
     },
     "metadata": {},
     "output_type": "display_data"
    }
   ],
   "source": [
    "pd.Series([len(str(i).split()) for i in X_train]).hist(bins=40)\n",
    "\n",
    "plt.xticks(np.arange(0, 4000, 100), rotation='vertical')\n",
    "plt.title('Распределение длин текстов')\n",
    "plt.xlabel('Длина текста, кол-во слов')\n",
    "plt.grid()\n",
    "plt.show()"
   ]
  },
  {
   "cell_type": "code",
   "execution_count": 10,
   "id": "1900de93",
   "metadata": {},
   "outputs": [],
   "source": [
    "max_words = 10000 # max number of words to use in the vocabulary\n",
    "max_len = 500 # max length of each text (in terms of number of words)\n",
    "embedding_dim = 500 # dimension of word embeddings\n",
    "lstm_units = 32 # number of units in the LSTM layer\n",
    "num_classes = len(set(labels)) # number of classes\n",
    "\n",
    "tokenizer = Tokenizer(num_words=max_words)\n",
    "tokenizer.fit_on_texts(X_train)\n",
    "\n",
    "sequences_train = tokenizer.texts_to_sequences(X_train)\n",
    "sequences_test = tokenizer.texts_to_sequences(X_test)\n",
    "\n",
    "X_train = pad_sequences(sequences_train, maxlen=max_len)\n",
    "X_test = pad_sequences(sequences_test, maxlen=max_len)\n",
    "\n",
    "y_train = pd.get_dummies(y_train).values\n",
    "y_test = pd.get_dummies(y_test).values"
   ]
  },
  {
   "cell_type": "code",
   "execution_count": 11,
   "id": "868b9fde",
   "metadata": {},
   "outputs": [],
   "source": [
    "# Save tokenizer for further usage in production\n",
    "with open('tokenizers/comp_tokenizer.json', 'w', encoding='utf-8') as f:\n",
    "    f.write(json.dumps(tokenizer.to_json(), ensure_ascii=False))"
   ]
  },
  {
   "cell_type": "code",
   "execution_count": 24,
   "id": "4c069dda",
   "metadata": {},
   "outputs": [
    {
     "name": "stdout",
     "output_type": "stream",
     "text": [
      "Model: \"sequential\"\n",
      "_________________________________________________________________\n",
      " Layer (type)                Output Shape              Param #   \n",
      "=================================================================\n",
      " embedding (Embedding)       (None, 500, 500)          5000000   \n",
      "                                                                 \n",
      " lstm (LSTM)                 (None, 32)                68224     \n",
      "                                                                 \n",
      " dense (Dense)               (None, 3)                 99        \n",
      "                                                                 \n",
      "=================================================================\n",
      "Total params: 5068323 (19.33 MB)\n",
      "Trainable params: 5068323 (19.33 MB)\n",
      "Non-trainable params: 0 (0.00 Byte)\n",
      "_________________________________________________________________\n"
     ]
    }
   ],
   "source": [
    "keras.backend.clear_session()\n",
    "\n",
    "model = Sequential()\n",
    "model.add(Embedding(max_words, embedding_dim, input_length=max_len))\n",
    "model.add(LSTM(lstm_units))\n",
    "model.add(Dense(num_classes, activation='softmax'))\n",
    "\n",
    "model.compile(loss='categorical_crossentropy',\n",
    "              optimizer=tf.keras.optimizers.Adam(clipvalue=0.7),\n",
    "              metrics=[tfa.metrics.F1Score(num_classes=num_classes)])\n",
    "\n",
    "scheduler = keras.callbacks.LearningRateScheduler(\n",
    "    tf.keras.optimizers.schedules.ExponentialDecay(initial_learning_rate=6e-5, decay_rate=0.85, decay_steps=100)\n",
    ")\n",
    "\n",
    "model.summary()"
   ]
  },
  {
   "cell_type": "code",
   "execution_count": 25,
   "id": "cbf7f574",
   "metadata": {},
   "outputs": [
    {
     "name": "stdout",
     "output_type": "stream",
     "text": [
      "{0: 6.654761904761905, 1: 0.3704440026507621, 2: 6.654761904761905}\n"
     ]
    }
   ],
   "source": [
    "weights = compute_class_weight(class_weight='balanced',\n",
    "                                     classes=np.unique(labels),\n",
    "                                     y=labels)\n",
    "\n",
    "weights = {i: weight for i, weight in enumerate(weights)}\n",
    "\n",
    "print(weights)"
   ]
  },
  {
   "cell_type": "code",
   "execution_count": 26,
   "id": "fd199e17",
   "metadata": {},
   "outputs": [
    {
     "name": "stdout",
     "output_type": "stream",
     "text": [
      "Epoch 1/6\n",
      "171/171 [==============================] - 99s 556ms/step - loss: 1.0967 - f1_score: 0.3084 - val_loss: 1.0727 - val_f1_score: 0.3457 - lr: 6.0000e-05\n",
      "Epoch 2/6\n",
      "171/171 [==============================] - 92s 540ms/step - loss: 1.0800 - f1_score: 0.4727 - val_loss: 1.0493 - val_f1_score: 0.3725 - lr: 5.9903e-05\n",
      "Epoch 3/6\n",
      "171/171 [==============================] - 101s 592ms/step - loss: 1.0490 - f1_score: 0.5527 - val_loss: 0.9518 - val_f1_score: 0.3818 - lr: 5.9805e-05\n",
      "Epoch 4/6\n",
      "171/171 [==============================] - 94s 553ms/step - loss: 0.9592 - f1_score: 0.5569 - val_loss: 0.7590 - val_f1_score: 0.3782 - lr: 5.9708e-05\n",
      "Epoch 5/6\n",
      "171/171 [==============================] - 97s 568ms/step - loss: 0.8387 - f1_score: 0.6033 - val_loss: 0.6877 - val_f1_score: 0.3946 - lr: 5.9611e-05\n",
      "Epoch 6/6\n",
      "171/171 [==============================] - 102s 598ms/step - loss: 0.7154 - f1_score: 0.6311 - val_loss: 0.6398 - val_f1_score: 0.4096 - lr: 5.9514e-05\n"
     ]
    },
    {
     "data": {
      "text/plain": [
       "<keras.src.callbacks.History at 0x16cc280d1d0>"
      ]
     },
     "execution_count": 26,
     "metadata": {},
     "output_type": "execute_result"
    }
   ],
   "source": [
    "model.fit(X_train,\n",
    "          y_train,\n",
    "          batch_size=32,\n",
    "          epochs=6,\n",
    "          callbacks=[scheduler],\n",
    "          class_weight=weights,\n",
    "          validation_data=(X_test, y_test))"
   ]
  },
  {
   "cell_type": "code",
   "execution_count": 27,
   "id": "d4439c10",
   "metadata": {},
   "outputs": [],
   "source": [
    "model.save('artifacts/comp/comp_model.keras')"
   ]
  },
  {
   "cell_type": "code",
   "execution_count": 28,
   "id": "07c1080d",
   "metadata": {},
   "outputs": [
    {
     "data": {
      "text/plain": [
       "<keras.src.engine.sequential.Sequential at 0x16cc29e0d50>"
      ]
     },
     "execution_count": 28,
     "metadata": {},
     "output_type": "execute_result"
    }
   ],
   "source": [
    "keras.models.load_model('artifacts/comp/comp_model.keras')"
   ]
  },
  {
   "cell_type": "markdown",
   "id": "f93526f9",
   "metadata": {},
   "source": [
    "# Model for the industries"
   ]
  },
  {
   "cell_type": "code",
   "execution_count": 67,
   "id": "265c7a1b",
   "metadata": {},
   "outputs": [],
   "source": [
    "df_ind = data_import_from_db('industries_trade', conn_string)"
   ]
  },
  {
   "cell_type": "markdown",
   "id": "9b8254c0",
   "metadata": {},
   "source": [
    "## Preprocessing"
   ]
  },
  {
   "cell_type": "code",
   "execution_count": 68,
   "id": "8c06d656",
   "metadata": {},
   "outputs": [
    {
     "data": {
      "application/vnd.jupyter.widget-view+json": {
       "model_id": "8b4ffd26a3a84cf9b5818a46019016a9",
       "version_major": 2,
       "version_minor": 0
      },
      "text/plain": [
       "  0%|          | 0/4755 [00:00<?, ?it/s]"
      ]
     },
     "metadata": {},
     "output_type": "display_data"
    }
   ],
   "source": [
    "preprocess_and_save(df_ind, 'ind')"
   ]
  },
  {
   "cell_type": "code",
   "execution_count": 29,
   "id": "630eca45",
   "metadata": {},
   "outputs": [],
   "source": [
    "df_ind = pd.read_csv('texts_ind.csv')\n",
    "\n",
    "for i, text in enumerate(df_ind.text_clear):\n",
    "    df_ind.loc[i, 'text_clear'] = prepare_text(text).strip()"
   ]
  },
  {
   "cell_type": "code",
   "execution_count": 30,
   "id": "6db5c111",
   "metadata": {},
   "outputs": [
    {
     "name": "stdout",
     "output_type": "stream",
     "text": [
      "price_diff_cat\n",
      "1    4279\n",
      "2     238\n",
      "0     238\n",
      "Name: count, dtype: int64\n"
     ]
    }
   ],
   "source": [
    "df_ind = define_classes(df_ind, 'price_diff_percent', 'price_diff_cat', 0.05)"
   ]
  },
  {
   "cell_type": "markdown",
   "id": "dd739324",
   "metadata": {},
   "source": [
    "## Model "
   ]
  },
  {
   "cell_type": "code",
   "execution_count": 31,
   "id": "07a6fb84",
   "metadata": {},
   "outputs": [],
   "source": [
    "texts = df_ind['text_clear']\n",
    "labels = df_ind['price_diff_cat']\n",
    "\n",
    "X_train, X_test, y_train, y_test = train_test_split(texts,\n",
    "                                                    labels,\n",
    "                                                    random_state=42,\n",
    "                                                    test_size=0.25,\n",
    "                                                    stratify=labels)"
   ]
  },
  {
   "cell_type": "code",
   "execution_count": 32,
   "id": "90507ff3",
   "metadata": {},
   "outputs": [
    {
     "data": {
      "image/png": "[encoded data removed]",
      "text/plain": [
       "<Figure size 640x480 with 1 Axes>"
      ]
     },
     "metadata": {},
     "output_type": "display_data"
    }
   ],
   "source": [
    "pd.Series([len(str(i).split()) for i in X_train]).hist(bins=40)\n",
    "\n",
    "plt.xticks(np.arange(0, 4000, 100), rotation='vertical')\n",
    "plt.title('Распределение длин текстов')\n",
    "plt.xlabel('Длина текста, кол-во слов')\n",
    "plt.grid()\n",
    "plt.show()"
   ]
  },
  {
   "cell_type": "code",
   "execution_count": 33,
   "id": "b6db69aa",
   "metadata": {},
   "outputs": [],
   "source": [
    "max_words = 10000 # max number of words to use in the vocabulary\n",
    "max_len = 500 # max length of each text (in terms of number of words)\n",
    "embedding_dim = 500 # dimension of word embeddings\n",
    "lstm_units = 32 # number of units in the LSTM layer\n",
    "num_classes = len(set(labels)) # number of classes\n",
    "\n",
    "tokenizer = Tokenizer(num_words=max_words)\n",
    "tokenizer.fit_on_texts(X_train)\n",
    "\n",
    "sequences_train = tokenizer.texts_to_sequences(X_train)\n",
    "sequences_test = tokenizer.texts_to_sequences(X_test)\n",
    "\n",
    "X_train = pad_sequences(sequences_train, maxlen=max_len)\n",
    "X_test = pad_sequences(sequences_test, maxlen=max_len)\n",
    "\n",
    "y_train = pd.get_dummies(y_train).values\n",
    "y_test = pd.get_dummies(y_test).values"
   ]
  },
  {
   "cell_type": "code",
   "execution_count": 34,
   "id": "6dee0504",
   "metadata": {},
   "outputs": [],
   "source": [
    "# Save tokenizer for further usage in production\n",
    "with open('tokenizers/ind_tokenizer.json', 'w', encoding='utf-8') as f:\n",
    "    f.write(json.dumps(tokenizer.to_json(), ensure_ascii=False))"
   ]
  },
  {
   "cell_type": "code",
   "execution_count": 38,
   "id": "460dfe1c",
   "metadata": {},
   "outputs": [
    {
     "name": "stdout",
     "output_type": "stream",
     "text": [
      "Model: \"sequential\"\n",
      "_________________________________________________________________\n",
      " Layer (type)                Output Shape              Param #   \n",
      "=================================================================\n",
      " embedding (Embedding)       (None, 500, 500)          5000000   \n",
      "                                                                 \n",
      " lstm (LSTM)                 (None, 32)                68224     \n",
      "                                                                 \n",
      " dense (Dense)               (None, 3)                 99        \n",
      "                                                                 \n",
      "=================================================================\n",
      "Total params: 5068323 (19.33 MB)\n",
      "Trainable params: 5068323 (19.33 MB)\n",
      "Non-trainable params: 0 (0.00 Byte)\n",
      "_________________________________________________________________\n"
     ]
    }
   ],
   "source": [
    "keras.backend.clear_session()\n",
    "\n",
    "model = Sequential()\n",
    "model.add(Embedding(max_words, embedding_dim, input_length=max_len))\n",
    "model.add(LSTM(lstm_units))\n",
    "model.add(Dense(num_classes, activation='softmax'))\n",
    "\n",
    "model.compile(loss='categorical_crossentropy',\n",
    "              optimizer=tf.keras.optimizers.Adam(clipvalue=0.7),\n",
    "              metrics=[tfa.metrics.F1Score(num_classes=num_classes)])\n",
    "\n",
    "scheduler = keras.callbacks.LearningRateScheduler(\n",
    "    tf.keras.optimizers.schedules.ExponentialDecay(initial_learning_rate=5e-5, decay_rate=0.85, decay_steps=100)\n",
    ")\n",
    "\n",
    "model.summary()"
   ]
  },
  {
   "cell_type": "code",
   "execution_count": 39,
   "id": "5eaefc22",
   "metadata": {},
   "outputs": [
    {
     "name": "stdout",
     "output_type": "stream",
     "text": [
      "{0: 6.659663865546219, 1: 0.3704136480486095, 2: 6.659663865546219}\n"
     ]
    }
   ],
   "source": [
    "weights = compute_class_weight(class_weight='balanced',\n",
    "                                     classes=np.unique(labels),\n",
    "                                     y=labels)\n",
    "\n",
    "weights = {i: weight for i, weight in enumerate(weights)}\n",
    "\n",
    "print(weights)"
   ]
  },
  {
   "cell_type": "code",
   "execution_count": 40,
   "id": "6fcb60f3",
   "metadata": {},
   "outputs": [
    {
     "name": "stdout",
     "output_type": "stream",
     "text": [
      "Epoch 1/11\n",
      "112/112 [==============================] - 58s 483ms/step - loss: 1.0982 - f1_score: 0.2602 - val_loss: 1.0861 - val_f1_score: 0.3082 - lr: 5.0000e-05\n",
      "Epoch 2/11\n",
      "112/112 [==============================] - 51s 458ms/step - loss: 1.0871 - f1_score: 0.4018 - val_loss: 1.0771 - val_f1_score: 0.3419 - lr: 4.9919e-05\n",
      "Epoch 3/11\n",
      "112/112 [==============================] - 53s 474ms/step - loss: 1.0739 - f1_score: 0.5070 - val_loss: 1.0623 - val_f1_score: 0.3479 - lr: 4.9838e-05\n",
      "Epoch 4/11\n",
      "112/112 [==============================] - 51s 460ms/step - loss: 1.0543 - f1_score: 0.5704 - val_loss: 1.0391 - val_f1_score: 0.3577 - lr: 4.9757e-05\n",
      "Epoch 5/11\n",
      "112/112 [==============================] - 53s 473ms/step - loss: 1.0154 - f1_score: 0.6359 - val_loss: 0.9441 - val_f1_score: 0.3653 - lr: 4.9676e-05\n",
      "Epoch 6/11\n",
      "112/112 [==============================] - 61s 547ms/step - loss: 0.9213 - f1_score: 0.5410 - val_loss: 0.8189 - val_f1_score: 0.3634 - lr: 4.9595e-05\n",
      "Epoch 7/11\n",
      "112/112 [==============================] - 57s 512ms/step - loss: 0.7839 - f1_score: 0.5863 - val_loss: 0.7308 - val_f1_score: 0.3584 - lr: 4.9515e-05\n",
      "Epoch 8/11\n",
      "112/112 [==============================] - 58s 519ms/step - loss: 0.6498 - f1_score: 0.6167 - val_loss: 0.7000 - val_f1_score: 0.3720 - lr: 4.9434e-05\n",
      "Epoch 9/11\n",
      "112/112 [==============================] - 59s 525ms/step - loss: 0.5302 - f1_score: 0.6979 - val_loss: 0.6980 - val_f1_score: 0.3706 - lr: 4.9354e-05\n",
      "Epoch 10/11\n",
      "112/112 [==============================] - 57s 512ms/step - loss: 0.4477 - f1_score: 0.7246 - val_loss: 0.6401 - val_f1_score: 0.3633 - lr: 4.9274e-05\n",
      "Epoch 11/11\n",
      "112/112 [==============================] - 58s 515ms/step - loss: 0.3612 - f1_score: 0.7353 - val_loss: 0.6443 - val_f1_score: 0.3814 - lr: 4.9194e-05\n"
     ]
    },
    {
     "data": {
      "text/plain": [
       "<keras.src.callbacks.History at 0x16ca96a51d0>"
      ]
     },
     "execution_count": 40,
     "metadata": {},
     "output_type": "execute_result"
    }
   ],
   "source": [
    "model.fit(X_train,\n",
    "          y_train,\n",
    "          batch_size=32,\n",
    "          epochs=11,\n",
    "          callbacks=[scheduler],\n",
    "          class_weight=weights,\n",
    "          validation_data=(X_test, y_test))"
   ]
  },
  {
   "cell_type": "code",
   "execution_count": 41,
   "id": "f8817cb5",
   "metadata": {},
   "outputs": [],
   "source": [
    "model.save('artifacts/ind/ind_model.keras')"
   ]
  },
  {
   "cell_type": "code",
   "execution_count": 42,
   "id": "2a9db24a",
   "metadata": {},
   "outputs": [
    {
     "data": {
      "text/plain": [
       "<keras.src.engine.sequential.Sequential at 0x16ca8b01610>"
      ]
     },
     "execution_count": 42,
     "metadata": {},
     "output_type": "execute_result"
    }
   ],
   "source": [
    "keras.models.load_model('artifacts/ind/ind_model.keras')"
   ]
  },
  {
   "cell_type": "markdown",
   "id": "cdd47c37",
   "metadata": {},
   "source": [
    "# Model for the global"
   ]
  },
  {
   "cell_type": "code",
   "execution_count": 10,
   "id": "8d605d6d",
   "metadata": {},
   "outputs": [],
   "source": [
    "df_glob = data_import_from_db('global_trade', conn_string)"
   ]
  },
  {
   "cell_type": "markdown",
   "id": "f5ddd528",
   "metadata": {},
   "source": [
    "## Preprocessing"
   ]
  },
  {
   "cell_type": "code",
   "execution_count": 24,
   "id": "32f5a53e",
   "metadata": {},
   "outputs": [
    {
     "data": {
      "application/vnd.jupyter.widget-view+json": {
       "model_id": "76880c81158f4d749a41169651984e3d",
       "version_major": 2,
       "version_minor": 0
      },
      "text/plain": [
       "  0%|          | 0/13304 [00:00<?, ?it/s]"
      ]
     },
     "metadata": {},
     "output_type": "display_data"
    }
   ],
   "source": [
    "preprocess_and_save(df_glob, 'glob')"
   ]
  },
  {
   "cell_type": "code",
   "execution_count": 90,
   "id": "76ed4bdc",
   "metadata": {},
   "outputs": [],
   "source": [
    "df_glob = pd.read_csv('texts_glob.csv')\n",
    "\n",
    "for i, text in enumerate(df_glob.text_clear):\n",
    "    df_glob.loc[i, 'text_clear'] = prepare_text(text).strip()"
   ]
  },
  {
   "cell_type": "code",
   "execution_count": 91,
   "id": "ef710190",
   "metadata": {},
   "outputs": [
    {
     "name": "stdout",
     "output_type": "stream",
     "text": [
      "imoex_price_diff_cat\n",
      "1    11972\n",
      "0      666\n",
      "2      666\n",
      "Name: count, dtype: int64\n",
      "rvi_price_diff_cat\n",
      "1    11972\n",
      "0      666\n",
      "2      666\n",
      "Name: count, dtype: int64\n",
      "usd_price_diff_cat\n",
      "1    11972\n",
      "0      666\n",
      "2      666\n",
      "Name: count, dtype: int64\n"
     ]
    }
   ],
   "source": [
    "df_glob = define_classes(df_glob, 'imoex_price_diff_percent', 'imoex_price_diff_cat', 0.05)\n",
    "df_glob = define_classes(df_glob, 'rvi_price_diff_percent', 'rvi_price_diff_cat', 0.05)\n",
    "df_glob = define_classes(df_glob, 'usd_price_diff_percent', 'usd_price_diff_cat', 0.05)"
   ]
  },
  {
   "cell_type": "markdown",
   "id": "2534299b",
   "metadata": {},
   "source": [
    "## Models "
   ]
  },
  {
   "cell_type": "markdown",
   "id": "7a991db9",
   "metadata": {},
   "source": [
    "### Model MOEX"
   ]
  },
  {
   "cell_type": "code",
   "execution_count": 92,
   "id": "93c1237c",
   "metadata": {},
   "outputs": [],
   "source": [
    "texts = df_glob['text_clear']\n",
    "labels = df_glob['imoex_price_diff_cat']\n",
    "\n",
    "X_train, X_test, y_train, y_test = train_test_split(texts,\n",
    "                                                    labels,\n",
    "                                                    random_state=42,\n",
    "                                                    test_size=0.25,\n",
    "                                                    stratify=labels)"
   ]
  },
  {
   "cell_type": "code",
   "execution_count": 93,
   "id": "eae064d1",
   "metadata": {},
   "outputs": [
    {
     "data": {
      "image/png": "[encoded data removed]",
      "text/plain": [
       "<Figure size 640x480 with 1 Axes>"
      ]
     },
     "metadata": {},
     "output_type": "display_data"
    }
   ],
   "source": [
    "pd.Series([len(str(i).split()) for i in X_train]).hist(bins=40)\n",
    "\n",
    "plt.xticks(np.arange(0, 4000, 100), rotation='vertical')\n",
    "plt.title('Распределение длин текстов')\n",
    "plt.xlabel('Длина текста, кол-во слов')\n",
    "plt.grid()\n",
    "plt.show()"
   ]
  },
  {
   "cell_type": "code",
   "execution_count": 94,
   "id": "9918d0bb",
   "metadata": {},
   "outputs": [],
   "source": [
    "max_words = 10000 # max number of words to use in the vocabulary\n",
    "max_len = 500 # max length of each text (in terms of number of words)\n",
    "embedding_dim = 500 # dimension of word embeddings\n",
    "lstm_units = 32 # number of units in the LSTM layer\n",
    "num_classes = len(set(labels)) # number of classes\n",
    "\n",
    "tokenizer = Tokenizer(num_words=max_words)\n",
    "tokenizer.fit_on_texts(X_train)\n",
    "\n",
    "sequences_train = tokenizer.texts_to_sequences(X_train)\n",
    "sequences_test = tokenizer.texts_to_sequences(X_test)\n",
    "\n",
    "X_train = pad_sequences(sequences_train, maxlen=max_len)\n",
    "X_test = pad_sequences(sequences_test, maxlen=max_len)\n",
    "\n",
    "y_train = pd.get_dummies(y_train).values\n",
    "y_test = pd.get_dummies(y_test).values"
   ]
  },
  {
   "cell_type": "code",
   "execution_count": 95,
   "id": "3458ddf4",
   "metadata": {},
   "outputs": [],
   "source": [
    "# Save tokenizer for further usage in production\n",
    "with open('tokenizers/glob_moex_tokenizer.json', 'w', encoding='utf-8') as f:\n",
    "    f.write(json.dumps(tokenizer.to_json(), ensure_ascii=False))"
   ]
  },
  {
   "cell_type": "code",
   "execution_count": 96,
   "id": "5704c533",
   "metadata": {},
   "outputs": [
    {
     "name": "stdout",
     "output_type": "stream",
     "text": [
      "Model: \"sequential\"\n",
      "_________________________________________________________________\n",
      " Layer (type)                Output Shape              Param #   \n",
      "=================================================================\n",
      " embedding (Embedding)       (None, 500, 500)          5000000   \n",
      "                                                                 \n",
      " lstm (LSTM)                 (None, 32)                68224     \n",
      "                                                                 \n",
      " dense (Dense)               (None, 3)                 99        \n",
      "                                                                 \n",
      "=================================================================\n",
      "Total params: 5068323 (19.33 MB)\n",
      "Trainable params: 5068323 (19.33 MB)\n",
      "Non-trainable params: 0 (0.00 Byte)\n",
      "_________________________________________________________________\n"
     ]
    }
   ],
   "source": [
    "keras.backend.clear_session()\n",
    "\n",
    "model = Sequential()\n",
    "model.add(Embedding(max_words, embedding_dim, input_length=max_len))\n",
    "model.add(LSTM(lstm_units))\n",
    "model.add(Dense(num_classes, activation='softmax'))\n",
    "\n",
    "model.compile(loss='categorical_crossentropy',\n",
    "              optimizer=tf.keras.optimizers.Adam(clipvalue=0.7),\n",
    "              metrics=[tfa.metrics.F1Score(num_classes=num_classes)])\n",
    "\n",
    "scheduler = keras.callbacks.LearningRateScheduler(\n",
    "    tf.keras.optimizers.schedules.ExponentialDecay(initial_learning_rate=1e-5, decay_rate=0.85, decay_steps=100)\n",
    ")\n",
    "\n",
    "model.summary()"
   ]
  },
  {
   "cell_type": "code",
   "execution_count": 97,
   "id": "e367d810",
   "metadata": {},
   "outputs": [
    {
     "name": "stdout",
     "output_type": "stream",
     "text": [
      "{0: 6.658658658658658, 1: 0.37041986858224746, 2: 6.658658658658658}\n"
     ]
    }
   ],
   "source": [
    "weights = compute_class_weight(class_weight='balanced',\n",
    "                                     classes=np.unique(labels),\n",
    "                                     y=labels)\n",
    "\n",
    "weights = {i: weight for i, weight in enumerate(weights)}\n",
    "\n",
    "print(weights)"
   ]
  },
  {
   "cell_type": "code",
   "execution_count": 46,
   "id": "b3acb599",
   "metadata": {},
   "outputs": [
    {
     "name": "stdout",
     "output_type": "stream",
     "text": [
      "Epoch 1/10\n",
      "312/312 [==============================] - 165s 518ms/step - loss: 1.0983 - f1_score: 0.2507 - val_loss: 1.0937 - val_f1_score: 0.2670 - lr: 1.0000e-05\n",
      "Epoch 2/10\n",
      "312/312 [==============================] - 163s 522ms/step - loss: 1.0955 - f1_score: 0.3017 - val_loss: 1.0913 - val_f1_score: 0.2870 - lr: 9.9838e-06\n",
      "Epoch 3/10\n",
      "312/312 [==============================] - 170s 544ms/step - loss: 1.0927 - f1_score: 0.3479 - val_loss: 1.0883 - val_f1_score: 0.3073 - lr: 9.9675e-06\n",
      "Epoch 4/10\n",
      "312/312 [==============================] - 166s 532ms/step - loss: 1.0895 - f1_score: 0.3877 - val_loss: 1.0850 - val_f1_score: 0.3224 - lr: 9.9514e-06\n",
      "Epoch 5/10\n",
      "312/312 [==============================] - 164s 526ms/step - loss: 1.0860 - f1_score: 0.4214 - val_loss: 1.0808 - val_f1_score: 0.3330 - lr: 9.9352e-06\n",
      "Epoch 6/10\n",
      "312/312 [==============================] - 168s 540ms/step - loss: 1.0819 - f1_score: 0.4448 - val_loss: 1.0752 - val_f1_score: 0.3434 - lr: 9.9191e-06\n",
      "Epoch 7/10\n",
      "312/312 [==============================] - 171s 550ms/step - loss: 1.0767 - f1_score: 0.4777 - val_loss: 1.0668 - val_f1_score: 0.3505 - lr: 9.9030e-06\n",
      "Epoch 8/10\n",
      "312/312 [==============================] - 174s 559ms/step - loss: 1.0699 - f1_score: 0.5068 - val_loss: 1.0553 - val_f1_score: 0.3532 - lr: 9.8869e-06\n",
      "Epoch 9/10\n",
      "312/312 [==============================] - 170s 544ms/step - loss: 1.0602 - f1_score: 0.5322 - val_loss: 1.0341 - val_f1_score: 0.3600 - lr: 9.8708e-06\n",
      "Epoch 10/10\n",
      "312/312 [==============================] - 168s 538ms/step - loss: 1.0439 - f1_score: 0.5342 - val_loss: 0.9800 - val_f1_score: 0.3712 - lr: 9.8548e-06\n"
     ]
    },
    {
     "data": {
      "text/plain": [
       "<keras.src.callbacks.History at 0x1f1c954e350>"
      ]
     },
     "execution_count": 46,
     "metadata": {},
     "output_type": "execute_result"
    }
   ],
   "source": [
    "model.fit(X_train,\n",
    "          y_train,\n",
    "          batch_size=32,\n",
    "          epochs=10,\n",
    "          callbacks=[scheduler],\n",
    "          class_weight=weights,\n",
    "          validation_data=(X_test, y_test))"
   ]
  },
  {
   "cell_type": "code",
   "execution_count": 99,
   "id": "c77f7815",
   "metadata": {},
   "outputs": [],
   "source": [
    "model.save('artifacts/glob/glob_moex_model.keras')"
   ]
  },
  {
   "cell_type": "code",
   "execution_count": 100,
   "id": "2cdba9ba",
   "metadata": {},
   "outputs": [
    {
     "data": {
      "text/plain": [
       "<keras.src.engine.sequential.Sequential at 0x20301b179d0>"
      ]
     },
     "execution_count": 100,
     "metadata": {},
     "output_type": "execute_result"
    }
   ],
   "source": [
    "keras.models.load_model('artifacts/glob/glob_moex_model.keras')"
   ]
  },
  {
   "cell_type": "markdown",
   "id": "bc73f344",
   "metadata": {},
   "source": [
    "### Model RVI"
   ]
  },
  {
   "cell_type": "code",
   "execution_count": 49,
   "id": "2a9ea399",
   "metadata": {},
   "outputs": [],
   "source": [
    "texts = df_glob['text_clear']\n",
    "labels = df_glob['rvi_price_diff_cat']\n",
    "\n",
    "X_train, X_test, y_train, y_test = train_test_split(texts,\n",
    "                                                    labels,\n",
    "                                                    random_state=42,\n",
    "                                                    test_size=0.25,\n",
    "                                                    stratify=labels)"
   ]
  },
  {
   "cell_type": "code",
   "execution_count": 50,
   "id": "3528a203",
   "metadata": {},
   "outputs": [],
   "source": [
    "max_words = 10000 # max number of words to use in the vocabulary\n",
    "max_len = 500 # max length of each text (in terms of number of words)\n",
    "embedding_dim = 500 # dimension of word embeddings\n",
    "lstm_units = 32 # number of units in the LSTM layer\n",
    "num_classes = len(set(labels)) # number of classes\n",
    "\n",
    "tokenizer = Tokenizer(num_words=max_words)\n",
    "tokenizer.fit_on_texts(X_train)\n",
    "\n",
    "sequences_train = tokenizer.texts_to_sequences(X_train)\n",
    "sequences_test = tokenizer.texts_to_sequences(X_test)\n",
    "\n",
    "X_train = pad_sequences(sequences_train, maxlen=max_len)\n",
    "X_test = pad_sequences(sequences_test, maxlen=max_len)\n",
    "\n",
    "y_train = pd.get_dummies(y_train).values\n",
    "y_test = pd.get_dummies(y_test).values"
   ]
  },
  {
   "cell_type": "code",
   "execution_count": 51,
   "id": "8ba7189b",
   "metadata": {},
   "outputs": [],
   "source": [
    "# Save tokenizer for further usage in production\n",
    "with open('tokenizers/glob_rvi_tokenizer.json', 'w', encoding='utf-8') as f:\n",
    "    f.write(json.dumps(tokenizer.to_json(), ensure_ascii=False))"
   ]
  },
  {
   "cell_type": "code",
   "execution_count": 52,
   "id": "6632c2b1",
   "metadata": {},
   "outputs": [
    {
     "name": "stdout",
     "output_type": "stream",
     "text": [
      "Model: \"sequential\"\n",
      "_________________________________________________________________\n",
      " Layer (type)                Output Shape              Param #   \n",
      "=================================================================\n",
      " embedding (Embedding)       (None, 500, 500)          5000000   \n",
      "                                                                 \n",
      " lstm (LSTM)                 (None, 32)                68224     \n",
      "                                                                 \n",
      " dense (Dense)               (None, 3)                 99        \n",
      "                                                                 \n",
      "=================================================================\n",
      "Total params: 5068323 (19.33 MB)\n",
      "Trainable params: 5068323 (19.33 MB)\n",
      "Non-trainable params: 0 (0.00 Byte)\n",
      "_________________________________________________________________\n"
     ]
    }
   ],
   "source": [
    "keras.backend.clear_session()\n",
    "\n",
    "model = Sequential()\n",
    "model.add(Embedding(max_words, embedding_dim, input_length=max_len))\n",
    "model.add(LSTM(lstm_units))\n",
    "model.add(Dense(num_classes, activation='softmax'))\n",
    "\n",
    "model.compile(loss='categorical_crossentropy',\n",
    "              optimizer=tf.keras.optimizers.Adam(clipvalue=0.7),\n",
    "              metrics=[tfa.metrics.F1Score(num_classes=num_classes)])\n",
    "\n",
    "scheduler = keras.callbacks.LearningRateScheduler(\n",
    "    tf.keras.optimizers.schedules.ExponentialDecay(initial_learning_rate=3e-5, decay_rate=0.85, decay_steps=100)\n",
    ")\n",
    "\n",
    "model.summary()"
   ]
  },
  {
   "cell_type": "code",
   "execution_count": 53,
   "id": "38ba4658",
   "metadata": {},
   "outputs": [
    {
     "name": "stdout",
     "output_type": "stream",
     "text": [
      "{0: 6.658658658658658, 1: 0.37041986858224746, 2: 6.658658658658658}\n"
     ]
    }
   ],
   "source": [
    "weights = compute_class_weight(class_weight='balanced',\n",
    "                                     classes=np.unique(labels),\n",
    "                                     y=labels)\n",
    "\n",
    "weights = {i: weight for i, weight in enumerate(weights)}\n",
    "\n",
    "print(weights)"
   ]
  },
  {
   "cell_type": "code",
   "execution_count": 54,
   "id": "b6a2991b",
   "metadata": {},
   "outputs": [
    {
     "name": "stdout",
     "output_type": "stream",
     "text": [
      "Epoch 1/5\n",
      "312/312 [==============================] - 238s 750ms/step - loss: 1.0976 - f1_score: 0.2727 - val_loss: 1.0876 - val_f1_score: 0.3148 - lr: 3.0000e-05\n",
      "Epoch 2/5\n",
      "312/312 [==============================] - 259s 830ms/step - loss: 1.0894 - f1_score: 0.3607 - val_loss: 1.0811 - val_f1_score: 0.3257 - lr: 2.9951e-05\n",
      "Epoch 3/5\n",
      "312/312 [==============================] - 238s 763ms/step - loss: 1.0793 - f1_score: 0.4221 - val_loss: 1.0687 - val_f1_score: 0.3398 - lr: 2.9903e-05\n",
      "Epoch 4/5\n",
      "312/312 [==============================] - 225s 720ms/step - loss: 1.0630 - f1_score: 0.4753 - val_loss: 1.0413 - val_f1_score: 0.3472 - lr: 2.9854e-05\n",
      "Epoch 5/5\n",
      "312/312 [==============================] - 228s 732ms/step - loss: 1.0269 - f1_score: 0.5201 - val_loss: 0.8960 - val_f1_score: 0.3608 - lr: 2.9806e-05\n"
     ]
    },
    {
     "data": {
      "text/plain": [
       "<keras.src.callbacks.History at 0x2031f5a74d0>"
      ]
     },
     "execution_count": 54,
     "metadata": {},
     "output_type": "execute_result"
    }
   ],
   "source": [
    "model.fit(X_train,\n",
    "          y_train,\n",
    "          batch_size=32,\n",
    "          epochs=5,\n",
    "          callbacks=[scheduler],\n",
    "          class_weight=weights,\n",
    "          validation_data=(X_test, y_test))"
   ]
  },
  {
   "cell_type": "code",
   "execution_count": 55,
   "id": "f7f853ca",
   "metadata": {},
   "outputs": [],
   "source": [
    "model.save('artifacts/glob/glob_rvi_model.keras')"
   ]
  },
  {
   "cell_type": "code",
   "execution_count": 56,
   "id": "94cf6cb7",
   "metadata": {},
   "outputs": [
    {
     "data": {
      "text/plain": [
       "<keras.src.engine.sequential.Sequential at 0x20301f5f190>"
      ]
     },
     "execution_count": 56,
     "metadata": {},
     "output_type": "execute_result"
    }
   ],
   "source": [
    "keras.models.load_model('artifacts/glob/glob_rvi_model.keras')"
   ]
  },
  {
   "cell_type": "markdown",
   "id": "3e6a089b",
   "metadata": {},
   "source": [
    "### Model RUBUSD"
   ]
  },
  {
   "cell_type": "code",
   "execution_count": 63,
   "id": "6d56ff9c",
   "metadata": {},
   "outputs": [],
   "source": [
    "texts = df_glob['text_clear']\n",
    "labels = df_glob['usd_price_diff_cat']\n",
    "\n",
    "X_train, X_test, y_train, y_test = train_test_split(texts,\n",
    "                                                    labels,\n",
    "                                                    random_state=42,\n",
    "                                                    test_size=0.25,\n",
    "                                                    stratify=labels)"
   ]
  },
  {
   "cell_type": "code",
   "execution_count": 64,
   "id": "dffd2e50",
   "metadata": {},
   "outputs": [],
   "source": [
    "max_words = 10000 # max number of words to use in the vocabulary\n",
    "max_len = 500 # max length of each text (in terms of number of words)\n",
    "embedding_dim = 500 # dimension of word embeddings\n",
    "lstm_units = 32 # number of units in the LSTM layer\n",
    "num_classes = len(set(labels)) # number of classes\n",
    "\n",
    "tokenizer = Tokenizer(num_words=max_words)\n",
    "tokenizer.fit_on_texts(X_train)\n",
    "\n",
    "sequences_train = tokenizer.texts_to_sequences(X_train)\n",
    "sequences_test = tokenizer.texts_to_sequences(X_test)\n",
    "\n",
    "X_train = pad_sequences(sequences_train, maxlen=max_len)\n",
    "X_test = pad_sequences(sequences_test, maxlen=max_len)\n",
    "\n",
    "y_train = pd.get_dummies(y_train).values\n",
    "y_test = pd.get_dummies(y_test).values"
   ]
  },
  {
   "cell_type": "code",
   "execution_count": 65,
   "id": "2227773b",
   "metadata": {},
   "outputs": [],
   "source": [
    "# Save tokenizer for further usage in production\n",
    "with open('tokenizers/glob_rubusd_tokenizer.json', 'w', encoding='utf-8') as f:\n",
    "    f.write(json.dumps(tokenizer.to_json(), ensure_ascii=False))"
   ]
  },
  {
   "cell_type": "code",
   "execution_count": 85,
   "id": "a4475520",
   "metadata": {},
   "outputs": [
    {
     "name": "stdout",
     "output_type": "stream",
     "text": [
      "Model: \"sequential\"\n",
      "_________________________________________________________________\n",
      " Layer (type)                Output Shape              Param #   \n",
      "=================================================================\n",
      " embedding (Embedding)       (None, 500, 500)          5000000   \n",
      "                                                                 \n",
      " lstm (LSTM)                 (None, 32)                68224     \n",
      "                                                                 \n",
      " dense (Dense)               (None, 3)                 99        \n",
      "                                                                 \n",
      "=================================================================\n",
      "Total params: 5068323 (19.33 MB)\n",
      "Trainable params: 5068323 (19.33 MB)\n",
      "Non-trainable params: 0 (0.00 Byte)\n",
      "_________________________________________________________________\n"
     ]
    }
   ],
   "source": [
    "keras.backend.clear_session()\n",
    "\n",
    "model = Sequential()\n",
    "model.add(Embedding(max_words, embedding_dim, input_length=max_len))\n",
    "model.add(LSTM(lstm_units))\n",
    "model.add(Dense(num_classes, activation='softmax'))\n",
    "\n",
    "model.compile(loss='categorical_crossentropy',\n",
    "              optimizer=tf.keras.optimizers.Adam(clipvalue=0.7),\n",
    "              metrics=[tfa.metrics.F1Score(num_classes=num_classes)])\n",
    "\n",
    "scheduler = keras.callbacks.LearningRateScheduler(\n",
    "    tf.keras.optimizers.schedules.ExponentialDecay(initial_learning_rate=3e-5, decay_rate=0.85, decay_steps=100)\n",
    ")\n",
    "\n",
    "model.summary()"
   ]
  },
  {
   "cell_type": "code",
   "execution_count": 86,
   "id": "d1a5c73a",
   "metadata": {},
   "outputs": [
    {
     "name": "stdout",
     "output_type": "stream",
     "text": [
      "{0: 6.658658658658658, 1: 0.37041986858224746, 2: 6.658658658658658}\n"
     ]
    }
   ],
   "source": [
    "weights = compute_class_weight(class_weight='balanced',\n",
    "                                     classes=np.unique(labels),\n",
    "                                     y=labels)\n",
    "\n",
    "weights = {i: weight for i, weight in enumerate(weights)}\n",
    "\n",
    "print(weights)"
   ]
  },
  {
   "cell_type": "code",
   "execution_count": 87,
   "id": "09080661",
   "metadata": {},
   "outputs": [
    {
     "name": "stdout",
     "output_type": "stream",
     "text": [
      "Epoch 1/5\n",
      "312/312 [==============================] - 246s 778ms/step - loss: 1.0988 - f1_score: 0.3065 - val_loss: 1.0829 - val_f1_score: 0.3301 - lr: 3.0000e-05\n",
      "Epoch 2/5\n",
      "312/312 [==============================] - 239s 768ms/step - loss: 1.0908 - f1_score: 0.3913 - val_loss: 1.0761 - val_f1_score: 0.3358 - lr: 2.9951e-05\n",
      "Epoch 3/5\n",
      "312/312 [==============================] - 236s 755ms/step - loss: 1.0803 - f1_score: 0.4589 - val_loss: 1.0625 - val_f1_score: 0.3434 - lr: 2.9903e-05\n",
      "Epoch 4/5\n",
      "312/312 [==============================] - 236s 757ms/step - loss: 1.0581 - f1_score: 0.5098 - val_loss: 0.9994 - val_f1_score: 0.3533 - lr: 2.9854e-05\n",
      "Epoch 5/5\n",
      "312/312 [==============================] - 234s 749ms/step - loss: 0.9992 - f1_score: 0.5107 - val_loss: 0.9302 - val_f1_score: 0.3576 - lr: 2.9806e-05\n"
     ]
    },
    {
     "data": {
      "text/plain": [
       "<keras.src.callbacks.History at 0x20327d844d0>"
      ]
     },
     "execution_count": 87,
     "metadata": {},
     "output_type": "execute_result"
    }
   ],
   "source": [
    "model.fit(X_train,\n",
    "          y_train,\n",
    "          batch_size=32,\n",
    "          epochs=5,\n",
    "          callbacks=[scheduler],\n",
    "          class_weight=weights,\n",
    "          validation_data=(X_test, y_test))"
   ]
  },
  {
   "cell_type": "code",
   "execution_count": 88,
   "id": "baf0c251",
   "metadata": {},
   "outputs": [],
   "source": [
    "model.save('artifacts/glob/glob_rubusd_model.keras')"
   ]
  },
  {
   "cell_type": "code",
   "execution_count": 89,
   "id": "4dabe2b1",
   "metadata": {},
   "outputs": [
    {
     "data": {
      "text/plain": [
       "<keras.src.engine.sequential.Sequential at 0x2031d496dd0>"
      ]
     },
     "execution_count": 89,
     "metadata": {},
     "output_type": "execute_result"
    }
   ],
   "source": [
    "keras.models.load_model('artifacts/glob/glob_rubusd_model.keras')"
   ]
  },
  {
   "cell_type": "markdown",
   "id": "b9805608",
   "metadata": {},
   "source": [
    "# Upgraded tables save"
   ]
  },
  {
   "cell_type": "code",
   "execution_count": 75,
   "id": "3cecfbb3",
   "metadata": {},
   "outputs": [],
   "source": [
    "def push_new_table_to_db(df, table_name, conn_string):\n",
    "    db = create_engine(conn_string) \n",
    "    conn = db.connect() \n",
    "    conn.autocommit = True\n",
    "    df.to_sql(table_name, con=conn, if_exists='replace', index=False) \n",
    "    conn.close()"
   ]
  },
  {
   "cell_type": "code",
   "execution_count": 76,
   "id": "bb8f7b22",
   "metadata": {},
   "outputs": [],
   "source": [
    "push_new_table_to_db(df_comp, 'companies_trade_clear', conn_string)\n",
    "push_new_table_to_db(df_ind, 'industries_trade_clear', conn_string)\n",
    "push_new_table_to_db(df_glob, 'global_trade_clear', conn_string)"
   ]
  },
  {
   "cell_type": "code",
   "execution_count": 77,
   "id": "85ca25f8",
   "metadata": {},
   "outputs": [
    {
     "data": {
      "text/html": [
       "<div>\n",
       "<style scoped>\n",
       "    .dataframe tbody tr th:only-of-type {\n",
       "        vertical-align: middle;\n",
       "    }\n",
       "\n",
       "    .dataframe tbody tr th {\n",
       "        vertical-align: top;\n",
       "    }\n",
       "\n",
       "    .dataframe thead th {\n",
       "        text-align: right;\n",
       "    }\n",
       "</style>\n",
       "<table border=\"1\" class=\"dataframe\">\n",
       "  <thead>\n",
       "    <tr style=\"text-align: right;\">\n",
       "      <th></th>\n",
       "      <th>website</th>\n",
       "      <th>section</th>\n",
       "      <th>url</th>\n",
       "      <th>header</th>\n",
       "      <th>body</th>\n",
       "      <th>tags</th>\n",
       "      <th>body_length</th>\n",
       "      <th>datetime</th>\n",
       "      <th>company</th>\n",
       "      <th>price_release</th>\n",
       "      <th>volume_release</th>\n",
       "      <th>price_lag_30</th>\n",
       "      <th>volume_lag_30</th>\n",
       "      <th>price_diff</th>\n",
       "      <th>price_diff_percent</th>\n",
       "      <th>volume_diff</th>\n",
       "      <th>volume_diff_percent</th>\n",
       "      <th>text_clear</th>\n",
       "      <th>price_diff_cat</th>\n",
       "    </tr>\n",
       "  </thead>\n",
       "  <tbody>\n",
       "    <tr>\n",
       "      <th>0</th>\n",
       "      <td>РИА</td>\n",
       "      <td>Экономика</td>\n",
       "      <td>https://ria.ru/20230103/banki-1842907991.html</td>\n",
       "      <td>Эксперт рассказал о развитии исламского банкин...</td>\n",
       "      <td>Порядка 10-15 филиалов исламского банкинга м...</td>\n",
       "      <td>['Экономика', 'Россия', 'Сбербанк России']</td>\n",
       "      <td>1759</td>\n",
       "      <td>2023-01-03 10:16:00</td>\n",
       "      <td>SBER</td>\n",
       "      <td>142.75</td>\n",
       "      <td>11917688.40</td>\n",
       "      <td>142.62</td>\n",
       "      <td>2958789.90</td>\n",
       "      <td>-0.13</td>\n",
       "      <td>-0.091068</td>\n",
       "      <td>-8958898.5</td>\n",
       "      <td>-75.173122</td>\n",
       "      <td>порядок филиал исламский банкинг мочь дополнит...</td>\n",
       "      <td>1</td>\n",
       "    </tr>\n",
       "    <tr>\n",
       "      <th>1</th>\n",
       "      <td>РИА</td>\n",
       "      <td>Экономика</td>\n",
       "      <td>https://ria.ru/20230103/gazprom-1842940413.html</td>\n",
       "      <td>Экспорт \"Газпрома\" снизился до минимума с конц...</td>\n",
       "      <td>Объём экспорта \"Газпрома\" в прошедшем году с...</td>\n",
       "      <td>['Экономика', 'Газпром', 'Россия']</td>\n",
       "      <td>1299</td>\n",
       "      <td>2023-01-03 14:22:00</td>\n",
       "      <td>GAZP</td>\n",
       "      <td>163.13</td>\n",
       "      <td>1100961.10</td>\n",
       "      <td>163.37</td>\n",
       "      <td>1413064.30</td>\n",
       "      <td>0.24</td>\n",
       "      <td>0.147122</td>\n",
       "      <td>312103.2</td>\n",
       "      <td>28.348250</td>\n",
       "      <td>объмый экспорт газпром пройти год снизиться ми...</td>\n",
       "      <td>1</td>\n",
       "    </tr>\n",
       "    <tr>\n",
       "      <th>2</th>\n",
       "      <td>РИА</td>\n",
       "      <td>Экономика</td>\n",
       "      <td>https://ria.ru/20230104/shelf-1843063413.html</td>\n",
       "      <td>Ямальской шельфовой компании предоставили два ...</td>\n",
       "      <td>Правительство РФ предоставило Ямальской шель...</td>\n",
       "      <td>['Экономика', 'Карское море', 'Россия']</td>\n",
       "      <td>1719</td>\n",
       "      <td>2023-01-04 16:36:00</td>\n",
       "      <td>ROSN</td>\n",
       "      <td>363.70</td>\n",
       "      <td>178263.05</td>\n",
       "      <td>364.85</td>\n",
       "      <td>321423.75</td>\n",
       "      <td>1.15</td>\n",
       "      <td>0.316195</td>\n",
       "      <td>143160.7</td>\n",
       "      <td>80.308679</td>\n",
       "      <td>правительство рф предоставить ямальский шельфо...</td>\n",
       "      <td>1</td>\n",
       "    </tr>\n",
       "    <tr>\n",
       "      <th>3</th>\n",
       "      <td>Kommersant</td>\n",
       "      <td>Фондовый рынок</td>\n",
       "      <td>https://www.kommersant.ru/doc/5757640</td>\n",
       "      <td>Нестабильный рост</td>\n",
       "      <td>Минувший год запомнится инвесторам как время с...</td>\n",
       "      <td>None</td>\n",
       "      <td>12414</td>\n",
       "      <td>2023-01-06 10:02:00</td>\n",
       "      <td>SBER</td>\n",
       "      <td>141.31</td>\n",
       "      <td>1573757.40</td>\n",
       "      <td>141.40</td>\n",
       "      <td>2401025.00</td>\n",
       "      <td>0.09</td>\n",
       "      <td>0.063690</td>\n",
       "      <td>827267.6</td>\n",
       "      <td>52.566399</td>\n",
       "      <td>минувший год запомниться инвестор время высоки...</td>\n",
       "      <td>1</td>\n",
       "    </tr>\n",
       "    <tr>\n",
       "      <th>4</th>\n",
       "      <td>Kommersant</td>\n",
       "      <td>Фондовый рынок</td>\n",
       "      <td>https://www.kommersant.ru/doc/5757640</td>\n",
       "      <td>Нестабильный рост</td>\n",
       "      <td>Минувший год запомнится инвесторам как время с...</td>\n",
       "      <td>None</td>\n",
       "      <td>12414</td>\n",
       "      <td>2023-01-06 10:02:00</td>\n",
       "      <td>GAZP</td>\n",
       "      <td>161.69</td>\n",
       "      <td>4620114.20</td>\n",
       "      <td>161.60</td>\n",
       "      <td>1373716.00</td>\n",
       "      <td>-0.09</td>\n",
       "      <td>-0.055662</td>\n",
       "      <td>-3246398.2</td>\n",
       "      <td>-70.266622</td>\n",
       "      <td>минувший год запомниться инвестор время высоки...</td>\n",
       "      <td>1</td>\n",
       "    </tr>\n",
       "    <tr>\n",
       "      <th>...</th>\n",
       "      <td>...</td>\n",
       "      <td>...</td>\n",
       "      <td>...</td>\n",
       "      <td>...</td>\n",
       "      <td>...</td>\n",
       "      <td>...</td>\n",
       "      <td>...</td>\n",
       "      <td>...</td>\n",
       "      <td>...</td>\n",
       "      <td>...</td>\n",
       "      <td>...</td>\n",
       "      <td>...</td>\n",
       "      <td>...</td>\n",
       "      <td>...</td>\n",
       "      <td>...</td>\n",
       "      <td>...</td>\n",
       "      <td>...</td>\n",
       "      <td>...</td>\n",
       "      <td>...</td>\n",
       "    </tr>\n",
       "    <tr>\n",
       "      <th>7262</th>\n",
       "      <td>Smart_Lab</td>\n",
       "      <td>Новости компаний и новости по акциям</td>\n",
       "      <td>https://smart-lab.ru/blog/951074.php</td>\n",
       "      <td>Аналитики Домклик Сбера: в сентябре 2023г боле...</td>\n",
       "      <td>Аналитики Домклик посчитали количество выдач л...</td>\n",
       "      <td>['Сбербанк', 'Домклик', 'ипотека', 'ипотечное ...</td>\n",
       "      <td>1457</td>\n",
       "      <td>2023-10-17 15:19:00</td>\n",
       "      <td>SBER</td>\n",
       "      <td>270.57</td>\n",
       "      <td>46419415.30</td>\n",
       "      <td>269.98</td>\n",
       "      <td>9093523.40</td>\n",
       "      <td>-0.59</td>\n",
       "      <td>-0.218058</td>\n",
       "      <td>-37325891.9</td>\n",
       "      <td>-80.410086</td>\n",
       "      <td>аналитик домклик посчитать количество выдача л...</td>\n",
       "      <td>1</td>\n",
       "    </tr>\n",
       "    <tr>\n",
       "      <th>7263</th>\n",
       "      <td>Smart_Lab</td>\n",
       "      <td>Новости компаний и новости по акциям</td>\n",
       "      <td>https://smart-lab.ru/blog/951090.php</td>\n",
       "      <td>Темпы роста выручки X5 максимальные с 2017 год...</td>\n",
       "      <td>Чистая розничная выручка X5 Group за III кварт...</td>\n",
       "      <td>['Х5 Retail Group', 'операционные результаты',...</td>\n",
       "      <td>1470</td>\n",
       "      <td>2023-10-17 15:50:00</td>\n",
       "      <td>FIVE</td>\n",
       "      <td>2380.50</td>\n",
       "      <td>228507.50</td>\n",
       "      <td>2384.50</td>\n",
       "      <td>357756.50</td>\n",
       "      <td>4.00</td>\n",
       "      <td>0.168032</td>\n",
       "      <td>129249.0</td>\n",
       "      <td>56.562257</td>\n",
       "      <td>чистый розничный выручка x group iii квартал г...</td>\n",
       "      <td>1</td>\n",
       "    </tr>\n",
       "    <tr>\n",
       "      <th>7264</th>\n",
       "      <td>РИА</td>\n",
       "      <td>Экономика</td>\n",
       "      <td>https://ria.ru/20231017/gaz-1903428772.html</td>\n",
       "      <td>Венгрия и Сербия пообещали Болгарии ответ на п...</td>\n",
       "      <td>Будапешт и Белград ответят на повышение плат...</td>\n",
       "      <td>['Экономика', 'Россия', 'Венгрия', 'Сербия', '...</td>\n",
       "      <td>721</td>\n",
       "      <td>2023-10-17 18:13:00</td>\n",
       "      <td>GAZP</td>\n",
       "      <td>172.04</td>\n",
       "      <td>1367705.30</td>\n",
       "      <td>172.00</td>\n",
       "      <td>42397837.50</td>\n",
       "      <td>-0.04</td>\n",
       "      <td>-0.023250</td>\n",
       "      <td>41030132.2</td>\n",
       "      <td>2999.924925</td>\n",
       "      <td>будапешт белград ответить повышение плата тран...</td>\n",
       "      <td>1</td>\n",
       "    </tr>\n",
       "    <tr>\n",
       "      <th>7265</th>\n",
       "      <td>Интерфакс</td>\n",
       "      <td>ЭКОНОМИКА</td>\n",
       "      <td>https://www.interfax.ru/business/926333</td>\n",
       "      <td>FESCO и Liaoning Port будут развивать перевозк...</td>\n",
       "      <td>- Транспортная группа FESCO (головная компан...</td>\n",
       "      <td>['FESCO', 'ВМТП', 'ДВМП', 'Подмосковье', 'Кита...</td>\n",
       "      <td>918</td>\n",
       "      <td>2023-10-17 18:21:00</td>\n",
       "      <td>FESH</td>\n",
       "      <td>98.07</td>\n",
       "      <td>9807.00</td>\n",
       "      <td>98.70</td>\n",
       "      <td>118440.00</td>\n",
       "      <td>0.63</td>\n",
       "      <td>0.642398</td>\n",
       "      <td>108633.0</td>\n",
       "      <td>1107.708779</td>\n",
       "      <td>транспортный группа fesco группа компания порт...</td>\n",
       "      <td>2</td>\n",
       "    </tr>\n",
       "    <tr>\n",
       "      <th>7266</th>\n",
       "      <td>РИА</td>\n",
       "      <td>Экономика</td>\n",
       "      <td>https://ria.ru/20231017/brendy-1903461295.html</td>\n",
       "      <td>Стратегию развития российских брендов обсудят ...</td>\n",
       "      <td>Что Россия может предложить глобальному рынк...</td>\n",
       "      <td>['В России', 'Экономика', 'Россия', 'Бренды', ...</td>\n",
       "      <td>1551</td>\n",
       "      <td>2023-10-17 21:10:00</td>\n",
       "      <td>YNDX</td>\n",
       "      <td>2530.20</td>\n",
       "      <td>10122.80</td>\n",
       "      <td>2527.60</td>\n",
       "      <td>4763669.00</td>\n",
       "      <td>-2.60</td>\n",
       "      <td>-0.102759</td>\n",
       "      <td>4753546.2</td>\n",
       "      <td>46958.807840</td>\n",
       "      <td>россия предложить глобальный рынок выстроить с...</td>\n",
       "      <td>1</td>\n",
       "    </tr>\n",
       "  </tbody>\n",
       "</table>\n",
       "<p>7267 rows × 19 columns</p>\n",
       "</div>"
      ],
      "text/plain": [
       "         website                               section  \\\n",
       "0            РИА                             Экономика   \n",
       "1            РИА                             Экономика   \n",
       "2            РИА                             Экономика   \n",
       "3     Kommersant                        Фондовый рынок   \n",
       "4     Kommersant                        Фондовый рынок   \n",
       "...          ...                                   ...   \n",
       "7262   Smart_Lab  Новости компаний и новости по акциям   \n",
       "7263   Smart_Lab  Новости компаний и новости по акциям   \n",
       "7264         РИА                             Экономика   \n",
       "7265   Интерфакс                             ЭКОНОМИКА   \n",
       "7266         РИА                             Экономика   \n",
       "\n",
       "                                                  url  \\\n",
       "0       https://ria.ru/20230103/banki-1842907991.html   \n",
       "1     https://ria.ru/20230103/gazprom-1842940413.html   \n",
       "2       https://ria.ru/20230104/shelf-1843063413.html   \n",
       "3               https://www.kommersant.ru/doc/5757640   \n",
       "4               https://www.kommersant.ru/doc/5757640   \n",
       "...                                               ...   \n",
       "7262             https://smart-lab.ru/blog/951074.php   \n",
       "7263             https://smart-lab.ru/blog/951090.php   \n",
       "7264      https://ria.ru/20231017/gaz-1903428772.html   \n",
       "7265          https://www.interfax.ru/business/926333   \n",
       "7266   https://ria.ru/20231017/brendy-1903461295.html   \n",
       "\n",
       "                                                 header  \\\n",
       "0     Эксперт рассказал о развитии исламского банкин...   \n",
       "1     Экспорт \"Газпрома\" снизился до минимума с конц...   \n",
       "2     Ямальской шельфовой компании предоставили два ...   \n",
       "3                                     Нестабильный рост   \n",
       "4                                     Нестабильный рост   \n",
       "...                                                 ...   \n",
       "7262  Аналитики Домклик Сбера: в сентябре 2023г боле...   \n",
       "7263  Темпы роста выручки X5 максимальные с 2017 год...   \n",
       "7264  Венгрия и Сербия пообещали Болгарии ответ на п...   \n",
       "7265  FESCO и Liaoning Port будут развивать перевозк...   \n",
       "7266  Стратегию развития российских брендов обсудят ...   \n",
       "\n",
       "                                                   body  \\\n",
       "0       Порядка 10-15 филиалов исламского банкинга м...   \n",
       "1       Объём экспорта \"Газпрома\" в прошедшем году с...   \n",
       "2       Правительство РФ предоставило Ямальской шель...   \n",
       "3     Минувший год запомнится инвесторам как время с...   \n",
       "4     Минувший год запомнится инвесторам как время с...   \n",
       "...                                                 ...   \n",
       "7262  Аналитики Домклик посчитали количество выдач л...   \n",
       "7263  Чистая розничная выручка X5 Group за III кварт...   \n",
       "7264    Будапешт и Белград ответят на повышение плат...   \n",
       "7265    - Транспортная группа FESCO (головная компан...   \n",
       "7266    Что Россия может предложить глобальному рынк...   \n",
       "\n",
       "                                                   tags  body_length  \\\n",
       "0            ['Экономика', 'Россия', 'Сбербанк России']         1759   \n",
       "1                    ['Экономика', 'Газпром', 'Россия']         1299   \n",
       "2               ['Экономика', 'Карское море', 'Россия']         1719   \n",
       "3                                                  None        12414   \n",
       "4                                                  None        12414   \n",
       "...                                                 ...          ...   \n",
       "7262  ['Сбербанк', 'Домклик', 'ипотека', 'ипотечное ...         1457   \n",
       "7263  ['Х5 Retail Group', 'операционные результаты',...         1470   \n",
       "7264  ['Экономика', 'Россия', 'Венгрия', 'Сербия', '...          721   \n",
       "7265  ['FESCO', 'ВМТП', 'ДВМП', 'Подмосковье', 'Кита...          918   \n",
       "7266  ['В России', 'Экономика', 'Россия', 'Бренды', ...         1551   \n",
       "\n",
       "                 datetime company  price_release  volume_release  \\\n",
       "0     2023-01-03 10:16:00    SBER         142.75     11917688.40   \n",
       "1     2023-01-03 14:22:00    GAZP         163.13      1100961.10   \n",
       "2     2023-01-04 16:36:00    ROSN         363.70       178263.05   \n",
       "3     2023-01-06 10:02:00    SBER         141.31      1573757.40   \n",
       "4     2023-01-06 10:02:00    GAZP         161.69      4620114.20   \n",
       "...                   ...     ...            ...             ...   \n",
       "7262  2023-10-17 15:19:00    SBER         270.57     46419415.30   \n",
       "7263  2023-10-17 15:50:00    FIVE        2380.50       228507.50   \n",
       "7264  2023-10-17 18:13:00    GAZP         172.04      1367705.30   \n",
       "7265  2023-10-17 18:21:00    FESH          98.07         9807.00   \n",
       "7266  2023-10-17 21:10:00    YNDX        2530.20        10122.80   \n",
       "\n",
       "      price_lag_30  volume_lag_30  price_diff  price_diff_percent  \\\n",
       "0           142.62     2958789.90       -0.13           -0.091068   \n",
       "1           163.37     1413064.30        0.24            0.147122   \n",
       "2           364.85      321423.75        1.15            0.316195   \n",
       "3           141.40     2401025.00        0.09            0.063690   \n",
       "4           161.60     1373716.00       -0.09           -0.055662   \n",
       "...            ...            ...         ...                 ...   \n",
       "7262        269.98     9093523.40       -0.59           -0.218058   \n",
       "7263       2384.50      357756.50        4.00            0.168032   \n",
       "7264        172.00    42397837.50       -0.04           -0.023250   \n",
       "7265         98.70      118440.00        0.63            0.642398   \n",
       "7266       2527.60     4763669.00       -2.60           -0.102759   \n",
       "\n",
       "      volume_diff  volume_diff_percent  \\\n",
       "0      -8958898.5           -75.173122   \n",
       "1        312103.2            28.348250   \n",
       "2        143160.7            80.308679   \n",
       "3        827267.6            52.566399   \n",
       "4      -3246398.2           -70.266622   \n",
       "...           ...                  ...   \n",
       "7262  -37325891.9           -80.410086   \n",
       "7263     129249.0            56.562257   \n",
       "7264   41030132.2          2999.924925   \n",
       "7265     108633.0          1107.708779   \n",
       "7266    4753546.2         46958.807840   \n",
       "\n",
       "                                             text_clear  price_diff_cat  \n",
       "0     порядок филиал исламский банкинг мочь дополнит...               1  \n",
       "1     объмый экспорт газпром пройти год снизиться ми...               1  \n",
       "2     правительство рф предоставить ямальский шельфо...               1  \n",
       "3     минувший год запомниться инвестор время высоки...               1  \n",
       "4     минувший год запомниться инвестор время высоки...               1  \n",
       "...                                                 ...             ...  \n",
       "7262  аналитик домклик посчитать количество выдача л...               1  \n",
       "7263  чистый розничный выручка x group iii квартал г...               1  \n",
       "7264  будапешт белград ответить повышение плата тран...               1  \n",
       "7265  транспортный группа fesco группа компания порт...               2  \n",
       "7266  россия предложить глобальный рынок выстроить с...               1  \n",
       "\n",
       "[7267 rows x 19 columns]"
      ]
     },
     "execution_count": 77,
     "metadata": {},
     "output_type": "execute_result"
    }
   ],
   "source": [
    "# Check 1\n",
    "data_import_from_db('companies_trade_clear', conn_string)"
   ]
  },
  {
   "cell_type": "code",
   "execution_count": 78,
   "id": "cae96322",
   "metadata": {},
   "outputs": [
    {
     "data": {
      "text/html": [
       "<div>\n",
       "<style scoped>\n",
       "    .dataframe tbody tr th:only-of-type {\n",
       "        vertical-align: middle;\n",
       "    }\n",
       "\n",
       "    .dataframe tbody tr th {\n",
       "        vertical-align: top;\n",
       "    }\n",
       "\n",
       "    .dataframe thead th {\n",
       "        text-align: right;\n",
       "    }\n",
       "</style>\n",
       "<table border=\"1\" class=\"dataframe\">\n",
       "  <thead>\n",
       "    <tr style=\"text-align: right;\">\n",
       "      <th></th>\n",
       "      <th>website</th>\n",
       "      <th>section</th>\n",
       "      <th>url</th>\n",
       "      <th>header</th>\n",
       "      <th>body</th>\n",
       "      <th>tags</th>\n",
       "      <th>body_length</th>\n",
       "      <th>datetime</th>\n",
       "      <th>industry</th>\n",
       "      <th>price_release</th>\n",
       "      <th>volume_release</th>\n",
       "      <th>price_lag_30</th>\n",
       "      <th>volume_lag_30</th>\n",
       "      <th>price_diff</th>\n",
       "      <th>price_diff_percent</th>\n",
       "      <th>volume_diff</th>\n",
       "      <th>volume_diff_percent</th>\n",
       "      <th>text_clear</th>\n",
       "      <th>price_diff_cat</th>\n",
       "    </tr>\n",
       "  </thead>\n",
       "  <tbody>\n",
       "    <tr>\n",
       "      <th>0</th>\n",
       "      <td>РИА</td>\n",
       "      <td>Экономика</td>\n",
       "      <td>https://ria.ru/20230103/banki-1842907991.html</td>\n",
       "      <td>Эксперт рассказал о развитии исламского банкин...</td>\n",
       "      <td>Порядка 10-15 филиалов исламского банкинга м...</td>\n",
       "      <td>['Экономика', 'Россия', 'Сбербанк России']</td>\n",
       "      <td>1759</td>\n",
       "      <td>2023-01-03 10:16:00</td>\n",
       "      <td>MOEXFN</td>\n",
       "      <td>6307.20</td>\n",
       "      <td>1.680676e+07</td>\n",
       "      <td>6308.77</td>\n",
       "      <td>1.185410e+07</td>\n",
       "      <td>1.57</td>\n",
       "      <td>0.024892</td>\n",
       "      <td>-4.952657e+06</td>\n",
       "      <td>-29.468250</td>\n",
       "      <td>порядок филиал исламский банкинг мочь дополнит...</td>\n",
       "      <td>1</td>\n",
       "    </tr>\n",
       "    <tr>\n",
       "      <th>1</th>\n",
       "      <td>РИА</td>\n",
       "      <td>Экономика</td>\n",
       "      <td>https://ria.ru/20230103/gazprom-1842940413.html</td>\n",
       "      <td>Экспорт \"Газпрома\" снизился до минимума с конц...</td>\n",
       "      <td>Объём экспорта \"Газпрома\" в прошедшем году с...</td>\n",
       "      <td>['Экономика', 'Газпром', 'Россия']</td>\n",
       "      <td>1299</td>\n",
       "      <td>2023-01-03 14:22:00</td>\n",
       "      <td>MOEXOG</td>\n",
       "      <td>5696.30</td>\n",
       "      <td>4.451181e+06</td>\n",
       "      <td>5696.72</td>\n",
       "      <td>4.605859e+06</td>\n",
       "      <td>0.42</td>\n",
       "      <td>0.007373</td>\n",
       "      <td>1.546786e+05</td>\n",
       "      <td>3.475002</td>\n",
       "      <td>объмый экспорт газпром пройти год снизиться ми...</td>\n",
       "      <td>1</td>\n",
       "    </tr>\n",
       "    <tr>\n",
       "      <th>2</th>\n",
       "      <td>РИА</td>\n",
       "      <td>Экономика</td>\n",
       "      <td>https://ria.ru/20230104/shelf-1843063413.html</td>\n",
       "      <td>Ямальской шельфовой компании предоставили два ...</td>\n",
       "      <td>Правительство РФ предоставило Ямальской шель...</td>\n",
       "      <td>['Экономика', 'Карское море', 'Россия']</td>\n",
       "      <td>1719</td>\n",
       "      <td>2023-01-04 16:36:00</td>\n",
       "      <td>MOEXOG</td>\n",
       "      <td>5655.65</td>\n",
       "      <td>3.325798e+06</td>\n",
       "      <td>5663.65</td>\n",
       "      <td>1.490555e+06</td>\n",
       "      <td>8.00</td>\n",
       "      <td>0.141451</td>\n",
       "      <td>-1.835243e+06</td>\n",
       "      <td>-55.182029</td>\n",
       "      <td>правительство рф предоставить ямальский шельфо...</td>\n",
       "      <td>1</td>\n",
       "    </tr>\n",
       "    <tr>\n",
       "      <th>3</th>\n",
       "      <td>Kommersant</td>\n",
       "      <td>Фондовый рынок</td>\n",
       "      <td>https://www.kommersant.ru/doc/5757640</td>\n",
       "      <td>Нестабильный рост</td>\n",
       "      <td>Минувший год запомнится инвесторам как время с...</td>\n",
       "      <td>None</td>\n",
       "      <td>12414</td>\n",
       "      <td>2023-01-06 10:02:00</td>\n",
       "      <td>MOEXFN</td>\n",
       "      <td>6298.36</td>\n",
       "      <td>7.394623e+06</td>\n",
       "      <td>6296.27</td>\n",
       "      <td>3.371524e+06</td>\n",
       "      <td>-2.09</td>\n",
       "      <td>-0.033183</td>\n",
       "      <td>-4.023099e+06</td>\n",
       "      <td>-54.405737</td>\n",
       "      <td>минувший год запомниться инвестор время высоки...</td>\n",
       "      <td>1</td>\n",
       "    </tr>\n",
       "    <tr>\n",
       "      <th>4</th>\n",
       "      <td>Kommersant</td>\n",
       "      <td>Фондовый рынок</td>\n",
       "      <td>https://www.kommersant.ru/doc/5757640</td>\n",
       "      <td>Нестабильный рост</td>\n",
       "      <td>Минувший год запомнится инвесторам как время с...</td>\n",
       "      <td>None</td>\n",
       "      <td>12414</td>\n",
       "      <td>2023-01-06 10:02:00</td>\n",
       "      <td>MOEXOG</td>\n",
       "      <td>5655.00</td>\n",
       "      <td>1.594030e+07</td>\n",
       "      <td>5647.93</td>\n",
       "      <td>1.358916e+06</td>\n",
       "      <td>-7.07</td>\n",
       "      <td>-0.125022</td>\n",
       "      <td>-1.458139e+07</td>\n",
       "      <td>-91.474969</td>\n",
       "      <td>минувший год запомниться инвестор время высоки...</td>\n",
       "      <td>1</td>\n",
       "    </tr>\n",
       "    <tr>\n",
       "      <th>...</th>\n",
       "      <td>...</td>\n",
       "      <td>...</td>\n",
       "      <td>...</td>\n",
       "      <td>...</td>\n",
       "      <td>...</td>\n",
       "      <td>...</td>\n",
       "      <td>...</td>\n",
       "      <td>...</td>\n",
       "      <td>...</td>\n",
       "      <td>...</td>\n",
       "      <td>...</td>\n",
       "      <td>...</td>\n",
       "      <td>...</td>\n",
       "      <td>...</td>\n",
       "      <td>...</td>\n",
       "      <td>...</td>\n",
       "      <td>...</td>\n",
       "      <td>...</td>\n",
       "      <td>...</td>\n",
       "    </tr>\n",
       "    <tr>\n",
       "      <th>4750</th>\n",
       "      <td>Интерфакс</td>\n",
       "      <td>ЭКОНОМИКА</td>\n",
       "      <td>https://www.interfax.ru/business/926309</td>\n",
       "      <td>СД \"Ростелекома\" рекомендовал дивиденды-2022 в...</td>\n",
       "      <td>- Совет директоров ПАО \"Ростелеком\" рекоменд...</td>\n",
       "      <td>['Ростелеком']</td>\n",
       "      <td>2096</td>\n",
       "      <td>2023-10-17 16:35:00</td>\n",
       "      <td>MOEXTL</td>\n",
       "      <td>2042.22</td>\n",
       "      <td>8.146566e+07</td>\n",
       "      <td>2041.61</td>\n",
       "      <td>2.950564e+07</td>\n",
       "      <td>-0.61</td>\n",
       "      <td>-0.029869</td>\n",
       "      <td>-5.196003e+07</td>\n",
       "      <td>-63.781504</td>\n",
       "      <td>совет директор пао ростелеком рекомендовать ак...</td>\n",
       "      <td>1</td>\n",
       "    </tr>\n",
       "    <tr>\n",
       "      <th>4751</th>\n",
       "      <td>РИА</td>\n",
       "      <td>Экономика</td>\n",
       "      <td>https://ria.ru/20231017/eksport-1903397700.html</td>\n",
       "      <td>ГД приняла в I чтении проект об экспорте СПГ б...</td>\n",
       "      <td>Госдума приняла в первом чтении законопроект...</td>\n",
       "      <td>['Экономика', 'Газпром', 'Новатэк', 'Госдума Р...</td>\n",
       "      <td>1997</td>\n",
       "      <td>2023-10-17 17:09:00</td>\n",
       "      <td>MOEXOG</td>\n",
       "      <td>9157.44</td>\n",
       "      <td>3.539749e+07</td>\n",
       "      <td>9156.21</td>\n",
       "      <td>1.986335e+07</td>\n",
       "      <td>-1.23</td>\n",
       "      <td>-0.013432</td>\n",
       "      <td>-1.553413e+07</td>\n",
       "      <td>-43.884848</td>\n",
       "      <td>госдума принять первый чтение законопроект поз...</td>\n",
       "      <td>1</td>\n",
       "    </tr>\n",
       "    <tr>\n",
       "      <th>4752</th>\n",
       "      <td>Интерфакс</td>\n",
       "      <td>ЭКОНОМИКА</td>\n",
       "      <td>https://www.interfax.ru/business/926319</td>\n",
       "      <td>Принят в I чтении проект, разрешающий \"НОВАТЭК...</td>\n",
       "      <td>- Госдума РФ в первом чтении приняла законоп...</td>\n",
       "      <td>['НОВАТЭК', 'Госдума']</td>\n",
       "      <td>3838</td>\n",
       "      <td>2023-10-17 17:17:00</td>\n",
       "      <td>MOEXOG</td>\n",
       "      <td>9155.69</td>\n",
       "      <td>1.499790e+07</td>\n",
       "      <td>9161.10</td>\n",
       "      <td>8.713726e+06</td>\n",
       "      <td>5.41</td>\n",
       "      <td>0.059089</td>\n",
       "      <td>-6.284177e+06</td>\n",
       "      <td>-41.900370</td>\n",
       "      <td>госдума рф первый чтение принять законопроект ...</td>\n",
       "      <td>1</td>\n",
       "    </tr>\n",
       "    <tr>\n",
       "      <th>4753</th>\n",
       "      <td>РИА</td>\n",
       "      <td>Экономика</td>\n",
       "      <td>https://ria.ru/20231017/gaz-1903428772.html</td>\n",
       "      <td>Венгрия и Сербия пообещали Болгарии ответ на п...</td>\n",
       "      <td>Будапешт и Белград ответят на повышение плат...</td>\n",
       "      <td>['Экономика', 'Россия', 'Венгрия', 'Сербия', '...</td>\n",
       "      <td>721</td>\n",
       "      <td>2023-10-17 18:13:00</td>\n",
       "      <td>MOEXOG</td>\n",
       "      <td>9168.87</td>\n",
       "      <td>1.394318e+07</td>\n",
       "      <td>9169.17</td>\n",
       "      <td>1.687321e+07</td>\n",
       "      <td>0.30</td>\n",
       "      <td>0.003272</td>\n",
       "      <td>2.930027e+06</td>\n",
       "      <td>21.014044</td>\n",
       "      <td>будапешт белград ответить повышение плата тран...</td>\n",
       "      <td>1</td>\n",
       "    </tr>\n",
       "    <tr>\n",
       "      <th>4754</th>\n",
       "      <td>Интерфакс</td>\n",
       "      <td>ЭКОНОМИКА</td>\n",
       "      <td>https://www.interfax.ru/business/926333</td>\n",
       "      <td>FESCO и Liaoning Port будут развивать перевозк...</td>\n",
       "      <td>- Транспортная группа FESCO (головная компан...</td>\n",
       "      <td>['FESCO', 'ВМТП', 'ДВМП', 'Подмосковье', 'Кита...</td>\n",
       "      <td>918</td>\n",
       "      <td>2023-10-17 18:21:00</td>\n",
       "      <td>MOEXTN</td>\n",
       "      <td>1924.33</td>\n",
       "      <td>4.748793e+06</td>\n",
       "      <td>1931.38</td>\n",
       "      <td>1.946295e+07</td>\n",
       "      <td>7.05</td>\n",
       "      <td>0.366361</td>\n",
       "      <td>1.471415e+07</td>\n",
       "      <td>309.850404</td>\n",
       "      <td>транспортный группа fesco группа компания порт...</td>\n",
       "      <td>1</td>\n",
       "    </tr>\n",
       "  </tbody>\n",
       "</table>\n",
       "<p>4755 rows × 19 columns</p>\n",
       "</div>"
      ],
      "text/plain": [
       "         website         section  \\\n",
       "0            РИА       Экономика   \n",
       "1            РИА       Экономика   \n",
       "2            РИА       Экономика   \n",
       "3     Kommersant  Фондовый рынок   \n",
       "4     Kommersant  Фондовый рынок   \n",
       "...          ...             ...   \n",
       "4750   Интерфакс       ЭКОНОМИКА   \n",
       "4751         РИА       Экономика   \n",
       "4752   Интерфакс       ЭКОНОМИКА   \n",
       "4753         РИА       Экономика   \n",
       "4754   Интерфакс       ЭКОНОМИКА   \n",
       "\n",
       "                                                  url  \\\n",
       "0       https://ria.ru/20230103/banki-1842907991.html   \n",
       "1     https://ria.ru/20230103/gazprom-1842940413.html   \n",
       "2       https://ria.ru/20230104/shelf-1843063413.html   \n",
       "3               https://www.kommersant.ru/doc/5757640   \n",
       "4               https://www.kommersant.ru/doc/5757640   \n",
       "...                                               ...   \n",
       "4750          https://www.interfax.ru/business/926309   \n",
       "4751  https://ria.ru/20231017/eksport-1903397700.html   \n",
       "4752          https://www.interfax.ru/business/926319   \n",
       "4753      https://ria.ru/20231017/gaz-1903428772.html   \n",
       "4754          https://www.interfax.ru/business/926333   \n",
       "\n",
       "                                                 header  \\\n",
       "0     Эксперт рассказал о развитии исламского банкин...   \n",
       "1     Экспорт \"Газпрома\" снизился до минимума с конц...   \n",
       "2     Ямальской шельфовой компании предоставили два ...   \n",
       "3                                     Нестабильный рост   \n",
       "4                                     Нестабильный рост   \n",
       "...                                                 ...   \n",
       "4750  СД \"Ростелекома\" рекомендовал дивиденды-2022 в...   \n",
       "4751  ГД приняла в I чтении проект об экспорте СПГ б...   \n",
       "4752  Принят в I чтении проект, разрешающий \"НОВАТЭК...   \n",
       "4753  Венгрия и Сербия пообещали Болгарии ответ на п...   \n",
       "4754  FESCO и Liaoning Port будут развивать перевозк...   \n",
       "\n",
       "                                                   body  \\\n",
       "0       Порядка 10-15 филиалов исламского банкинга м...   \n",
       "1       Объём экспорта \"Газпрома\" в прошедшем году с...   \n",
       "2       Правительство РФ предоставило Ямальской шель...   \n",
       "3     Минувший год запомнится инвесторам как время с...   \n",
       "4     Минувший год запомнится инвесторам как время с...   \n",
       "...                                                 ...   \n",
       "4750    - Совет директоров ПАО \"Ростелеком\" рекоменд...   \n",
       "4751    Госдума приняла в первом чтении законопроект...   \n",
       "4752    - Госдума РФ в первом чтении приняла законоп...   \n",
       "4753    Будапешт и Белград ответят на повышение плат...   \n",
       "4754    - Транспортная группа FESCO (головная компан...   \n",
       "\n",
       "                                                   tags  body_length  \\\n",
       "0            ['Экономика', 'Россия', 'Сбербанк России']         1759   \n",
       "1                    ['Экономика', 'Газпром', 'Россия']         1299   \n",
       "2               ['Экономика', 'Карское море', 'Россия']         1719   \n",
       "3                                                  None        12414   \n",
       "4                                                  None        12414   \n",
       "...                                                 ...          ...   \n",
       "4750                                     ['Ростелеком']         2096   \n",
       "4751  ['Экономика', 'Газпром', 'Новатэк', 'Госдума Р...         1997   \n",
       "4752                             ['НОВАТЭК', 'Госдума']         3838   \n",
       "4753  ['Экономика', 'Россия', 'Венгрия', 'Сербия', '...          721   \n",
       "4754  ['FESCO', 'ВМТП', 'ДВМП', 'Подмосковье', 'Кита...          918   \n",
       "\n",
       "                 datetime industry  price_release  volume_release  \\\n",
       "0     2023-01-03 10:16:00   MOEXFN        6307.20    1.680676e+07   \n",
       "1     2023-01-03 14:22:00   MOEXOG        5696.30    4.451181e+06   \n",
       "2     2023-01-04 16:36:00   MOEXOG        5655.65    3.325798e+06   \n",
       "3     2023-01-06 10:02:00   MOEXFN        6298.36    7.394623e+06   \n",
       "4     2023-01-06 10:02:00   MOEXOG        5655.00    1.594030e+07   \n",
       "...                   ...      ...            ...             ...   \n",
       "4750  2023-10-17 16:35:00   MOEXTL        2042.22    8.146566e+07   \n",
       "4751  2023-10-17 17:09:00   MOEXOG        9157.44    3.539749e+07   \n",
       "4752  2023-10-17 17:17:00   MOEXOG        9155.69    1.499790e+07   \n",
       "4753  2023-10-17 18:13:00   MOEXOG        9168.87    1.394318e+07   \n",
       "4754  2023-10-17 18:21:00   MOEXTN        1924.33    4.748793e+06   \n",
       "\n",
       "      price_lag_30  volume_lag_30  price_diff  price_diff_percent  \\\n",
       "0          6308.77   1.185410e+07        1.57            0.024892   \n",
       "1          5696.72   4.605859e+06        0.42            0.007373   \n",
       "2          5663.65   1.490555e+06        8.00            0.141451   \n",
       "3          6296.27   3.371524e+06       -2.09           -0.033183   \n",
       "4          5647.93   1.358916e+06       -7.07           -0.125022   \n",
       "...            ...            ...         ...                 ...   \n",
       "4750       2041.61   2.950564e+07       -0.61           -0.029869   \n",
       "4751       9156.21   1.986335e+07       -1.23           -0.013432   \n",
       "4752       9161.10   8.713726e+06        5.41            0.059089   \n",
       "4753       9169.17   1.687321e+07        0.30            0.003272   \n",
       "4754       1931.38   1.946295e+07        7.05            0.366361   \n",
       "\n",
       "       volume_diff  volume_diff_percent  \\\n",
       "0    -4.952657e+06           -29.468250   \n",
       "1     1.546786e+05             3.475002   \n",
       "2    -1.835243e+06           -55.182029   \n",
       "3    -4.023099e+06           -54.405737   \n",
       "4    -1.458139e+07           -91.474969   \n",
       "...            ...                  ...   \n",
       "4750 -5.196003e+07           -63.781504   \n",
       "4751 -1.553413e+07           -43.884848   \n",
       "4752 -6.284177e+06           -41.900370   \n",
       "4753  2.930027e+06            21.014044   \n",
       "4754  1.471415e+07           309.850404   \n",
       "\n",
       "                                             text_clear  price_diff_cat  \n",
       "0     порядок филиал исламский банкинг мочь дополнит...               1  \n",
       "1     объмый экспорт газпром пройти год снизиться ми...               1  \n",
       "2     правительство рф предоставить ямальский шельфо...               1  \n",
       "3     минувший год запомниться инвестор время высоки...               1  \n",
       "4     минувший год запомниться инвестор время высоки...               1  \n",
       "...                                                 ...             ...  \n",
       "4750  совет директор пао ростелеком рекомендовать ак...               1  \n",
       "4751  госдума принять первый чтение законопроект поз...               1  \n",
       "4752  госдума рф первый чтение принять законопроект ...               1  \n",
       "4753  будапешт белград ответить повышение плата тран...               1  \n",
       "4754  транспортный группа fesco группа компания порт...               1  \n",
       "\n",
       "[4755 rows x 19 columns]"
      ]
     },
     "execution_count": 78,
     "metadata": {},
     "output_type": "execute_result"
    }
   ],
   "source": [
    "# Check 2\n",
    "data_import_from_db('industries_trade_clear', conn_string)"
   ]
  },
  {
   "cell_type": "code",
   "execution_count": 79,
   "id": "b3179dc4",
   "metadata": {},
   "outputs": [
    {
     "data": {
      "text/html": [
       "<div>\n",
       "<style scoped>\n",
       "    .dataframe tbody tr th:only-of-type {\n",
       "        vertical-align: middle;\n",
       "    }\n",
       "\n",
       "    .dataframe tbody tr th {\n",
       "        vertical-align: top;\n",
       "    }\n",
       "\n",
       "    .dataframe thead th {\n",
       "        text-align: right;\n",
       "    }\n",
       "</style>\n",
       "<table border=\"1\" class=\"dataframe\">\n",
       "  <thead>\n",
       "    <tr style=\"text-align: right;\">\n",
       "      <th></th>\n",
       "      <th>website</th>\n",
       "      <th>section</th>\n",
       "      <th>url</th>\n",
       "      <th>header</th>\n",
       "      <th>body</th>\n",
       "      <th>tags</th>\n",
       "      <th>body_length</th>\n",
       "      <th>datetime</th>\n",
       "      <th>imoex_price_release</th>\n",
       "      <th>imoex_price_lag_30</th>\n",
       "      <th>...</th>\n",
       "      <th>imoex_price_diff</th>\n",
       "      <th>imoex_price_diff_percent</th>\n",
       "      <th>rvi_price_diff</th>\n",
       "      <th>rvi_price_diff_percent</th>\n",
       "      <th>usd_price_diff</th>\n",
       "      <th>usd_price_diff_percent</th>\n",
       "      <th>text_clear</th>\n",
       "      <th>imoex_price_diff_cat</th>\n",
       "      <th>rvi_price_diff_cat</th>\n",
       "      <th>usd_price_diff_cat</th>\n",
       "    </tr>\n",
       "  </thead>\n",
       "  <tbody>\n",
       "    <tr>\n",
       "      <th>0</th>\n",
       "      <td>РИА</td>\n",
       "      <td>Экономика</td>\n",
       "      <td>https://ria.ru/20230103/banki-1842907991.html</td>\n",
       "      <td>Эксперт рассказал о развитии исламского банкин...</td>\n",
       "      <td>Порядка 10-15 филиалов исламского банкинга м...</td>\n",
       "      <td>['Экономика', 'Россия', 'Сбербанк России']</td>\n",
       "      <td>1759</td>\n",
       "      <td>2023-01-03 10:16:00</td>\n",
       "      <td>2166.77</td>\n",
       "      <td>2168.03</td>\n",
       "      <td>...</td>\n",
       "      <td>1.26</td>\n",
       "      <td>0.058151</td>\n",
       "      <td>-0.19</td>\n",
       "      <td>-0.469716</td>\n",
       "      <td>-377.0</td>\n",
       "      <td>-0.535877</td>\n",
       "      <td>порядок филиал исламский банкинг мочь дополнит...</td>\n",
       "      <td>1</td>\n",
       "      <td>1</td>\n",
       "      <td>0</td>\n",
       "    </tr>\n",
       "    <tr>\n",
       "      <th>1</th>\n",
       "      <td>РИА</td>\n",
       "      <td>Экономика</td>\n",
       "      <td>https://ria.ru/20230103/avtomobili-1842908567....</td>\n",
       "      <td>Минпромторг спрогнозировал рост производства а...</td>\n",
       "      <td>Минпромторг прогнозирует в наступившем году ...</td>\n",
       "      <td>['Экономика', 'Авто', 'Денис Мантуров', 'Росси...</td>\n",
       "      <td>808</td>\n",
       "      <td>2023-01-03 10:20:00</td>\n",
       "      <td>2166.37</td>\n",
       "      <td>2167.18</td>\n",
       "      <td>...</td>\n",
       "      <td>0.81</td>\n",
       "      <td>0.037390</td>\n",
       "      <td>-0.20</td>\n",
       "      <td>-0.494438</td>\n",
       "      <td>-256.0</td>\n",
       "      <td>-0.364340</td>\n",
       "      <td>минпромторг прогнозировать наступить год увели...</td>\n",
       "      <td>1</td>\n",
       "      <td>1</td>\n",
       "      <td>0</td>\n",
       "    </tr>\n",
       "    <tr>\n",
       "      <th>2</th>\n",
       "      <td>Интерфакс</td>\n",
       "      <td>ЭКОНОМИКА</td>\n",
       "      <td>https://www.interfax.ru/business/879539</td>\n",
       "      <td>Рынок акций РФ открылся ростом индекса МосБирж...</td>\n",
       "      <td>- Рынок акций РФ открылся во вторник ростом ...</td>\n",
       "      <td>['Московская биржа']</td>\n",
       "      <td>1249</td>\n",
       "      <td>2023-01-03 10:22:00</td>\n",
       "      <td>2166.08</td>\n",
       "      <td>2166.96</td>\n",
       "      <td>...</td>\n",
       "      <td>0.88</td>\n",
       "      <td>0.040626</td>\n",
       "      <td>-0.21</td>\n",
       "      <td>-0.519159</td>\n",
       "      <td>-159.0</td>\n",
       "      <td>-0.226573</td>\n",
       "      <td>рынок акция рф открыться вторник рост рублевый...</td>\n",
       "      <td>1</td>\n",
       "      <td>1</td>\n",
       "      <td>1</td>\n",
       "    </tr>\n",
       "    <tr>\n",
       "      <th>3</th>\n",
       "      <td>РИА</td>\n",
       "      <td>Экономика</td>\n",
       "      <td>https://ria.ru/20230103/nissan-1842909188.html</td>\n",
       "      <td>\"АвтоВАЗу\" передадут активы Nissan в России</td>\n",
       "      <td>Подведомственное Минпромторгу ФГУП \"НАМИ\" пе...</td>\n",
       "      <td>['Экономика', 'Авто', 'Денис Мантуров', 'Минис...</td>\n",
       "      <td>1414</td>\n",
       "      <td>2023-01-03 10:29:00</td>\n",
       "      <td>2168.32</td>\n",
       "      <td>2168.95</td>\n",
       "      <td>...</td>\n",
       "      <td>0.63</td>\n",
       "      <td>0.029055</td>\n",
       "      <td>0.36</td>\n",
       "      <td>0.903161</td>\n",
       "      <td>93.0</td>\n",
       "      <td>0.132760</td>\n",
       "      <td>подведомственный минпромторг фгуп передавать а...</td>\n",
       "      <td>1</td>\n",
       "      <td>1</td>\n",
       "      <td>1</td>\n",
       "    </tr>\n",
       "    <tr>\n",
       "      <th>4</th>\n",
       "      <td>РИА</td>\n",
       "      <td>Экономика</td>\n",
       "      <td>https://ria.ru/20230103/kazakhstan-1842940182....</td>\n",
       "      <td>Путин и Токаев обменялись по телефону поздравл...</td>\n",
       "      <td>Владимир Путин и президент Казахстана Касым-...</td>\n",
       "      <td>['Владимир Путин', 'Касым-Жомарт Токаев', 'В м...</td>\n",
       "      <td>752</td>\n",
       "      <td>2023-01-03 14:20:00</td>\n",
       "      <td>2169.06</td>\n",
       "      <td>2169.46</td>\n",
       "      <td>...</td>\n",
       "      <td>0.40</td>\n",
       "      <td>0.018441</td>\n",
       "      <td>0.72</td>\n",
       "      <td>1.836735</td>\n",
       "      <td>-104.0</td>\n",
       "      <td>-0.145518</td>\n",
       "      <td>владимир путин президент казахстан касымжомарт...</td>\n",
       "      <td>1</td>\n",
       "      <td>1</td>\n",
       "      <td>1</td>\n",
       "    </tr>\n",
       "    <tr>\n",
       "      <th>...</th>\n",
       "      <td>...</td>\n",
       "      <td>...</td>\n",
       "      <td>...</td>\n",
       "      <td>...</td>\n",
       "      <td>...</td>\n",
       "      <td>...</td>\n",
       "      <td>...</td>\n",
       "      <td>...</td>\n",
       "      <td>...</td>\n",
       "      <td>...</td>\n",
       "      <td>...</td>\n",
       "      <td>...</td>\n",
       "      <td>...</td>\n",
       "      <td>...</td>\n",
       "      <td>...</td>\n",
       "      <td>...</td>\n",
       "      <td>...</td>\n",
       "      <td>...</td>\n",
       "      <td>...</td>\n",
       "      <td>...</td>\n",
       "      <td>...</td>\n",
       "    </tr>\n",
       "    <tr>\n",
       "      <th>13299</th>\n",
       "      <td>Интерфакс</td>\n",
       "      <td>ЭКОНОМИКА</td>\n",
       "      <td>https://www.interfax.ru/business/926333</td>\n",
       "      <td>FESCO и Liaoning Port будут развивать перевозк...</td>\n",
       "      <td>- Транспортная группа FESCO (головная компан...</td>\n",
       "      <td>['FESCO', 'ВМТП', 'ДВМП', 'Подмосковье', 'Кита...</td>\n",
       "      <td>918</td>\n",
       "      <td>2023-10-17 18:21:00</td>\n",
       "      <td>3249.29</td>\n",
       "      <td>3247.15</td>\n",
       "      <td>...</td>\n",
       "      <td>-2.14</td>\n",
       "      <td>-0.065861</td>\n",
       "      <td>-0.08</td>\n",
       "      <td>-0.304646</td>\n",
       "      <td>-29.0</td>\n",
       "      <td>-0.029417</td>\n",
       "      <td>транспортный группа fesco группа компания порт...</td>\n",
       "      <td>1</td>\n",
       "      <td>1</td>\n",
       "      <td>1</td>\n",
       "    </tr>\n",
       "    <tr>\n",
       "      <th>13300</th>\n",
       "      <td>Интерфакс</td>\n",
       "      <td>ЭКОНОМИКА</td>\n",
       "      <td>https://www.interfax.ru/business/926338</td>\n",
       "      <td>Аналитики ЦБ отметили в сентябре новый импульс...</td>\n",
       "      <td>- Экономическая активность в России в целом ...</td>\n",
       "      <td>['Банк России', 'Минэкономразвития']</td>\n",
       "      <td>2351</td>\n",
       "      <td>2023-10-17 18:33:00</td>\n",
       "      <td>3252.16</td>\n",
       "      <td>3247.15</td>\n",
       "      <td>...</td>\n",
       "      <td>-5.01</td>\n",
       "      <td>-0.154051</td>\n",
       "      <td>0.38</td>\n",
       "      <td>1.472868</td>\n",
       "      <td>-103.0</td>\n",
       "      <td>-0.104403</td>\n",
       "      <td>экономический активность россия целое оставать...</td>\n",
       "      <td>1</td>\n",
       "      <td>1</td>\n",
       "      <td>1</td>\n",
       "    </tr>\n",
       "    <tr>\n",
       "      <th>13301</th>\n",
       "      <td>РИА</td>\n",
       "      <td>Экономика</td>\n",
       "      <td>https://ria.ru/20231017/zernovye-1903437148.html</td>\n",
       "      <td>В этом году Россия поставила миллион тонн зерн...</td>\n",
       "      <td>Россия в текущем году уже поставила миллион ...</td>\n",
       "      <td>['Россия', 'Пакистан', 'Владимир Путин', 'Экон...</td>\n",
       "      <td>224</td>\n",
       "      <td>2023-10-17 18:46:00</td>\n",
       "      <td>3247.15</td>\n",
       "      <td>3246.91</td>\n",
       "      <td>...</td>\n",
       "      <td>-0.24</td>\n",
       "      <td>-0.007391</td>\n",
       "      <td>0.17</td>\n",
       "      <td>0.649351</td>\n",
       "      <td>9.0</td>\n",
       "      <td>0.009130</td>\n",
       "      <td>россия текущий год поставить миллион тонна зер...</td>\n",
       "      <td>1</td>\n",
       "      <td>1</td>\n",
       "      <td>1</td>\n",
       "    </tr>\n",
       "    <tr>\n",
       "      <th>13302</th>\n",
       "      <td>Интерфакс</td>\n",
       "      <td>ЭКОНОМИКА</td>\n",
       "      <td>https://www.interfax.ru/business/926342</td>\n",
       "      <td>Инфляция в России может превысить прогноз ЦБ в...</td>\n",
       "      <td>В ЦБ отметили преобладание проинфляционных рис...</td>\n",
       "      <td>['Банк России']</td>\n",
       "      <td>1841</td>\n",
       "      <td>2023-10-17 18:56:00</td>\n",
       "      <td>3246.83</td>\n",
       "      <td>3247.89</td>\n",
       "      <td>...</td>\n",
       "      <td>1.06</td>\n",
       "      <td>0.032647</td>\n",
       "      <td>2.56</td>\n",
       "      <td>10.130590</td>\n",
       "      <td>105.0</td>\n",
       "      <td>0.106534</td>\n",
       "      <td>цб отметить преобладание проинфляционный риск ...</td>\n",
       "      <td>1</td>\n",
       "      <td>2</td>\n",
       "      <td>1</td>\n",
       "    </tr>\n",
       "    <tr>\n",
       "      <th>13303</th>\n",
       "      <td>РИА</td>\n",
       "      <td>Экономика</td>\n",
       "      <td>https://ria.ru/20231017/brendy-1903461295.html</td>\n",
       "      <td>Стратегию развития российских брендов обсудят ...</td>\n",
       "      <td>Что Россия может предложить глобальному рынк...</td>\n",
       "      <td>['В России', 'Экономика', 'Россия', 'Бренды', ...</td>\n",
       "      <td>1551</td>\n",
       "      <td>2023-10-17 21:10:00</td>\n",
       "      <td>3247.71</td>\n",
       "      <td>3246.75</td>\n",
       "      <td>...</td>\n",
       "      <td>-0.96</td>\n",
       "      <td>-0.029559</td>\n",
       "      <td>-0.02</td>\n",
       "      <td>-0.074294</td>\n",
       "      <td>-24.0</td>\n",
       "      <td>-0.024314</td>\n",
       "      <td>россия предложить глобальный рынок выстроить с...</td>\n",
       "      <td>1</td>\n",
       "      <td>1</td>\n",
       "      <td>1</td>\n",
       "    </tr>\n",
       "  </tbody>\n",
       "</table>\n",
       "<p>13304 rows × 24 columns</p>\n",
       "</div>"
      ],
      "text/plain": [
       "         website    section  \\\n",
       "0            РИА  Экономика   \n",
       "1            РИА  Экономика   \n",
       "2      Интерфакс  ЭКОНОМИКА   \n",
       "3            РИА  Экономика   \n",
       "4            РИА  Экономика   \n",
       "...          ...        ...   \n",
       "13299  Интерфакс  ЭКОНОМИКА   \n",
       "13300  Интерфакс  ЭКОНОМИКА   \n",
       "13301        РИА  Экономика   \n",
       "13302  Интерфакс  ЭКОНОМИКА   \n",
       "13303        РИА  Экономика   \n",
       "\n",
       "                                                     url  \\\n",
       "0          https://ria.ru/20230103/banki-1842907991.html   \n",
       "1      https://ria.ru/20230103/avtomobili-1842908567....   \n",
       "2                https://www.interfax.ru/business/879539   \n",
       "3         https://ria.ru/20230103/nissan-1842909188.html   \n",
       "4      https://ria.ru/20230103/kazakhstan-1842940182....   \n",
       "...                                                  ...   \n",
       "13299            https://www.interfax.ru/business/926333   \n",
       "13300            https://www.interfax.ru/business/926338   \n",
       "13301   https://ria.ru/20231017/zernovye-1903437148.html   \n",
       "13302            https://www.interfax.ru/business/926342   \n",
       "13303     https://ria.ru/20231017/brendy-1903461295.html   \n",
       "\n",
       "                                                  header  \\\n",
       "0      Эксперт рассказал о развитии исламского банкин...   \n",
       "1      Минпромторг спрогнозировал рост производства а...   \n",
       "2      Рынок акций РФ открылся ростом индекса МосБирж...   \n",
       "3            \"АвтоВАЗу\" передадут активы Nissan в России   \n",
       "4      Путин и Токаев обменялись по телефону поздравл...   \n",
       "...                                                  ...   \n",
       "13299  FESCO и Liaoning Port будут развивать перевозк...   \n",
       "13300  Аналитики ЦБ отметили в сентябре новый импульс...   \n",
       "13301  В этом году Россия поставила миллион тонн зерн...   \n",
       "13302  Инфляция в России может превысить прогноз ЦБ в...   \n",
       "13303  Стратегию развития российских брендов обсудят ...   \n",
       "\n",
       "                                                    body  \\\n",
       "0        Порядка 10-15 филиалов исламского банкинга м...   \n",
       "1        Минпромторг прогнозирует в наступившем году ...   \n",
       "2        - Рынок акций РФ открылся во вторник ростом ...   \n",
       "3        Подведомственное Минпромторгу ФГУП \"НАМИ\" пе...   \n",
       "4        Владимир Путин и президент Казахстана Касым-...   \n",
       "...                                                  ...   \n",
       "13299    - Транспортная группа FESCO (головная компан...   \n",
       "13300    - Экономическая активность в России в целом ...   \n",
       "13301    Россия в текущем году уже поставила миллион ...   \n",
       "13302  В ЦБ отметили преобладание проинфляционных рис...   \n",
       "13303    Что Россия может предложить глобальному рынк...   \n",
       "\n",
       "                                                    tags  body_length  \\\n",
       "0             ['Экономика', 'Россия', 'Сбербанк России']         1759   \n",
       "1      ['Экономика', 'Авто', 'Денис Мантуров', 'Росси...          808   \n",
       "2                                   ['Московская биржа']         1249   \n",
       "3      ['Экономика', 'Авто', 'Денис Мантуров', 'Минис...         1414   \n",
       "4      ['Владимир Путин', 'Касым-Жомарт Токаев', 'В м...          752   \n",
       "...                                                  ...          ...   \n",
       "13299  ['FESCO', 'ВМТП', 'ДВМП', 'Подмосковье', 'Кита...          918   \n",
       "13300               ['Банк России', 'Минэкономразвития']         2351   \n",
       "13301  ['Россия', 'Пакистан', 'Владимир Путин', 'Экон...          224   \n",
       "13302                                    ['Банк России']         1841   \n",
       "13303  ['В России', 'Экономика', 'Россия', 'Бренды', ...         1551   \n",
       "\n",
       "                  datetime  imoex_price_release  imoex_price_lag_30  ...  \\\n",
       "0      2023-01-03 10:16:00              2166.77             2168.03  ...   \n",
       "1      2023-01-03 10:20:00              2166.37             2167.18  ...   \n",
       "2      2023-01-03 10:22:00              2166.08             2166.96  ...   \n",
       "3      2023-01-03 10:29:00              2168.32             2168.95  ...   \n",
       "4      2023-01-03 14:20:00              2169.06             2169.46  ...   \n",
       "...                    ...                  ...                 ...  ...   \n",
       "13299  2023-10-17 18:21:00              3249.29             3247.15  ...   \n",
       "13300  2023-10-17 18:33:00              3252.16             3247.15  ...   \n",
       "13301  2023-10-17 18:46:00              3247.15             3246.91  ...   \n",
       "13302  2023-10-17 18:56:00              3246.83             3247.89  ...   \n",
       "13303  2023-10-17 21:10:00              3247.71             3246.75  ...   \n",
       "\n",
       "       imoex_price_diff  imoex_price_diff_percent  rvi_price_diff  \\\n",
       "0                  1.26                  0.058151           -0.19   \n",
       "1                  0.81                  0.037390           -0.20   \n",
       "2                  0.88                  0.040626           -0.21   \n",
       "3                  0.63                  0.029055            0.36   \n",
       "4                  0.40                  0.018441            0.72   \n",
       "...                 ...                       ...             ...   \n",
       "13299             -2.14                 -0.065861           -0.08   \n",
       "13300             -5.01                 -0.154051            0.38   \n",
       "13301             -0.24                 -0.007391            0.17   \n",
       "13302              1.06                  0.032647            2.56   \n",
       "13303             -0.96                 -0.029559           -0.02   \n",
       "\n",
       "       rvi_price_diff_percent  usd_price_diff  usd_price_diff_percent  \\\n",
       "0                   -0.469716          -377.0               -0.535877   \n",
       "1                   -0.494438          -256.0               -0.364340   \n",
       "2                   -0.519159          -159.0               -0.226573   \n",
       "3                    0.903161            93.0                0.132760   \n",
       "4                    1.836735          -104.0               -0.145518   \n",
       "...                       ...             ...                     ...   \n",
       "13299               -0.304646           -29.0               -0.029417   \n",
       "13300                1.472868          -103.0               -0.104403   \n",
       "13301                0.649351             9.0                0.009130   \n",
       "13302               10.130590           105.0                0.106534   \n",
       "13303               -0.074294           -24.0               -0.024314   \n",
       "\n",
       "                                              text_clear  \\\n",
       "0      порядок филиал исламский банкинг мочь дополнит...   \n",
       "1      минпромторг прогнозировать наступить год увели...   \n",
       "2      рынок акция рф открыться вторник рост рублевый...   \n",
       "3      подведомственный минпромторг фгуп передавать а...   \n",
       "4      владимир путин президент казахстан касымжомарт...   \n",
       "...                                                  ...   \n",
       "13299  транспортный группа fesco группа компания порт...   \n",
       "13300  экономический активность россия целое оставать...   \n",
       "13301  россия текущий год поставить миллион тонна зер...   \n",
       "13302  цб отметить преобладание проинфляционный риск ...   \n",
       "13303  россия предложить глобальный рынок выстроить с...   \n",
       "\n",
       "       imoex_price_diff_cat  rvi_price_diff_cat  usd_price_diff_cat  \n",
       "0                         1                   1                   0  \n",
       "1                         1                   1                   0  \n",
       "2                         1                   1                   1  \n",
       "3                         1                   1                   1  \n",
       "4                         1                   1                   1  \n",
       "...                     ...                 ...                 ...  \n",
       "13299                     1                   1                   1  \n",
       "13300                     1                   1                   1  \n",
       "13301                     1                   1                   1  \n",
       "13302                     1                   2                   1  \n",
       "13303                     1                   1                   1  \n",
       "\n",
       "[13304 rows x 24 columns]"
      ]
     },
     "execution_count": 79,
     "metadata": {},
     "output_type": "execute_result"
    }
   ],
   "source": [
    "# Check 3\n",
    "data_import_from_db('global_trade_clear', conn_string)"
   ]
  }
 ],
 "metadata": {
  "kernelspec": {
   "display_name": "Python 3 (ipykernel)",
   "language": "python",
   "name": "python3"
  },
  "language_info": {
   "codemirror_mode": {
    "name": "ipython",
    "version": 3
   },
   "file_extension": ".py",
   "mimetype": "text/x-python",
   "name": "python",
   "nbconvert_exporter": "python",
   "pygments_lexer": "ipython3",
   "version": "3.11.4"
  },
  "toc": {
   "base_numbering": 1,
   "nav_menu": {},
   "number_sections": true,
   "sideBar": true,
   "skip_h1_title": false,
   "title_cell": "Table of Contents",
   "title_sidebar": "Contents",
   "toc_cell": false,
   "toc_position": {},
   "toc_section_display": true,
   "toc_window_display": false
  }
 },
 "nbformat": 4,
 "nbformat_minor": 5
}
