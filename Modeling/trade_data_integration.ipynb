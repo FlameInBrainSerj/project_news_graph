{
 "cells": [
  {
   "cell_type": "markdown",
   "metadata": {},
   "source": [
    "# Company"
   ]
  },
  {
   "cell_type": "code",
   "execution_count": 2,
   "metadata": {},
   "outputs": [
    {
     "data": {
      "text/html": [
       "<div>\n",
       "<style scoped>\n",
       "    .dataframe tbody tr th:only-of-type {\n",
       "        vertical-align: middle;\n",
       "    }\n",
       "\n",
       "    .dataframe tbody tr th {\n",
       "        vertical-align: top;\n",
       "    }\n",
       "\n",
       "    .dataframe thead th {\n",
       "        text-align: right;\n",
       "    }\n",
       "</style>\n",
       "<table border=\"1\" class=\"dataframe\">\n",
       "  <thead>\n",
       "    <tr style=\"text-align: right;\">\n",
       "      <th></th>\n",
       "      <th>website</th>\n",
       "      <th>section</th>\n",
       "      <th>url</th>\n",
       "      <th>header</th>\n",
       "      <th>body</th>\n",
       "      <th>key_words</th>\n",
       "      <th>body_length</th>\n",
       "      <th>datetime</th>\n",
       "    </tr>\n",
       "  </thead>\n",
       "  <tbody>\n",
       "    <tr>\n",
       "      <th>0</th>\n",
       "      <td>Interfax</td>\n",
       "      <td>ЭКОНОМИКА</td>\n",
       "      <td>https://www.interfax.ru/business/644973</td>\n",
       "      <td>Нефть Brent подешевела до $54,25 за баррель</td>\n",
       "      <td>- Цены на нефть снижаются в четверг после по...</td>\n",
       "      <td>[Brent]</td>\n",
       "      <td>2101</td>\n",
       "      <td>2019-01-03 09:38:00</td>\n",
       "    </tr>\n",
       "    <tr>\n",
       "      <th>1</th>\n",
       "      <td>Interfax</td>\n",
       "      <td>ЭКОНОМИКА</td>\n",
       "      <td>https://www.interfax.ru/business/644976</td>\n",
       "      <td>Рынок акций РФ открылся снижением индексов Мос...</td>\n",
       "      <td>- Рынок акций РФ на первых в новом году торг...</td>\n",
       "      <td>[рынок акций]</td>\n",
       "      <td>1961</td>\n",
       "      <td>2019-01-03 10:18:00</td>\n",
       "    </tr>\n",
       "    <tr>\n",
       "      <th>2</th>\n",
       "      <td>Interfax</td>\n",
       "      <td>ЭКОНОМИКА</td>\n",
       "      <td>https://www.interfax.ru/business/644980</td>\n",
       "      <td>Доллар в моменте обновил максимум марта 2016 г...</td>\n",
       "      <td>По данным аналитиков, доллар вырос из-за разов...</td>\n",
       "      <td>[курсы валют, рубль, евро, доллар]</td>\n",
       "      <td>1048</td>\n",
       "      <td>2019-01-03 10:42:00</td>\n",
       "    </tr>\n",
       "    <tr>\n",
       "      <th>3</th>\n",
       "      <td>Smart_Lab</td>\n",
       "      <td>Новости компаний и новости по акциям</td>\n",
       "      <td>https://smart-lab.ru/blog/514388.php</td>\n",
       "      <td>Банк Открытие и Бинбанк - процесс объединения ...</td>\n",
       "      <td>Банк \"ФК Открытие\" и Бинбанк — завершили проце...</td>\n",
       "      <td>[ФК Открытие, Бинбанк, Открытие]</td>\n",
       "      <td>882</td>\n",
       "      <td>2019-01-03 11:24:00</td>\n",
       "    </tr>\n",
       "    <tr>\n",
       "      <th>4</th>\n",
       "      <td>Ria</td>\n",
       "      <td>Экономика</td>\n",
       "      <td>https://ria.ru/20190103/1549006636.html</td>\n",
       "      <td>Рубль открыл год ростом к доллару и евро</td>\n",
       "      <td>Рубль открыл первые торги нового года уверен...</td>\n",
       "      <td>[Экономика, Россия]</td>\n",
       "      <td>375</td>\n",
       "      <td>2019-01-03 11:49:00</td>\n",
       "    </tr>\n",
       "    <tr>\n",
       "      <th>...</th>\n",
       "      <td>...</td>\n",
       "      <td>...</td>\n",
       "      <td>...</td>\n",
       "      <td>...</td>\n",
       "      <td>...</td>\n",
       "      <td>...</td>\n",
       "      <td>...</td>\n",
       "      <td>...</td>\n",
       "    </tr>\n",
       "    <tr>\n",
       "      <th>169843</th>\n",
       "      <td>Kommersant</td>\n",
       "      <td>Финансы</td>\n",
       "      <td>https://www.kommersant.ru/doc/6440789</td>\n",
       "      <td>ЦБ изучит связанные с криптоактивами трансгран...</td>\n",
       "      <td>Банк России планирует в начале 2024 года изучи...</td>\n",
       "      <td>[]</td>\n",
       "      <td>1529</td>\n",
       "      <td>2023-12-29 20:52:00</td>\n",
       "    </tr>\n",
       "    <tr>\n",
       "      <th>169844</th>\n",
       "      <td>Interfax</td>\n",
       "      <td>ЭКОНОМИКА</td>\n",
       "      <td>https://www.interfax.ru/business/938589</td>\n",
       "      <td>JD.com выиграла антимонопольное дело против ко...</td>\n",
       "      <td>- Китайская интернет-компания JD.com Inc. вы...</td>\n",
       "      <td>[Alibaba, JD.com, Tmall, Китай]</td>\n",
       "      <td>675</td>\n",
       "      <td>2023-12-29 20:52:00</td>\n",
       "    </tr>\n",
       "    <tr>\n",
       "      <th>169845</th>\n",
       "      <td>Ria</td>\n",
       "      <td>Экономика</td>\n",
       "      <td>https://ria.ru/20231229/ssha-1919057051.html</td>\n",
       "      <td>В США призвали ставить маячки на оборудование,...</td>\n",
       "      <td>Два американских эксперта в статье для New Y...</td>\n",
       "      <td>[Экономика, Китай, США, Технологии, Россия, Ap...</td>\n",
       "      <td>1773</td>\n",
       "      <td>2023-12-29 21:00:00</td>\n",
       "    </tr>\n",
       "    <tr>\n",
       "      <th>169846</th>\n",
       "      <td>Ria</td>\n",
       "      <td>Экономика</td>\n",
       "      <td>https://ria.ru/20231229/kapital-1919057431.html</td>\n",
       "      <td>Глава \"Иннопрактики\" и ее первый зам вошли в к...</td>\n",
       "      <td>Глава российского института развития \"Иннопр...</td>\n",
       "      <td>[Экономика, Технологии, Россия, Наталия Попова...</td>\n",
       "      <td>2063</td>\n",
       "      <td>2023-12-29 21:01:00</td>\n",
       "    </tr>\n",
       "    <tr>\n",
       "      <th>169847</th>\n",
       "      <td>Ria</td>\n",
       "      <td>Экономика</td>\n",
       "      <td>https://ria.ru/20231229/aktsii-1919065913.html</td>\n",
       "      <td>Сооснователь Fix Price Хачатрян продал свою долю</td>\n",
       "      <td>Сооснователь Fix Price Артем Хачатрян продал...</td>\n",
       "      <td>[Россия, Экономика, Белоруссия, Казахстан, Сер...</td>\n",
       "      <td>1001</td>\n",
       "      <td>2023-12-29 23:01:00</td>\n",
       "    </tr>\n",
       "  </tbody>\n",
       "</table>\n",
       "<p>169848 rows × 8 columns</p>\n",
       "</div>"
      ],
      "text/plain": [
       "           website                               section  \\\n",
       "0         Interfax                             ЭКОНОМИКА   \n",
       "1         Interfax                             ЭКОНОМИКА   \n",
       "2         Interfax                             ЭКОНОМИКА   \n",
       "3        Smart_Lab  Новости компаний и новости по акциям   \n",
       "4              Ria                             Экономика   \n",
       "...            ...                                   ...   \n",
       "169843  Kommersant                               Финансы   \n",
       "169844    Interfax                             ЭКОНОМИКА   \n",
       "169845         Ria                             Экономика   \n",
       "169846         Ria                             Экономика   \n",
       "169847         Ria                             Экономика   \n",
       "\n",
       "                                                    url  \\\n",
       "0               https://www.interfax.ru/business/644973   \n",
       "1               https://www.interfax.ru/business/644976   \n",
       "2               https://www.interfax.ru/business/644980   \n",
       "3                  https://smart-lab.ru/blog/514388.php   \n",
       "4               https://ria.ru/20190103/1549006636.html   \n",
       "...                                                 ...   \n",
       "169843            https://www.kommersant.ru/doc/6440789   \n",
       "169844          https://www.interfax.ru/business/938589   \n",
       "169845     https://ria.ru/20231229/ssha-1919057051.html   \n",
       "169846  https://ria.ru/20231229/kapital-1919057431.html   \n",
       "169847   https://ria.ru/20231229/aktsii-1919065913.html   \n",
       "\n",
       "                                                   header  \\\n",
       "0             Нефть Brent подешевела до $54,25 за баррель   \n",
       "1       Рынок акций РФ открылся снижением индексов Мос...   \n",
       "2       Доллар в моменте обновил максимум марта 2016 г...   \n",
       "3       Банк Открытие и Бинбанк - процесс объединения ...   \n",
       "4                Рубль открыл год ростом к доллару и евро   \n",
       "...                                                   ...   \n",
       "169843  ЦБ изучит связанные с криптоактивами трансгран...   \n",
       "169844  JD.com выиграла антимонопольное дело против ко...   \n",
       "169845  В США призвали ставить маячки на оборудование,...   \n",
       "169846  Глава \"Иннопрактики\" и ее первый зам вошли в к...   \n",
       "169847   Сооснователь Fix Price Хачатрян продал свою долю   \n",
       "\n",
       "                                                     body  \\\n",
       "0         - Цены на нефть снижаются в четверг после по...   \n",
       "1         - Рынок акций РФ на первых в новом году торг...   \n",
       "2       По данным аналитиков, доллар вырос из-за разов...   \n",
       "3       Банк \"ФК Открытие\" и Бинбанк — завершили проце...   \n",
       "4         Рубль открыл первые торги нового года уверен...   \n",
       "...                                                   ...   \n",
       "169843  Банк России планирует в начале 2024 года изучи...   \n",
       "169844    - Китайская интернет-компания JD.com Inc. вы...   \n",
       "169845    Два американских эксперта в статье для New Y...   \n",
       "169846    Глава российского института развития \"Иннопр...   \n",
       "169847    Сооснователь Fix Price Артем Хачатрян продал...   \n",
       "\n",
       "                                                key_words  body_length  \\\n",
       "0                                                 [Brent]         2101   \n",
       "1                                           [рынок акций]         1961   \n",
       "2                      [курсы валют, рубль, евро, доллар]         1048   \n",
       "3                        [ФК Открытие, Бинбанк, Открытие]          882   \n",
       "4                                     [Экономика, Россия]          375   \n",
       "...                                                   ...          ...   \n",
       "169843                                                 []         1529   \n",
       "169844                    [Alibaba, JD.com, Tmall, Китай]          675   \n",
       "169845  [Экономика, Китай, США, Технологии, Россия, Ap...         1773   \n",
       "169846  [Экономика, Технологии, Россия, Наталия Попова...         2063   \n",
       "169847  [Россия, Экономика, Белоруссия, Казахстан, Сер...         1001   \n",
       "\n",
       "                  datetime  \n",
       "0      2019-01-03 09:38:00  \n",
       "1      2019-01-03 10:18:00  \n",
       "2      2019-01-03 10:42:00  \n",
       "3      2019-01-03 11:24:00  \n",
       "4      2019-01-03 11:49:00  \n",
       "...                    ...  \n",
       "169843 2023-12-29 20:52:00  \n",
       "169844 2023-12-29 20:52:00  \n",
       "169845 2023-12-29 21:00:00  \n",
       "169846 2023-12-29 21:01:00  \n",
       "169847 2023-12-29 23:01:00  \n",
       "\n",
       "[169848 rows x 8 columns]"
      ]
     },
     "execution_count": 2,
     "metadata": {},
     "output_type": "execute_result"
    }
   ],
   "source": [
    "pd.read_parquet('../Data/trading_data_after_eda_5years.parquet')"
   ]
  },
  {
   "cell_type": "code",
   "execution_count": 1,
   "metadata": {},
   "outputs": [],
   "source": [
    "import numpy as np\n",
    "import pandas as pd\n",
    "import matplotlib.pyplot as plt\n",
    "from sqlalchemy import create_engine \n",
    "\n",
    "import re\n",
    "from tqdm import tqdm\n",
    "\n",
    "import warnings\n",
    "warnings.filterwarnings('ignore')\n",
    "\n",
    "import requests\n",
    "import datetime\n",
    "import time\n",
    "from random import uniform, randint"
   ]
  },
  {
   "cell_type": "code",
   "execution_count": 2,
   "metadata": {},
   "outputs": [],
   "source": [
    "username = '...'\n",
    "password = '...'\n",
    "host = '...'\n",
    "port = '...'\n",
    "database = '...'\n",
    "conn_string = f'postgresql://{username}:{password}@{host}:{port}/{database}'"
   ]
  },
  {
   "cell_type": "markdown",
   "metadata": {},
   "source": [
    "## Data import"
   ]
  },
  {
   "cell_type": "code",
   "execution_count": 3,
   "metadata": {},
   "outputs": [],
   "source": [
    "db = create_engine(conn_string) \n",
    "conn = db.connect() \n",
    "conn.autocommit = True\n",
    "\n",
    "companies_df = pd.read_sql_query('SELECT * FROM data.companies_tickets', conn)\n",
    "conn.close()"
   ]
  },
  {
   "cell_type": "markdown",
   "metadata": {},
   "source": [
    "## Downloading data from Moscow Exchange and enriching the existing dataset"
   ]
  },
  {
   "cell_type": "code",
   "execution_count": 4,
   "metadata": {},
   "outputs": [],
   "source": [
    "companies_string = 'http://iss.moex.com/iss/engines/stock/markets/shares/securities/{}/candles.json?from={}&till={}&interval=1'"
   ]
  },
  {
   "cell_type": "code",
   "execution_count": 5,
   "metadata": {},
   "outputs": [],
   "source": [
    "companies_df['price_release'] = np.nan\n",
    "companies_df['volume_release'] = np.nan\n",
    "companies_df['price_lag_30'] = np.nan\n",
    "companies_df['volume_lag_30'] = np.nan"
   ]
  },
  {
   "cell_type": "code",
   "execution_count": 6,
   "metadata": {},
   "outputs": [],
   "source": [
    "companies_df = companies_df.sort_values(by=['datetime'])"
   ]
  },
  {
   "cell_type": "code",
   "execution_count": 7,
   "metadata": {},
   "outputs": [
    {
     "name": "stderr",
     "output_type": "stream",
     "text": [
      "100%|████████████████████████████████████████████████████████████| 7542/7542 [09:32<00:00, 13.17it/s]\n"
     ]
    }
   ],
   "source": [
    "for i in tqdm(range(len(companies_df))):\n",
    "    start = companies_df['datetime'][i]\n",
    "    end = companies_df['datetime'][i] + datetime.timedelta(minutes=30)\n",
    "    company = companies_df['company'][i]\n",
    "    connect_timeout = 300\n",
    "    read_timeout = 120\n",
    "    n = requests.get(companies_string.format(company, start, end), timeout=(connect_timeout, read_timeout)).json()\n",
    "    try:\n",
    "        companies_df.loc[i, 'price_release'] = n['candles']['data'][0][0]\n",
    "        companies_df.loc[i, 'volume_release'] = n['candles']['data'][0][4]\n",
    "        companies_df.loc[i, 'price_lag_30'] = n['candles']['data'][-1][0]\n",
    "        companies_df.loc[i, 'volume_lag_30'] = n['candles']['data'][-1][4]\n",
    "    except IndexError:\n",
    "        continue\n",
    "#     if i % randint() == 0:\n",
    "#         delay = uniform(5, 10)\n",
    "#         time.sleep(delay)"
   ]
  },
  {
   "cell_type": "code",
   "execution_count": 8,
   "metadata": {},
   "outputs": [
    {
     "data": {
      "text/plain": [
       "website             0\n",
       "section             0\n",
       "url                 0\n",
       "header              0\n",
       "body                0\n",
       "tags              733\n",
       "body_length         0\n",
       "datetime            0\n",
       "company             0\n",
       "price_release     275\n",
       "volume_release    275\n",
       "price_lag_30      275\n",
       "volume_lag_30     275\n",
       "dtype: int64"
      ]
     },
     "execution_count": 8,
     "metadata": {},
     "output_type": "execute_result"
    }
   ],
   "source": [
    "companies_df.isna().sum()"
   ]
  },
  {
   "cell_type": "markdown",
   "metadata": {},
   "source": [
    "> **Comment:** We have 275 NAs, this is due to the fact that on that day there were certain problems with a specific instrument: trading was suspended or data was corrupted. We can’t do anything about this, so we just removed these observations"
   ]
  },
  {
   "cell_type": "code",
   "execution_count": 9,
   "metadata": {},
   "outputs": [],
   "source": [
    "companies_df = companies_df.dropna(subset=['price_release'])"
   ]
  },
  {
   "cell_type": "markdown",
   "metadata": {},
   "source": [
    "## Getting the differences"
   ]
  },
  {
   "cell_type": "code",
   "execution_count": 10,
   "metadata": {},
   "outputs": [],
   "source": [
    "companies_df['price_diff'] = companies_df['price_lag_30'] - companies_df['price_release']\n",
    "companies_df['price_diff_percent'] = companies_df['price_diff'] / companies_df['price_release'] * 100\n",
    "companies_df['volume_diff'] = companies_df['volume_lag_30'] - companies_df['volume_release']\n",
    "companies_df['volume_diff_percent'] = companies_df['volume_diff'] / companies_df['volume_release'] * 100"
   ]
  },
  {
   "cell_type": "markdown",
   "metadata": {},
   "source": [
    "## Some observations"
   ]
  },
  {
   "cell_type": "code",
   "execution_count": 11,
   "metadata": {},
   "outputs": [
    {
     "data": {
      "image/png": "[encoded data removed]",
      "text/plain": [
       "<Figure size 640x480 with 1 Axes>"
      ]
     },
     "metadata": {},
     "output_type": "display_data"
    }
   ],
   "source": [
    "plt.hist(companies_df.price_diff_percent, bins=100)\n",
    "plt.title('Distribution of relative changes in stock prices as a percentage')\n",
    "plt.show()"
   ]
  },
  {
   "cell_type": "markdown",
   "metadata": {},
   "source": [
    "> **Comment:** It is easy to see that the distribution turned out to be quite logical: symmetrical and with a strong kurtosis at zero"
   ]
  },
  {
   "cell_type": "code",
   "execution_count": 14,
   "metadata": {},
   "outputs": [
    {
     "data": {
      "image/png": "[encoded data removed]",
      "text/plain": [
       "<Figure size 640x480 with 1 Axes>"
      ]
     },
     "metadata": {},
     "output_type": "display_data"
    }
   ],
   "source": [
    "plt.hist(np.log(companies_df.volume_diff_percent+0.1), bins=100)\n",
    "plt.title('Distribution of the logarithm of the relative change in stock trading volume as a percentage')\n",
    "plt.show()"
   ]
  },
  {
   "cell_type": "markdown",
   "metadata": {},
   "source": [
    "> **Comment:** We found that the relative change in stock trading volume has approximately a log-normal distribution"
   ]
  },
  {
   "cell_type": "markdown",
   "metadata": {},
   "source": [
    "## Export and Check"
   ]
  },
  {
   "cell_type": "code",
   "execution_count": 16,
   "metadata": {},
   "outputs": [],
   "source": [
    "db = create_engine(conn_string) \n",
    "conn = db.connect() \n",
    "conn.autocommit = True\n",
    "companies_df.to_sql('companies_trade', con=conn, if_exists='replace', index=False) \n",
    "conn.close()"
   ]
  },
  {
   "cell_type": "code",
   "execution_count": 18,
   "metadata": {},
   "outputs": [],
   "source": [
    "db = create_engine(conn_string) \n",
    "conn = db.connect() \n",
    "conn.autocommit = True\n",
    "\n",
    "dataframe = pd.read_sql_query('SELECT * FROM data.companies_trade', conn)\n",
    "conn.close()\n",
    "\n",
    "print(dataframe.shape)\n",
    "dataframe.head()"
   ]
  },
  {
   "cell_type": "markdown",
   "metadata": {},
   "source": [
    "# Industry"
   ]
  },
  {
   "cell_type": "markdown",
   "metadata": {},
   "source": [
    "## Data import"
   ]
  },
  {
   "cell_type": "code",
   "execution_count": 19,
   "metadata": {},
   "outputs": [],
   "source": [
    "db = create_engine(conn_string) \n",
    "conn = db.connect() \n",
    "conn.autocommit = True\n",
    "\n",
    "ind_df = pd.read_sql_query('SELECT * FROM data.industries_tickets', conn)\n",
    "conn.close()"
   ]
  },
  {
   "cell_type": "markdown",
   "metadata": {},
   "source": [
    "## Downloading data from Moscow Exchange and enriching the existing dataset"
   ]
  },
  {
   "cell_type": "code",
   "execution_count": 20,
   "metadata": {},
   "outputs": [],
   "source": [
    "ind_string = 'http://iss.moex.com/iss/engines/stock/markets/index/boards/SNDX/securities/{}/candles.json?from={}&till={}&interval=1'"
   ]
  },
  {
   "cell_type": "code",
   "execution_count": 21,
   "metadata": {},
   "outputs": [],
   "source": [
    "ind_df['price_release'] = np.nan\n",
    "ind_df['volume_release'] = np.nan\n",
    "ind_df['price_lag_30'] = np.nan\n",
    "ind_df['volume_lag_30'] = np.nan"
   ]
  },
  {
   "cell_type": "code",
   "execution_count": 22,
   "metadata": {},
   "outputs": [],
   "source": [
    "ind_df = ind_df.sort_values(by=['datetime'])"
   ]
  },
  {
   "cell_type": "code",
   "execution_count": 23,
   "metadata": {},
   "outputs": [
    {
     "name": "stderr",
     "output_type": "stream",
     "text": [
      "100%|████████████████████████████████████████████████████████████| 6228/6228 [08:32<00:00, 12.15it/s]\n"
     ]
    }
   ],
   "source": [
    "for i in tqdm(range(len(ind_df))):\n",
    "    start = ind_df['datetime'][i]\n",
    "    end = ind_df['datetime'][i] + datetime.timedelta(minutes=30)\n",
    "    ind = ind_df['industry'][i]\n",
    "    connect_timeout = 100000\n",
    "    read_timeout = 100000\n",
    "    n = requests.get(ind_string.format(ind, start, end), timeout=(connect_timeout, read_timeout)).json()\n",
    "    try:\n",
    "        ind_df.loc[i, 'price_release'] = n['candles']['data'][0][0]\n",
    "        ind_df.loc[i, 'volume_release'] = n['candles']['data'][0][4]\n",
    "        ind_df.loc[i, 'price_lag_30'] = n['candles']['data'][-1][0]\n",
    "        ind_df.loc[i, 'volume_lag_30'] = n['candles']['data'][-1][4]\n",
    "    except IndexError:\n",
    "        continue\n",
    "#     delay = uniform(0, 3)\n",
    "#     time.sleep(delay)"
   ]
  },
  {
   "cell_type": "code",
   "execution_count": 24,
   "metadata": {},
   "outputs": [
    {
     "data": {
      "text/plain": [
       "website              0\n",
       "section              0\n",
       "url                  0\n",
       "header               0\n",
       "body                 0\n",
       "tags               564\n",
       "body_length          0\n",
       "datetime             0\n",
       "industry             0\n",
       "price_release     1473\n",
       "volume_release    1473\n",
       "price_lag_30      1473\n",
       "volume_lag_30     1473\n",
       "dtype: int64"
      ]
     },
     "execution_count": 24,
     "metadata": {},
     "output_type": "execute_result"
    }
   ],
   "source": [
    "ind_df.isna().sum()"
   ]
  },
  {
   "cell_type": "markdown",
   "metadata": {},
   "source": [
    "> **Comment:** We got 1473 NAs, this is due to the fact that, unlike other instruments that we consider, industrial indices have a narrower time window for trading, as a result, a significant part of the observations in our sample are not suitable, since these observations do not fall into this window. We can’t do anything about this, so we just remove these observations"
   ]
  },
  {
   "cell_type": "code",
   "execution_count": 25,
   "metadata": {},
   "outputs": [],
   "source": [
    "ind_df = ind_df.dropna(subset=['price_release'])"
   ]
  },
  {
   "cell_type": "markdown",
   "metadata": {},
   "source": [
    "## Getting the differences"
   ]
  },
  {
   "cell_type": "code",
   "execution_count": 26,
   "metadata": {},
   "outputs": [],
   "source": [
    "ind_df['price_diff'] = ind_df['price_lag_30'] - ind_df['price_release']\n",
    "ind_df['price_diff_percent'] = ind_df['price_diff'] / ind_df['price_release'] * 100\n",
    "ind_df['volume_diff'] = ind_df['volume_lag_30'] - ind_df['volume_release']\n",
    "ind_df['volume_diff_percent'] = ind_df['volume_diff'] / ind_df['volume_release'] * 100"
   ]
  },
  {
   "cell_type": "markdown",
   "metadata": {},
   "source": [
    "## Some observations"
   ]
  },
  {
   "cell_type": "code",
   "execution_count": 27,
   "metadata": {},
   "outputs": [
    {
     "data": {
      "image/png": "[encoded data removed]",
      "text/plain": [
       "<Figure size 640x480 with 1 Axes>"
      ]
     },
     "metadata": {},
     "output_type": "display_data"
    }
   ],
   "source": [
    "plt.hist(ind_df.price_diff_percent, bins=100)\n",
    "plt.title('Distribution of relative changes in industry indices as a percentage')\n",
    "plt.show()"
   ]
  },
  {
   "cell_type": "markdown",
   "metadata": {},
   "source": [
    "> **Comment:** It is easy to see that the distribution turned out to be quite logical: symmetrical and with a strong kurtosis at zero"
   ]
  },
  {
   "cell_type": "code",
   "execution_count": 28,
   "metadata": {},
   "outputs": [
    {
     "data": {
      "image/png": "[encoded data removed]",
      "text/plain": [
       "<Figure size 640x480 with 1 Axes>"
      ]
     },
     "metadata": {},
     "output_type": "display_data"
    }
   ],
   "source": [
    "plt.hist(np.log(ind_df.volume_diff_percent+1), bins=100)\n",
    "plt.title('Distribution of the logarithm of the relative change in the trading volume of industry indices as a percentage')\n",
    "plt.show()"
   ]
  },
  {
   "cell_type": "markdown",
   "metadata": {},
   "source": [
    "> **Comment:** We found that the relative change in stock trading volume has approximately a log-normal distribution with a \"top\" on the left caused by zeros"
   ]
  },
  {
   "cell_type": "markdown",
   "metadata": {},
   "source": [
    "## Export and Check"
   ]
  },
  {
   "cell_type": "code",
   "execution_count": 97,
   "metadata": {},
   "outputs": [],
   "source": [
    "db = create_engine(conn_string) \n",
    "conn = db.connect() \n",
    "conn.autocommit = True\n",
    "ind_df.to_sql('industries_trade', con=conn, if_exists='replace', index=False) \n",
    "conn.close()"
   ]
  },
  {
   "cell_type": "code",
   "execution_count": 98,
   "metadata": {},
   "outputs": [
    {
     "name": "stdout",
     "output_type": "stream",
     "text": [
      "(4755, 17)\n"
     ]
    },
    {
     "data": {
      "text/html": [
       "<div>\n",
       "<style scoped>\n",
       "    .dataframe tbody tr th:only-of-type {\n",
       "        vertical-align: middle;\n",
       "    }\n",
       "\n",
       "    .dataframe tbody tr th {\n",
       "        vertical-align: top;\n",
       "    }\n",
       "\n",
       "    .dataframe thead th {\n",
       "        text-align: right;\n",
       "    }\n",
       "</style>\n",
       "<table border=\"1\" class=\"dataframe\">\n",
       "  <thead>\n",
       "    <tr style=\"text-align: right;\">\n",
       "      <th></th>\n",
       "      <th>website</th>\n",
       "      <th>section</th>\n",
       "      <th>url</th>\n",
       "      <th>header</th>\n",
       "      <th>body</th>\n",
       "      <th>tags</th>\n",
       "      <th>body_length</th>\n",
       "      <th>datetime</th>\n",
       "      <th>industry</th>\n",
       "      <th>price_release</th>\n",
       "      <th>volume_release</th>\n",
       "      <th>price_lag_30</th>\n",
       "      <th>volume_lag_30</th>\n",
       "      <th>price_diff</th>\n",
       "      <th>price_diff_percent</th>\n",
       "      <th>volume_diff</th>\n",
       "      <th>volume_diff_percent</th>\n",
       "    </tr>\n",
       "  </thead>\n",
       "  <tbody>\n",
       "    <tr>\n",
       "      <th>0</th>\n",
       "      <td>РИА</td>\n",
       "      <td>Экономика</td>\n",
       "      <td>https://ria.ru/20230103/banki-1842907991.html</td>\n",
       "      <td>Эксперт рассказал о развитии исламского банкин...</td>\n",
       "      <td>Порядка 10-15 филиалов исламского банкинга м...</td>\n",
       "      <td>['Экономика', 'Россия', 'Сбербанк России']</td>\n",
       "      <td>1759</td>\n",
       "      <td>2023-01-03 10:16:00</td>\n",
       "      <td>MOEXFN</td>\n",
       "      <td>6307.20</td>\n",
       "      <td>16806757.15</td>\n",
       "      <td>6308.77</td>\n",
       "      <td>11854100.00</td>\n",
       "      <td>1.57</td>\n",
       "      <td>0.024892</td>\n",
       "      <td>-4952657.15</td>\n",
       "      <td>-29.468250</td>\n",
       "    </tr>\n",
       "    <tr>\n",
       "      <th>1</th>\n",
       "      <td>РИА</td>\n",
       "      <td>Экономика</td>\n",
       "      <td>https://ria.ru/20230103/gazprom-1842940413.html</td>\n",
       "      <td>Экспорт \"Газпрома\" снизился до минимума с конц...</td>\n",
       "      <td>Объём экспорта \"Газпрома\" в прошедшем году с...</td>\n",
       "      <td>['Экономика', 'Газпром', 'Россия']</td>\n",
       "      <td>1299</td>\n",
       "      <td>2023-01-03 14:22:00</td>\n",
       "      <td>MOEXOG</td>\n",
       "      <td>5696.30</td>\n",
       "      <td>4451180.75</td>\n",
       "      <td>5696.72</td>\n",
       "      <td>4605859.35</td>\n",
       "      <td>0.42</td>\n",
       "      <td>0.007373</td>\n",
       "      <td>154678.60</td>\n",
       "      <td>3.475002</td>\n",
       "    </tr>\n",
       "    <tr>\n",
       "      <th>2</th>\n",
       "      <td>РИА</td>\n",
       "      <td>Экономика</td>\n",
       "      <td>https://ria.ru/20230104/shelf-1843063413.html</td>\n",
       "      <td>Ямальской шельфовой компании предоставили два ...</td>\n",
       "      <td>Правительство РФ предоставило Ямальской шель...</td>\n",
       "      <td>['Экономика', 'Карское море', 'Россия']</td>\n",
       "      <td>1719</td>\n",
       "      <td>2023-01-04 16:36:00</td>\n",
       "      <td>MOEXOG</td>\n",
       "      <td>5655.65</td>\n",
       "      <td>3325798.35</td>\n",
       "      <td>5663.65</td>\n",
       "      <td>1490555.35</td>\n",
       "      <td>8.00</td>\n",
       "      <td>0.141451</td>\n",
       "      <td>-1835243.00</td>\n",
       "      <td>-55.182029</td>\n",
       "    </tr>\n",
       "    <tr>\n",
       "      <th>3</th>\n",
       "      <td>Kommersant</td>\n",
       "      <td>Фондовый рынок</td>\n",
       "      <td>https://www.kommersant.ru/doc/5757640</td>\n",
       "      <td>Нестабильный рост</td>\n",
       "      <td>Минувший год запомнится инвесторам как время с...</td>\n",
       "      <td>None</td>\n",
       "      <td>12414</td>\n",
       "      <td>2023-01-06 10:02:00</td>\n",
       "      <td>MOEXFN</td>\n",
       "      <td>6298.36</td>\n",
       "      <td>7394623.45</td>\n",
       "      <td>6296.27</td>\n",
       "      <td>3371524.05</td>\n",
       "      <td>-2.09</td>\n",
       "      <td>-0.033183</td>\n",
       "      <td>-4023099.40</td>\n",
       "      <td>-54.405737</td>\n",
       "    </tr>\n",
       "    <tr>\n",
       "      <th>4</th>\n",
       "      <td>Kommersant</td>\n",
       "      <td>Фондовый рынок</td>\n",
       "      <td>https://www.kommersant.ru/doc/5757640</td>\n",
       "      <td>Нестабильный рост</td>\n",
       "      <td>Минувший год запомнится инвесторам как время с...</td>\n",
       "      <td>None</td>\n",
       "      <td>12414</td>\n",
       "      <td>2023-01-06 10:02:00</td>\n",
       "      <td>MOEXOG</td>\n",
       "      <td>5655.00</td>\n",
       "      <td>15940301.65</td>\n",
       "      <td>5647.93</td>\n",
       "      <td>1358915.70</td>\n",
       "      <td>-7.07</td>\n",
       "      <td>-0.125022</td>\n",
       "      <td>-14581385.95</td>\n",
       "      <td>-91.474969</td>\n",
       "    </tr>\n",
       "  </tbody>\n",
       "</table>\n",
       "</div>"
      ],
      "text/plain": [
       "      website         section  \\\n",
       "0         РИА       Экономика   \n",
       "1         РИА       Экономика   \n",
       "2         РИА       Экономика   \n",
       "3  Kommersant  Фондовый рынок   \n",
       "4  Kommersant  Фондовый рынок   \n",
       "\n",
       "                                               url  \\\n",
       "0    https://ria.ru/20230103/banki-1842907991.html   \n",
       "1  https://ria.ru/20230103/gazprom-1842940413.html   \n",
       "2    https://ria.ru/20230104/shelf-1843063413.html   \n",
       "3            https://www.kommersant.ru/doc/5757640   \n",
       "4            https://www.kommersant.ru/doc/5757640   \n",
       "\n",
       "                                              header  \\\n",
       "0  Эксперт рассказал о развитии исламского банкин...   \n",
       "1  Экспорт \"Газпрома\" снизился до минимума с конц...   \n",
       "2  Ямальской шельфовой компании предоставили два ...   \n",
       "3                                  Нестабильный рост   \n",
       "4                                  Нестабильный рост   \n",
       "\n",
       "                                                body  \\\n",
       "0    Порядка 10-15 филиалов исламского банкинга м...   \n",
       "1    Объём экспорта \"Газпрома\" в прошедшем году с...   \n",
       "2    Правительство РФ предоставило Ямальской шель...   \n",
       "3  Минувший год запомнится инвесторам как время с...   \n",
       "4  Минувший год запомнится инвесторам как время с...   \n",
       "\n",
       "                                         tags  body_length  \\\n",
       "0  ['Экономика', 'Россия', 'Сбербанк России']         1759   \n",
       "1          ['Экономика', 'Газпром', 'Россия']         1299   \n",
       "2     ['Экономика', 'Карское море', 'Россия']         1719   \n",
       "3                                        None        12414   \n",
       "4                                        None        12414   \n",
       "\n",
       "             datetime industry  price_release  volume_release  price_lag_30  \\\n",
       "0 2023-01-03 10:16:00   MOEXFN        6307.20     16806757.15       6308.77   \n",
       "1 2023-01-03 14:22:00   MOEXOG        5696.30      4451180.75       5696.72   \n",
       "2 2023-01-04 16:36:00   MOEXOG        5655.65      3325798.35       5663.65   \n",
       "3 2023-01-06 10:02:00   MOEXFN        6298.36      7394623.45       6296.27   \n",
       "4 2023-01-06 10:02:00   MOEXOG        5655.00     15940301.65       5647.93   \n",
       "\n",
       "   volume_lag_30  price_diff  price_diff_percent  volume_diff  \\\n",
       "0    11854100.00        1.57            0.024892  -4952657.15   \n",
       "1     4605859.35        0.42            0.007373    154678.60   \n",
       "2     1490555.35        8.00            0.141451  -1835243.00   \n",
       "3     3371524.05       -2.09           -0.033183  -4023099.40   \n",
       "4     1358915.70       -7.07           -0.125022 -14581385.95   \n",
       "\n",
       "   volume_diff_percent  \n",
       "0           -29.468250  \n",
       "1             3.475002  \n",
       "2           -55.182029  \n",
       "3           -54.405737  \n",
       "4           -91.474969  "
      ]
     },
     "execution_count": 98,
     "metadata": {},
     "output_type": "execute_result"
    }
   ],
   "source": [
    "db = create_engine(conn_string) \n",
    "conn = db.connect() \n",
    "conn.autocommit = True\n",
    "\n",
    "dataframe = pd.read_sql_query('SELECT * FROM industries_trade', conn)\n",
    "conn.close()\n",
    "\n",
    "print(dataframe.shape)\n",
    "dataframe.head()"
   ]
  },
  {
   "cell_type": "markdown",
   "metadata": {},
   "source": [
    "# MOEX, RVI and RUNUSD futures"
   ]
  },
  {
   "cell_type": "markdown",
   "metadata": {},
   "source": [
    "## Data import"
   ]
  },
  {
   "cell_type": "code",
   "execution_count": 30,
   "metadata": {},
   "outputs": [],
   "source": [
    "db = create_engine(conn_string) \n",
    "conn = db.connect() \n",
    "conn.autocommit = True\n",
    "\n",
    "global_df = pd.read_sql_query('SELECT * FROM data.global_tickets', conn)\n",
    "conn.close()"
   ]
  },
  {
   "cell_type": "markdown",
   "metadata": {},
   "source": [
    "## Downloading data from Moscow Exchange and enriching the existing dataset"
   ]
  },
  {
   "cell_type": "code",
   "execution_count": 31,
   "metadata": {},
   "outputs": [],
   "source": [
    "global_moex = 'http://iss.moex.com/iss/engines/stock/markets/index/boards/SNDX/securities/IMOEX2/candles.json?from={}&till={}&interval=1'\n",
    "global_rvi = 'http://iss.moex.com/iss/engines/stock/markets/index/boards/RTSI/securities/RVI/candles.json?from={}&till={}&interval=1'\n",
    "global_usd_rub_fut = 'http://iss.moex.com/iss/engines/futures/markets/forts/boards/RFUD/securities/{}/candles.json?from={}&till={}&interval=1'"
   ]
  },
  {
   "cell_type": "code",
   "execution_count": 32,
   "metadata": {},
   "outputs": [],
   "source": [
    "global_df['imoex_price_release'] = np.nan\n",
    "# global_df['imoex_volume_release'] = np.nan\n",
    "global_df['imoex_price_lag_30'] = np.nan\n",
    "# global_df['imoex_volume_lag_30'] = np.nan\n",
    "\n",
    "global_df['rvi_price_release'] = np.nan\n",
    "global_df['rvi_price_lag_30'] = np.nan\n",
    "\n",
    "global_df['usd_price_release'] = np.nan\n",
    "global_df['usd_price_lag_30'] = np.nan"
   ]
  },
  {
   "cell_type": "code",
   "execution_count": 33,
   "metadata": {},
   "outputs": [],
   "source": [
    "global_df = global_df.sort_values(by=['datetime'])"
   ]
  },
  {
   "cell_type": "code",
   "execution_count": 34,
   "metadata": {},
   "outputs": [
    {
     "name": "stderr",
     "output_type": "stream",
     "text": [
      "100%|██████████████████████████████████████████████████████████| 13326/13326 [49:38<00:00,  4.47it/s]\n"
     ]
    }
   ],
   "source": [
    "for i in tqdm(range(len(global_df))):\n",
    "    start = global_df['datetime'][i]\n",
    "    end = global_df['datetime'][i] + datetime.timedelta(minutes=30)\n",
    "    connect_timeout = 300\n",
    "    read_timeout = 120\n",
    "    n = requests.get(global_moex.format(start, end), timeout=(connect_timeout, read_timeout)).json()\n",
    "    try:\n",
    "        global_df.loc[i, 'imoex_price_release'] = n['candles']['data'][0][0]\n",
    "#         global_df.loc[i, 'imoex_volume_release'] = n['candles']['data'][0][4]\n",
    "        global_df.loc[i, 'imoex_price_lag_30'] = n['candles']['data'][-1][0]\n",
    "#         global_df.loc[i, 'imoex_volume_lag_30'] = n['candles']['data'][-1][4]\n",
    "    except IndexError:\n",
    "        continue\n",
    "    n = requests.get(global_rvi.format(start, end), timeout=(connect_timeout, read_timeout)).json()\n",
    "    try:\n",
    "        global_df.loc[i, 'rvi_price_release'] = n['candles']['data'][0][0]\n",
    "        global_df.loc[i, 'rvi_price_lag_30'] = n['candles']['data'][-1][0]\n",
    "    except IndexError:\n",
    "        continue\n",
    "    if str(start) < '2023-03-16':\n",
    "        n = requests.get(global_usd_rub_fut.format('SiH3', start, end), timeout=(connect_timeout, read_timeout)).json()\n",
    "        try:\n",
    "            global_df.loc[i, 'usd_price_release'] = n['candles']['data'][0][0]\n",
    "            global_df.loc[i, 'usd_price_lag_30'] = n['candles']['data'][-1][0]\n",
    "        except IndexError:\n",
    "            continue\n",
    "    elif str(start) < '2023-06-15':\n",
    "        n = requests.get(global_usd_rub_fut.format('SiM3', start, end), timeout=(connect_timeout, read_timeout)).json()\n",
    "        try:\n",
    "            global_df.loc[i, 'usd_price_release'] = n['candles']['data'][0][0]\n",
    "            global_df.loc[i, 'usd_price_lag_30'] = n['candles']['data'][-1][0]\n",
    "        except IndexError:\n",
    "            continue\n",
    "    elif str(start) < '2023-09-21':\n",
    "        n = requests.get(global_usd_rub_fut.format('SiU3', start, end), timeout=(connect_timeout, read_timeout)).json()\n",
    "        try:\n",
    "            global_df.loc[i, 'usd_price_release'] = n['candles']['data'][0][0]\n",
    "            global_df.loc[i, 'usd_price_lag_30'] = n['candles']['data'][-1][0]\n",
    "        except IndexError:\n",
    "            continue\n",
    "    else:\n",
    "        n = requests.get(global_usd_rub_fut.format('SiZ3', start, end), timeout=(connect_timeout, read_timeout)).json()\n",
    "        try:\n",
    "            global_df.loc[i, 'usd_price_release'] = n['candles']['data'][0][0]\n",
    "            global_df.loc[i, 'usd_price_lag_30'] = n['candles']['data'][-1][0]\n",
    "        except IndexError:\n",
    "            continue\n",
    "#     delay = randint(1,2)\n",
    "#     time.sleep(delay)"
   ]
  },
  {
   "cell_type": "code",
   "execution_count": 35,
   "metadata": {},
   "outputs": [
    {
     "data": {
      "text/plain": [
       "website                   0\n",
       "section                   0\n",
       "url                       0\n",
       "header                    0\n",
       "body                      0\n",
       "tags                   1034\n",
       "body_length               0\n",
       "datetime                  0\n",
       "imoex_price_release       0\n",
       "imoex_price_lag_30        0\n",
       "rvi_price_release        20\n",
       "rvi_price_lag_30         20\n",
       "usd_price_release        22\n",
       "usd_price_lag_30         22\n",
       "dtype: int64"
      ]
     },
     "execution_count": 35,
     "metadata": {},
     "output_type": "execute_result"
    }
   ],
   "source": [
    "global_df.isna().sum()"
   ]
  },
  {
   "cell_type": "markdown",
   "metadata": {},
   "source": [
    "> **Comment:** Almost no NAs, nice :)"
   ]
  },
  {
   "cell_type": "code",
   "execution_count": 36,
   "metadata": {},
   "outputs": [],
   "source": [
    "global_df = global_df.dropna(subset=['usd_price_release'])"
   ]
  },
  {
   "cell_type": "markdown",
   "metadata": {},
   "source": [
    "## Getting the differences"
   ]
  },
  {
   "cell_type": "code",
   "execution_count": 37,
   "metadata": {},
   "outputs": [],
   "source": [
    "global_df['imoex_price_diff'] = global_df['imoex_price_lag_30'] - global_df['imoex_price_release']\n",
    "global_df['imoex_price_diff_percent'] = global_df['imoex_price_diff'] / global_df['imoex_price_release'] * 100\n",
    "# global_df['imoex_volume_diff'] = global_df['imoex_volume_lag_30'] - global_df['imoex_volume_release']\n",
    "# global_df['imoex_volume_diff_percent'] = global_df['imoex_volume_diff'] / global_df['imoex_volume_release'] * 100\n",
    "\n",
    "global_df['rvi_price_diff'] = global_df['rvi_price_lag_30'] - global_df['rvi_price_release']\n",
    "global_df['rvi_price_diff_percent'] = global_df['rvi_price_diff'] / global_df['rvi_price_release'] * 100\n",
    "\n",
    "global_df['usd_price_diff'] = global_df['usd_price_lag_30'] - global_df['usd_price_release']\n",
    "global_df['usd_price_diff_percent'] = global_df['usd_price_diff'] / global_df['usd_price_release'] * 100"
   ]
  },
  {
   "cell_type": "markdown",
   "metadata": {},
   "source": [
    "## Some observations"
   ]
  },
  {
   "cell_type": "code",
   "execution_count": 38,
   "metadata": {},
   "outputs": [
    {
     "data": {
      "image/png": "[encoded data removed]",
      "text/plain": [
       "<Figure size 640x480 with 1 Axes>"
      ]
     },
     "metadata": {},
     "output_type": "display_data"
    }
   ],
   "source": [
    "plt.hist(global_df.imoex_price_diff_percent, bins=100)\n",
    "plt.title('Distribution of relative changes in the MOEX index as a percentage')\n",
    "plt.show()"
   ]
  },
  {
   "cell_type": "markdown",
   "metadata": {},
   "source": [
    "> **Comment:** It is easy to see that the distribution turned out to be quite logical: symmetrical and with a strong kurtosis at zero"
   ]
  },
  {
   "cell_type": "code",
   "execution_count": 39,
   "metadata": {},
   "outputs": [
    {
     "data": {
      "image/png": "[encoded data removed]",
      "text/plain": [
       "<Figure size 640x480 with 1 Axes>"
      ]
     },
     "metadata": {},
     "output_type": "display_data"
    }
   ],
   "source": [
    "plt.hist(global_df.rvi_price_diff_percent, bins=100)\n",
    "plt.title('Distribution of relative change in volatility index as a percentage')\n",
    "plt.show()"
   ]
  },
  {
   "cell_type": "markdown",
   "metadata": {},
   "source": [
    "> **Comment:** The distribution turned out to be almost symmetrical (though with some very small outliers) and with a very strong kurtosis at zero"
   ]
  },
  {
   "cell_type": "code",
   "execution_count": 40,
   "metadata": {},
   "outputs": [
    {
     "data": {
      "image/png": "[encoded data removed]",
      "text/plain": [
       "<Figure size 640x480 with 1 Axes>"
      ]
     },
     "metadata": {},
     "output_type": "display_data"
    }
   ],
   "source": [
    "plt.hist(global_df.usd_price_diff_percent, bins=100)\n",
    "plt.title('Distribution of relative change in RUBUSD futures as a percentage')\n",
    "plt.show()"
   ]
  },
  {
   "cell_type": "markdown",
   "metadata": {},
   "source": [
    "> **Comment:** It is easy to see that the distribution turned out to be quite logical: symmetrical and with a strong kurtosis at zero\n",
    "\n",
    "> **P.S.** We took futures because it has a wider trading window than spot RUBUSD"
   ]
  },
  {
   "cell_type": "markdown",
   "metadata": {},
   "source": [
    "## Export and Check"
   ]
  },
  {
   "cell_type": "code",
   "execution_count": 99,
   "metadata": {},
   "outputs": [],
   "source": [
    "db = create_engine(conn_string) \n",
    "conn = db.connect() \n",
    "conn.autocommit = True\n",
    "global_df.to_sql('global_trade', con=conn, if_exists='replace', index=False) \n",
    "conn.close()"
   ]
  },
  {
   "cell_type": "code",
   "execution_count": 102,
   "metadata": {},
   "outputs": [
    {
     "name": "stdout",
     "output_type": "stream",
     "text": [
      "(13304, 20)\n"
     ]
    },
    {
     "data": {
      "text/html": [
       "<div>\n",
       "<style scoped>\n",
       "    .dataframe tbody tr th:only-of-type {\n",
       "        vertical-align: middle;\n",
       "    }\n",
       "\n",
       "    .dataframe tbody tr th {\n",
       "        vertical-align: top;\n",
       "    }\n",
       "\n",
       "    .dataframe thead th {\n",
       "        text-align: right;\n",
       "    }\n",
       "</style>\n",
       "<table border=\"1\" class=\"dataframe\">\n",
       "  <thead>\n",
       "    <tr style=\"text-align: right;\">\n",
       "      <th></th>\n",
       "      <th>website</th>\n",
       "      <th>section</th>\n",
       "      <th>url</th>\n",
       "      <th>header</th>\n",
       "      <th>body</th>\n",
       "      <th>tags</th>\n",
       "      <th>body_length</th>\n",
       "      <th>datetime</th>\n",
       "      <th>imoex_price_release</th>\n",
       "      <th>imoex_price_lag_30</th>\n",
       "      <th>rvi_price_release</th>\n",
       "      <th>rvi_price_lag_30</th>\n",
       "      <th>usd_price_release</th>\n",
       "      <th>usd_price_lag_30</th>\n",
       "      <th>imoex_price_diff</th>\n",
       "      <th>imoex_price_diff_percent</th>\n",
       "      <th>rvi_price_diff</th>\n",
       "      <th>rvi_price_diff_percent</th>\n",
       "      <th>usd_price_diff</th>\n",
       "      <th>usd_price_diff_percent</th>\n",
       "    </tr>\n",
       "  </thead>\n",
       "  <tbody>\n",
       "    <tr>\n",
       "      <th>0</th>\n",
       "      <td>РИА</td>\n",
       "      <td>Экономика</td>\n",
       "      <td>https://ria.ru/20230103/banki-1842907991.html</td>\n",
       "      <td>Эксперт рассказал о развитии исламского банкин...</td>\n",
       "      <td>Порядка 10-15 филиалов исламского банкинга м...</td>\n",
       "      <td>['Экономика', 'Россия', 'Сбербанк России']</td>\n",
       "      <td>1759</td>\n",
       "      <td>2023-01-03 10:16:00</td>\n",
       "      <td>2166.77</td>\n",
       "      <td>2168.03</td>\n",
       "      <td>40.45</td>\n",
       "      <td>40.26</td>\n",
       "      <td>70352.0</td>\n",
       "      <td>69975.0</td>\n",
       "      <td>1.26</td>\n",
       "      <td>0.058151</td>\n",
       "      <td>-0.19</td>\n",
       "      <td>-0.469716</td>\n",
       "      <td>-377.0</td>\n",
       "      <td>-0.535877</td>\n",
       "    </tr>\n",
       "    <tr>\n",
       "      <th>1</th>\n",
       "      <td>РИА</td>\n",
       "      <td>Экономика</td>\n",
       "      <td>https://ria.ru/20230103/avtomobili-1842908567....</td>\n",
       "      <td>Минпромторг спрогнозировал рост производства а...</td>\n",
       "      <td>Минпромторг прогнозирует в наступившем году ...</td>\n",
       "      <td>['Экономика', 'Авто', 'Денис Мантуров', 'Росси...</td>\n",
       "      <td>808</td>\n",
       "      <td>2023-01-03 10:20:00</td>\n",
       "      <td>2166.37</td>\n",
       "      <td>2167.18</td>\n",
       "      <td>40.45</td>\n",
       "      <td>40.25</td>\n",
       "      <td>70264.0</td>\n",
       "      <td>70008.0</td>\n",
       "      <td>0.81</td>\n",
       "      <td>0.037390</td>\n",
       "      <td>-0.20</td>\n",
       "      <td>-0.494438</td>\n",
       "      <td>-256.0</td>\n",
       "      <td>-0.364340</td>\n",
       "    </tr>\n",
       "    <tr>\n",
       "      <th>2</th>\n",
       "      <td>Интерфакс</td>\n",
       "      <td>ЭКОНОМИКА</td>\n",
       "      <td>https://www.interfax.ru/business/879539</td>\n",
       "      <td>Рынок акций РФ открылся ростом индекса МосБирж...</td>\n",
       "      <td>- Рынок акций РФ открылся во вторник ростом ...</td>\n",
       "      <td>['Московская биржа']</td>\n",
       "      <td>1249</td>\n",
       "      <td>2023-01-03 10:22:00</td>\n",
       "      <td>2166.08</td>\n",
       "      <td>2166.96</td>\n",
       "      <td>40.45</td>\n",
       "      <td>40.24</td>\n",
       "      <td>70176.0</td>\n",
       "      <td>70017.0</td>\n",
       "      <td>0.88</td>\n",
       "      <td>0.040626</td>\n",
       "      <td>-0.21</td>\n",
       "      <td>-0.519159</td>\n",
       "      <td>-159.0</td>\n",
       "      <td>-0.226573</td>\n",
       "    </tr>\n",
       "    <tr>\n",
       "      <th>3</th>\n",
       "      <td>РИА</td>\n",
       "      <td>Экономика</td>\n",
       "      <td>https://ria.ru/20230103/nissan-1842909188.html</td>\n",
       "      <td>\"АвтоВАЗу\" передадут активы Nissan в России</td>\n",
       "      <td>Подведомственное Минпромторгу ФГУП \"НАМИ\" пе...</td>\n",
       "      <td>['Экономика', 'Авто', 'Денис Мантуров', 'Минис...</td>\n",
       "      <td>1414</td>\n",
       "      <td>2023-01-03 10:29:00</td>\n",
       "      <td>2168.32</td>\n",
       "      <td>2168.95</td>\n",
       "      <td>39.86</td>\n",
       "      <td>40.22</td>\n",
       "      <td>70051.0</td>\n",
       "      <td>70144.0</td>\n",
       "      <td>0.63</td>\n",
       "      <td>0.029055</td>\n",
       "      <td>0.36</td>\n",
       "      <td>0.903161</td>\n",
       "      <td>93.0</td>\n",
       "      <td>0.132760</td>\n",
       "    </tr>\n",
       "    <tr>\n",
       "      <th>4</th>\n",
       "      <td>Kommersant</td>\n",
       "      <td>Финансы</td>\n",
       "      <td>https://www.kommersant.ru/doc/5757823</td>\n",
       "      <td>Индекс Мосбиржи растет на 0,5% на первой торго...</td>\n",
       "      <td>Индекс Московской биржи на открытии торгов рас...</td>\n",
       "      <td>None</td>\n",
       "      <td>598</td>\n",
       "      <td>2023-01-03 10:31:00</td>\n",
       "      <td>2168.03</td>\n",
       "      <td>2170.54</td>\n",
       "      <td>39.89</td>\n",
       "      <td>40.13</td>\n",
       "      <td>69940.0</td>\n",
       "      <td>70053.0</td>\n",
       "      <td>2.51</td>\n",
       "      <td>0.115773</td>\n",
       "      <td>0.24</td>\n",
       "      <td>0.601655</td>\n",
       "      <td>113.0</td>\n",
       "      <td>0.161567</td>\n",
       "    </tr>\n",
       "  </tbody>\n",
       "</table>\n",
       "</div>"
      ],
      "text/plain": [
       "      website    section                                                url  \\\n",
       "0         РИА  Экономика      https://ria.ru/20230103/banki-1842907991.html   \n",
       "1         РИА  Экономика  https://ria.ru/20230103/avtomobili-1842908567....   \n",
       "2   Интерфакс  ЭКОНОМИКА            https://www.interfax.ru/business/879539   \n",
       "3         РИА  Экономика     https://ria.ru/20230103/nissan-1842909188.html   \n",
       "4  Kommersant    Финансы              https://www.kommersant.ru/doc/5757823   \n",
       "\n",
       "                                              header  \\\n",
       "0  Эксперт рассказал о развитии исламского банкин...   \n",
       "1  Минпромторг спрогнозировал рост производства а...   \n",
       "2  Рынок акций РФ открылся ростом индекса МосБирж...   \n",
       "3        \"АвтоВАЗу\" передадут активы Nissan в России   \n",
       "4  Индекс Мосбиржи растет на 0,5% на первой торго...   \n",
       "\n",
       "                                                body  \\\n",
       "0    Порядка 10-15 филиалов исламского банкинга м...   \n",
       "1    Минпромторг прогнозирует в наступившем году ...   \n",
       "2    - Рынок акций РФ открылся во вторник ростом ...   \n",
       "3    Подведомственное Минпромторгу ФГУП \"НАМИ\" пе...   \n",
       "4  Индекс Московской биржи на открытии торгов рас...   \n",
       "\n",
       "                                                tags  body_length  \\\n",
       "0         ['Экономика', 'Россия', 'Сбербанк России']         1759   \n",
       "1  ['Экономика', 'Авто', 'Денис Мантуров', 'Росси...          808   \n",
       "2                               ['Московская биржа']         1249   \n",
       "3  ['Экономика', 'Авто', 'Денис Мантуров', 'Минис...         1414   \n",
       "4                                               None          598   \n",
       "\n",
       "             datetime  imoex_price_release  imoex_price_lag_30  \\\n",
       "0 2023-01-03 10:16:00              2166.77             2168.03   \n",
       "1 2023-01-03 10:20:00              2166.37             2167.18   \n",
       "2 2023-01-03 10:22:00              2166.08             2166.96   \n",
       "3 2023-01-03 10:29:00              2168.32             2168.95   \n",
       "4 2023-01-03 10:31:00              2168.03             2170.54   \n",
       "\n",
       "   rvi_price_release  rvi_price_lag_30  usd_price_release  usd_price_lag_30  \\\n",
       "0              40.45             40.26            70352.0           69975.0   \n",
       "1              40.45             40.25            70264.0           70008.0   \n",
       "2              40.45             40.24            70176.0           70017.0   \n",
       "3              39.86             40.22            70051.0           70144.0   \n",
       "4              39.89             40.13            69940.0           70053.0   \n",
       "\n",
       "   imoex_price_diff  imoex_price_diff_percent  rvi_price_diff  \\\n",
       "0              1.26                  0.058151           -0.19   \n",
       "1              0.81                  0.037390           -0.20   \n",
       "2              0.88                  0.040626           -0.21   \n",
       "3              0.63                  0.029055            0.36   \n",
       "4              2.51                  0.115773            0.24   \n",
       "\n",
       "   rvi_price_diff_percent  usd_price_diff  usd_price_diff_percent  \n",
       "0               -0.469716          -377.0               -0.535877  \n",
       "1               -0.494438          -256.0               -0.364340  \n",
       "2               -0.519159          -159.0               -0.226573  \n",
       "3                0.903161            93.0                0.132760  \n",
       "4                0.601655           113.0                0.161567  "
      ]
     },
     "execution_count": 102,
     "metadata": {},
     "output_type": "execute_result"
    }
   ],
   "source": [
    "db = create_engine(conn_string) \n",
    "conn = db.connect() \n",
    "conn.autocommit = True\n",
    "\n",
    "dataframe = pd.read_sql_query('SELECT * FROM global_trade', conn)\n",
    "conn.close()\n",
    "\n",
    "print(dataframe.shape)\n",
    "dataframe.head()"
   ]
  }
 ],
 "metadata": {
  "kernelspec": {
   "display_name": "Python 3 (ipykernel)",
   "language": "python",
   "name": "python3"
  },
  "language_info": {
   "codemirror_mode": {
    "name": "ipython",
    "version": 3
   },
   "file_extension": ".py",
   "mimetype": "text/x-python",
   "name": "python",
   "nbconvert_exporter": "python",
   "pygments_lexer": "ipython3",
   "version": "3.11.4"
  },
  "toc": {
   "base_numbering": 1,
   "nav_menu": {},
   "number_sections": true,
   "sideBar": true,
   "skip_h1_title": false,
   "title_cell": "Table of Contents",
   "title_sidebar": "Contents",
   "toc_cell": false,
   "toc_position": {},
   "toc_section_display": true,
   "toc_window_display": false
  }
 },
 "nbformat": 4,
 "nbformat_minor": 2
}
