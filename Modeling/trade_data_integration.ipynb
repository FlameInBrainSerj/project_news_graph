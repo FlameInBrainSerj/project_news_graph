{
 "cells": [
  {
   "cell_type": "markdown",
   "metadata": {},
   "source": [
    "# Цены акций компаний и их объем"
   ]
  },
  {
   "cell_type": "code",
   "execution_count": 1,
   "metadata": {},
   "outputs": [],
   "source": [
    "import numpy as np\n",
    "import pandas as pd\n",
    "import matplotlib.pyplot as plt\n",
    "from sqlalchemy import create_engine \n",
    "\n",
    "import re\n",
    "from tqdm import tqdm\n",
    "\n",
    "import requests\n",
    "import datetime\n",
    "import time\n",
    "from random import uniform, randint"
   ]
  },
  {
   "cell_type": "code",
   "execution_count": 2,
   "metadata": {},
   "outputs": [],
   "source": [
    "username = '...'\n",
    "password = '...'\n",
    "host = '...'\n",
    "port = '...'\n",
    "database = '...'\n",
    "conn_string = f'postgresql://{username}:{password}@{host}:{port}/{database}'"
   ]
  },
  {
   "cell_type": "markdown",
   "metadata": {},
   "source": [
    "## Загрузка данных с базы данных"
   ]
  },
  {
   "cell_type": "code",
   "execution_count": 3,
   "metadata": {},
   "outputs": [],
   "source": [
    "db = create_engine(conn_string) \n",
    "conn = db.connect() \n",
    "conn.autocommit = True\n",
    "\n",
    "companies_df = pd.read_sql_query('SELECT * FROM companies_tickets', conn)\n",
    "conn.close()"
   ]
  },
  {
   "cell_type": "markdown",
   "metadata": {},
   "source": [
    "## Загрузка данных с Мосбиржи и обогащение существующего датасета"
   ]
  },
  {
   "cell_type": "code",
   "execution_count": 4,
   "metadata": {},
   "outputs": [],
   "source": [
    "companies_string = 'http://iss.moex.com/iss/engines/stock/markets/shares/securities/{}/candles.json?from={}&till={}&interval=1'"
   ]
  },
  {
   "cell_type": "code",
   "execution_count": 5,
   "metadata": {},
   "outputs": [],
   "source": [
    "companies_df['price_release'] = np.nan\n",
    "companies_df['volume_release'] = np.nan\n",
    "companies_df['price_lag_30'] = np.nan\n",
    "companies_df['volume_lag_30'] = np.nan"
   ]
  },
  {
   "cell_type": "code",
   "execution_count": 6,
   "metadata": {},
   "outputs": [],
   "source": [
    "companies_df = companies_df.sort_values(by=['datetime'])"
   ]
  },
  {
   "cell_type": "code",
   "execution_count": 7,
   "metadata": {},
   "outputs": [
    {
     "name": "stderr",
     "output_type": "stream",
     "text": [
      "100%|██████████████████████████████████████████████████████████████████████████████| 7542/7542 [11:38<00:00, 10.80it/s]\n"
     ]
    }
   ],
   "source": [
    "for i in tqdm(range(len(companies_df))):\n",
    "    start = companies_df['datetime'][i]\n",
    "    end = companies_df['datetime'][i] + datetime.timedelta(minutes=30)\n",
    "    company = companies_df['company'][i]\n",
    "    connect_timeout = 300\n",
    "    read_timeout = 120\n",
    "    n = requests.get(companies_string.format(company, start, end), timeout=(connect_timeout, read_timeout)).json()\n",
    "    try:\n",
    "        companies_df.loc[i, 'price_release'] = n['candles']['data'][0][0]\n",
    "        companies_df.loc[i, 'volume_release'] = n['candles']['data'][0][4]\n",
    "        companies_df.loc[i, 'price_lag_30'] = n['candles']['data'][-1][0]\n",
    "        companies_df.loc[i, 'volume_lag_30'] = n['candles']['data'][-1][4]\n",
    "    except IndexError:\n",
    "        continue\n",
    "#     if i % randint() == 0:\n",
    "#         delay = uniform(5, 10)\n",
    "#         time.sleep(delay)"
   ]
  },
  {
   "cell_type": "code",
   "execution_count": 8,
   "metadata": {},
   "outputs": [
    {
     "data": {
      "text/plain": [
       "website             0\n",
       "section             0\n",
       "url                 0\n",
       "header              0\n",
       "body                0\n",
       "tags              733\n",
       "body_length         0\n",
       "datetime            0\n",
       "company             0\n",
       "price_release     275\n",
       "volume_release    275\n",
       "price_lag_30      275\n",
       "volume_lag_30     275\n",
       "dtype: int64"
      ]
     },
     "execution_count": 8,
     "metadata": {},
     "output_type": "execute_result"
    }
   ],
   "source": [
    "companies_df.isna().sum()"
   ]
  },
  {
   "cell_type": "markdown",
   "metadata": {},
   "source": [
    "> **Комментарий:** У нас 275 пропусков, связано это с тем, что в этот день с конкретным инструментом были определенные проблемы: были приостановлены торги или закорраптились данные. Сделать с этим мы ничего не можем, поэтому просто убираем эти наблюдения"
   ]
  },
  {
   "cell_type": "code",
   "execution_count": 9,
   "metadata": {},
   "outputs": [],
   "source": [
    "companies_df = companies_df.dropna(subset=['price_release'])"
   ]
  },
  {
   "cell_type": "markdown",
   "metadata": {},
   "source": [
    "## Получение разниц"
   ]
  },
  {
   "cell_type": "code",
   "execution_count": 10,
   "metadata": {},
   "outputs": [],
   "source": [
    "companies_df['price_diff'] = companies_df['price_lag_30'] - companies_df['price_release']\n",
    "companies_df['price_diff_percent'] = companies_df['price_diff'] / companies_df['price_release'] * 100\n",
    "companies_df['volume_diff'] = companies_df['volume_lag_30'] - companies_df['volume_release']\n",
    "companies_df['volume_diff_percent'] = companies_df['volume_diff'] / companies_df['volume_release'] * 100"
   ]
  },
  {
   "cell_type": "markdown",
   "metadata": {},
   "source": [
    "## Немного наблюдений"
   ]
  },
  {
   "cell_type": "code",
   "execution_count": 47,
   "metadata": {},
   "outputs": [
    {
     "data": {
      "image/png": "[encoded data removed]",
      "text/plain": [
       "<Figure size 640x480 with 1 Axes>"
      ]
     },
     "metadata": {},
     "output_type": "display_data"
    }
   ],
   "source": [
    "plt.hist(companies_df.price_diff_percent, bins=100)\n",
    "plt.title('Распределение относительного изменения цен акций в процентах')\n",
    "plt.show()"
   ]
  },
  {
   "cell_type": "markdown",
   "metadata": {},
   "source": [
    "> **Комментарий:** Легко заметить, что распределение получилось вполне логичным: симметричным и с сильным эксцессом в нуле"
   ]
  },
  {
   "cell_type": "code",
   "execution_count": 29,
   "metadata": {},
   "outputs": [
    {
     "data": {
      "image/png": "[encoded data removed]",
      "text/plain": [
       "<Figure size 640x480 with 1 Axes>"
      ]
     },
     "metadata": {},
     "output_type": "display_data"
    }
   ],
   "source": [
    "plt.hist(np.log(companies_df.volume_diff_percent+0.1), bins=100)\n",
    "plt.title('Распределение логарифма относительного изменения объема торгов акций в процентах')\n",
    "plt.show()"
   ]
  },
  {
   "cell_type": "markdown",
   "metadata": {},
   "source": [
    "> **Комментарий:** Получили, что относительное изменение объема торгов акций имеет, примерно, лог-нормальное распределение"
   ]
  },
  {
   "cell_type": "markdown",
   "metadata": {},
   "source": [
    "## Выгрузка и проверка"
   ]
  },
  {
   "cell_type": "code",
   "execution_count": 31,
   "metadata": {},
   "outputs": [],
   "source": [
    "db = create_engine(conn_string) \n",
    "conn = db.connect() \n",
    "conn.autocommit = True\n",
    "companies_df.to_sql('companies_trade', con=conn, if_exists='replace', index=False) \n",
    "conn.close()"
   ]
  },
  {
   "cell_type": "code",
   "execution_count": 32,
   "metadata": {},
   "outputs": [
    {
     "name": "stdout",
     "output_type": "stream",
     "text": [
      "(7267, 17)\n"
     ]
    },
    {
     "data": {
      "text/html": [
       "<div>\n",
       "<style scoped>\n",
       "    .dataframe tbody tr th:only-of-type {\n",
       "        vertical-align: middle;\n",
       "    }\n",
       "\n",
       "    .dataframe tbody tr th {\n",
       "        vertical-align: top;\n",
       "    }\n",
       "\n",
       "    .dataframe thead th {\n",
       "        text-align: right;\n",
       "    }\n",
       "</style>\n",
       "<table border=\"1\" class=\"dataframe\">\n",
       "  <thead>\n",
       "    <tr style=\"text-align: right;\">\n",
       "      <th></th>\n",
       "      <th>website</th>\n",
       "      <th>section</th>\n",
       "      <th>url</th>\n",
       "      <th>header</th>\n",
       "      <th>body</th>\n",
       "      <th>tags</th>\n",
       "      <th>body_length</th>\n",
       "      <th>datetime</th>\n",
       "      <th>company</th>\n",
       "      <th>price_release</th>\n",
       "      <th>volume_release</th>\n",
       "      <th>price_lag_30</th>\n",
       "      <th>volume_lag_30</th>\n",
       "      <th>price_diff</th>\n",
       "      <th>price_diff_percent</th>\n",
       "      <th>volume_diff</th>\n",
       "      <th>volume_diff_percent</th>\n",
       "    </tr>\n",
       "  </thead>\n",
       "  <tbody>\n",
       "    <tr>\n",
       "      <th>0</th>\n",
       "      <td>РИА</td>\n",
       "      <td>Экономика</td>\n",
       "      <td>https://ria.ru/20230103/banki-1842907991.html</td>\n",
       "      <td>Эксперт рассказал о развитии исламского банкин...</td>\n",
       "      <td>Порядка 10-15 филиалов исламского банкинга м...</td>\n",
       "      <td>['Экономика', 'Россия', 'Сбербанк России']</td>\n",
       "      <td>1759</td>\n",
       "      <td>2023-01-03 10:16:00</td>\n",
       "      <td>SBER</td>\n",
       "      <td>142.75</td>\n",
       "      <td>11917688.40</td>\n",
       "      <td>142.62</td>\n",
       "      <td>2958789.90</td>\n",
       "      <td>-0.13</td>\n",
       "      <td>-0.091068</td>\n",
       "      <td>-8958898.5</td>\n",
       "      <td>-75.173122</td>\n",
       "    </tr>\n",
       "    <tr>\n",
       "      <th>1</th>\n",
       "      <td>РИА</td>\n",
       "      <td>Экономика</td>\n",
       "      <td>https://ria.ru/20230103/gazprom-1842940413.html</td>\n",
       "      <td>Экспорт \"Газпрома\" снизился до минимума с конц...</td>\n",
       "      <td>Объём экспорта \"Газпрома\" в прошедшем году с...</td>\n",
       "      <td>['Экономика', 'Газпром', 'Россия']</td>\n",
       "      <td>1299</td>\n",
       "      <td>2023-01-03 14:22:00</td>\n",
       "      <td>GAZP</td>\n",
       "      <td>163.13</td>\n",
       "      <td>1100961.10</td>\n",
       "      <td>163.37</td>\n",
       "      <td>1413064.30</td>\n",
       "      <td>0.24</td>\n",
       "      <td>0.147122</td>\n",
       "      <td>312103.2</td>\n",
       "      <td>28.348250</td>\n",
       "    </tr>\n",
       "    <tr>\n",
       "      <th>2</th>\n",
       "      <td>РИА</td>\n",
       "      <td>Экономика</td>\n",
       "      <td>https://ria.ru/20230104/shelf-1843063413.html</td>\n",
       "      <td>Ямальской шельфовой компании предоставили два ...</td>\n",
       "      <td>Правительство РФ предоставило Ямальской шель...</td>\n",
       "      <td>['Экономика', 'Карское море', 'Россия']</td>\n",
       "      <td>1719</td>\n",
       "      <td>2023-01-04 16:36:00</td>\n",
       "      <td>ROSN</td>\n",
       "      <td>363.70</td>\n",
       "      <td>178263.05</td>\n",
       "      <td>364.85</td>\n",
       "      <td>321423.75</td>\n",
       "      <td>1.15</td>\n",
       "      <td>0.316195</td>\n",
       "      <td>143160.7</td>\n",
       "      <td>80.308679</td>\n",
       "    </tr>\n",
       "    <tr>\n",
       "      <th>3</th>\n",
       "      <td>Kommersant</td>\n",
       "      <td>Фондовый рынок</td>\n",
       "      <td>https://www.kommersant.ru/doc/5757640</td>\n",
       "      <td>Нестабильный рост</td>\n",
       "      <td>Минувший год запомнится инвесторам как время с...</td>\n",
       "      <td>None</td>\n",
       "      <td>12414</td>\n",
       "      <td>2023-01-06 10:02:00</td>\n",
       "      <td>SBER</td>\n",
       "      <td>141.31</td>\n",
       "      <td>1573757.40</td>\n",
       "      <td>141.40</td>\n",
       "      <td>2401025.00</td>\n",
       "      <td>0.09</td>\n",
       "      <td>0.063690</td>\n",
       "      <td>827267.6</td>\n",
       "      <td>52.566399</td>\n",
       "    </tr>\n",
       "    <tr>\n",
       "      <th>4</th>\n",
       "      <td>Kommersant</td>\n",
       "      <td>Фондовый рынок</td>\n",
       "      <td>https://www.kommersant.ru/doc/5757640</td>\n",
       "      <td>Нестабильный рост</td>\n",
       "      <td>Минувший год запомнится инвесторам как время с...</td>\n",
       "      <td>None</td>\n",
       "      <td>12414</td>\n",
       "      <td>2023-01-06 10:02:00</td>\n",
       "      <td>GAZP</td>\n",
       "      <td>161.69</td>\n",
       "      <td>4620114.20</td>\n",
       "      <td>161.60</td>\n",
       "      <td>1373716.00</td>\n",
       "      <td>-0.09</td>\n",
       "      <td>-0.055662</td>\n",
       "      <td>-3246398.2</td>\n",
       "      <td>-70.266622</td>\n",
       "    </tr>\n",
       "  </tbody>\n",
       "</table>\n",
       "</div>"
      ],
      "text/plain": [
       "      website         section  \\\n",
       "0         РИА       Экономика   \n",
       "1         РИА       Экономика   \n",
       "2         РИА       Экономика   \n",
       "3  Kommersant  Фондовый рынок   \n",
       "4  Kommersant  Фондовый рынок   \n",
       "\n",
       "                                               url  \\\n",
       "0    https://ria.ru/20230103/banki-1842907991.html   \n",
       "1  https://ria.ru/20230103/gazprom-1842940413.html   \n",
       "2    https://ria.ru/20230104/shelf-1843063413.html   \n",
       "3            https://www.kommersant.ru/doc/5757640   \n",
       "4            https://www.kommersant.ru/doc/5757640   \n",
       "\n",
       "                                              header  \\\n",
       "0  Эксперт рассказал о развитии исламского банкин...   \n",
       "1  Экспорт \"Газпрома\" снизился до минимума с конц...   \n",
       "2  Ямальской шельфовой компании предоставили два ...   \n",
       "3                                  Нестабильный рост   \n",
       "4                                  Нестабильный рост   \n",
       "\n",
       "                                                body  \\\n",
       "0    Порядка 10-15 филиалов исламского банкинга м...   \n",
       "1    Объём экспорта \"Газпрома\" в прошедшем году с...   \n",
       "2    Правительство РФ предоставило Ямальской шель...   \n",
       "3  Минувший год запомнится инвесторам как время с...   \n",
       "4  Минувший год запомнится инвесторам как время с...   \n",
       "\n",
       "                                         tags  body_length  \\\n",
       "0  ['Экономика', 'Россия', 'Сбербанк России']         1759   \n",
       "1          ['Экономика', 'Газпром', 'Россия']         1299   \n",
       "2     ['Экономика', 'Карское море', 'Россия']         1719   \n",
       "3                                        None        12414   \n",
       "4                                        None        12414   \n",
       "\n",
       "             datetime company  price_release  volume_release  price_lag_30  \\\n",
       "0 2023-01-03 10:16:00    SBER         142.75     11917688.40        142.62   \n",
       "1 2023-01-03 14:22:00    GAZP         163.13      1100961.10        163.37   \n",
       "2 2023-01-04 16:36:00    ROSN         363.70       178263.05        364.85   \n",
       "3 2023-01-06 10:02:00    SBER         141.31      1573757.40        141.40   \n",
       "4 2023-01-06 10:02:00    GAZP         161.69      4620114.20        161.60   \n",
       "\n",
       "   volume_lag_30  price_diff  price_diff_percent  volume_diff  \\\n",
       "0     2958789.90       -0.13           -0.091068   -8958898.5   \n",
       "1     1413064.30        0.24            0.147122     312103.2   \n",
       "2      321423.75        1.15            0.316195     143160.7   \n",
       "3     2401025.00        0.09            0.063690     827267.6   \n",
       "4     1373716.00       -0.09           -0.055662   -3246398.2   \n",
       "\n",
       "   volume_diff_percent  \n",
       "0           -75.173122  \n",
       "1            28.348250  \n",
       "2            80.308679  \n",
       "3            52.566399  \n",
       "4           -70.266622  "
      ]
     },
     "execution_count": 32,
     "metadata": {},
     "output_type": "execute_result"
    }
   ],
   "source": [
    "db = create_engine(conn_string) \n",
    "conn = db.connect() \n",
    "conn.autocommit = True\n",
    "\n",
    "dataframe = pd.read_sql_query('SELECT * FROM companies_trade', conn)\n",
    "conn.close()\n",
    "\n",
    "print(dataframe.shape)\n",
    "dataframe.head()"
   ]
  },
  {
   "cell_type": "markdown",
   "metadata": {},
   "source": [
    "# Индустриальные индексы"
   ]
  },
  {
   "cell_type": "markdown",
   "metadata": {},
   "source": [
    "## Загрузка данных с базы данных"
   ]
  },
  {
   "cell_type": "code",
   "execution_count": 33,
   "metadata": {},
   "outputs": [],
   "source": [
    "db = create_engine(conn_string) \n",
    "conn = db.connect() \n",
    "conn.autocommit = True\n",
    "\n",
    "ind_df = pd.read_sql_query('SELECT * FROM industries_tickets', conn)\n",
    "conn.close()"
   ]
  },
  {
   "cell_type": "markdown",
   "metadata": {},
   "source": [
    "## Загрузка данных с Мосбиржи и обогащение существующего датасета"
   ]
  },
  {
   "cell_type": "code",
   "execution_count": 35,
   "metadata": {},
   "outputs": [],
   "source": [
    "ind_string = 'http://iss.moex.com/iss/engines/stock/markets/index/boards/SNDX/securities/{}/candles.json?from={}&till={}&interval=1'"
   ]
  },
  {
   "cell_type": "code",
   "execution_count": 36,
   "metadata": {},
   "outputs": [],
   "source": [
    "ind_df['price_release'] = np.nan\n",
    "ind_df['volume_release'] = np.nan\n",
    "ind_df['price_lag_30'] = np.nan\n",
    "ind_df['volume_lag_30'] = np.nan"
   ]
  },
  {
   "cell_type": "code",
   "execution_count": 37,
   "metadata": {},
   "outputs": [],
   "source": [
    "ind_df = ind_df.sort_values(by=['datetime'])"
   ]
  },
  {
   "cell_type": "code",
   "execution_count": 38,
   "metadata": {},
   "outputs": [
    {
     "name": "stderr",
     "output_type": "stream",
     "text": [
      "100%|██████████████████████████████████████████████████████████████████████████████| 6228/6228 [08:00<00:00, 12.96it/s]\n"
     ]
    }
   ],
   "source": [
    "for i in tqdm(range(len(ind_df))):\n",
    "    start = ind_df['datetime'][i]\n",
    "    end = ind_df['datetime'][i] + datetime.timedelta(minutes=30)\n",
    "    ind = ind_df['industry'][i]\n",
    "    connect_timeout = 100000\n",
    "    read_timeout = 100000\n",
    "    n = requests.get(ind_string.format(ind, start, end), timeout=(connect_timeout, read_timeout)).json()\n",
    "    try:\n",
    "        ind_df.loc[i, 'price_release'] = n['candles']['data'][0][0]\n",
    "        ind_df.loc[i, 'volume_release'] = n['candles']['data'][0][4]\n",
    "        ind_df.loc[i, 'price_lag_30'] = n['candles']['data'][-1][0]\n",
    "        ind_df.loc[i, 'volume_lag_30'] = n['candles']['data'][-1][4]\n",
    "    except IndexError:\n",
    "        continue\n",
    "#     delay = uniform(0, 3)\n",
    "#     time.sleep(delay)"
   ]
  },
  {
   "cell_type": "code",
   "execution_count": 39,
   "metadata": {},
   "outputs": [
    {
     "data": {
      "text/plain": [
       "website              0\n",
       "section              0\n",
       "url                  0\n",
       "header               0\n",
       "body                 0\n",
       "tags               564\n",
       "body_length          0\n",
       "datetime             0\n",
       "industry             0\n",
       "price_release     1473\n",
       "volume_release    1473\n",
       "price_lag_30      1473\n",
       "volume_lag_30     1473\n",
       "dtype: int64"
      ]
     },
     "execution_count": 39,
     "metadata": {},
     "output_type": "execute_result"
    }
   ],
   "source": [
    "ind_df.isna().sum()"
   ]
  },
  {
   "cell_type": "markdown",
   "metadata": {},
   "source": [
    "> **Комментарий:** У нас получилось 1473 пропуска, связано это с тем, что в отличии от остальных инструментов, которые мы рассматриваем, отраслевые индексы имеют более узкое окно времени для торгов, как следствие, значительная часть наблюдений в нашей выборке не подходит, так как эти наблюдения в это окно не попадают. Сделать с этим мы ничего не можем, поэтому просто убираем эти наблюдения"
   ]
  },
  {
   "cell_type": "code",
   "execution_count": 40,
   "metadata": {},
   "outputs": [],
   "source": [
    "ind_df = ind_df.dropna(subset=['price_release'])"
   ]
  },
  {
   "cell_type": "markdown",
   "metadata": {},
   "source": [
    "## Получение разниц"
   ]
  },
  {
   "cell_type": "code",
   "execution_count": 42,
   "metadata": {},
   "outputs": [],
   "source": [
    "ind_df['price_diff'] = ind_df['price_lag_30'] - ind_df['price_release']\n",
    "ind_df['price_diff_percent'] = ind_df['price_diff'] / ind_df['price_release'] * 100\n",
    "ind_df['volume_diff'] = ind_df['volume_lag_30'] - ind_df['volume_release']\n",
    "ind_df['volume_diff_percent'] = ind_df['volume_diff'] / ind_df['volume_release'] * 100"
   ]
  },
  {
   "cell_type": "markdown",
   "metadata": {},
   "source": [
    "## Немного наблюдений"
   ]
  },
  {
   "cell_type": "code",
   "execution_count": 46,
   "metadata": {},
   "outputs": [
    {
     "data": {
      "image/png": "[encoded data removed]",
      "text/plain": [
       "<Figure size 640x480 with 1 Axes>"
      ]
     },
     "metadata": {},
     "output_type": "display_data"
    }
   ],
   "source": [
    "plt.hist(ind_df.price_diff_percent, bins=100)\n",
    "plt.title('Распределение относительного изменения отраслевых индексов в процентах')\n",
    "plt.show()"
   ]
  },
  {
   "cell_type": "markdown",
   "metadata": {},
   "source": [
    "> **Комментарий:** Легко заметить, что распределение получилось вполне логичным: симметричным и с сильным эксцессом в нуле"
   ]
  },
  {
   "cell_type": "code",
   "execution_count": 58,
   "metadata": {},
   "outputs": [
    {
     "data": {
      "image/png": "[encoded data removed]",
      "text/plain": [
       "<Figure size 640x480 with 1 Axes>"
      ]
     },
     "metadata": {},
     "output_type": "display_data"
    }
   ],
   "source": [
    "plt.hist(np.log(ind_df.volume_diff_percent+1), bins=100)\n",
    "plt.title('Распределение логарифма относительного изменения объема торгов отраслевых индексов в процентах')\n",
    "plt.show()"
   ]
  },
  {
   "cell_type": "markdown",
   "metadata": {},
   "source": [
    "> **Комментарий:** Получили, что относительное изменение объема торгов акций имеет, примерно, лог-нормальное распределение с фигофиной слева, вызванной нулями"
   ]
  },
  {
   "cell_type": "markdown",
   "metadata": {},
   "source": [
    "## Выгрузка и проверка"
   ]
  },
  {
   "cell_type": "code",
   "execution_count": 97,
   "metadata": {},
   "outputs": [],
   "source": [
    "db = create_engine(conn_string) \n",
    "conn = db.connect() \n",
    "conn.autocommit = True\n",
    "ind_df.to_sql('industries_trade', con=conn, if_exists='replace', index=False) \n",
    "conn.close()"
   ]
  },
  {
   "cell_type": "code",
   "execution_count": 98,
   "metadata": {},
   "outputs": [
    {
     "name": "stdout",
     "output_type": "stream",
     "text": [
      "(4755, 17)\n"
     ]
    },
    {
     "data": {
      "text/html": [
       "<div>\n",
       "<style scoped>\n",
       "    .dataframe tbody tr th:only-of-type {\n",
       "        vertical-align: middle;\n",
       "    }\n",
       "\n",
       "    .dataframe tbody tr th {\n",
       "        vertical-align: top;\n",
       "    }\n",
       "\n",
       "    .dataframe thead th {\n",
       "        text-align: right;\n",
       "    }\n",
       "</style>\n",
       "<table border=\"1\" class=\"dataframe\">\n",
       "  <thead>\n",
       "    <tr style=\"text-align: right;\">\n",
       "      <th></th>\n",
       "      <th>website</th>\n",
       "      <th>section</th>\n",
       "      <th>url</th>\n",
       "      <th>header</th>\n",
       "      <th>body</th>\n",
       "      <th>tags</th>\n",
       "      <th>body_length</th>\n",
       "      <th>datetime</th>\n",
       "      <th>industry</th>\n",
       "      <th>price_release</th>\n",
       "      <th>volume_release</th>\n",
       "      <th>price_lag_30</th>\n",
       "      <th>volume_lag_30</th>\n",
       "      <th>price_diff</th>\n",
       "      <th>price_diff_percent</th>\n",
       "      <th>volume_diff</th>\n",
       "      <th>volume_diff_percent</th>\n",
       "    </tr>\n",
       "  </thead>\n",
       "  <tbody>\n",
       "    <tr>\n",
       "      <th>0</th>\n",
       "      <td>РИА</td>\n",
       "      <td>Экономика</td>\n",
       "      <td>https://ria.ru/20230103/banki-1842907991.html</td>\n",
       "      <td>Эксперт рассказал о развитии исламского банкин...</td>\n",
       "      <td>Порядка 10-15 филиалов исламского банкинга м...</td>\n",
       "      <td>['Экономика', 'Россия', 'Сбербанк России']</td>\n",
       "      <td>1759</td>\n",
       "      <td>2023-01-03 10:16:00</td>\n",
       "      <td>MOEXFN</td>\n",
       "      <td>6307.20</td>\n",
       "      <td>16806757.15</td>\n",
       "      <td>6308.77</td>\n",
       "      <td>11854100.00</td>\n",
       "      <td>1.57</td>\n",
       "      <td>0.024892</td>\n",
       "      <td>-4952657.15</td>\n",
       "      <td>-29.468250</td>\n",
       "    </tr>\n",
       "    <tr>\n",
       "      <th>1</th>\n",
       "      <td>РИА</td>\n",
       "      <td>Экономика</td>\n",
       "      <td>https://ria.ru/20230103/gazprom-1842940413.html</td>\n",
       "      <td>Экспорт \"Газпрома\" снизился до минимума с конц...</td>\n",
       "      <td>Объём экспорта \"Газпрома\" в прошедшем году с...</td>\n",
       "      <td>['Экономика', 'Газпром', 'Россия']</td>\n",
       "      <td>1299</td>\n",
       "      <td>2023-01-03 14:22:00</td>\n",
       "      <td>MOEXOG</td>\n",
       "      <td>5696.30</td>\n",
       "      <td>4451180.75</td>\n",
       "      <td>5696.72</td>\n",
       "      <td>4605859.35</td>\n",
       "      <td>0.42</td>\n",
       "      <td>0.007373</td>\n",
       "      <td>154678.60</td>\n",
       "      <td>3.475002</td>\n",
       "    </tr>\n",
       "    <tr>\n",
       "      <th>2</th>\n",
       "      <td>РИА</td>\n",
       "      <td>Экономика</td>\n",
       "      <td>https://ria.ru/20230104/shelf-1843063413.html</td>\n",
       "      <td>Ямальской шельфовой компании предоставили два ...</td>\n",
       "      <td>Правительство РФ предоставило Ямальской шель...</td>\n",
       "      <td>['Экономика', 'Карское море', 'Россия']</td>\n",
       "      <td>1719</td>\n",
       "      <td>2023-01-04 16:36:00</td>\n",
       "      <td>MOEXOG</td>\n",
       "      <td>5655.65</td>\n",
       "      <td>3325798.35</td>\n",
       "      <td>5663.65</td>\n",
       "      <td>1490555.35</td>\n",
       "      <td>8.00</td>\n",
       "      <td>0.141451</td>\n",
       "      <td>-1835243.00</td>\n",
       "      <td>-55.182029</td>\n",
       "    </tr>\n",
       "    <tr>\n",
       "      <th>3</th>\n",
       "      <td>Kommersant</td>\n",
       "      <td>Фондовый рынок</td>\n",
       "      <td>https://www.kommersant.ru/doc/5757640</td>\n",
       "      <td>Нестабильный рост</td>\n",
       "      <td>Минувший год запомнится инвесторам как время с...</td>\n",
       "      <td>None</td>\n",
       "      <td>12414</td>\n",
       "      <td>2023-01-06 10:02:00</td>\n",
       "      <td>MOEXFN</td>\n",
       "      <td>6298.36</td>\n",
       "      <td>7394623.45</td>\n",
       "      <td>6296.27</td>\n",
       "      <td>3371524.05</td>\n",
       "      <td>-2.09</td>\n",
       "      <td>-0.033183</td>\n",
       "      <td>-4023099.40</td>\n",
       "      <td>-54.405737</td>\n",
       "    </tr>\n",
       "    <tr>\n",
       "      <th>4</th>\n",
       "      <td>Kommersant</td>\n",
       "      <td>Фондовый рынок</td>\n",
       "      <td>https://www.kommersant.ru/doc/5757640</td>\n",
       "      <td>Нестабильный рост</td>\n",
       "      <td>Минувший год запомнится инвесторам как время с...</td>\n",
       "      <td>None</td>\n",
       "      <td>12414</td>\n",
       "      <td>2023-01-06 10:02:00</td>\n",
       "      <td>MOEXOG</td>\n",
       "      <td>5655.00</td>\n",
       "      <td>15940301.65</td>\n",
       "      <td>5647.93</td>\n",
       "      <td>1358915.70</td>\n",
       "      <td>-7.07</td>\n",
       "      <td>-0.125022</td>\n",
       "      <td>-14581385.95</td>\n",
       "      <td>-91.474969</td>\n",
       "    </tr>\n",
       "  </tbody>\n",
       "</table>\n",
       "</div>"
      ],
      "text/plain": [
       "      website         section  \\\n",
       "0         РИА       Экономика   \n",
       "1         РИА       Экономика   \n",
       "2         РИА       Экономика   \n",
       "3  Kommersant  Фондовый рынок   \n",
       "4  Kommersant  Фондовый рынок   \n",
       "\n",
       "                                               url  \\\n",
       "0    https://ria.ru/20230103/banki-1842907991.html   \n",
       "1  https://ria.ru/20230103/gazprom-1842940413.html   \n",
       "2    https://ria.ru/20230104/shelf-1843063413.html   \n",
       "3            https://www.kommersant.ru/doc/5757640   \n",
       "4            https://www.kommersant.ru/doc/5757640   \n",
       "\n",
       "                                              header  \\\n",
       "0  Эксперт рассказал о развитии исламского банкин...   \n",
       "1  Экспорт \"Газпрома\" снизился до минимума с конц...   \n",
       "2  Ямальской шельфовой компании предоставили два ...   \n",
       "3                                  Нестабильный рост   \n",
       "4                                  Нестабильный рост   \n",
       "\n",
       "                                                body  \\\n",
       "0    Порядка 10-15 филиалов исламского банкинга м...   \n",
       "1    Объём экспорта \"Газпрома\" в прошедшем году с...   \n",
       "2    Правительство РФ предоставило Ямальской шель...   \n",
       "3  Минувший год запомнится инвесторам как время с...   \n",
       "4  Минувший год запомнится инвесторам как время с...   \n",
       "\n",
       "                                         tags  body_length  \\\n",
       "0  ['Экономика', 'Россия', 'Сбербанк России']         1759   \n",
       "1          ['Экономика', 'Газпром', 'Россия']         1299   \n",
       "2     ['Экономика', 'Карское море', 'Россия']         1719   \n",
       "3                                        None        12414   \n",
       "4                                        None        12414   \n",
       "\n",
       "             datetime industry  price_release  volume_release  price_lag_30  \\\n",
       "0 2023-01-03 10:16:00   MOEXFN        6307.20     16806757.15       6308.77   \n",
       "1 2023-01-03 14:22:00   MOEXOG        5696.30      4451180.75       5696.72   \n",
       "2 2023-01-04 16:36:00   MOEXOG        5655.65      3325798.35       5663.65   \n",
       "3 2023-01-06 10:02:00   MOEXFN        6298.36      7394623.45       6296.27   \n",
       "4 2023-01-06 10:02:00   MOEXOG        5655.00     15940301.65       5647.93   \n",
       "\n",
       "   volume_lag_30  price_diff  price_diff_percent  volume_diff  \\\n",
       "0    11854100.00        1.57            0.024892  -4952657.15   \n",
       "1     4605859.35        0.42            0.007373    154678.60   \n",
       "2     1490555.35        8.00            0.141451  -1835243.00   \n",
       "3     3371524.05       -2.09           -0.033183  -4023099.40   \n",
       "4     1358915.70       -7.07           -0.125022 -14581385.95   \n",
       "\n",
       "   volume_diff_percent  \n",
       "0           -29.468250  \n",
       "1             3.475002  \n",
       "2           -55.182029  \n",
       "3           -54.405737  \n",
       "4           -91.474969  "
      ]
     },
     "execution_count": 98,
     "metadata": {},
     "output_type": "execute_result"
    }
   ],
   "source": [
    "db = create_engine(conn_string) \n",
    "conn = db.connect() \n",
    "conn.autocommit = True\n",
    "\n",
    "dataframe = pd.read_sql_query('SELECT * FROM industries_trade', conn)\n",
    "conn.close()\n",
    "\n",
    "print(dataframe.shape)\n",
    "dataframe.head()"
   ]
  },
  {
   "cell_type": "markdown",
   "metadata": {},
   "source": [
    "# Индекс Мосбиржи, RVI и фьючерс на курс доллара"
   ]
  },
  {
   "cell_type": "markdown",
   "metadata": {},
   "source": [
    "## Загрузка данных с базы данных"
   ]
  },
  {
   "cell_type": "code",
   "execution_count": 62,
   "metadata": {},
   "outputs": [],
   "source": [
    "db = create_engine(conn_string) \n",
    "conn = db.connect() \n",
    "conn.autocommit = True\n",
    "\n",
    "global_df = pd.read_sql_query('SELECT * FROM global_tickets', conn)\n",
    "conn.close()"
   ]
  },
  {
   "cell_type": "markdown",
   "metadata": {},
   "source": [
    "## Загрузка данных с Мосбиржи и обогащение существующего датасета"
   ]
  },
  {
   "cell_type": "code",
   "execution_count": 64,
   "metadata": {},
   "outputs": [],
   "source": [
    "global_moex = 'http://iss.moex.com/iss/engines/stock/markets/index/boards/SNDX/securities/IMOEX2/candles.json?from={}&till={}&interval=1'\n",
    "global_rvi = 'http://iss.moex.com/iss/engines/stock/markets/index/boards/RTSI/securities/RVI/candles.json?from={}&till={}&interval=1'\n",
    "global_usd_rub_fut = 'http://iss.moex.com/iss/engines/futures/markets/forts/boards/RFUD/securities/{}/candles.json?from={}&till={}&interval=1'"
   ]
  },
  {
   "cell_type": "code",
   "execution_count": 65,
   "metadata": {},
   "outputs": [],
   "source": [
    "global_df['imoex_price_release'] = np.nan\n",
    "# global_df['imoex_volume_release'] = np.nan\n",
    "global_df['imoex_price_lag_30'] = np.nan\n",
    "# global_df['imoex_volume_lag_30'] = np.nan\n",
    "\n",
    "global_df['rvi_price_release'] = np.nan\n",
    "global_df['rvi_price_lag_30'] = np.nan\n",
    "\n",
    "global_df['usd_price_release'] = np.nan\n",
    "global_df['usd_price_lag_30'] = np.nan"
   ]
  },
  {
   "cell_type": "code",
   "execution_count": 66,
   "metadata": {},
   "outputs": [],
   "source": [
    "global_df = global_df.sort_values(by=['datetime'])"
   ]
  },
  {
   "cell_type": "code",
   "execution_count": 67,
   "metadata": {},
   "outputs": [
    {
     "name": "stderr",
     "output_type": "stream",
     "text": [
      "100%|████████████████████████████████████████████████████████████████████████████| 13326/13326 [59:34<00:00,  3.73it/s]\n"
     ]
    }
   ],
   "source": [
    "for i in tqdm(range(len(global_df))):\n",
    "    start = global_df['datetime'][i]\n",
    "    end = global_df['datetime'][i] + datetime.timedelta(minutes=30)\n",
    "    connect_timeout = 300\n",
    "    read_timeout = 120\n",
    "    n = requests.get(global_moex.format(start, end), timeout=(connect_timeout, read_timeout)).json()\n",
    "    try:\n",
    "        global_df.loc[i, 'imoex_price_release'] = n['candles']['data'][0][0]\n",
    "#         global_df.loc[i, 'imoex_volume_release'] = n['candles']['data'][0][4]\n",
    "        global_df.loc[i, 'imoex_price_lag_30'] = n['candles']['data'][-1][0]\n",
    "#         global_df.loc[i, 'imoex_volume_lag_30'] = n['candles']['data'][-1][4]\n",
    "    except IndexError:\n",
    "        continue\n",
    "    n = requests.get(global_rvi.format(start, end), timeout=(connect_timeout, read_timeout)).json()\n",
    "    try:\n",
    "        global_df.loc[i, 'rvi_price_release'] = n['candles']['data'][0][0]\n",
    "        global_df.loc[i, 'rvi_price_lag_30'] = n['candles']['data'][-1][0]\n",
    "    except IndexError:\n",
    "        continue\n",
    "    if str(start) < '2023-03-16':\n",
    "        n = requests.get(global_usd_rub_fut.format('SiH3', start, end), timeout=(connect_timeout, read_timeout)).json()\n",
    "        try:\n",
    "            global_df.loc[i, 'usd_price_release'] = n['candles']['data'][0][0]\n",
    "            global_df.loc[i, 'usd_price_lag_30'] = n['candles']['data'][-1][0]\n",
    "        except IndexError:\n",
    "            continue\n",
    "    elif str(start) < '2023-06-15':\n",
    "        n = requests.get(global_usd_rub_fut.format('SiM3', start, end), timeout=(connect_timeout, read_timeout)).json()\n",
    "        try:\n",
    "            global_df.loc[i, 'usd_price_release'] = n['candles']['data'][0][0]\n",
    "            global_df.loc[i, 'usd_price_lag_30'] = n['candles']['data'][-1][0]\n",
    "        except IndexError:\n",
    "            continue\n",
    "    elif str(start) < '2023-09-21':\n",
    "        n = requests.get(global_usd_rub_fut.format('SiU3', start, end), timeout=(connect_timeout, read_timeout)).json()\n",
    "        try:\n",
    "            global_df.loc[i, 'usd_price_release'] = n['candles']['data'][0][0]\n",
    "            global_df.loc[i, 'usd_price_lag_30'] = n['candles']['data'][-1][0]\n",
    "        except IndexError:\n",
    "            continue\n",
    "    else:\n",
    "        n = requests.get(global_usd_rub_fut.format('SiZ3', start, end), timeout=(connect_timeout, read_timeout)).json()\n",
    "        try:\n",
    "            global_df.loc[i, 'usd_price_release'] = n['candles']['data'][0][0]\n",
    "            global_df.loc[i, 'usd_price_lag_30'] = n['candles']['data'][-1][0]\n",
    "        except IndexError:\n",
    "            continue\n",
    "#     delay = randint(1,2)\n",
    "#     time.sleep(delay)"
   ]
  },
  {
   "cell_type": "code",
   "execution_count": 68,
   "metadata": {},
   "outputs": [
    {
     "data": {
      "text/plain": [
       "website                   0\n",
       "section                   0\n",
       "url                       0\n",
       "header                    0\n",
       "body                      0\n",
       "tags                   1034\n",
       "body_length               0\n",
       "datetime                  0\n",
       "imoex_price_release       0\n",
       "imoex_price_lag_30        0\n",
       "rvi_price_release        20\n",
       "rvi_price_lag_30         20\n",
       "usd_price_release        22\n",
       "usd_price_lag_30         22\n",
       "dtype: int64"
      ]
     },
     "execution_count": 68,
     "metadata": {},
     "output_type": "execute_result"
    }
   ],
   "source": [
    "global_df.isna().sum()"
   ]
  },
  {
   "cell_type": "markdown",
   "metadata": {},
   "source": [
    "> **Комментарий:** Почти нет пропусков, приятно :)"
   ]
  },
  {
   "cell_type": "code",
   "execution_count": 70,
   "metadata": {},
   "outputs": [],
   "source": [
    "global_df = global_df.dropna(subset=['usd_price_release'])"
   ]
  },
  {
   "cell_type": "markdown",
   "metadata": {},
   "source": [
    "## Получение разниц"
   ]
  },
  {
   "cell_type": "code",
   "execution_count": 74,
   "metadata": {},
   "outputs": [],
   "source": [
    "global_df['imoex_price_diff'] = global_df['imoex_price_lag_30'] - global_df['imoex_price_release']\n",
    "global_df['imoex_price_diff_percent'] = global_df['imoex_price_diff'] / global_df['imoex_price_release'] * 100\n",
    "# global_df['imoex_volume_diff'] = global_df['imoex_volume_lag_30'] - global_df['imoex_volume_release']\n",
    "# global_df['imoex_volume_diff_percent'] = global_df['imoex_volume_diff'] / global_df['imoex_volume_release'] * 100\n",
    "\n",
    "global_df['rvi_price_diff'] = global_df['rvi_price_lag_30'] - global_df['rvi_price_release']\n",
    "global_df['rvi_price_diff_percent'] = global_df['rvi_price_diff'] / global_df['rvi_price_release'] * 100\n",
    "\n",
    "global_df['usd_price_diff'] = global_df['usd_price_lag_30'] - global_df['usd_price_release']\n",
    "global_df['usd_price_diff_percent'] = global_df['usd_price_diff'] / global_df['usd_price_release'] * 100"
   ]
  },
  {
   "cell_type": "markdown",
   "metadata": {},
   "source": [
    "## Немного наблюдений"
   ]
  },
  {
   "cell_type": "code",
   "execution_count": 75,
   "metadata": {},
   "outputs": [
    {
     "data": {
      "image/png": "[encoded data removed]",
      "text/plain": [
       "<Figure size 640x480 with 1 Axes>"
      ]
     },
     "metadata": {},
     "output_type": "display_data"
    }
   ],
   "source": [
    "plt.hist(global_df.imoex_price_diff_percent, bins=100)\n",
    "plt.title('Распределение относительного изменения индекса ММВБ в процентах')\n",
    "plt.show()"
   ]
  },
  {
   "cell_type": "markdown",
   "metadata": {},
   "source": [
    "> **Комментарий:** Легко заметить, что распределение получилось вполне логичным: симметричным и с сильным эксцессом в нуле"
   ]
  },
  {
   "cell_type": "code",
   "execution_count": 76,
   "metadata": {},
   "outputs": [
    {
     "data": {
      "image/png": "[encoded data removed]",
      "text/plain": [
       "<Figure size 640x480 with 1 Axes>"
      ]
     },
     "metadata": {},
     "output_type": "display_data"
    }
   ],
   "source": [
    "plt.hist(global_df.rvi_price_diff_percent, bins=100)\n",
    "plt.title('Распределение относительного изменения индекса волатильности в процентах')\n",
    "plt.show()"
   ]
  },
  {
   "cell_type": "markdown",
   "metadata": {},
   "source": [
    "> **Комментарий:** Распределение получилось почти симметричным (правда, с некоторым очень малым количеством выбросов) и с очень сильным эксцессом в нуле"
   ]
  },
  {
   "cell_type": "code",
   "execution_count": 83,
   "metadata": {},
   "outputs": [
    {
     "data": {
      "image/png": "[encoded data removed]",
      "text/plain": [
       "<Figure size 640x480 with 1 Axes>"
      ]
     },
     "metadata": {},
     "output_type": "display_data"
    }
   ],
   "source": [
    "plt.hist(global_df.usd_price_diff_percent, bins=100)\n",
    "plt.title('Распределение относительного изменения фьючерса на USDRUB в процентах')\n",
    "plt.show()"
   ]
  },
  {
   "cell_type": "markdown",
   "metadata": {},
   "source": [
    "> **Комментарий:** Легко заметить, что распределение получилось вполне логичным: симметричным и с сильным эксцессом в нуле\n",
    "\n",
    "> **P.S.** Взяли фьючерс, так как у него шире окно торгов, чем у спотового USDRUB"
   ]
  },
  {
   "cell_type": "markdown",
   "metadata": {},
   "source": [
    "## Выгрузка и проверка"
   ]
  },
  {
   "cell_type": "code",
   "execution_count": 99,
   "metadata": {},
   "outputs": [],
   "source": [
    "db = create_engine(conn_string) \n",
    "conn = db.connect() \n",
    "conn.autocommit = True\n",
    "global_df.to_sql('global_trade', con=conn, if_exists='replace', index=False) \n",
    "conn.close()"
   ]
  },
  {
   "cell_type": "code",
   "execution_count": 102,
   "metadata": {},
   "outputs": [
    {
     "name": "stdout",
     "output_type": "stream",
     "text": [
      "(13304, 20)\n"
     ]
    },
    {
     "data": {
      "text/html": [
       "<div>\n",
       "<style scoped>\n",
       "    .dataframe tbody tr th:only-of-type {\n",
       "        vertical-align: middle;\n",
       "    }\n",
       "\n",
       "    .dataframe tbody tr th {\n",
       "        vertical-align: top;\n",
       "    }\n",
       "\n",
       "    .dataframe thead th {\n",
       "        text-align: right;\n",
       "    }\n",
       "</style>\n",
       "<table border=\"1\" class=\"dataframe\">\n",
       "  <thead>\n",
       "    <tr style=\"text-align: right;\">\n",
       "      <th></th>\n",
       "      <th>website</th>\n",
       "      <th>section</th>\n",
       "      <th>url</th>\n",
       "      <th>header</th>\n",
       "      <th>body</th>\n",
       "      <th>tags</th>\n",
       "      <th>body_length</th>\n",
       "      <th>datetime</th>\n",
       "      <th>imoex_price_release</th>\n",
       "      <th>imoex_price_lag_30</th>\n",
       "      <th>rvi_price_release</th>\n",
       "      <th>rvi_price_lag_30</th>\n",
       "      <th>usd_price_release</th>\n",
       "      <th>usd_price_lag_30</th>\n",
       "      <th>imoex_price_diff</th>\n",
       "      <th>imoex_price_diff_percent</th>\n",
       "      <th>rvi_price_diff</th>\n",
       "      <th>rvi_price_diff_percent</th>\n",
       "      <th>usd_price_diff</th>\n",
       "      <th>usd_price_diff_percent</th>\n",
       "    </tr>\n",
       "  </thead>\n",
       "  <tbody>\n",
       "    <tr>\n",
       "      <th>0</th>\n",
       "      <td>РИА</td>\n",
       "      <td>Экономика</td>\n",
       "      <td>https://ria.ru/20230103/banki-1842907991.html</td>\n",
       "      <td>Эксперт рассказал о развитии исламского банкин...</td>\n",
       "      <td>Порядка 10-15 филиалов исламского банкинга м...</td>\n",
       "      <td>['Экономика', 'Россия', 'Сбербанк России']</td>\n",
       "      <td>1759</td>\n",
       "      <td>2023-01-03 10:16:00</td>\n",
       "      <td>2166.77</td>\n",
       "      <td>2168.03</td>\n",
       "      <td>40.45</td>\n",
       "      <td>40.26</td>\n",
       "      <td>70352.0</td>\n",
       "      <td>69975.0</td>\n",
       "      <td>1.26</td>\n",
       "      <td>0.058151</td>\n",
       "      <td>-0.19</td>\n",
       "      <td>-0.469716</td>\n",
       "      <td>-377.0</td>\n",
       "      <td>-0.535877</td>\n",
       "    </tr>\n",
       "    <tr>\n",
       "      <th>1</th>\n",
       "      <td>РИА</td>\n",
       "      <td>Экономика</td>\n",
       "      <td>https://ria.ru/20230103/avtomobili-1842908567....</td>\n",
       "      <td>Минпромторг спрогнозировал рост производства а...</td>\n",
       "      <td>Минпромторг прогнозирует в наступившем году ...</td>\n",
       "      <td>['Экономика', 'Авто', 'Денис Мантуров', 'Росси...</td>\n",
       "      <td>808</td>\n",
       "      <td>2023-01-03 10:20:00</td>\n",
       "      <td>2166.37</td>\n",
       "      <td>2167.18</td>\n",
       "      <td>40.45</td>\n",
       "      <td>40.25</td>\n",
       "      <td>70264.0</td>\n",
       "      <td>70008.0</td>\n",
       "      <td>0.81</td>\n",
       "      <td>0.037390</td>\n",
       "      <td>-0.20</td>\n",
       "      <td>-0.494438</td>\n",
       "      <td>-256.0</td>\n",
       "      <td>-0.364340</td>\n",
       "    </tr>\n",
       "    <tr>\n",
       "      <th>2</th>\n",
       "      <td>Интерфакс</td>\n",
       "      <td>ЭКОНОМИКА</td>\n",
       "      <td>https://www.interfax.ru/business/879539</td>\n",
       "      <td>Рынок акций РФ открылся ростом индекса МосБирж...</td>\n",
       "      <td>- Рынок акций РФ открылся во вторник ростом ...</td>\n",
       "      <td>['Московская биржа']</td>\n",
       "      <td>1249</td>\n",
       "      <td>2023-01-03 10:22:00</td>\n",
       "      <td>2166.08</td>\n",
       "      <td>2166.96</td>\n",
       "      <td>40.45</td>\n",
       "      <td>40.24</td>\n",
       "      <td>70176.0</td>\n",
       "      <td>70017.0</td>\n",
       "      <td>0.88</td>\n",
       "      <td>0.040626</td>\n",
       "      <td>-0.21</td>\n",
       "      <td>-0.519159</td>\n",
       "      <td>-159.0</td>\n",
       "      <td>-0.226573</td>\n",
       "    </tr>\n",
       "    <tr>\n",
       "      <th>3</th>\n",
       "      <td>РИА</td>\n",
       "      <td>Экономика</td>\n",
       "      <td>https://ria.ru/20230103/nissan-1842909188.html</td>\n",
       "      <td>\"АвтоВАЗу\" передадут активы Nissan в России</td>\n",
       "      <td>Подведомственное Минпромторгу ФГУП \"НАМИ\" пе...</td>\n",
       "      <td>['Экономика', 'Авто', 'Денис Мантуров', 'Минис...</td>\n",
       "      <td>1414</td>\n",
       "      <td>2023-01-03 10:29:00</td>\n",
       "      <td>2168.32</td>\n",
       "      <td>2168.95</td>\n",
       "      <td>39.86</td>\n",
       "      <td>40.22</td>\n",
       "      <td>70051.0</td>\n",
       "      <td>70144.0</td>\n",
       "      <td>0.63</td>\n",
       "      <td>0.029055</td>\n",
       "      <td>0.36</td>\n",
       "      <td>0.903161</td>\n",
       "      <td>93.0</td>\n",
       "      <td>0.132760</td>\n",
       "    </tr>\n",
       "    <tr>\n",
       "      <th>4</th>\n",
       "      <td>Kommersant</td>\n",
       "      <td>Финансы</td>\n",
       "      <td>https://www.kommersant.ru/doc/5757823</td>\n",
       "      <td>Индекс Мосбиржи растет на 0,5% на первой торго...</td>\n",
       "      <td>Индекс Московской биржи на открытии торгов рас...</td>\n",
       "      <td>None</td>\n",
       "      <td>598</td>\n",
       "      <td>2023-01-03 10:31:00</td>\n",
       "      <td>2168.03</td>\n",
       "      <td>2170.54</td>\n",
       "      <td>39.89</td>\n",
       "      <td>40.13</td>\n",
       "      <td>69940.0</td>\n",
       "      <td>70053.0</td>\n",
       "      <td>2.51</td>\n",
       "      <td>0.115773</td>\n",
       "      <td>0.24</td>\n",
       "      <td>0.601655</td>\n",
       "      <td>113.0</td>\n",
       "      <td>0.161567</td>\n",
       "    </tr>\n",
       "  </tbody>\n",
       "</table>\n",
       "</div>"
      ],
      "text/plain": [
       "      website    section                                                url  \\\n",
       "0         РИА  Экономика      https://ria.ru/20230103/banki-1842907991.html   \n",
       "1         РИА  Экономика  https://ria.ru/20230103/avtomobili-1842908567....   \n",
       "2   Интерфакс  ЭКОНОМИКА            https://www.interfax.ru/business/879539   \n",
       "3         РИА  Экономика     https://ria.ru/20230103/nissan-1842909188.html   \n",
       "4  Kommersant    Финансы              https://www.kommersant.ru/doc/5757823   \n",
       "\n",
       "                                              header  \\\n",
       "0  Эксперт рассказал о развитии исламского банкин...   \n",
       "1  Минпромторг спрогнозировал рост производства а...   \n",
       "2  Рынок акций РФ открылся ростом индекса МосБирж...   \n",
       "3        \"АвтоВАЗу\" передадут активы Nissan в России   \n",
       "4  Индекс Мосбиржи растет на 0,5% на первой торго...   \n",
       "\n",
       "                                                body  \\\n",
       "0    Порядка 10-15 филиалов исламского банкинга м...   \n",
       "1    Минпромторг прогнозирует в наступившем году ...   \n",
       "2    - Рынок акций РФ открылся во вторник ростом ...   \n",
       "3    Подведомственное Минпромторгу ФГУП \"НАМИ\" пе...   \n",
       "4  Индекс Московской биржи на открытии торгов рас...   \n",
       "\n",
       "                                                tags  body_length  \\\n",
       "0         ['Экономика', 'Россия', 'Сбербанк России']         1759   \n",
       "1  ['Экономика', 'Авто', 'Денис Мантуров', 'Росси...          808   \n",
       "2                               ['Московская биржа']         1249   \n",
       "3  ['Экономика', 'Авто', 'Денис Мантуров', 'Минис...         1414   \n",
       "4                                               None          598   \n",
       "\n",
       "             datetime  imoex_price_release  imoex_price_lag_30  \\\n",
       "0 2023-01-03 10:16:00              2166.77             2168.03   \n",
       "1 2023-01-03 10:20:00              2166.37             2167.18   \n",
       "2 2023-01-03 10:22:00              2166.08             2166.96   \n",
       "3 2023-01-03 10:29:00              2168.32             2168.95   \n",
       "4 2023-01-03 10:31:00              2168.03             2170.54   \n",
       "\n",
       "   rvi_price_release  rvi_price_lag_30  usd_price_release  usd_price_lag_30  \\\n",
       "0              40.45             40.26            70352.0           69975.0   \n",
       "1              40.45             40.25            70264.0           70008.0   \n",
       "2              40.45             40.24            70176.0           70017.0   \n",
       "3              39.86             40.22            70051.0           70144.0   \n",
       "4              39.89             40.13            69940.0           70053.0   \n",
       "\n",
       "   imoex_price_diff  imoex_price_diff_percent  rvi_price_diff  \\\n",
       "0              1.26                  0.058151           -0.19   \n",
       "1              0.81                  0.037390           -0.20   \n",
       "2              0.88                  0.040626           -0.21   \n",
       "3              0.63                  0.029055            0.36   \n",
       "4              2.51                  0.115773            0.24   \n",
       "\n",
       "   rvi_price_diff_percent  usd_price_diff  usd_price_diff_percent  \n",
       "0               -0.469716          -377.0               -0.535877  \n",
       "1               -0.494438          -256.0               -0.364340  \n",
       "2               -0.519159          -159.0               -0.226573  \n",
       "3                0.903161            93.0                0.132760  \n",
       "4                0.601655           113.0                0.161567  "
      ]
     },
     "execution_count": 102,
     "metadata": {},
     "output_type": "execute_result"
    }
   ],
   "source": [
    "db = create_engine(conn_string) \n",
    "conn = db.connect() \n",
    "conn.autocommit = True\n",
    "\n",
    "dataframe = pd.read_sql_query('SELECT * FROM global_trade', conn)\n",
    "conn.close()\n",
    "\n",
    "print(dataframe.shape)\n",
    "dataframe.head()"
   ]
  }
 ],
 "metadata": {
  "kernelspec": {
   "display_name": "Python 3 (ipykernel)",
   "language": "python",
   "name": "python3"
  },
  "language_info": {
   "codemirror_mode": {
    "name": "ipython",
    "version": 3
   },
   "file_extension": ".py",
   "mimetype": "text/x-python",
   "name": "python",
   "nbconvert_exporter": "python",
   "pygments_lexer": "ipython3",
   "version": "3.11.4"
  },
  "toc": {
   "base_numbering": 1,
   "nav_menu": {},
   "number_sections": true,
   "sideBar": true,
   "skip_h1_title": false,
   "title_cell": "Table of Contents",
   "title_sidebar": "Contents",
   "toc_cell": false,
   "toc_position": {},
   "toc_section_display": true,
   "toc_window_display": false
  }
 },
 "nbformat": 4,
 "nbformat_minor": 2
}
